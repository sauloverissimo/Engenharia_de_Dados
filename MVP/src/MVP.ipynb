{
 "cells": [
  {
   "cell_type": "markdown",
   "metadata": {
    "application/vnd.databricks.v1+cell": {
     "cellMetadata": {
      "byteLimit": 2048000,
      "rowLimit": 10000
     },
     "inputWidgets": {},
     "nuid": "515039e2-7052-42bd-8739-77e0ba49d19f",
     "showTitle": false,
     "tableResultSettingsMap": {},
     "title": ""
    },
    "jupyter": {
     "outputs_hidden": true
    }
   },
   "source": [
    "#### 🟩 Inicialização do \"Compute\""
   ]
  },
  {
   "cell_type": "code",
   "execution_count": 0,
   "metadata": {
    "application/vnd.databricks.v1+cell": {
     "cellMetadata": {
      "byteLimit": 2048000,
      "rowLimit": 10000
     },
     "collapsed": true,
     "inputWidgets": {},
     "nuid": "bee5f6e2-5ea1-4cf6-af6d-95652c7f00ac",
     "showTitle": false,
     "tableResultSettingsMap": {},
     "title": ""
    }
   },
   "outputs": [
    {
     "output_type": "stream",
     "name": "stdout",
     "output_type": "stream",
     "text": [
      "Python interpreter will be restarted.\nCollecting openpyxl\n  Downloading openpyxl-3.1.5-py2.py3-none-any.whl (250 kB)\nCollecting kaggle\n  Downloading kaggle-1.7.4.2-py3-none-any.whl (173 kB)\nRequirement already satisfied: pandas in /databricks/python3/lib/python3.9/site-packages (1.4.2)\nRequirement already satisfied: numpy in /databricks/python3/lib/python3.9/site-packages (1.21.5)\nCollecting et-xmlfile\n  Downloading et_xmlfile-2.0.0-py3-none-any.whl (18 kB)\nRequirement already satisfied: charset-normalizer in /databricks/python3/lib/python3.9/site-packages (from kaggle) (2.0.4)\nCollecting python-slugify\n  Downloading python_slugify-8.0.4-py2.py3-none-any.whl (10 kB)\nCollecting tqdm\n  Downloading tqdm-4.67.1-py3-none-any.whl (78 kB)\nRequirement already satisfied: requests in /databricks/python3/lib/python3.9/site-packages (from kaggle) (2.27.1)\nRequirement already satisfied: protobuf in /databricks/python3/lib/python3.9/site-packages (from kaggle) (3.19.4)\nRequirement already satisfied: python-dateutil>=2.5.3 in /databricks/python3/lib/python3.9/site-packages (from kaggle) (2.8.2)\nRequirement already satisfied: idna in /databricks/python3/lib/python3.9/site-packages (from kaggle) (3.3)\nCollecting text-unidecode\n  Downloading text_unidecode-1.3-py2.py3-none-any.whl (78 kB)\nRequirement already satisfied: six>=1.10 in /databricks/python3/lib/python3.9/site-packages (from kaggle) (1.16.0)\nRequirement already satisfied: urllib3>=1.15.1 in /databricks/python3/lib/python3.9/site-packages (from kaggle) (1.26.9)\nRequirement already satisfied: setuptools>=21.0.0 in /databricks/python3/lib/python3.9/site-packages (from kaggle) (61.2.0)\nRequirement already satisfied: webencodings in /databricks/python3/lib/python3.9/site-packages (from kaggle) (0.5.1)\nRequirement already satisfied: certifi>=14.05.14 in /databricks/python3/lib/python3.9/site-packages (from kaggle) (2021.10.8)\nRequirement already satisfied: bleach in /databricks/python3/lib/python3.9/site-packages (from kaggle) (4.1.0)\nRequirement already satisfied: pytz>=2020.1 in /databricks/python3/lib/python3.9/site-packages (from pandas) (2021.3)\nRequirement already satisfied: packaging in /databricks/python3/lib/python3.9/site-packages (from bleach->kaggle) (21.3)\nRequirement already satisfied: pyparsing!=3.0.5,>=2.0.2 in /databricks/python3/lib/python3.9/site-packages (from packaging->bleach->kaggle) (3.0.4)\nInstalling collected packages: text-unidecode, tqdm, python-slugify, et-xmlfile, openpyxl, kaggle\nSuccessfully installed et-xmlfile-2.0.0 kaggle-1.7.4.2 openpyxl-3.1.5 python-slugify-8.0.4 text-unidecode-1.3 tqdm-4.67.1\nPython interpreter will be restarted.\n"
     ]
    }
   ],
   "source": [
    "# Instala bibliotecas necessárias do python para realizar a execução dos notebooks\n",
    "# Nessa versão community que estamos utilizando, é neccessário instalar toda vez que cria um compute. 🥲 \n",
    "# tentei automatizar isso, mas não consegui. \n",
    "\n",
    "%pip install openpyxl kaggle pandas numpy\n",
    "# Em qualquer notebook Databricks"
   ]
  },
  {
   "cell_type": "markdown",
   "metadata": {
    "application/vnd.databricks.v1+cell": {
     "cellMetadata": {
      "byteLimit": 2048000,
      "rowLimit": 10000
     },
     "inputWidgets": {},
     "nuid": "65d9a6a7-f5d2-4c07-bc19-9b81709a8375",
     "showTitle": false,
     "tableResultSettingsMap": {},
     "title": ""
    },
    "jupyter": {
     "outputs_hidden": true
    }
   },
   "source": [
    "#### Coleta: \n",
    "🟩 Importação de dados (_RAW DATA, Bronze Stage_)"
   ]
  },
  {
   "cell_type": "code",
   "execution_count": 0,
   "metadata": {
    "application/vnd.databricks.v1+cell": {
     "cellMetadata": {
      "byteLimit": 2048000,
      "rowLimit": 10000
     },
     "collapsed": true,
     "inputWidgets": {},
     "nuid": "a316591b-f7be-4e19-93c6-1e44c87a6d93",
     "showTitle": false,
     "tableResultSettingsMap": {},
     "title": ""
    }
   },
   "outputs": [
    {
     "output_type": "display_data",
     "data": {
      "application/vnd.databricks.v1+bamboolib_hint": "{\"pd.DataFrames\": [], \"version\": \"0.0.1\"}",
      "text/plain": []
     },
     "metadata": {},
     "output_type": "display_data"
    },
    {
     "output_type": "display_data",
     "data": {
      "text/html": [
       "<div>\n",
       "<style scoped>\n",
       "    .dataframe tbody tr th:only-of-type {\n",
       "        vertical-align: middle;\n",
       "    }\n",
       "\n",
       "    .dataframe tbody tr th {\n",
       "        vertical-align: top;\n",
       "    }\n",
       "\n",
       "    .dataframe thead th {\n",
       "        text-align: right;\n",
       "    }\n",
       "</style>\n",
       "<table border=\"1\" class=\"dataframe\">\n",
       "  <thead>\n",
       "    <tr style=\"text-align: right;\">\n",
       "      <th></th>\n",
       "      <th>Column Name</th>\n",
       "      <th>Data Type</th>\n",
       "      <th>Description</th>\n",
       "    </tr>\n",
       "  </thead>\n",
       "  <tbody>\n",
       "    <tr>\n",
       "      <th>0</th>\n",
       "      <td>Student_ID</td>\n",
       "      <td>String</td>\n",
       "      <td>Unique identifier for each student</td>\n",
       "    </tr>\n",
       "    <tr>\n",
       "      <th>1</th>\n",
       "      <td>First_Name</td>\n",
       "      <td>String</td>\n",
       "      <td>Student’s first name</td>\n",
       "    </tr>\n",
       "    <tr>\n",
       "      <th>2</th>\n",
       "      <td>Last_Name</td>\n",
       "      <td>String</td>\n",
       "      <td>Student’s last name</td>\n",
       "    </tr>\n",
       "    <tr>\n",
       "      <th>3</th>\n",
       "      <td>Email</td>\n",
       "      <td>String</td>\n",
       "      <td>Contact email (can be anonymized)</td>\n",
       "    </tr>\n",
       "    <tr>\n",
       "      <th>4</th>\n",
       "      <td>Gender</td>\n",
       "      <td>Categorical</td>\n",
       "      <td>Male, Female, Other</td>\n",
       "    </tr>\n",
       "  </tbody>\n",
       "</table>\n",
       "</div>"
      ]
     },
     "metadata": {
      "application/vnd.databricks.v1+output": {
       "addedWidgets": {},
       "arguments": {},
       "data": "<div>\n<style scoped>\n    .dataframe tbody tr th:only-of-type {\n        vertical-align: middle;\n    }\n\n    .dataframe tbody tr th {\n        vertical-align: top;\n    }\n\n    .dataframe thead th {\n        text-align: right;\n    }\n</style>\n<table border=\"1\" class=\"dataframe\">\n  <thead>\n    <tr style=\"text-align: right;\">\n      <th></th>\n      <th>Column Name</th>\n      <th>Data Type</th>\n      <th>Description</th>\n    </tr>\n  </thead>\n  <tbody>\n    <tr>\n      <th>0</th>\n      <td>Student_ID</td>\n      <td>String</td>\n      <td>Unique identifier for each student</td>\n    </tr>\n    <tr>\n      <th>1</th>\n      <td>First_Name</td>\n      <td>String</td>\n      <td>Student’s first name</td>\n    </tr>\n    <tr>\n      <th>2</th>\n      <td>Last_Name</td>\n      <td>String</td>\n      <td>Student’s last name</td>\n    </tr>\n    <tr>\n      <th>3</th>\n      <td>Email</td>\n      <td>String</td>\n      <td>Contact email (can be anonymized)</td>\n    </tr>\n    <tr>\n      <th>4</th>\n      <td>Gender</td>\n      <td>Categorical</td>\n      <td>Male, Female, Other</td>\n    </tr>\n  </tbody>\n</table>\n</div>",
       "datasetInfos": [],
       "metadata": {},
       "removedWidgets": [],
       "textData": null,
       "type": "htmlSandbox"
      }
     },
     "output_type": "display_data"
    }
   ],
   "source": [
    "# Importa os metadados do projeto e gera um dataframe pra eventuais manipulações\n",
    "import os\n",
    "import pandas as pd\n",
    "\n",
    "# Caminho original no DBFS\n",
    "RAW_DIR = \"dbfs:/FileStore/tables/\"\n",
    "METADADOS_FILE = RAW_DIR + \"metadata.xlsx\"\n",
    "# Caminho temporário para o arquivo ser acessado pelo Pandas\n",
    "TEMP_FILE = \"/tmp/metadata.xlsx\"\n",
    "# Copiar arquivo do DBFS para o diretório temporário\n",
    "dbutils.fs.cp(METADADOS_FILE, \"file:\" + TEMP_FILE, True)\n",
    "# Carregar a planilha ignorando as duas primeiras linhas\n",
    "METADADOS = pd.read_excel(TEMP_FILE, skiprows=2, engine=\"openpyxl\")\n",
    "# Exibir as primeiras linhas do DataFrame\n",
    "METADADOS.head()"
   ]
  },
  {
   "cell_type": "code",
   "execution_count": 0,
   "metadata": {
    "application/vnd.databricks.v1+cell": {
     "cellMetadata": {
      "byteLimit": 2048000,
      "rowLimit": 10000
     },
     "collapsed": true,
     "inputWidgets": {},
     "nuid": "0a7c6fcd-863b-4594-8346-bed6ce4a0db7",
     "showTitle": false,
     "tableResultSettingsMap": {},
     "title": ""
    }
   },
   "outputs": [
    {
     "output_type": "stream",
     "name": "stdout",
     "output_type": "stream",
     "text": [
      "Estrutura do DataFrame BRONZE:\n  Student_ID First_Name Last_Name                    Email  Gender  Age  \\\n0      S1000       Omar  Williams  student0@university.com  Female   22   \n1      S1001      Maria     Brown  student1@university.com    Male   18   \n2      S1002      Ahmed     Jones  student2@university.com    Male   24   \n3      S1003       Omar  Williams  student3@university.com  Female   24   \n4      S1004       John     Smith  student4@university.com  Female   23   \n\n    Department  Attendance (%)  Midterm_Score  Final_Score  ...  \\\n0  Engineering           52.29          55.03        57.82  ...   \n1  Engineering           97.27          97.23        45.80  ...   \n2     Business           57.19          67.05        93.68  ...   \n3  Mathematics           95.15          47.79        80.63  ...   \n4           CS           54.18          46.59        78.89  ...   \n\n   Projects_Score  Total_Score  Grade  Study_Hours_per_Week  \\\n0           85.90        56.09      F                   6.2   \n1           55.65        50.64      A                  19.0   \n2           73.79        70.30      D                  20.7   \n3           92.12        61.63      A                  24.8   \n4           68.42        66.13      F                  15.4   \n\n   Extracurricular_Activities Internet_Access_at_Home  Parent_Education_Level  \\\n0                          No                     Yes             High School   \n1                          No                     Yes                    None   \n2                          No                     Yes                Master's   \n3                         Yes                     Yes             High School   \n4                         Yes                     Yes             High School   \n\n  Family_Income_Level Stress_Level (1-10) Sleep_Hours_per_Night  \n0              Medium                   5                   4.7  \n1              Medium                   4                   9.0  \n2                 Low                   6                   6.2  \n3                High                   3                   6.7  \n4                High                   2                   7.1  \n\n[5 rows x 23 columns]\nArquivo BRONZE salvo corretamente em: dbfs:/FileStore/tables/1_BRONZE/BRONZE.csv\n"
     ]
    }
   ],
   "source": [
    "# Realiza o estágio BRONZE, copiando o arquivo e salvando em CSV\n",
    "\n",
    "# Caminho do arquivo original no DBFS\n",
    "STUDENTS_FILE_DBFS = \"dbfs:/FileStore/tables/Students_Grading_Dataset.csv\"\n",
    "STUDENTS_FILE_LOCAL = \"/tmp/Students_Grading_Dataset.csv\"\n",
    "\n",
    "# Copiar do DBFS para um caminho local\n",
    "dbutils.fs.cp(STUDENTS_FILE_DBFS, \"file:\" + STUDENTS_FILE_LOCAL, True)\n",
    "\n",
    "# Verificar se o arquivo foi copiado corretamente\n",
    "if not os.path.exists(STUDENTS_FILE_LOCAL):\n",
    "    raise FileNotFoundError(f\"Arquivo {STUDENTS_FILE_LOCAL} não encontrado.\")\n",
    "\n",
    "# Carregar com Pandas\n",
    "BRONZE = pd.read_csv(STUDENTS_FILE_LOCAL)\n",
    "\n",
    "# Exibir as primeiras linhas\n",
    "print(\"Estrutura do DataFrame BRONZE:\")\n",
    "print(BRONZE.head())\n",
    "\n",
    "# Criar diretório no DBFS para salvar o CSV\n",
    "BRONZE_DIR_DBFS = \"dbfs:/FileStore/tables/1_BRONZE\"\n",
    "dbutils.fs.mkdirs(BRONZE_DIR_DBFS)\n",
    "\n",
    "# Salvar o arquivo temporariamente em /tmp\n",
    "BRONZE_TEMP_PATH = \"/tmp/BRONZE.csv\"\n",
    "BRONZE.to_csv(BRONZE_TEMP_PATH, decimal='.', index=False, encoding='utf-8')\n",
    "\n",
    "# Copiar o CSV local (/tmp) para o DBFS\n",
    "BRONZE_FILE_DBFS = \"dbfs:/FileStore/tables/1_BRONZE/BRONZE.csv\"\n",
    "dbutils.fs.cp(\"file:\" + BRONZE_TEMP_PATH, BRONZE_FILE_DBFS)\n",
    "\n",
    "# Confirmação\n",
    "print(f\"Arquivo BRONZE salvo corretamente em: {BRONZE_FILE_DBFS}\")\n"
   ]
  },
  {
   "cell_type": "markdown",
   "metadata": {
    "application/vnd.databricks.v1+cell": {
     "cellMetadata": {
      "byteLimit": 2048000,
      "rowLimit": 10000
     },
     "inputWidgets": {},
     "nuid": "c673072b-29ad-487d-8e4f-76a57a42600a",
     "showTitle": false,
     "tableResultSettingsMap": {},
     "title": ""
    }
   },
   "source": [
    "#### Modelagem: \n",
    "⭐ Esquema em Estrela (Star Schema)"
   ]
  },
  {
   "cell_type": "code",
   "execution_count": 0,
   "metadata": {
    "application/vnd.databricks.v1+cell": {
     "cellMetadata": {
      "byteLimit": 2048000,
      "rowLimit": 10000
     },
     "collapsed": true,
     "inputWidgets": {},
     "nuid": "b1391694-7e36-4dfe-9ab0-2719394c246e",
     "showTitle": false,
     "tableResultSettingsMap": {},
     "title": ""
    }
   },
   "outputs": [
    {
     "output_type": "stream",
     "name": "stdout",
     "output_type": "stream",
     "text": [
      "Arquivos sobrescritos com sucesso em: dbfs:/FileStore/tables/2_PRATA\n"
     ]
    }
   ],
   "source": [
    "# Cria a modelagem do Estrela (Star Schema) do Bronze, gerando os arquivos prata.\n",
    "\n",
    "# Importar PySpark e funções\n",
    "from pyspark.sql import SparkSession\n",
    "from pyspark.sql.functions import col, monotonically_increasing_id\n",
    "\n",
    "# Criar a sessão do Spark (se não tiver sido criada ainda)\n",
    "spark = SparkSession.builder.appName(\"Modelagem Dimensional\").getOrCreate()\n",
    "\n",
    "# Carregar o arquivo CSV com PySpark (caso o BRONZE não seja um DataFrame PySpark)\n",
    "BRONZE = spark.read.option(\"header\", \"true\").option(\"inferSchema\", \"true\").csv(\"dbfs:/FileStore/tables/1_BRONZE/BRONZE.csv\")\n",
    "\n",
    "# Criar dimensão ALUNOS\n",
    "ALUNOS = (BRONZE\n",
    "    .select(\n",
    "        col(\"Student_ID\").alias(\"ID_Aluno\"),\n",
    "        \"First_Name\", \"Last_Name\", \"Email\", \"Gender\", \"Age\",\n",
    "        \"Parent_Education_Level\", \"Family_Income_Level\"\n",
    "    )\n",
    ")\n",
    "\n",
    "# Criar dimensão DISCIPLINAS (sem repetição, com ID incremental)\n",
    "DISCIPLINAS = (BRONZE\n",
    "    .select(\"Department\")\n",
    "    .distinct()\n",
    "    .withColumnRenamed(\"Department\", \"Nome_Disciplina\")\n",
    "    .withColumn(\"ID_Disciplina\", monotonically_increasing_id())\n",
    ")\n",
    "\n",
    "# Criar dimensão HÁBITOS\n",
    "HABITOS = (BRONZE\n",
    "    .select(\n",
    "        col(\"Student_ID\").alias(\"ID_Aluno\"),\n",
    "        \"Study_Hours_per_Week\",\n",
    "        \"Extracurricular_Activities\",\n",
    "        \"Internet_Access_at_Home\",\n",
    "        col(\"Stress_Level (1-10)\"),\n",
    "        \"Sleep_Hours_per_Night\"\n",
    "    )\n",
    ")\n",
    "\n",
    "# Criar tabela fato DESEMPENHO\n",
    "FATO_DESEMPENHO = (BRONZE\n",
    "    .select(\n",
    "        col(\"Student_ID\").alias(\"ID_Aluno\"),\n",
    "        col(\"Department\").alias(\"ID_Disciplina\"),\n",
    "        col(\"Attendance (%)\").alias(\"Presenca\"),\n",
    "        col(\"Midterm_Score\").alias(\"Nota_Midterm\"),\n",
    "        col(\"Final_Score\").alias(\"Nota_Final\"),\n",
    "        col(\"Projects_Score\").alias(\"Nota_Projetos\"),\n",
    "        col(\"Total_Score\").alias(\"Nota_Total\"),\n",
    "        col(\"Grade\").alias(\"Conceito\")\n",
    "    )\n",
    ")\n",
    "\n",
    "# Definir o diretório PRATA no DBFS\n",
    "PRATA_DIR_DBFS = \"dbfs:/FileStore/tables/2_PRATA\"\n",
    "\n",
    "# Criar o diretório no DBFS\n",
    "dbutils.fs.mkdirs(PRATA_DIR_DBFS)\n",
    "\n",
    "# Salvar as tabelas no diretório PRATA como CSV, sobrescrevendo se já existirem\n",
    "\n",
    "# Dimensão ALUNOS\n",
    "ALUNOS.write.mode(\"overwrite\").option(\"header\", \"true\").csv(f\"{PRATA_DIR_DBFS}/ALUNOS.csv\")\n",
    "\n",
    "# Dimensão DISCIPLINAS\n",
    "DISCIPLINAS.write.mode(\"overwrite\").option(\"header\", \"true\").csv(f\"{PRATA_DIR_DBFS}/DISCIPLINAS.csv\")\n",
    "\n",
    "# Dimensão HÁBITOS\n",
    "HABITOS.write.mode(\"overwrite\").option(\"header\", \"true\").csv(f\"{PRATA_DIR_DBFS}/HABITOS.csv\")\n",
    "\n",
    "# Tabela FATO_DESEMPENHO\n",
    "FATO_DESEMPENHO.write.mode(\"overwrite\").option(\"header\", \"true\").csv(f\"{PRATA_DIR_DBFS}/FATO_DESEMPENHO.csv\")\n",
    "\n",
    "print(\"Arquivos sobrescritos com sucesso em:\", PRATA_DIR_DBFS)\n",
    "\n"
   ]
  },
  {
   "cell_type": "code",
   "execution_count": 0,
   "metadata": {
    "application/vnd.databricks.v1+cell": {
     "cellMetadata": {
      "byteLimit": 2048000,
      "rowLimit": 10000
     },
     "collapsed": true,
     "inputWidgets": {},
     "nuid": "12b947be-4f4a-44e5-b3cf-6a54705e7fb2",
     "showTitle": false,
     "tableResultSettingsMap": {},
     "title": ""
    }
   },
   "outputs": [],
   "source": [
    "# Gera as views temporárias do csv para visualizar no Databricks.\n",
    "\n",
    "# ALUNOS\n",
    "spark.read.option(\"header\", \"true\").csv(f\"{PRATA_DIR_DBFS}/ALUNOS.csv\").createOrReplaceTempView(\"csv_alunos\")\n",
    "\n",
    "# DISCIPLINAS\n",
    "spark.read.option(\"header\", \"true\").csv(f\"{PRATA_DIR_DBFS}/DISCIPLINAS.csv\").createOrReplaceTempView(\"csv_disciplinas\")\n",
    "\n",
    "# HÁBITOS\n",
    "spark.read.option(\"header\", \"true\").csv(f\"{PRATA_DIR_DBFS}/HABITOS.csv\").createOrReplaceTempView(\"csv_habitos\")\n",
    "\n",
    "# FATO_DESEMPENHO\n",
    "spark.read.option(\"header\", \"true\").csv(f\"{PRATA_DIR_DBFS}/FATO_DESEMPENHO.csv\").createOrReplaceTempView(\"csv_fato_desempenho\")\n"
   ]
  },
  {
   "cell_type": "markdown",
   "metadata": {
    "application/vnd.databricks.v1+cell": {
     "cellMetadata": {
      "byteLimit": 2048000,
      "rowLimit": 10000
     },
     "inputWidgets": {},
     "nuid": "f8916f55-45f4-4596-8fa8-a8884bbacb28",
     "showTitle": false,
     "tableResultSettingsMap": {},
     "title": ""
    }
   },
   "source": [
    "#### Carga:\n",
    "⬆️ Vizualização e carregamento de dados (_Loading_)"
   ]
  },
  {
   "cell_type": "markdown",
   "metadata": {
    "application/vnd.databricks.v1+cell": {
     "cellMetadata": {
      "byteLimit": 2048000,
      "rowLimit": 10000
     },
     "inputWidgets": {},
     "nuid": "013cb0cc-4967-4324-8bc4-7235e8a04c33",
     "showTitle": false,
     "tableResultSettingsMap": {},
     "title": ""
    }
   },
   "source": [
    "###### _🗃️_ Tabela Alunos"
   ]
  },
  {
   "cell_type": "code",
   "execution_count": 0,
   "metadata": {
    "application/vnd.databricks.v1+cell": {
     "cellMetadata": {
      "byteLimit": 2048000,
      "implicitDf": true,
      "rowLimit": 10000
     },
     "collapsed": true,
     "inputWidgets": {},
     "nuid": "628758b5-a6b0-47af-aad8-8630b0f8cb79",
     "showTitle": false,
     "tableResultSettingsMap": {},
     "title": ""
    }
   },
   "outputs": [
    {
     "output_type": "display_data",
     "data": {
      "text/html": [
       "<style scoped>\n",
       "  .table-result-container {\n",
       "    max-height: 300px;\n",
       "    overflow: auto;\n",
       "  }\n",
       "  table, th, td {\n",
       "    border: 1px solid black;\n",
       "    border-collapse: collapse;\n",
       "  }\n",
       "  th, td {\n",
       "    padding: 5px;\n",
       "  }\n",
       "  th {\n",
       "    text-align: left;\n",
       "  }\n",
       "</style><div class='table-result-container'><table class='table-result'><thead style='background-color: white'><tr><th>ID_Aluno</th><th>First_Name</th><th>Last_Name</th><th>Email</th><th>Gender</th><th>Age</th><th>Parent_Education_Level</th><th>Family_Income_Level</th></tr></thead><tbody><tr><td>S1000</td><td>Omar</td><td>Williams</td><td>student0@university.com</td><td>Female</td><td>22</td><td>High School</td><td>Medium</td></tr><tr><td>S1001</td><td>Maria</td><td>Brown</td><td>student1@university.com</td><td>Male</td><td>18</td><td>None</td><td>Medium</td></tr><tr><td>S1002</td><td>Ahmed</td><td>Jones</td><td>student2@university.com</td><td>Male</td><td>24</td><td>Master's</td><td>Low</td></tr><tr><td>S1003</td><td>Omar</td><td>Williams</td><td>student3@university.com</td><td>Female</td><td>24</td><td>High School</td><td>High</td></tr><tr><td>S1004</td><td>John</td><td>Smith</td><td>student4@university.com</td><td>Female</td><td>23</td><td>High School</td><td>High</td></tr><tr><td>S1005</td><td>Liam</td><td>Brown</td><td>student5@university.com</td><td>Male</td><td>21</td><td>PhD</td><td>High</td></tr><tr><td>S1006</td><td>Ahmed</td><td>Jones</td><td>student6@university.com</td><td>Male</td><td>24</td><td>null</td><td>Low</td></tr><tr><td>S1007</td><td>Ahmed</td><td>Smith</td><td>student7@university.com</td><td>Male</td><td>19</td><td>None</td><td>Medium</td></tr><tr><td>S1008</td><td>Omar</td><td>Smith</td><td>student8@university.com</td><td>Female</td><td>21</td><td>Bachelor's</td><td>Low</td></tr><tr><td>S1009</td><td>Sara</td><td>Smith</td><td>student9@university.com</td><td>Female</td><td>22</td><td>None</td><td>Medium</td></tr></tbody></table></div>"
      ]
     },
     "metadata": {
      "application/vnd.databricks.v1+output": {
       "addedWidgets": {},
       "aggData": [],
       "aggError": "",
       "aggOverflow": false,
       "aggSchema": [],
       "aggSeriesLimitReached": false,
       "aggType": "",
       "arguments": {},
       "columnCustomDisplayInfos": {},
       "data": [
        [
         "S1000",
         "Omar",
         "Williams",
         "student0@university.com",
         "Female",
         "22",
         "High School",
         "Medium"
        ],
        [
         "S1001",
         "Maria",
         "Brown",
         "student1@university.com",
         "Male",
         "18",
         "None",
         "Medium"
        ],
        [
         "S1002",
         "Ahmed",
         "Jones",
         "student2@university.com",
         "Male",
         "24",
         "Master's",
         "Low"
        ],
        [
         "S1003",
         "Omar",
         "Williams",
         "student3@university.com",
         "Female",
         "24",
         "High School",
         "High"
        ],
        [
         "S1004",
         "John",
         "Smith",
         "student4@university.com",
         "Female",
         "23",
         "High School",
         "High"
        ],
        [
         "S1005",
         "Liam",
         "Brown",
         "student5@university.com",
         "Male",
         "21",
         "PhD",
         "High"
        ],
        [
         "S1006",
         "Ahmed",
         "Jones",
         "student6@university.com",
         "Male",
         "24",
         null,
         "Low"
        ],
        [
         "S1007",
         "Ahmed",
         "Smith",
         "student7@university.com",
         "Male",
         "19",
         "None",
         "Medium"
        ],
        [
         "S1008",
         "Omar",
         "Smith",
         "student8@university.com",
         "Female",
         "21",
         "Bachelor's",
         "Low"
        ],
        [
         "S1009",
         "Sara",
         "Smith",
         "student9@university.com",
         "Female",
         "22",
         "None",
         "Medium"
        ]
       ],
       "datasetInfos": [],
       "dbfsResultPath": null,
       "isJsonSchema": true,
       "metadata": {},
       "overflow": false,
       "plotOptions": {
        "customPlotOptions": {},
        "displayType": "table",
        "pivotAggregation": null,
        "pivotColumns": null,
        "xColumns": null,
        "yColumns": null
       },
       "removedWidgets": [],
       "schema": [
        {
         "metadata": "{}",
         "name": "ID_Aluno",
         "type": "\"string\""
        },
        {
         "metadata": "{}",
         "name": "First_Name",
         "type": "\"string\""
        },
        {
         "metadata": "{}",
         "name": "Last_Name",
         "type": "\"string\""
        },
        {
         "metadata": "{}",
         "name": "Email",
         "type": "\"string\""
        },
        {
         "metadata": "{}",
         "name": "Gender",
         "type": "\"string\""
        },
        {
         "metadata": "{}",
         "name": "Age",
         "type": "\"string\""
        },
        {
         "metadata": "{}",
         "name": "Parent_Education_Level",
         "type": "\"string\""
        },
        {
         "metadata": "{}",
         "name": "Family_Income_Level",
         "type": "\"string\""
        }
       ],
       "type": "table"
      }
     },
     "output_type": "display_data"
    }
   ],
   "source": [
    "%sql\n",
    "-- Exemplo de dados --\n",
    "SELECT * FROM csv_alunos LIMIT 10;"
   ]
  },
  {
   "cell_type": "code",
   "execution_count": 0,
   "metadata": {
    "application/vnd.databricks.v1+cell": {
     "cellMetadata": {
      "byteLimit": 2048000,
      "implicitDf": true,
      "rowLimit": 10000
     },
     "collapsed": true,
     "inputWidgets": {},
     "nuid": "625a0f73-9897-4a29-bb1e-560e6eadadbe",
     "showTitle": false,
     "tableResultSettingsMap": {},
     "title": ""
    }
   },
   "outputs": [
    {
     "output_type": "display_data",
     "data": {
      "text/html": [
       "<style scoped>\n",
       "  .table-result-container {\n",
       "    max-height: 300px;\n",
       "    overflow: auto;\n",
       "  }\n",
       "  table, th, td {\n",
       "    border: 1px solid black;\n",
       "    border-collapse: collapse;\n",
       "  }\n",
       "  th, td {\n",
       "    padding: 5px;\n",
       "  }\n",
       "  th {\n",
       "    text-align: left;\n",
       "  }\n",
       "</style><div class='table-result-container'><table class='table-result'><thead style='background-color: white'><tr></tr></thead><tbody></tbody></table></div>"
      ]
     },
     "metadata": {
      "application/vnd.databricks.v1+output": {
       "addedWidgets": {},
       "aggData": [],
       "aggError": "",
       "aggOverflow": false,
       "aggSchema": [],
       "aggSeriesLimitReached": false,
       "aggType": "",
       "arguments": {},
       "columnCustomDisplayInfos": {},
       "data": [],
       "datasetInfos": [],
       "dbfsResultPath": null,
       "isJsonSchema": true,
       "metadata": {},
       "overflow": false,
       "plotOptions": {
        "customPlotOptions": {},
        "displayType": "table",
        "pivotAggregation": null,
        "pivotColumns": null,
        "xColumns": null,
        "yColumns": null
       },
       "removedWidgets": [],
       "schema": [],
       "type": "table"
      }
     },
     "output_type": "display_data"
    }
   ],
   "source": [
    "%sql -- Criação e carregamento de tabela \"Alunos\"\n",
    "\n",
    "DROP TABLE IF EXISTS default.ALUNOS;\n",
    "\n",
    "CREATE TABLE default.ALUNOS\n",
    "USING CSV\n",
    "OPTIONS (\n",
    "  path \"dbfs:/FileStore/tables/2_PRATA/ALUNOS.csv\",\n",
    "  header \"true\",\n",
    "  inferSchema \"true\"\n",
    ");\n"
   ]
  },
  {
   "cell_type": "markdown",
   "metadata": {
    "application/vnd.databricks.v1+cell": {
     "cellMetadata": {
      "byteLimit": 2048000,
      "rowLimit": 10000
     },
     "inputWidgets": {},
     "nuid": "5cff9440-fa0a-47f5-bf28-2fcaf74392a7",
     "showTitle": false,
     "tableResultSettingsMap": {},
     "title": ""
    }
   },
   "source": [
    "###### 🗃️ Tabela Habitos"
   ]
  },
  {
   "cell_type": "code",
   "execution_count": 0,
   "metadata": {
    "application/vnd.databricks.v1+cell": {
     "cellMetadata": {
      "byteLimit": 2048000,
      "implicitDf": true,
      "rowLimit": 10000
     },
     "collapsed": true,
     "inputWidgets": {},
     "nuid": "b2a1c9e8-47b9-46dc-8378-d950d4293d46",
     "showTitle": false,
     "tableResultSettingsMap": {},
     "title": ""
    }
   },
   "outputs": [
    {
     "output_type": "display_data",
     "data": {
      "text/html": [
       "<style scoped>\n",
       "  .table-result-container {\n",
       "    max-height: 300px;\n",
       "    overflow: auto;\n",
       "  }\n",
       "  table, th, td {\n",
       "    border: 1px solid black;\n",
       "    border-collapse: collapse;\n",
       "  }\n",
       "  th, td {\n",
       "    padding: 5px;\n",
       "  }\n",
       "  th {\n",
       "    text-align: left;\n",
       "  }\n",
       "</style><div class='table-result-container'><table class='table-result'><thead style='background-color: white'><tr><th>ID_Aluno</th><th>Study_Hours_per_Week</th><th>Extracurricular_Activities</th><th>Internet_Access_at_Home</th><th>Stress_Level (1-10)</th><th>Sleep_Hours_per_Night</th></tr></thead><tbody><tr><td>S1000</td><td>6.2</td><td>No</td><td>Yes</td><td>5</td><td>4.7</td></tr><tr><td>S1001</td><td>19.0</td><td>No</td><td>Yes</td><td>4</td><td>9.0</td></tr><tr><td>S1002</td><td>20.7</td><td>No</td><td>Yes</td><td>6</td><td>6.2</td></tr><tr><td>S1003</td><td>24.8</td><td>Yes</td><td>Yes</td><td>3</td><td>6.7</td></tr><tr><td>S1004</td><td>15.4</td><td>Yes</td><td>Yes</td><td>2</td><td>7.1</td></tr><tr><td>S1005</td><td>8.5</td><td>Yes</td><td>Yes</td><td>1</td><td>5.0</td></tr><tr><td>S1006</td><td>21.3</td><td>No</td><td>Yes</td><td>5</td><td>6.4</td></tr><tr><td>S1007</td><td>27.3</td><td>Yes</td><td>No</td><td>4</td><td>4.3</td></tr><tr><td>S1008</td><td>8.0</td><td>No</td><td>No</td><td>9</td><td>8.8</td></tr><tr><td>S1009</td><td>9.6</td><td>No</td><td>Yes</td><td>10</td><td>6.4</td></tr></tbody></table></div>"
      ]
     },
     "metadata": {
      "application/vnd.databricks.v1+output": {
       "addedWidgets": {},
       "aggData": [],
       "aggError": "",
       "aggOverflow": false,
       "aggSchema": [],
       "aggSeriesLimitReached": false,
       "aggType": "",
       "arguments": {},
       "columnCustomDisplayInfos": {},
       "data": [
        [
         "S1000",
         "6.2",
         "No",
         "Yes",
         "5",
         "4.7"
        ],
        [
         "S1001",
         "19.0",
         "No",
         "Yes",
         "4",
         "9.0"
        ],
        [
         "S1002",
         "20.7",
         "No",
         "Yes",
         "6",
         "6.2"
        ],
        [
         "S1003",
         "24.8",
         "Yes",
         "Yes",
         "3",
         "6.7"
        ],
        [
         "S1004",
         "15.4",
         "Yes",
         "Yes",
         "2",
         "7.1"
        ],
        [
         "S1005",
         "8.5",
         "Yes",
         "Yes",
         "1",
         "5.0"
        ],
        [
         "S1006",
         "21.3",
         "No",
         "Yes",
         "5",
         "6.4"
        ],
        [
         "S1007",
         "27.3",
         "Yes",
         "No",
         "4",
         "4.3"
        ],
        [
         "S1008",
         "8.0",
         "No",
         "No",
         "9",
         "8.8"
        ],
        [
         "S1009",
         "9.6",
         "No",
         "Yes",
         "10",
         "6.4"
        ]
       ],
       "datasetInfos": [],
       "dbfsResultPath": null,
       "isJsonSchema": true,
       "metadata": {},
       "overflow": false,
       "plotOptions": {
        "customPlotOptions": {},
        "displayType": "table",
        "pivotAggregation": null,
        "pivotColumns": null,
        "xColumns": null,
        "yColumns": null
       },
       "removedWidgets": [],
       "schema": [
        {
         "metadata": "{}",
         "name": "ID_Aluno",
         "type": "\"string\""
        },
        {
         "metadata": "{}",
         "name": "Study_Hours_per_Week",
         "type": "\"string\""
        },
        {
         "metadata": "{}",
         "name": "Extracurricular_Activities",
         "type": "\"string\""
        },
        {
         "metadata": "{}",
         "name": "Internet_Access_at_Home",
         "type": "\"string\""
        },
        {
         "metadata": "{}",
         "name": "Stress_Level (1-10)",
         "type": "\"string\""
        },
        {
         "metadata": "{}",
         "name": "Sleep_Hours_per_Night",
         "type": "\"string\""
        }
       ],
       "type": "table"
      }
     },
     "output_type": "display_data"
    }
   ],
   "source": [
    "%sql -- Exemplo de dados --\n",
    "SELECT * FROM csv_habitos LIMIT 10;"
   ]
  },
  {
   "cell_type": "code",
   "execution_count": 0,
   "metadata": {
    "application/vnd.databricks.v1+cell": {
     "cellMetadata": {
      "byteLimit": 2048000,
      "implicitDf": true,
      "rowLimit": 10000
     },
     "collapsed": true,
     "inputWidgets": {},
     "nuid": "54ce84c4-6fb3-4c6a-8a87-ddbe43448be4",
     "showTitle": false,
     "tableResultSettingsMap": {},
     "title": ""
    }
   },
   "outputs": [
    {
     "output_type": "display_data",
     "data": {
      "text/html": [
       "<style scoped>\n",
       "  .table-result-container {\n",
       "    max-height: 300px;\n",
       "    overflow: auto;\n",
       "  }\n",
       "  table, th, td {\n",
       "    border: 1px solid black;\n",
       "    border-collapse: collapse;\n",
       "  }\n",
       "  th, td {\n",
       "    padding: 5px;\n",
       "  }\n",
       "  th {\n",
       "    text-align: left;\n",
       "  }\n",
       "</style><div class='table-result-container'><table class='table-result'><thead style='background-color: white'><tr></tr></thead><tbody></tbody></table></div>"
      ]
     },
     "metadata": {
      "application/vnd.databricks.v1+output": {
       "addedWidgets": {},
       "aggData": [],
       "aggError": "",
       "aggOverflow": false,
       "aggSchema": [],
       "aggSeriesLimitReached": false,
       "aggType": "",
       "arguments": {},
       "columnCustomDisplayInfos": {},
       "data": [],
       "datasetInfos": [],
       "dbfsResultPath": null,
       "isJsonSchema": true,
       "metadata": {},
       "overflow": false,
       "plotOptions": {
        "customPlotOptions": {},
        "displayType": "table",
        "pivotAggregation": null,
        "pivotColumns": null,
        "xColumns": null,
        "yColumns": null
       },
       "removedWidgets": [],
       "schema": [],
       "type": "table"
      }
     },
     "output_type": "display_data"
    }
   ],
   "source": [
    "%sql -- Criação e carregamento de tabela \"Habitos\"\n",
    "DROP TABLE IF EXISTS default.HABITOS;\n",
    "\n",
    "CREATE TABLE default.HABITOS\n",
    "USING CSV\n",
    "OPTIONS (\n",
    "  path \"dbfs:/FileStore/tables/2_PRATA/HABITOS.csv\",\n",
    "  header \"true\",\n",
    "  inferSchema \"true\"\n",
    ");"
   ]
  },
  {
   "cell_type": "markdown",
   "metadata": {
    "application/vnd.databricks.v1+cell": {
     "cellMetadata": {
      "byteLimit": 2048000,
      "rowLimit": 10000
     },
     "inputWidgets": {},
     "nuid": "b6e68105-d31f-49cb-aed1-b3b92e2bcf51",
     "showTitle": false,
     "tableResultSettingsMap": {},
     "title": ""
    }
   },
   "source": [
    "🗃️ Tabela Disciplinas"
   ]
  },
  {
   "cell_type": "code",
   "execution_count": 0,
   "metadata": {
    "application/vnd.databricks.v1+cell": {
     "cellMetadata": {
      "byteLimit": 2048000,
      "implicitDf": true,
      "rowLimit": 10000
     },
     "collapsed": true,
     "inputWidgets": {},
     "nuid": "693b0183-1a1a-4a03-8277-71a8d39a6405",
     "showTitle": false,
     "tableResultSettingsMap": {},
     "title": ""
    }
   },
   "outputs": [
    {
     "output_type": "display_data",
     "data": {
      "text/html": [
       "<style scoped>\n",
       "  .table-result-container {\n",
       "    max-height: 300px;\n",
       "    overflow: auto;\n",
       "  }\n",
       "  table, th, td {\n",
       "    border: 1px solid black;\n",
       "    border-collapse: collapse;\n",
       "  }\n",
       "  th, td {\n",
       "    padding: 5px;\n",
       "  }\n",
       "  th {\n",
       "    text-align: left;\n",
       "  }\n",
       "</style><div class='table-result-container'><table class='table-result'><thead style='background-color: white'><tr><th>Nome_Disciplina</th><th>ID_Disciplina</th></tr></thead><tbody><tr><td>Engineering</td><td>0</td></tr><tr><td>Mathematics</td><td>1</td></tr><tr><td>Business</td><td>2</td></tr><tr><td>CS</td><td>3</td></tr></tbody></table></div>"
      ]
     },
     "metadata": {
      "application/vnd.databricks.v1+output": {
       "addedWidgets": {},
       "aggData": [],
       "aggError": "",
       "aggOverflow": false,
       "aggSchema": [],
       "aggSeriesLimitReached": false,
       "aggType": "",
       "arguments": {},
       "columnCustomDisplayInfos": {},
       "data": [
        [
         "Engineering",
         "0"
        ],
        [
         "Mathematics",
         "1"
        ],
        [
         "Business",
         "2"
        ],
        [
         "CS",
         "3"
        ]
       ],
       "datasetInfos": [],
       "dbfsResultPath": null,
       "isJsonSchema": true,
       "metadata": {},
       "overflow": false,
       "plotOptions": {
        "customPlotOptions": {},
        "displayType": "table",
        "pivotAggregation": null,
        "pivotColumns": null,
        "xColumns": null,
        "yColumns": null
       },
       "removedWidgets": [],
       "schema": [
        {
         "metadata": "{}",
         "name": "Nome_Disciplina",
         "type": "\"string\""
        },
        {
         "metadata": "{}",
         "name": "ID_Disciplina",
         "type": "\"string\""
        }
       ],
       "type": "table"
      }
     },
     "output_type": "display_data"
    }
   ],
   "source": [
    "%sql -- Exemplo de dados --\n",
    "SELECT * FROM csv_disciplinas LIMIT 10;\n"
   ]
  },
  {
   "cell_type": "code",
   "execution_count": 0,
   "metadata": {
    "application/vnd.databricks.v1+cell": {
     "cellMetadata": {
      "byteLimit": 2048000,
      "implicitDf": true,
      "rowLimit": 10000
     },
     "collapsed": true,
     "inputWidgets": {},
     "nuid": "3de30abc-f9a6-4759-9526-7ac764da7b10",
     "showTitle": false,
     "tableResultSettingsMap": {},
     "title": ""
    }
   },
   "outputs": [
    {
     "output_type": "display_data",
     "data": {
      "text/html": [
       "<style scoped>\n",
       "  .table-result-container {\n",
       "    max-height: 300px;\n",
       "    overflow: auto;\n",
       "  }\n",
       "  table, th, td {\n",
       "    border: 1px solid black;\n",
       "    border-collapse: collapse;\n",
       "  }\n",
       "  th, td {\n",
       "    padding: 5px;\n",
       "  }\n",
       "  th {\n",
       "    text-align: left;\n",
       "  }\n",
       "</style><div class='table-result-container'><table class='table-result'><thead style='background-color: white'><tr></tr></thead><tbody></tbody></table></div>"
      ]
     },
     "metadata": {
      "application/vnd.databricks.v1+output": {
       "addedWidgets": {},
       "aggData": [],
       "aggError": "",
       "aggOverflow": false,
       "aggSchema": [],
       "aggSeriesLimitReached": false,
       "aggType": "",
       "arguments": {},
       "columnCustomDisplayInfos": {},
       "data": [],
       "datasetInfos": [],
       "dbfsResultPath": null,
       "isJsonSchema": true,
       "metadata": {},
       "overflow": false,
       "plotOptions": {
        "customPlotOptions": {},
        "displayType": "table",
        "pivotAggregation": null,
        "pivotColumns": null,
        "xColumns": null,
        "yColumns": null
       },
       "removedWidgets": [],
       "schema": [],
       "type": "table"
      }
     },
     "output_type": "display_data"
    }
   ],
   "source": [
    "%sql -- Criação e carregamento de tabela \"Disciplinas\" \n",
    "DROP TABLE IF EXISTS default.DISCIPLINAS;\n",
    "\n",
    "CREATE TABLE default.DISCIPLINAS\n",
    "USING CSV\n",
    "OPTIONS (\n",
    "  path \"dbfs:/FileStore/tables/2_PRATA/DISCIPLINAS.csv\",\n",
    "  header \"true\",\n",
    "  inferSchema \"true\"\n",
    ");"
   ]
  },
  {
   "cell_type": "markdown",
   "metadata": {
    "application/vnd.databricks.v1+cell": {
     "cellMetadata": {
      "byteLimit": 2048000,
      "rowLimit": 10000
     },
     "inputWidgets": {},
     "nuid": "faa2c5aa-ea60-4e5f-961a-26f58e908292",
     "showTitle": false,
     "tableResultSettingsMap": {},
     "title": ""
    }
   },
   "source": [
    "🗃️ Fato Desempenho"
   ]
  },
  {
   "cell_type": "code",
   "execution_count": 0,
   "metadata": {
    "application/vnd.databricks.v1+cell": {
     "cellMetadata": {
      "byteLimit": 2048000,
      "implicitDf": true,
      "rowLimit": 10000
     },
     "collapsed": true,
     "inputWidgets": {},
     "nuid": "4555cb89-4f06-4fc4-92ac-4cb32266d4e9",
     "showTitle": false,
     "tableResultSettingsMap": {},
     "title": ""
    }
   },
   "outputs": [
    {
     "output_type": "display_data",
     "data": {
      "text/html": [
       "<style scoped>\n",
       "  .table-result-container {\n",
       "    max-height: 300px;\n",
       "    overflow: auto;\n",
       "  }\n",
       "  table, th, td {\n",
       "    border: 1px solid black;\n",
       "    border-collapse: collapse;\n",
       "  }\n",
       "  th, td {\n",
       "    padding: 5px;\n",
       "  }\n",
       "  th {\n",
       "    text-align: left;\n",
       "  }\n",
       "</style><div class='table-result-container'><table class='table-result'><thead style='background-color: white'><tr><th>ID_Aluno</th><th>ID_Disciplina</th><th>Presenca</th><th>Nota_Midterm</th><th>Nota_Final</th><th>Nota_Projetos</th><th>Nota_Total</th><th>Conceito</th></tr></thead><tbody><tr><td>S1000</td><td>Engineering</td><td>52.29</td><td>55.03</td><td>57.82</td><td>85.9</td><td>56.09</td><td>F</td></tr><tr><td>S1001</td><td>Engineering</td><td>97.27</td><td>97.23</td><td>45.8</td><td>55.65</td><td>50.64</td><td>A</td></tr><tr><td>S1002</td><td>Business</td><td>57.19</td><td>67.05</td><td>93.68</td><td>73.79</td><td>70.3</td><td>D</td></tr><tr><td>S1003</td><td>Mathematics</td><td>95.15</td><td>47.79</td><td>80.63</td><td>92.12</td><td>61.63</td><td>A</td></tr><tr><td>S1004</td><td>CS</td><td>54.18</td><td>46.59</td><td>78.89</td><td>68.42</td><td>66.13</td><td>F</td></tr><tr><td>S1005</td><td>Engineering</td><td>null</td><td>78.85</td><td>43.53</td><td>67.29</td><td>62.08</td><td>B</td></tr><tr><td>S1006</td><td>Business</td><td>57.6</td><td>66.26</td><td>89.07</td><td>93.65</td><td>83.21</td><td>F</td></tr><tr><td>S1007</td><td>Engineering</td><td>51.91</td><td>45.67</td><td>73.96</td><td>93.24</td><td>81.93</td><td>F</td></tr><tr><td>S1008</td><td>CS</td><td>85.97</td><td>84.42</td><td>90.87</td><td>94.01</td><td>95.62</td><td>A</td></tr><tr><td>S1009</td><td>Engineering</td><td>64.01</td><td>87.96</td><td>98.47</td><td>78.6</td><td>84.99</td><td>A</td></tr></tbody></table></div>"
      ]
     },
     "metadata": {
      "application/vnd.databricks.v1+output": {
       "addedWidgets": {},
       "aggData": [],
       "aggError": "",
       "aggOverflow": false,
       "aggSchema": [],
       "aggSeriesLimitReached": false,
       "aggType": "",
       "arguments": {},
       "columnCustomDisplayInfos": {},
       "data": [
        [
         "S1000",
         "Engineering",
         "52.29",
         "55.03",
         "57.82",
         "85.9",
         "56.09",
         "F"
        ],
        [
         "S1001",
         "Engineering",
         "97.27",
         "97.23",
         "45.8",
         "55.65",
         "50.64",
         "A"
        ],
        [
         "S1002",
         "Business",
         "57.19",
         "67.05",
         "93.68",
         "73.79",
         "70.3",
         "D"
        ],
        [
         "S1003",
         "Mathematics",
         "95.15",
         "47.79",
         "80.63",
         "92.12",
         "61.63",
         "A"
        ],
        [
         "S1004",
         "CS",
         "54.18",
         "46.59",
         "78.89",
         "68.42",
         "66.13",
         "F"
        ],
        [
         "S1005",
         "Engineering",
         null,
         "78.85",
         "43.53",
         "67.29",
         "62.08",
         "B"
        ],
        [
         "S1006",
         "Business",
         "57.6",
         "66.26",
         "89.07",
         "93.65",
         "83.21",
         "F"
        ],
        [
         "S1007",
         "Engineering",
         "51.91",
         "45.67",
         "73.96",
         "93.24",
         "81.93",
         "F"
        ],
        [
         "S1008",
         "CS",
         "85.97",
         "84.42",
         "90.87",
         "94.01",
         "95.62",
         "A"
        ],
        [
         "S1009",
         "Engineering",
         "64.01",
         "87.96",
         "98.47",
         "78.6",
         "84.99",
         "A"
        ]
       ],
       "datasetInfos": [],
       "dbfsResultPath": null,
       "isJsonSchema": true,
       "metadata": {},
       "overflow": false,
       "plotOptions": {
        "customPlotOptions": {},
        "displayType": "table",
        "pivotAggregation": null,
        "pivotColumns": null,
        "xColumns": null,
        "yColumns": null
       },
       "removedWidgets": [],
       "schema": [
        {
         "metadata": "{}",
         "name": "ID_Aluno",
         "type": "\"string\""
        },
        {
         "metadata": "{}",
         "name": "ID_Disciplina",
         "type": "\"string\""
        },
        {
         "metadata": "{}",
         "name": "Presenca",
         "type": "\"string\""
        },
        {
         "metadata": "{}",
         "name": "Nota_Midterm",
         "type": "\"string\""
        },
        {
         "metadata": "{}",
         "name": "Nota_Final",
         "type": "\"string\""
        },
        {
         "metadata": "{}",
         "name": "Nota_Projetos",
         "type": "\"string\""
        },
        {
         "metadata": "{}",
         "name": "Nota_Total",
         "type": "\"string\""
        },
        {
         "metadata": "{}",
         "name": "Conceito",
         "type": "\"string\""
        }
       ],
       "type": "table"
      }
     },
     "output_type": "display_data"
    }
   ],
   "source": [
    "%sql -- Exemplo de dados --\n",
    "SELECT * FROM csv_fato_desempenho LIMIT 10;\n"
   ]
  },
  {
   "cell_type": "code",
   "execution_count": 0,
   "metadata": {
    "application/vnd.databricks.v1+cell": {
     "cellMetadata": {
      "byteLimit": 2048000,
      "implicitDf": true,
      "rowLimit": 10000
     },
     "collapsed": true,
     "inputWidgets": {},
     "nuid": "3a2796e4-0c11-434b-8b87-2fda21d845b1",
     "showTitle": false,
     "tableResultSettingsMap": {},
     "title": ""
    }
   },
   "outputs": [
    {
     "output_type": "display_data",
     "data": {
      "text/html": [
       "<style scoped>\n",
       "  .table-result-container {\n",
       "    max-height: 300px;\n",
       "    overflow: auto;\n",
       "  }\n",
       "  table, th, td {\n",
       "    border: 1px solid black;\n",
       "    border-collapse: collapse;\n",
       "  }\n",
       "  th, td {\n",
       "    padding: 5px;\n",
       "  }\n",
       "  th {\n",
       "    text-align: left;\n",
       "  }\n",
       "</style><div class='table-result-container'><table class='table-result'><thead style='background-color: white'><tr></tr></thead><tbody></tbody></table></div>"
      ]
     },
     "metadata": {
      "application/vnd.databricks.v1+output": {
       "addedWidgets": {},
       "aggData": [],
       "aggError": "",
       "aggOverflow": false,
       "aggSchema": [],
       "aggSeriesLimitReached": false,
       "aggType": "",
       "arguments": {},
       "columnCustomDisplayInfos": {},
       "data": [],
       "datasetInfos": [],
       "dbfsResultPath": null,
       "isJsonSchema": true,
       "metadata": {},
       "overflow": false,
       "plotOptions": {
        "customPlotOptions": {},
        "displayType": "table",
        "pivotAggregation": null,
        "pivotColumns": null,
        "xColumns": null,
        "yColumns": null
       },
       "removedWidgets": [],
       "schema": [],
       "type": "table"
      }
     },
     "output_type": "display_data"
    }
   ],
   "source": [
    "%sql -- Criação e carregamento da fato_desempenho\n",
    "DROP TABLE IF EXISTS default.FATO_DESEMPENHO;\n",
    "\n",
    "CREATE TABLE default.FATO_DESEMPENHO\n",
    "USING CSV\n",
    "OPTIONS (\n",
    "  path \"dbfs:/FileStore/tables/2_PRATA/FATO_DESEMPENHO.csv\",\n",
    "  header \"true\",\n",
    "  inferSchema \"true\"\n",
    ");"
   ]
  },
  {
   "cell_type": "markdown",
   "metadata": {
    "application/vnd.databricks.v1+cell": {
     "cellMetadata": {
      "byteLimit": 2048000,
      "rowLimit": 10000
     },
     "inputWidgets": {},
     "nuid": "5cb955c3-4502-415c-b3e6-1d61f64880ed",
     "showTitle": false,
     "tableResultSettingsMap": {},
     "title": ""
    }
   },
   "source": [
    "#### 🔎 Análise Exploratória dos dados"
   ]
  },
  {
   "cell_type": "markdown",
   "metadata": {
    "application/vnd.databricks.v1+cell": {
     "cellMetadata": {
      "byteLimit": 2048000,
      "rowLimit": 10000
     },
     "inputWidgets": {},
     "nuid": "aba33f62-6e82-4552-a6fa-cd7817c7021c",
     "showTitle": false,
     "tableResultSettingsMap": {},
     "title": ""
    }
   },
   "source": [
    "###### 🔎 Apresentar as tabelas e visualizações do modelo"
   ]
  },
  {
   "cell_type": "code",
   "execution_count": 0,
   "metadata": {
    "application/vnd.databricks.v1+cell": {
     "cellMetadata": {
      "byteLimit": 2048000,
      "implicitDf": true,
      "rowLimit": 10000
     },
     "collapsed": true,
     "inputWidgets": {},
     "nuid": "95696e88-ecee-4e5c-9b3a-9f67ca72a319",
     "showTitle": false,
     "tableResultSettingsMap": {},
     "title": ""
    }
   },
   "outputs": [
    {
     "output_type": "display_data",
     "data": {
      "text/html": [
       "<style scoped>\n",
       "  .table-result-container {\n",
       "    max-height: 300px;\n",
       "    overflow: auto;\n",
       "  }\n",
       "  table, th, td {\n",
       "    border: 1px solid black;\n",
       "    border-collapse: collapse;\n",
       "  }\n",
       "  th, td {\n",
       "    padding: 5px;\n",
       "  }\n",
       "  th {\n",
       "    text-align: left;\n",
       "  }\n",
       "</style><div class='table-result-container'><table class='table-result'><thead style='background-color: white'><tr><th>database</th><th>tableName</th><th>isTemporary</th></tr></thead><tbody><tr><td>default</td><td>alunos</td><td>false</td></tr><tr><td>default</td><td>disciplinas</td><td>false</td></tr><tr><td>default</td><td>fato_desempenho</td><td>false</td></tr><tr><td>default</td><td>habitos</td><td>false</td></tr><tr><td></td><td>csv_alunos</td><td>true</td></tr><tr><td></td><td>csv_disciplinas</td><td>true</td></tr><tr><td></td><td>csv_fato_desempenho</td><td>true</td></tr><tr><td></td><td>csv_habitos</td><td>true</td></tr></tbody></table></div>"
      ]
     },
     "metadata": {
      "application/vnd.databricks.v1+output": {
       "addedWidgets": {},
       "aggData": [],
       "aggError": "",
       "aggOverflow": false,
       "aggSchema": [],
       "aggSeriesLimitReached": false,
       "aggType": "",
       "arguments": {},
       "columnCustomDisplayInfos": {},
       "data": [
        [
         "default",
         "alunos",
         false
        ],
        [
         "default",
         "disciplinas",
         false
        ],
        [
         "default",
         "fato_desempenho",
         false
        ],
        [
         "default",
         "habitos",
         false
        ],
        [
         "",
         "csv_alunos",
         true
        ],
        [
         "",
         "csv_disciplinas",
         true
        ],
        [
         "",
         "csv_fato_desempenho",
         true
        ],
        [
         "",
         "csv_habitos",
         true
        ]
       ],
       "datasetInfos": [],
       "dbfsResultPath": null,
       "isJsonSchema": true,
       "metadata": {},
       "overflow": false,
       "plotOptions": {
        "customPlotOptions": {},
        "displayType": "table",
        "pivotAggregation": null,
        "pivotColumns": null,
        "xColumns": null,
        "yColumns": null
       },
       "removedWidgets": [],
       "schema": [
        {
         "metadata": "{}",
         "name": "database",
         "type": "\"string\""
        },
        {
         "metadata": "{}",
         "name": "tableName",
         "type": "\"string\""
        },
        {
         "metadata": "{}",
         "name": "isTemporary",
         "type": "\"boolean\""
        }
       ],
       "type": "table"
      }
     },
     "output_type": "display_data"
    }
   ],
   "source": [
    "%sql\n",
    "SHOW TABLES IN default;\n"
   ]
  },
  {
   "cell_type": "markdown",
   "metadata": {
    "application/vnd.databricks.v1+cell": {
     "cellMetadata": {
      "byteLimit": 2048000,
      "rowLimit": 10000
     },
     "inputWidgets": {},
     "nuid": "013fbfe6-1055-4ad6-ba61-9fe23c747bbe",
     "showTitle": false,
     "tableResultSettingsMap": {},
     "title": ""
    }
   },
   "source": [
    "🧮 Quantidade de Registros"
   ]
  },
  {
   "cell_type": "code",
   "execution_count": 0,
   "metadata": {
    "application/vnd.databricks.v1+cell": {
     "cellMetadata": {
      "byteLimit": 2048000,
      "implicitDf": true,
      "rowLimit": 10000
     },
     "collapsed": true,
     "inputWidgets": {},
     "nuid": "e579653d-34cd-468a-9951-14f5b9e00cd5",
     "showTitle": false,
     "tableResultSettingsMap": {},
     "title": ""
    }
   },
   "outputs": [
    {
     "output_type": "display_data",
     "data": {
      "text/html": [
       "<style scoped>\n",
       "  .table-result-container {\n",
       "    max-height: 300px;\n",
       "    overflow: auto;\n",
       "  }\n",
       "  table, th, td {\n",
       "    border: 1px solid black;\n",
       "    border-collapse: collapse;\n",
       "  }\n",
       "  th, td {\n",
       "    padding: 5px;\n",
       "  }\n",
       "  th {\n",
       "    text-align: left;\n",
       "  }\n",
       "</style><div class='table-result-container'><table class='table-result'><thead style='background-color: white'><tr><th>tabela</th><th>total</th></tr></thead><tbody><tr><td>alunos</td><td>5000</td></tr><tr><td>disciplinas</td><td>4</td></tr><tr><td>fato_desempenho</td><td>5000</td></tr><tr><td>habitos</td><td>5000</td></tr></tbody></table></div>"
      ]
     },
     "metadata": {
      "application/vnd.databricks.v1+output": {
       "addedWidgets": {},
       "aggData": [],
       "aggError": "",
       "aggOverflow": false,
       "aggSchema": [],
       "aggSeriesLimitReached": false,
       "aggType": "",
       "arguments": {},
       "columnCustomDisplayInfos": {},
       "data": [
        [
         "alunos",
         5000
        ],
        [
         "disciplinas",
         4
        ],
        [
         "fato_desempenho",
         5000
        ],
        [
         "habitos",
         5000
        ]
       ],
       "datasetInfos": [],
       "dbfsResultPath": null,
       "isJsonSchema": true,
       "metadata": {},
       "overflow": false,
       "plotOptions": {
        "customPlotOptions": {},
        "displayType": "table",
        "pivotAggregation": null,
        "pivotColumns": null,
        "xColumns": null,
        "yColumns": null
       },
       "removedWidgets": [],
       "schema": [
        {
         "metadata": "{}",
         "name": "tabela",
         "type": "\"string\""
        },
        {
         "metadata": "{}",
         "name": "total",
         "type": "\"long\""
        }
       ],
       "type": "table"
      }
     },
     "output_type": "display_data"
    }
   ],
   "source": [
    "%sql\n",
    "SELECT 'alunos' AS tabela, COUNT(*) AS total FROM default.alunos\n",
    "UNION ALL\n",
    "SELECT 'disciplinas', COUNT(*) FROM default.disciplinas\n",
    "UNION ALL\n",
    "SELECT 'fato_desempenho', COUNT(*) FROM default.fato_desempenho\n",
    "UNION ALL\n",
    "SELECT 'habitos', COUNT(*) FROM default.habitos;\n"
   ]
  },
  {
   "cell_type": "code",
   "execution_count": 0,
   "metadata": {
    "application/vnd.databricks.v1+cell": {
     "cellMetadata": {
      "byteLimit": 2048000,
      "implicitDf": true,
      "rowLimit": 10000
     },
     "collapsed": true,
     "inputWidgets": {},
     "nuid": "6fff96b6-ba1c-49b7-b7db-9b8c8646e58a",
     "showTitle": false,
     "tableResultSettingsMap": {},
     "title": ""
    }
   },
   "outputs": [
    {
     "output_type": "display_data",
     "data": {
      "text/html": [
       "<style scoped>\n",
       "  .table-result-container {\n",
       "    max-height: 300px;\n",
       "    overflow: auto;\n",
       "  }\n",
       "  table, th, td {\n",
       "    border: 1px solid black;\n",
       "    border-collapse: collapse;\n",
       "  }\n",
       "  th, td {\n",
       "    padding: 5px;\n",
       "  }\n",
       "  th {\n",
       "    text-align: left;\n",
       "  }\n",
       "</style><div class='table-result-container'><table class='table-result'><thead style='background-color: white'><tr><th>tabela</th><th>total</th><th>ID_Aluno_nulos</th><th>First_Name_nulos</th></tr></thead><tbody><tr><td>alunos</td><td>5000</td><td>0</td><td>0</td></tr></tbody></table></div>"
      ]
     },
     "metadata": {
      "application/vnd.databricks.v1+output": {
       "addedWidgets": {},
       "aggData": [],
       "aggError": "",
       "aggOverflow": false,
       "aggSchema": [],
       "aggSeriesLimitReached": false,
       "aggType": "",
       "arguments": {},
       "columnCustomDisplayInfos": {},
       "data": [
        [
         "alunos",
         5000,
         0,
         0
        ]
       ],
       "datasetInfos": [],
       "dbfsResultPath": null,
       "isJsonSchema": true,
       "metadata": {},
       "overflow": false,
       "plotOptions": {
        "customPlotOptions": {},
        "displayType": "table",
        "pivotAggregation": null,
        "pivotColumns": null,
        "xColumns": null,
        "yColumns": null
       },
       "removedWidgets": [],
       "schema": [
        {
         "metadata": "{}",
         "name": "tabela",
         "type": "\"string\""
        },
        {
         "metadata": "{}",
         "name": "total",
         "type": "\"long\""
        },
        {
         "metadata": "{}",
         "name": "ID_Aluno_nulos",
         "type": "\"long\""
        },
        {
         "metadata": "{}",
         "name": "First_Name_nulos",
         "type": "\"long\""
        }
       ],
       "type": "table"
      }
     },
     "output_type": "display_data"
    }
   ],
   "source": [
    "%sql\n",
    "SELECT \n",
    "    'alunos' AS tabela, \n",
    "    COUNT(*) AS total, \n",
    "    SUM(CASE WHEN ID_Aluno IS NULL THEN 1 ELSE 0 END) AS ID_Aluno_nulos,\n",
    "    SUM(CASE WHEN First_Name IS NULL THEN 1 ELSE 0 END) AS First_Name_nulos\n",
    "FROM default.alunos;\n"
   ]
  },
  {
   "cell_type": "markdown",
   "metadata": {
    "application/vnd.databricks.v1+cell": {
     "cellMetadata": {
      "byteLimit": 2048000,
      "rowLimit": 10000
     },
     "inputWidgets": {},
     "nuid": "85367f85-5a83-4158-b924-fd252a1f9051",
     "showTitle": false,
     "tableResultSettingsMap": {},
     "title": ""
    }
   },
   "source": [
    "📊 Estatísticas descritivas (Exemplos)"
   ]
  },
  {
   "cell_type": "code",
   "execution_count": 0,
   "metadata": {
    "application/vnd.databricks.v1+cell": {
     "cellMetadata": {
      "byteLimit": 2048000,
      "implicitDf": true,
      "rowLimit": 10000
     },
     "collapsed": true,
     "inputWidgets": {},
     "nuid": "265a76a9-35fa-4c7e-995a-dead5df8c03e",
     "showTitle": false,
     "tableResultSettingsMap": {},
     "title": ""
    }
   },
   "outputs": [
    {
     "output_type": "display_data",
     "data": {
      "text/html": [
       "<style scoped>\n",
       "  .table-result-container {\n",
       "    max-height: 300px;\n",
       "    overflow: auto;\n",
       "  }\n",
       "  table, th, td {\n",
       "    border: 1px solid black;\n",
       "    border-collapse: collapse;\n",
       "  }\n",
       "  th, td {\n",
       "    padding: 5px;\n",
       "  }\n",
       "  th {\n",
       "    text-align: left;\n",
       "  }\n",
       "</style><div class='table-result-container'><table class='table-result'><thead style='background-color: white'><tr><th>idade_minima</th><th>idade_maxima</th><th>idade_media</th></tr></thead><tbody><tr><td>18</td><td>24</td><td>21.0484</td></tr></tbody></table></div>"
      ]
     },
     "metadata": {
      "application/vnd.databricks.v1+output": {
       "addedWidgets": {},
       "aggData": [],
       "aggError": "",
       "aggOverflow": false,
       "aggSchema": [],
       "aggSeriesLimitReached": false,
       "aggType": "",
       "arguments": {},
       "columnCustomDisplayInfos": {},
       "data": [
        [
         18,
         24,
         21.0484
        ]
       ],
       "datasetInfos": [],
       "dbfsResultPath": null,
       "isJsonSchema": true,
       "metadata": {},
       "overflow": false,
       "plotOptions": {
        "customPlotOptions": {},
        "displayType": "table",
        "pivotAggregation": null,
        "pivotColumns": null,
        "xColumns": null,
        "yColumns": null
       },
       "removedWidgets": [],
       "schema": [
        {
         "metadata": "{}",
         "name": "idade_minima",
         "type": "\"integer\""
        },
        {
         "metadata": "{}",
         "name": "idade_maxima",
         "type": "\"integer\""
        },
        {
         "metadata": "{}",
         "name": "idade_media",
         "type": "\"double\""
        }
       ],
       "type": "table"
      }
     },
     "output_type": "display_data"
    }
   ],
   "source": [
    "%sql\n",
    "SELECT \n",
    "    MIN(Age) AS idade_minima,\n",
    "    MAX(Age) AS idade_maxima,\n",
    "    AVG(Age) AS idade_media\n",
    "FROM default.alunos;\n"
   ]
  },
  {
   "cell_type": "code",
   "execution_count": 0,
   "metadata": {
    "application/vnd.databricks.v1+cell": {
     "cellMetadata": {
      "byteLimit": 2048000,
      "implicitDf": true,
      "rowLimit": 10000
     },
     "collapsed": true,
     "inputWidgets": {},
     "nuid": "b726e3fe-234a-4c12-b717-d7a858bece5f",
     "showTitle": false,
     "tableResultSettingsMap": {},
     "title": ""
    }
   },
   "outputs": [
    {
     "output_type": "display_data",
     "data": {
      "text/html": [
       "<style scoped>\n",
       "  .table-result-container {\n",
       "    max-height: 300px;\n",
       "    overflow: auto;\n",
       "  }\n",
       "  table, th, td {\n",
       "    border: 1px solid black;\n",
       "    border-collapse: collapse;\n",
       "  }\n",
       "  th, td {\n",
       "    padding: 5px;\n",
       "  }\n",
       "  th {\n",
       "    text-align: left;\n",
       "  }\n",
       "</style><div class='table-result-container'><table class='table-result'><thead style='background-color: white'><tr><th>Age</th><th>quantidade</th></tr></thead><tbody><tr><td>18</td><td>682</td></tr><tr><td>19</td><td>705</td></tr><tr><td>20</td><td>671</td></tr><tr><td>21</td><td>753</td></tr><tr><td>22</td><td>732</td></tr><tr><td>23</td><td>734</td></tr><tr><td>24</td><td>723</td></tr></tbody></table></div>"
      ]
     },
     "metadata": {
      "application/vnd.databricks.v1+output": {
       "addedWidgets": {},
       "aggData": [],
       "aggError": "",
       "aggOverflow": false,
       "aggSchema": [],
       "aggSeriesLimitReached": false,
       "aggType": "",
       "arguments": {},
       "columnCustomDisplayInfos": {},
       "data": [
        [
         18,
         682
        ],
        [
         19,
         705
        ],
        [
         20,
         671
        ],
        [
         21,
         753
        ],
        [
         22,
         732
        ],
        [
         23,
         734
        ],
        [
         24,
         723
        ]
       ],
       "datasetInfos": [],
       "dbfsResultPath": null,
       "isJsonSchema": true,
       "metadata": {},
       "overflow": false,
       "plotOptions": {
        "customPlotOptions": {},
        "displayType": "table",
        "pivotAggregation": null,
        "pivotColumns": null,
        "xColumns": null,
        "yColumns": null
       },
       "removedWidgets": [],
       "schema": [
        {
         "metadata": "{}",
         "name": "Age",
         "type": "\"integer\""
        },
        {
         "metadata": "{}",
         "name": "quantidade",
         "type": "\"long\""
        }
       ],
       "type": "table"
      }
     },
     "output_type": "display_data"
    }
   ],
   "source": [
    "%sql\n",
    "SELECT Age, COUNT(*) AS quantidade FROM default.alunos GROUP BY Age ORDER BY Age;\n"
   ]
  },
  {
   "cell_type": "code",
   "execution_count": 0,
   "metadata": {
    "application/vnd.databricks.v1+cell": {
     "cellMetadata": {
      "byteLimit": 2048000,
      "rowLimit": 10000
     },
     "collapsed": true,
     "inputWidgets": {},
     "nuid": "ef1b4cf2-2587-47b2-9b40-46ce2120b0a3",
     "showTitle": false,
     "tableResultSettingsMap": {},
     "title": ""
    }
   },
   "outputs": [
    {
     "output_type": "stream",
     "name": "stdout",
     "output_type": "stream",
     "text": [
      "plotly OK!\n"
     ]
    },
    {
     "output_type": "display_data",
     "data": {
      "text/html": [
       "<html>\n",
       "<head><meta charset=\"utf-8\" /></head>\n",
       "<body>\n",
       "    <div>            <script src=\"https://cdnjs.cloudflare.com/ajax/libs/mathjax/2.7.5/MathJax.js?config=TeX-AMS-MML_SVG\"></script><script type=\"text/javascript\">if (window.MathJax) {MathJax.Hub.Config({SVG: {font: \"STIX-Web\"}});}</script>                <script type=\"text/javascript\">window.PlotlyConfig = {MathJaxConfig: 'local'};</script>\n",
       "        <script src=\"https://cdn.plot.ly/plotly-2.9.0.min.js\"></script>                <div id=\"e3f8c857-04d9-46ca-9e57-127e1816d236\" class=\"plotly-graph-div\" style=\"height:100%; width:100%;\"></div>            <script type=\"text/javascript\">                                    window.PLOTLYENV=window.PLOTLYENV || {};                                    if (document.getElementById(\"e3f8c857-04d9-46ca-9e57-127e1816d236\")) {                    Plotly.newPlot(                        \"e3f8c857-04d9-46ca-9e57-127e1816d236\",                        [{\"alignmentgroup\":\"True\",\"bingroup\":\"x\",\"hovertemplate\":\"Age=%{x}<br>count=%{y}<extra></extra>\",\"legendgroup\":\"\",\"marker\":{\"color\":\"#636efa\",\"pattern\":{\"shape\":\"\"}},\"name\":\"\",\"nbinsx\":20,\"offsetgroup\":\"\",\"orientation\":\"v\",\"showlegend\":false,\"x\":[22,18,24,24,23,21,24,19,21,22,23,20,21,18,19,18,21,23,20,20,18,22,22,23,20,18,18,18,21,23,22,22,21,19,21,23,18,21,18,23,24,23,20,18,22,21,24,23,18,24,19,20,19,23,19,19,20,20,20,24,20,19,22,22,20,24,21,18,23,24,21,23,21,21,22,18,21,20,23,24,22,23,20,20,21,20,18,20,21,23,20,22,24,22,22,23,19,24,22,22,19,23,24,22,21,23,24,22,22,19,24,21,23,20,18,21,20,21,24,20,24,20,21,19,21,24,21,20,18,20,22,21,23,21,19,24,23,20,19,21,20,20,22,22,18,22,24,23,20,22,18,21,23,22,20,21,24,20,21,24,24,23,20,22,22,18,21,18,19,22,21,23,18,23,23,23,18,19,24,24,18,24,20,24,22,18,24,18,19,20,18,22,24,22,24,18,23,24,23,20,22,23,22,24,24,20,24,20,23,24,18,21,19,21,21,22,20,22,23,19,23,18,19,22,24,24,22,23,22,22,21,18,24,21,22,20,21,22,24,22,18,23,19,21,21,21,22,18,22,22,23,20,18,21,19,21,22,18,24,18,18,20,21,20,24,24,23,19,23,22,20,20,23,22,18,22,21,23,22,18,22,20,19,20,24,19,24,22,21,22,18,22,19,20,21,24,22,22,20,21,23,24,22,22,23,24,19,19,18,20,21,22,24,22,18,24,24,22,20,18,20,18,22,18,19,24,21,22,23,21,22,21,19,21,18,21,22,23,23,20,24,21,23,21,24,23,24,21,22,21,24,22,22,20,23,18,22,24,23,19,21,24,19,24,21,20,24,22,18,22,21,24,18,22,18,21,20,20,24,22,19,21,22,22,20,24,18,21,18,23,23,21,24,19,23,20,19,22,23,20,22,19,21,22,18,21,21,19,19,20,20,18,21,24,18,18,24,24,24,19,18,18,22,24,24,20,20,21,20,23,21,24,22,20,22,20,20,22,18,18,18,23,18,20,24,19,22,24,19,24,23,19,21,18,23,24,20,18,18,19,21,18,24,24,22,22,18,19,19,20,23,23,23,21,19,20,22,24,23,22,22,18,21,20,21,18,20,20,19,21,21,19,22,18,21,19,24,20,23,24,19,23,22,18,23,22,23,20,20,20,20,19,20,24,20,24,19,20,22,22,21,22,18,18,18,19,22,24,18,21,19,21,22,20,21,20,19,21,21,23,19,19,18,22,21,21,24,19,19,22,19,20,20,23,20,20,22,21,20,23,19,20,23,22,24,24,24,19,23,20,21,19,19,24,21,24,19,20,24,24,24,19,20,21,18,21,20,22,24,21,22,22,20,20,24,18,23,19,21,20,21,23,23,24,22,24,19,18,21,19,18,21,19,20,21,19,23,18,19,20,24,21,21,21,20,18,21,18,19,23,23,18,18,23,21,22,22,20,24,23,23,20,22,19,21,21,19,19,22,20,19,20,24,18,21,22,21,22,18,21,18,22,19,24,21,18,23,21,21,21,20,18,18,21,19,21,20,22,20,19,21,18,24,23,21,19,18,20,22,22,24,21,20,24,23,23,24,19,22,20,21,18,21,21,20,22,20,18,24,20,19,21,22,23,18,23,21,20,23,19,20,21,23,24,18,23,24,24,23,22,23,21,24,18,21,19,20,23,22,18,22,22,22,23,18,18,24,22,24,24,20,23,23,21,24,23,22,19,22,18,23,23,21,24,19,23,21,21,19,22,22,22,20,24,24,22,19,20,24,22,20,19,22,18,23,19,21,21,19,21,24,19,18,19,22,22,20,21,23,21,24,19,23,23,21,23,23,22,18,19,21,22,24,24,20,23,23,21,18,18,21,21,22,24,21,24,20,24,22,23,23,24,23,23,19,20,22,22,23,18,22,20,21,20,23,23,19,24,22,24,24,22,22,23,22,18,18,21,22,19,21,23,22,18,19,21,19,22,20,19,19,23,18,22,19,22,18,23,22,24,18,18,21,23,23,24,22,20,24,21,23,18,23,24,20,19,19,23,23,21,23,20,23,22,24,20,21,22,22,24,19,20,24,22,21,24,19,22,24,20,19,20,20,20,24,19,24,24,24,22,23,18,22,19,18,18,18,23,24,21,19,23,23,21,18,24,21,21,23,19,20,24,21,24,21,18,24,18,23,18,24,22,24,21,18,19,22,23,20,21,21,19,20,20,23,23,22,21,18,23,19,19,19,24,23,23,19,23,24,18,18,22,21,18,22,20,21,18,24,20,22,18,18,23,20,18,19,24,23,23,18,24,23,21,20,21,22,21,24,19,23,24,23,19,23,21,22,18,19,21,24,21,21,18,20,23,23,24,22,24,20,23,22,24,22,21,19,21,18,23,22,24,19,24,23,22,22,21,19,19,23,22,19,19,24,23,21,24,24,20,18,20,19,22,18,18,22,18,22,18,24,23,23,20,24,18,21,22,24,18,23,23,22,21,18,18,21,21,21,23,22,24,21,22,20,18,18,19,20,24,21,21,24,23,20,21,19,22,18,20,18,22,20,22,21,24,21,24,21,22,22,22,18,22,21,19,22,19,24,21,22,18,18,24,19,23,18,18,18,21,18,20,22,24,18,23,23,18,18,20,18,18,22,23,20,23,20,23,18,23,23,20,24,19,20,20,20,21,24,21,21,20,19,20,18,19,21,23,23,24,22,24,19,21,19,19,23,20,18,22,21,19,22,19,23,18,23,22,21,19,18,23,22,23,19,19,21,18,20,23,19,22,23,21,21,19,19,19,24,20,19,23,23,24,24,18,22,19,23,24,23,23,24,20,24,24,22,24,21,24,23,19,23,22,21,24,20,18,24,19,18,20,22,22,20,23,20,24,19,21,24,24,24,18,18,22,24,23,22,19,20,18,24,19,22,22,18,22,23,22,21,20,22,21,19,22,23,19,24,22,18,21,21,18,20,24,23,21,19,23,21,24,20,24,19,24,23,19,18,22,18,23,22,18,22,21,24,19,22,21,24,24,20,18,20,23,21,20,20,24,21,24,19,22,23,23,18,24,22,18,23,22,20,19,20,19,24,21,18,18,21,22,21,24,23,21,19,23,21,18,20,19,24,19,22,20,19,21,19,19,19,22,19,19,22,23,20,24,23,18,22,22,19,19,24,18,19,21,19,19,21,18,21,22,21,20,22,19,24,22,18,18,21,22,19,18,23,19,23,20,23,18,21,20,22,19,18,20,20,18,22,22,21,24,23,22,21,23,20,18,22,21,20,22,19,24,20,22,20,18,18,24,18,23,19,18,19,18,23,20,22,22,18,22,18,18,24,21,21,24,21,19,21,18,23,23,20,21,23,21,20,23,18,19,24,24,24,21,23,23,20,18,22,23,19,20,23,23,20,20,21,23,22,19,18,18,22,20,20,20,23,20,20,23,23,22,21,23,19,20,21,18,22,21,23,20,20,20,21,20,23,21,20,18,18,19,20,20,21,21,24,20,19,20,23,21,20,21,20,22,21,19,22,23,20,24,23,21,22,23,19,24,21,22,23,22,22,23,18,20,21,21,24,24,24,21,22,24,23,20,19,21,23,20,20,18,23,21,24,22,24,20,20,19,24,18,20,20,22,22,19,23,19,19,22,24,24,24,23,22,18,21,21,18,24,21,23,22,21,23,22,23,18,19,18,21,22,23,21,21,19,24,21,19,22,22,23,24,19,18,22,24,23,18,22,22,23,23,20,21,21,18,21,18,24,22,20,20,22,23,19,19,21,23,18,24,20,21,22,23,20,18,18,19,21,22,20,24,18,20,22,20,21,19,20,23,19,22,19,20,20,23,18,23,20,24,19,23,23,24,24,24,18,20,20,22,18,22,22,22,21,22,23,19,23,23,20,21,22,20,18,18,20,19,20,20,21,18,18,22,23,20,20,19,24,24,18,19,21,22,19,18,21,20,21,23,19,18,19,20,24,20,18,23,22,21,21,20,19,24,19,23,22,19,21,24,19,24,22,21,24,19,21,20,20,23,20,19,22,21,24,18,20,20,18,24,24,18,24,19,24,21,24,20,22,19,19,24,22,22,23,22,24,24,18,20,23,24,18,23,20,23,18,21,24,20,19,20,20,20,21,24,18,24,19,18,23,23,23,18,22,21,22,24,23,21,18,23,18,21,18,18,19,24,22,22,22,20,19,23,23,23,22,24,22,24,19,24,18,22,23,18,22,21,20,22,21,19,21,19,22,19,21,24,20,18,18,20,23,18,22,23,22,21,21,23,23,23,23,19,24,23,24,23,21,22,24,21,18,19,19,22,23,21,18,21,23,23,20,21,22,21,19,18,24,22,20,18,18,24,19,19,19,22,21,18,21,21,19,21,18,18,23,20,22,21,22,22,22,24,23,22,23,18,24,21,23,20,22,24,20,18,18,19,22,19,24,20,21,19,18,22,20,23,24,24,18,23,24,21,22,21,24,21,24,22,22,23,21,20,23,22,18,24,23,19,20,24,23,22,22,20,19,23,23,21,18,22,23,23,24,24,23,19,18,23,20,22,21,24,20,22,24,19,24,18,18,22,20,21,19,22,19,18,23,23,21,19,22,21,24,24,20,23,22,19,21,22,21,21,21,19,22,18,18,19,24,19,23,21,22,22,20,20,18,20,20,18,23,24,18,24,20,22,20,21,24,24,21,21,23,19,21,24,22,24,24,23,19,19,21,20,24,18,20,20,19,19,23,23,19,22,22,18,19,21,23,19,22,19,22,19,24,21,18,24,21,22,23,23,20,21,19,18,19,19,21,18,20,24,19,18,20,24,19,18,24,21,23,23,19,19,24,18,23,19,20,19,23,22,23,20,18,20,22,22,19,19,23,21,20,23,21,23,22,19,19,23,19,18,23,22,24,23,23,19,22,23,19,20,22,21,18,21,24,22,23,19,24,22,18,22,24,19,21,20,21,19,24,19,18,22,22,21,24,20,20,18,19,18,22,23,23,23,19,18,24,21,22,23,24,20,18,22,22,20,20,20,23,23,18,20,21,22,20,22,19,24,19,20,22,24,19,20,22,20,23,22,19,20,19,20,18,19,19,21,24,23,19,22,24,20,18,22,24,22,22,22,24,18,21,23,19,24,22,19,24,19,22,21,24,19,20,19,23,22,18,19,21,20,20,18,23,18,23,19,22,21,20,18,21,23,22,20,20,23,22,20,22,20,19,23,22,21,19,24,21,23,20,24,21,19,24,24,22,18,21,18,23,21,21,22,20,19,19,19,23,24,20,18,19,18,20,23,20,22,24,19,23,22,19,20,20,21,21,20,20,18,24,18,24,22,21,21,20,20,22,23,23,23,21,18,23,19,22,23,19,23,18,18,23,19,22,19,22,23,22,20,21,24,21,18,20,21,23,22,22,19,19,22,23,22,19,21,18,19,23,21,21,21,20,20,24,21,23,22,23,20,19,24,20,22,18,24,20,23,24,23,21,21,21,24,18,22,24,19,23,23,24,24,22,18,24,21,22,19,21,19,20,19,21,20,21,23,21,20,19,23,18,18,18,18,22,18,20,24,18,21,24,18,24,19,20,20,24,23,22,21,24,20,19,18,20,19,18,22,20,20,24,24,19,23,24,21,22,21,20,21,18,22,21,18,19,21,22,18,21,19,21,18,21,22,20,18,18,18,18,21,22,19,22,18,23,21,23,21,18,21,18,22,24,20,21,18,23,18,23,21,19,23,18,21,18,19,20,24,24,19,22,21,19,20,18,21,23,19,20,19,22,24,24,21,18,20,19,21,19,21,24,22,19,22,23,23,24,20,22,21,20,19,19,21,18,18,19,24,24,21,18,22,19,23,22,21,23,22,18,24,18,23,20,24,19,23,21,19,22,24,21,21,18,22,18,18,24,20,18,19,21,24,18,23,19,22,21,24,23,24,24,23,22,23,19,24,22,24,23,22,22,18,18,18,23,21,19,23,24,18,22,23,22,24,22,22,20,21,19,19,18,20,23,23,19,21,22,24,18,21,19,20,18,19,23,18,19,23,24,23,22,20,22,19,24,21,24,24,24,22,21,23,19,20,21,19,21,22,19,22,18,19,21,18,22,22,21,18,24,23,20,21,22,19,18,23,20,19,18,23,21,23,21,24,18,23,20,23,18,19,19,23,23,21,18,21,20,24,19,22,22,18,18,22,18,19,20,20,21,19,24,18,18,24,21,21,18,18,24,19,24,21,24,24,24,19,23,18,22,24,22,23,18,21,22,21,22,21,24,22,21,23,19,21,19,19,18,24,23,19,20,24,19,21,19,21,21,20,19,19,22,24,22,18,21,20,22,19,18,20,23,19,19,23,21,21,22,22,19,24,19,22,23,22,19,20,19,20,20,19,24,24,18,22,24,21,19,20,19,22,23,24,24,24,20,21,21,24,21,23,24,18,20,23,20,24,23,24,23,24,18,20,23,18,19,24,22,23,21,18,18,23,18,19,18,22,22,24,24,21,19,22,23,20,20,20,24,23,18,23,18,20,21,21,18,20,23,21,18,23,20,19,20,24,20,23,23,22,22,23,23,19,19,20,24,21,24,19,20,24,18,22,24,21,20,24,23,18,22,18,20,19,22,18,19,21,20,20,22,18,21,23,22,23,22,18,21,18,20,23,19,24,20,20,23,22,20,24,21,20,21,18,22,21,20,22,24,22,21,21,19,19,22,23,23,19,20,18,22,18,19,21,24,22,19,20,24,22,22,23,21,22,21,19,20,24,24,20,22,22,19,23,23,23,21,23,20,24,24,21,19,20,24,20,24,18,19,19,18,21,24,24,24,23,23,23,23,23,18,19,21,20,23,18,24,21,21,21,18,20,23,21,18,24,19,24,18,18,18,21,18,19,21,24,19,22,24,18,23,23,21,23,24,21,24,18,20,20,19,18,23,18,22,20,23,24,24,20,18,23,19,24,18,19,23,20,22,21,20,19,18,24,23,20,24,24,22,23,19,23,23,18,21,24,19,18,24,21,18,21,21,21,18,23,21,23,24,24,19,22,23,24,22,21,22,22,21,23,21,19,20,18,21,21,22,19,24,24,22,23,21,21,22,21,23,20,18,18,18,20,21,22,24,19,21,20,23,20,24,18,21,24,18,19,23,18,19,20,18,18,22,23,23,24,20,22,24,19,24,19,20,23,19,20,24,19,21,18,24,23,24,21,20,20,24,21,24,18,18,22,19,22,18,21,19,21,22,20,21,22,22,22,20,20,24,20,19,20,20,20,21,20,19,22,21,18,20,24,24,22,22,21,24,18,23,24,24,19,23,22,23,24,22,23,22,22,21,18,22,19,24,24,19,20,22,22,22,23,22,22,19,18,18,20,19,22,18,21,21,21,22,22,20,24,20,20,23,21,22,21,20,22,19,18,18,20,24,21,19,22,24,21,20,21,20,23,18,24,18,21,19,22,20,22,18,19,19,22,18,22,21,19,19,21,18,19,24,23,23,23,20,24,20,18,21,22,24,18,22,18,20,23,21,20,21,24,22,18,19,19,21,23,23,21,20,19,20,22,19,22,18,20,21,19,20,21,18,19,22,18,23,21,19,19,24,24,18,19,21,18,22,18,18,22,23,24,21,23,23,23,24,20,24,23,20,22,24,21,23,19,22,20,24,21,18,21,21,23,23,24,24,20,24,20,23,23,19,19,22,23,18,19,20,21,24,24,22,19,21,21,19,18,18,22,18,22,20,19,21,22,24,18,24,22,23,22,18,23,23,18,23,19,21,24,19,19,18,18,24,21,22,19,23,21,19,22,23,19,20,24,21,24,18,19,23,23,21,21,24,23,23,23,19,23,18,23,18,19,21,18,19,23,19,23,24,19,21,18,24,21,20,23,18,21,18,20,22,23,23,19,23,23,21,24,23,23,20,24,20,18,18,23,23,19,18,21,23,21,23,21,22,21,24,18,23,18,24,24,21,20,20,24,20,23,19,22,21,19,20,21,19,18,20,19,23,18,20,22,24,20,23,22,22,22,21,21,24,22,24,18,22,19,22,21,21,19,19,20,18,18,18,23,21,18,20,20,18,19,20,24,19,24,21,23,20,19,24,18,24,24,21,22,22,18,21,21,21,21,22,19,21,19,24,24,21,20,23,20,24,23,20,21,19,23,22,18,23,23,22,21,20,20,24,19,21,22,21,21,20,22,18,23,20,22,19,23,23,20,24,19,20,21,24,22,19,23,20,23,19,23,20,24,20,18,23,18,24,18,23,19,21,24,20,22,24,18,19,23,19,19,23,22,23,22,23,18,22,18,24,22,22,23,22,18,24,23,20,24,24,18,24,20,19,23,19,23,24,23,18,20,23,20,23,20,19,18,23,21,20,20,21,18,20,18,20,24,22,24,20,22,23,18,20,19,19,21,19,22,19,19,19,20,21,18,21,22,20,23,20,24,19,19,22,23,24,20,23,18,21,20,23,18,18,24,24,21,18,22,18,23,24,22,24,24,24,18,19,18,24,22,18,24,24,18,18,22,18,21,23,21,22,19,21,24,23,20,23,21,20,22,23,19,20,20,23,21,20,22,23,22,23,22,21,23,24,19,21,22,23,21,22,18,18,20,19,18,24,22,21,23,21,20,21,18,21,18,18,19,20,24,24,22,24,18,23,20,22,24,24,23,21,20,23,24,20,20,24,21,21,24,20,23,19,18,21,24,19,21,20,24,19,24,23,23,22,18,18,21,18,24,24,22,23,19,19,23,20,23,19,21,22,23,20,21,23,21,23,21,24,18,21,24,18,19,18,21,22,22,19,21,18,22,23,20,21,24,24,23,23,21,20,22,20,19,18,18,23,22,20,23,21,23,21,21,19,19,21,22,19,19,18,23,18,22,19,24,19,20,22,24,23,23,24,23,24,22,24,24,20,20,18,22,22,20,21,21,18,21,21,21,19,18,20,21,23,24,19,21,24,24,19,18,23,23,23,21,19,23,24,24,22,22,19,21,21,18,18,23,20,24,18,21,24,20,18,19,22,18,18,19,21,23,19,23,18,21,20,18,19,20,22,20,19,24,20,19,24,18,24,21,22,24,21,21,21,24,19,19,22,19,23,19,19,19,18,22,23,19,22,20,18,24,19,23,18,23,24,24,18,20,22,18,21,24,20,24,21,20,24,21,21,24,24,23,18,18,20,22,24,23,18,18,23,19,23,18,22,19,21,23,21,19,19,19,20,23,24,22,22,21,21,24,21,23,18,21,19,21,19,20,18,18,24,23,23,22,20,24,23,19,20,18,19,24,24,20,18,23,19,19,18,19,23,23,23,18,21,21,24,24,19,23,19,18,19,22,21,19,19,20,19,22,21,20,18,24,18,21,24,18,22,19,21,24,20,19,18,18,20,22,20,21,20,18,22,22,23,20,21,18,19,22,20,23,21,21,24,18,22,18,23,19,19,19,21,22,18,18,23,19,22,22,23,20,22,22,18,23,22,22,18,22,18,20,21,24,18,18,22,18,23,19,19,20,18,23,22,22,24,21,20,23,23,24,24,22,21,22,21,19,23,24,19,22,20,18,20,20,18,23,19,19,23,18,21,20,22,19,23,22,24,18,22,22,20,18,22,19,18,19,23,23,24,21,23,22,18,23,19,22,23,20,19,24,24,24,19,24,21,20,21,23,20,19,21,22,20,19,18,20,20,23,22,23,24,20,20,24,22,22,21,19,19,21,19,20,21,21,19,18,19,23,18,21,18,20,22,18,23,22,20,23,24,22,24,20,22,22,19,23,23,18,24,24,23,23,22,24,21,19,18,19,18,20,22,23,23,21,24,24,19,19,19,24,23,24,19,22,18,23,22,20,22,22,20,22,18,23,21,24,20,23,19,18,21,18,18,19,21,24,18,19,20,19,22,23,19,19,19,24,18,24,21,19,19,22,22,20,20,22,21,20,23,23,21,22,20,19,22,20,21,23,21,20,21,20,20,21,18,19,22,23,19,22,22,23,19,23,20,23,21,18,18,18,19,19,20,24,18,20,24,18,19,24,21,21,21,23,21,22,18,21,24,22,22,22,20,24,20,22,23,21,18,24,23,19,20,21,21,19,19,24,21,19,21,23,24,19,23,23,19,24,21,22,21,18,19,20,24,19,18,23,20,20,21,22,21,24,20,20,22,24,19,22,23,21,19,21,22,19,22,23,18,20,24,19,20,18,19,20,20,19,20,20,19,24,20,20,24,21,23,21,18,21,21,18,20,20,21,18,20,22,19,19,23,19,21,19,19,22,20,22,21,19,24,20,23,23,19,19,23,23,24,21,19,23,24,18,23,20,20,18,21,19,19,23,20,21,21,21,23,19,21,23,23,18,22,21,22,19,23,24,21,24,20,19,18,18,22,23,22,20,20,18,24,21,18,18,24,24,20,24,22,20,24,23,20,20,18,21,18,19,20,24,24,24,20,24,19,20,24,20,23,20,19,18,20,21,19,22,23,19,18,24,24,19,22,24,23,21,22,19,22,24,24,19,24,24,21,21,18,21,20,22,22,19,21,18,24,18,18,23,24,20,21,24,18,24,20,22,19,21,21,23,22,21,23,23,23,21,21,21,20,23,20,19,21,24,22,18,19,24,18,18,21,22,18,23,24,18,19,22,22,18,22,19,24,19,19,23,21,18,24,22,19,18,24,24,18,21,23,22,23,24,22,24,19,19,18,22,22,24,23,19,20,18,22,21,21,20,19,19,19,23,24,21,19,21,20,18,24,23,22,20,24,21,20,22,24,23,18,22,24,23,21,22,20,19,20,21,24,18,22,24,18,21,22,23,23,24,20,24,20,21,23,22,23,20,24,21,23,21,23,24,18,24,23,20,24,22,20,20,20,21,19,19,18,20,19,18,21,20,22,21,18,21,22,21,18,22,22,21,22,24,21,20,22,21,20,22,20,23,22,23,18,18,21,19,23,23,18,23,19,20,20,19,23,23,23,24,21,22,19,19,24,19,19,24,19,23,24,21,18,23,23,22,24,18,19,18,21,20,23,24,24,18,22,21,20,21,24,19,20,24,22,20,24,22,19,22,21,18,21,24,24,23,21,20,19,23,23,23,24,18,22,20,24,19,24,18,24,24,21,19,23,19,19,21,22,24,20,23,22,18,24,23,20,24,18,21,22,24,23,19,20,24,23,19,23,24,18,19,19,23,21,24,21,22,18,21,23,24,21,22,20,22,19,24,19,21,21,22,22,23,18,23,19,23,22,24,23,20,18,22,24,21,23,22,21,21,19,19,24,22,24,22,20,18,18,22,19,23,24,20,18,22,19,19,19,24,23,21],\"xaxis\":\"x\",\"yaxis\":\"y\",\"type\":\"histogram\"}],                        {\"template\":{\"data\":{\"bar\":[{\"error_x\":{\"color\":\"#2a3f5f\"},\"error_y\":{\"color\":\"#2a3f5f\"},\"marker\":{\"line\":{\"color\":\"#E5ECF6\",\"width\":0.5},\"pattern\":{\"fillmode\":\"overlay\",\"size\":10,\"solidity\":0.2}},\"type\":\"bar\"}],\"barpolar\":[{\"marker\":{\"line\":{\"color\":\"#E5ECF6\",\"width\":0.5},\"pattern\":{\"fillmode\":\"overlay\",\"size\":10,\"solidity\":0.2}},\"type\":\"barpolar\"}],\"carpet\":[{\"aaxis\":{\"endlinecolor\":\"#2a3f5f\",\"gridcolor\":\"white\",\"linecolor\":\"white\",\"minorgridcolor\":\"white\",\"startlinecolor\":\"#2a3f5f\"},\"baxis\":{\"endlinecolor\":\"#2a3f5f\",\"gridcolor\":\"white\",\"linecolor\":\"white\",\"minorgridcolor\":\"white\",\"startlinecolor\":\"#2a3f5f\"},\"type\":\"carpet\"}],\"choropleth\":[{\"colorbar\":{\"outlinewidth\":0,\"ticks\":\"\"},\"type\":\"choropleth\"}],\"contour\":[{\"colorbar\":{\"outlinewidth\":0,\"ticks\":\"\"},\"colorscale\":[[0.0,\"#0d0887\"],[0.1111111111111111,\"#46039f\"],[0.2222222222222222,\"#7201a8\"],[0.3333333333333333,\"#9c179e\"],[0.4444444444444444,\"#bd3786\"],[0.5555555555555556,\"#d8576b\"],[0.6666666666666666,\"#ed7953\"],[0.7777777777777778,\"#fb9f3a\"],[0.8888888888888888,\"#fdca26\"],[1.0,\"#f0f921\"]],\"type\":\"contour\"}],\"contourcarpet\":[{\"colorbar\":{\"outlinewidth\":0,\"ticks\":\"\"},\"type\":\"contourcarpet\"}],\"heatmap\":[{\"colorbar\":{\"outlinewidth\":0,\"ticks\":\"\"},\"colorscale\":[[0.0,\"#0d0887\"],[0.1111111111111111,\"#46039f\"],[0.2222222222222222,\"#7201a8\"],[0.3333333333333333,\"#9c179e\"],[0.4444444444444444,\"#bd3786\"],[0.5555555555555556,\"#d8576b\"],[0.6666666666666666,\"#ed7953\"],[0.7777777777777778,\"#fb9f3a\"],[0.8888888888888888,\"#fdca26\"],[1.0,\"#f0f921\"]],\"type\":\"heatmap\"}],\"heatmapgl\":[{\"colorbar\":{\"outlinewidth\":0,\"ticks\":\"\"},\"colorscale\":[[0.0,\"#0d0887\"],[0.1111111111111111,\"#46039f\"],[0.2222222222222222,\"#7201a8\"],[0.3333333333333333,\"#9c179e\"],[0.4444444444444444,\"#bd3786\"],[0.5555555555555556,\"#d8576b\"],[0.6666666666666666,\"#ed7953\"],[0.7777777777777778,\"#fb9f3a\"],[0.8888888888888888,\"#fdca26\"],[1.0,\"#f0f921\"]],\"type\":\"heatmapgl\"}],\"histogram\":[{\"marker\":{\"pattern\":{\"fillmode\":\"overlay\",\"size\":10,\"solidity\":0.2}},\"type\":\"histogram\"}],\"histogram2d\":[{\"colorbar\":{\"outlinewidth\":0,\"ticks\":\"\"},\"colorscale\":[[0.0,\"#0d0887\"],[0.1111111111111111,\"#46039f\"],[0.2222222222222222,\"#7201a8\"],[0.3333333333333333,\"#9c179e\"],[0.4444444444444444,\"#bd3786\"],[0.5555555555555556,\"#d8576b\"],[0.6666666666666666,\"#ed7953\"],[0.7777777777777778,\"#fb9f3a\"],[0.8888888888888888,\"#fdca26\"],[1.0,\"#f0f921\"]],\"type\":\"histogram2d\"}],\"histogram2dcontour\":[{\"colorbar\":{\"outlinewidth\":0,\"ticks\":\"\"},\"colorscale\":[[0.0,\"#0d0887\"],[0.1111111111111111,\"#46039f\"],[0.2222222222222222,\"#7201a8\"],[0.3333333333333333,\"#9c179e\"],[0.4444444444444444,\"#bd3786\"],[0.5555555555555556,\"#d8576b\"],[0.6666666666666666,\"#ed7953\"],[0.7777777777777778,\"#fb9f3a\"],[0.8888888888888888,\"#fdca26\"],[1.0,\"#f0f921\"]],\"type\":\"histogram2dcontour\"}],\"mesh3d\":[{\"colorbar\":{\"outlinewidth\":0,\"ticks\":\"\"},\"type\":\"mesh3d\"}],\"parcoords\":[{\"line\":{\"colorbar\":{\"outlinewidth\":0,\"ticks\":\"\"}},\"type\":\"parcoords\"}],\"pie\":[{\"automargin\":true,\"type\":\"pie\"}],\"scatter\":[{\"marker\":{\"colorbar\":{\"outlinewidth\":0,\"ticks\":\"\"}},\"type\":\"scatter\"}],\"scatter3d\":[{\"line\":{\"colorbar\":{\"outlinewidth\":0,\"ticks\":\"\"}},\"marker\":{\"colorbar\":{\"outlinewidth\":0,\"ticks\":\"\"}},\"type\":\"scatter3d\"}],\"scattercarpet\":[{\"marker\":{\"colorbar\":{\"outlinewidth\":0,\"ticks\":\"\"}},\"type\":\"scattercarpet\"}],\"scattergeo\":[{\"marker\":{\"colorbar\":{\"outlinewidth\":0,\"ticks\":\"\"}},\"type\":\"scattergeo\"}],\"scattergl\":[{\"marker\":{\"colorbar\":{\"outlinewidth\":0,\"ticks\":\"\"}},\"type\":\"scattergl\"}],\"scattermapbox\":[{\"marker\":{\"colorbar\":{\"outlinewidth\":0,\"ticks\":\"\"}},\"type\":\"scattermapbox\"}],\"scatterpolar\":[{\"marker\":{\"colorbar\":{\"outlinewidth\":0,\"ticks\":\"\"}},\"type\":\"scatterpolar\"}],\"scatterpolargl\":[{\"marker\":{\"colorbar\":{\"outlinewidth\":0,\"ticks\":\"\"}},\"type\":\"scatterpolargl\"}],\"scatterternary\":[{\"marker\":{\"colorbar\":{\"outlinewidth\":0,\"ticks\":\"\"}},\"type\":\"scatterternary\"}],\"surface\":[{\"colorbar\":{\"outlinewidth\":0,\"ticks\":\"\"},\"colorscale\":[[0.0,\"#0d0887\"],[0.1111111111111111,\"#46039f\"],[0.2222222222222222,\"#7201a8\"],[0.3333333333333333,\"#9c179e\"],[0.4444444444444444,\"#bd3786\"],[0.5555555555555556,\"#d8576b\"],[0.6666666666666666,\"#ed7953\"],[0.7777777777777778,\"#fb9f3a\"],[0.8888888888888888,\"#fdca26\"],[1.0,\"#f0f921\"]],\"type\":\"surface\"}],\"table\":[{\"cells\":{\"fill\":{\"color\":\"#EBF0F8\"},\"line\":{\"color\":\"white\"}},\"header\":{\"fill\":{\"color\":\"#C8D4E3\"},\"line\":{\"color\":\"white\"}},\"type\":\"table\"}]},\"layout\":{\"annotationdefaults\":{\"arrowcolor\":\"#2a3f5f\",\"arrowhead\":0,\"arrowwidth\":1},\"autotypenumbers\":\"strict\",\"coloraxis\":{\"colorbar\":{\"outlinewidth\":0,\"ticks\":\"\"}},\"colorscale\":{\"diverging\":[[0,\"#8e0152\"],[0.1,\"#c51b7d\"],[0.2,\"#de77ae\"],[0.3,\"#f1b6da\"],[0.4,\"#fde0ef\"],[0.5,\"#f7f7f7\"],[0.6,\"#e6f5d0\"],[0.7,\"#b8e186\"],[0.8,\"#7fbc41\"],[0.9,\"#4d9221\"],[1,\"#276419\"]],\"sequential\":[[0.0,\"#0d0887\"],[0.1111111111111111,\"#46039f\"],[0.2222222222222222,\"#7201a8\"],[0.3333333333333333,\"#9c179e\"],[0.4444444444444444,\"#bd3786\"],[0.5555555555555556,\"#d8576b\"],[0.6666666666666666,\"#ed7953\"],[0.7777777777777778,\"#fb9f3a\"],[0.8888888888888888,\"#fdca26\"],[1.0,\"#f0f921\"]],\"sequentialminus\":[[0.0,\"#0d0887\"],[0.1111111111111111,\"#46039f\"],[0.2222222222222222,\"#7201a8\"],[0.3333333333333333,\"#9c179e\"],[0.4444444444444444,\"#bd3786\"],[0.5555555555555556,\"#d8576b\"],[0.6666666666666666,\"#ed7953\"],[0.7777777777777778,\"#fb9f3a\"],[0.8888888888888888,\"#fdca26\"],[1.0,\"#f0f921\"]]},\"colorway\":[\"#636efa\",\"#EF553B\",\"#00cc96\",\"#ab63fa\",\"#FFA15A\",\"#19d3f3\",\"#FF6692\",\"#B6E880\",\"#FF97FF\",\"#FECB52\"],\"font\":{\"color\":\"#2a3f5f\"},\"geo\":{\"bgcolor\":\"white\",\"lakecolor\":\"white\",\"landcolor\":\"#E5ECF6\",\"showlakes\":true,\"showland\":true,\"subunitcolor\":\"white\"},\"hoverlabel\":{\"align\":\"left\"},\"hovermode\":\"closest\",\"mapbox\":{\"style\":\"light\"},\"paper_bgcolor\":\"white\",\"plot_bgcolor\":\"#E5ECF6\",\"polar\":{\"angularaxis\":{\"gridcolor\":\"white\",\"linecolor\":\"white\",\"ticks\":\"\"},\"bgcolor\":\"#E5ECF6\",\"radialaxis\":{\"gridcolor\":\"white\",\"linecolor\":\"white\",\"ticks\":\"\"}},\"scene\":{\"xaxis\":{\"backgroundcolor\":\"#E5ECF6\",\"gridcolor\":\"white\",\"gridwidth\":2,\"linecolor\":\"white\",\"showbackground\":true,\"ticks\":\"\",\"zerolinecolor\":\"white\"},\"yaxis\":{\"backgroundcolor\":\"#E5ECF6\",\"gridcolor\":\"white\",\"gridwidth\":2,\"linecolor\":\"white\",\"showbackground\":true,\"ticks\":\"\",\"zerolinecolor\":\"white\"},\"zaxis\":{\"backgroundcolor\":\"#E5ECF6\",\"gridcolor\":\"white\",\"gridwidth\":2,\"linecolor\":\"white\",\"showbackground\":true,\"ticks\":\"\",\"zerolinecolor\":\"white\"}},\"shapedefaults\":{\"line\":{\"color\":\"#2a3f5f\"}},\"ternary\":{\"aaxis\":{\"gridcolor\":\"white\",\"linecolor\":\"white\",\"ticks\":\"\"},\"baxis\":{\"gridcolor\":\"white\",\"linecolor\":\"white\",\"ticks\":\"\"},\"bgcolor\":\"#E5ECF6\",\"caxis\":{\"gridcolor\":\"white\",\"linecolor\":\"white\",\"ticks\":\"\"}},\"title\":{\"x\":0.05},\"xaxis\":{\"automargin\":true,\"gridcolor\":\"white\",\"linecolor\":\"white\",\"ticks\":\"\",\"title\":{\"standoff\":15},\"zerolinecolor\":\"white\",\"zerolinewidth\":2},\"yaxis\":{\"automargin\":true,\"gridcolor\":\"white\",\"linecolor\":\"white\",\"ticks\":\"\",\"title\":{\"standoff\":15},\"zerolinecolor\":\"white\",\"zerolinewidth\":2}}},\"xaxis\":{\"anchor\":\"y\",\"domain\":[0.0,1.0],\"title\":{\"text\":\"Age\"}},\"yaxis\":{\"anchor\":\"x\",\"domain\":[0.0,1.0],\"title\":{\"text\":\"count\"}},\"legend\":{\"tracegroupgap\":0},\"title\":{\"text\":\"Distribui\\u00e7\\u00e3o de Idades - Alunos\"},\"barmode\":\"relative\"},                        {\"responsive\": true}                    )                };                            </script>        </div>\n",
       "</body>\n",
       "</html>"
      ]
     },
     "metadata": {
      "application/vnd.databricks.v1+output": {
       "addedWidgets": {},
       "arguments": {},
       "data": "<html>\n<head><meta charset=\"utf-8\" /></head>\n<body>\n    <div>            <script src=\"https://cdnjs.cloudflare.com/ajax/libs/mathjax/2.7.5/MathJax.js?config=TeX-AMS-MML_SVG\"></script><script type=\"text/javascript\">if (window.MathJax) {MathJax.Hub.Config({SVG: {font: \"STIX-Web\"}});}</script>                <script type=\"text/javascript\">window.PlotlyConfig = {MathJaxConfig: 'local'};</script>\n        <script src=\"https://cdn.plot.ly/plotly-2.9.0.min.js\"></script>                <div id=\"e3f8c857-04d9-46ca-9e57-127e1816d236\" class=\"plotly-graph-div\" style=\"height:100%; width:100%;\"></div>            <script type=\"text/javascript\">                                    window.PLOTLYENV=window.PLOTLYENV || {};                                    if (document.getElementById(\"e3f8c857-04d9-46ca-9e57-127e1816d236\")) {                    Plotly.newPlot(                        \"e3f8c857-04d9-46ca-9e57-127e1816d236\",                        [{\"alignmentgroup\":\"True\",\"bingroup\":\"x\",\"hovertemplate\":\"Age=%{x}<br>count=%{y}<extra></extra>\",\"legendgroup\":\"\",\"marker\":{\"color\":\"#636efa\",\"pattern\":{\"shape\":\"\"}},\"name\":\"\",\"nbinsx\":20,\"offsetgroup\":\"\",\"orientation\":\"v\",\"showlegend\":false,\"x\":[22,18,24,24,23,21,24,19,21,22,23,20,21,18,19,18,21,23,20,20,18,22,22,23,20,18,18,18,21,23,22,22,21,19,21,23,18,21,18,23,24,23,20,18,22,21,24,23,18,24,19,20,19,23,19,19,20,20,20,24,20,19,22,22,20,24,21,18,23,24,21,23,21,21,22,18,21,20,23,24,22,23,20,20,21,20,18,20,21,23,20,22,24,22,22,23,19,24,22,22,19,23,24,22,21,23,24,22,22,19,24,21,23,20,18,21,20,21,24,20,24,20,21,19,21,24,21,20,18,20,22,21,23,21,19,24,23,20,19,21,20,20,22,22,18,22,24,23,20,22,18,21,23,22,20,21,24,20,21,24,24,23,20,22,22,18,21,18,19,22,21,23,18,23,23,23,18,19,24,24,18,24,20,24,22,18,24,18,19,20,18,22,24,22,24,18,23,24,23,20,22,23,22,24,24,20,24,20,23,24,18,21,19,21,21,22,20,22,23,19,23,18,19,22,24,24,22,23,22,22,21,18,24,21,22,20,21,22,24,22,18,23,19,21,21,21,22,18,22,22,23,20,18,21,19,21,22,18,24,18,18,20,21,20,24,24,23,19,23,22,20,20,23,22,18,22,21,23,22,18,22,20,19,20,24,19,24,22,21,22,18,22,19,20,21,24,22,22,20,21,23,24,22,22,23,24,19,19,18,20,21,22,24,22,18,24,24,22,20,18,20,18,22,18,19,24,21,22,23,21,22,21,19,21,18,21,22,23,23,20,24,21,23,21,24,23,24,21,22,21,24,22,22,20,23,18,22,24,23,19,21,24,19,24,21,20,24,22,18,22,21,24,18,22,18,21,20,20,24,22,19,21,22,22,20,24,18,21,18,23,23,21,24,19,23,20,19,22,23,20,22,19,21,22,18,21,21,19,19,20,20,18,21,24,18,18,24,24,24,19,18,18,22,24,24,20,20,21,20,23,21,24,22,20,22,20,20,22,18,18,18,23,18,20,24,19,22,24,19,24,23,19,21,18,23,24,20,18,18,19,21,18,24,24,22,22,18,19,19,20,23,23,23,21,19,20,22,24,23,22,22,18,21,20,21,18,20,20,19,21,21,19,22,18,21,19,24,20,23,24,19,23,22,18,23,22,23,20,20,20,20,19,20,24,20,24,19,20,22,22,21,22,18,18,18,19,22,24,18,21,19,21,22,20,21,20,19,21,21,23,19,19,18,22,21,21,24,19,19,22,19,20,20,23,20,20,22,21,20,23,19,20,23,22,24,24,24,19,23,20,21,19,19,24,21,24,19,20,24,24,24,19,20,21,18,21,20,22,24,21,22,22,20,20,24,18,23,19,21,20,21,23,23,24,22,24,19,18,21,19,18,21,19,20,21,19,23,18,19,20,24,21,21,21,20,18,21,18,19,23,23,18,18,23,21,22,22,20,24,23,23,20,22,19,21,21,19,19,22,20,19,20,24,18,21,22,21,22,18,21,18,22,19,24,21,18,23,21,21,21,20,18,18,21,19,21,20,22,20,19,21,18,24,23,21,19,18,20,22,22,24,21,20,24,23,23,24,19,22,20,21,18,21,21,20,22,20,18,24,20,19,21,22,23,18,23,21,20,23,19,20,21,23,24,18,23,24,24,23,22,23,21,24,18,21,19,20,23,22,18,22,22,22,23,18,18,24,22,24,24,20,23,23,21,24,23,22,19,22,18,23,23,21,24,19,23,21,21,19,22,22,22,20,24,24,22,19,20,24,22,20,19,22,18,23,19,21,21,19,21,24,19,18,19,22,22,20,21,23,21,24,19,23,23,21,23,23,22,18,19,21,22,24,24,20,23,23,21,18,18,21,21,22,24,21,24,20,24,22,23,23,24,23,23,19,20,22,22,23,18,22,20,21,20,23,23,19,24,22,24,24,22,22,23,22,18,18,21,22,19,21,23,22,18,19,21,19,22,20,19,19,23,18,22,19,22,18,23,22,24,18,18,21,23,23,24,22,20,24,21,23,18,23,24,20,19,19,23,23,21,23,20,23,22,24,20,21,22,22,24,19,20,24,22,21,24,19,22,24,20,19,20,20,20,24,19,24,24,24,22,23,18,22,19,18,18,18,23,24,21,19,23,23,21,18,24,21,21,23,19,20,24,21,24,21,18,24,18,23,18,24,22,24,21,18,19,22,23,20,21,21,19,20,20,23,23,22,21,18,23,19,19,19,24,23,23,19,23,24,18,18,22,21,18,22,20,21,18,24,20,22,18,18,23,20,18,19,24,23,23,18,24,23,21,20,21,22,21,24,19,23,24,23,19,23,21,22,18,19,21,24,21,21,18,20,23,23,24,22,24,20,23,22,24,22,21,19,21,18,23,22,24,19,24,23,22,22,21,19,19,23,22,19,19,24,23,21,24,24,20,18,20,19,22,18,18,22,18,22,18,24,23,23,20,24,18,21,22,24,18,23,23,22,21,18,18,21,21,21,23,22,24,21,22,20,18,18,19,20,24,21,21,24,23,20,21,19,22,18,20,18,22,20,22,21,24,21,24,21,22,22,22,18,22,21,19,22,19,24,21,22,18,18,24,19,23,18,18,18,21,18,20,22,24,18,23,23,18,18,20,18,18,22,23,20,23,20,23,18,23,23,20,24,19,20,20,20,21,24,21,21,20,19,20,18,19,21,23,23,24,22,24,19,21,19,19,23,20,18,22,21,19,22,19,23,18,23,22,21,19,18,23,22,23,19,19,21,18,20,23,19,22,23,21,21,19,19,19,24,20,19,23,23,24,24,18,22,19,23,24,23,23,24,20,24,24,22,24,21,24,23,19,23,22,21,24,20,18,24,19,18,20,22,22,20,23,20,24,19,21,24,24,24,18,18,22,24,23,22,19,20,18,24,19,22,22,18,22,23,22,21,20,22,21,19,22,23,19,24,22,18,21,21,18,20,24,23,21,19,23,21,24,20,24,19,24,23,19,18,22,18,23,22,18,22,21,24,19,22,21,24,24,20,18,20,23,21,20,20,24,21,24,19,22,23,23,18,24,22,18,23,22,20,19,20,19,24,21,18,18,21,22,21,24,23,21,19,23,21,18,20,19,24,19,22,20,19,21,19,19,19,22,19,19,22,23,20,24,23,18,22,22,19,19,24,18,19,21,19,19,21,18,21,22,21,20,22,19,24,22,18,18,21,22,19,18,23,19,23,20,23,18,21,20,22,19,18,20,20,18,22,22,21,24,23,22,21,23,20,18,22,21,20,22,19,24,20,22,20,18,18,24,18,23,19,18,19,18,23,20,22,22,18,22,18,18,24,21,21,24,21,19,21,18,23,23,20,21,23,21,20,23,18,19,24,24,24,21,23,23,20,18,22,23,19,20,23,23,20,20,21,23,22,19,18,18,22,20,20,20,23,20,20,23,23,22,21,23,19,20,21,18,22,21,23,20,20,20,21,20,23,21,20,18,18,19,20,20,21,21,24,20,19,20,23,21,20,21,20,22,21,19,22,23,20,24,23,21,22,23,19,24,21,22,23,22,22,23,18,20,21,21,24,24,24,21,22,24,23,20,19,21,23,20,20,18,23,21,24,22,24,20,20,19,24,18,20,20,22,22,19,23,19,19,22,24,24,24,23,22,18,21,21,18,24,21,23,22,21,23,22,23,18,19,18,21,22,23,21,21,19,24,21,19,22,22,23,24,19,18,22,24,23,18,22,22,23,23,20,21,21,18,21,18,24,22,20,20,22,23,19,19,21,23,18,24,20,21,22,23,20,18,18,19,21,22,20,24,18,20,22,20,21,19,20,23,19,22,19,20,20,23,18,23,20,24,19,23,23,24,24,24,18,20,20,22,18,22,22,22,21,22,23,19,23,23,20,21,22,20,18,18,20,19,20,20,21,18,18,22,23,20,20,19,24,24,18,19,21,22,19,18,21,20,21,23,19,18,19,20,24,20,18,23,22,21,21,20,19,24,19,23,22,19,21,24,19,24,22,21,24,19,21,20,20,23,20,19,22,21,24,18,20,20,18,24,24,18,24,19,24,21,24,20,22,19,19,24,22,22,23,22,24,24,18,20,23,24,18,23,20,23,18,21,24,20,19,20,20,20,21,24,18,24,19,18,23,23,23,18,22,21,22,24,23,21,18,23,18,21,18,18,19,24,22,22,22,20,19,23,23,23,22,24,22,24,19,24,18,22,23,18,22,21,20,22,21,19,21,19,22,19,21,24,20,18,18,20,23,18,22,23,22,21,21,23,23,23,23,19,24,23,24,23,21,22,24,21,18,19,19,22,23,21,18,21,23,23,20,21,22,21,19,18,24,22,20,18,18,24,19,19,19,22,21,18,21,21,19,21,18,18,23,20,22,21,22,22,22,24,23,22,23,18,24,21,23,20,22,24,20,18,18,19,22,19,24,20,21,19,18,22,20,23,24,24,18,23,24,21,22,21,24,21,24,22,22,23,21,20,23,22,18,24,23,19,20,24,23,22,22,20,19,23,23,21,18,22,23,23,24,24,23,19,18,23,20,22,21,24,20,22,24,19,24,18,18,22,20,21,19,22,19,18,23,23,21,19,22,21,24,24,20,23,22,19,21,22,21,21,21,19,22,18,18,19,24,19,23,21,22,22,20,20,18,20,20,18,23,24,18,24,20,22,20,21,24,24,21,21,23,19,21,24,22,24,24,23,19,19,21,20,24,18,20,20,19,19,23,23,19,22,22,18,19,21,23,19,22,19,22,19,24,21,18,24,21,22,23,23,20,21,19,18,19,19,21,18,20,24,19,18,20,24,19,18,24,21,23,23,19,19,24,18,23,19,20,19,23,22,23,20,18,20,22,22,19,19,23,21,20,23,21,23,22,19,19,23,19,18,23,22,24,23,23,19,22,23,19,20,22,21,18,21,24,22,23,19,24,22,18,22,24,19,21,20,21,19,24,19,18,22,22,21,24,20,20,18,19,18,22,23,23,23,19,18,24,21,22,23,24,20,18,22,22,20,20,20,23,23,18,20,21,22,20,22,19,24,19,20,22,24,19,20,22,20,23,22,19,20,19,20,18,19,19,21,24,23,19,22,24,20,18,22,24,22,22,22,24,18,21,23,19,24,22,19,24,19,22,21,24,19,20,19,23,22,18,19,21,20,20,18,23,18,23,19,22,21,20,18,21,23,22,20,20,23,22,20,22,20,19,23,22,21,19,24,21,23,20,24,21,19,24,24,22,18,21,18,23,21,21,22,20,19,19,19,23,24,20,18,19,18,20,23,20,22,24,19,23,22,19,20,20,21,21,20,20,18,24,18,24,22,21,21,20,20,22,23,23,23,21,18,23,19,22,23,19,23,18,18,23,19,22,19,22,23,22,20,21,24,21,18,20,21,23,22,22,19,19,22,23,22,19,21,18,19,23,21,21,21,20,20,24,21,23,22,23,20,19,24,20,22,18,24,20,23,24,23,21,21,21,24,18,22,24,19,23,23,24,24,22,18,24,21,22,19,21,19,20,19,21,20,21,23,21,20,19,23,18,18,18,18,22,18,20,24,18,21,24,18,24,19,20,20,24,23,22,21,24,20,19,18,20,19,18,22,20,20,24,24,19,23,24,21,22,21,20,21,18,22,21,18,19,21,22,18,21,19,21,18,21,22,20,18,18,18,18,21,22,19,22,18,23,21,23,21,18,21,18,22,24,20,21,18,23,18,23,21,19,23,18,21,18,19,20,24,24,19,22,21,19,20,18,21,23,19,20,19,22,24,24,21,18,20,19,21,19,21,24,22,19,22,23,23,24,20,22,21,20,19,19,21,18,18,19,24,24,21,18,22,19,23,22,21,23,22,18,24,18,23,20,24,19,23,21,19,22,24,21,21,18,22,18,18,24,20,18,19,21,24,18,23,19,22,21,24,23,24,24,23,22,23,19,24,22,24,23,22,22,18,18,18,23,21,19,23,24,18,22,23,22,24,22,22,20,21,19,19,18,20,23,23,19,21,22,24,18,21,19,20,18,19,23,18,19,23,24,23,22,20,22,19,24,21,24,24,24,22,21,23,19,20,21,19,21,22,19,22,18,19,21,18,22,22,21,18,24,23,20,21,22,19,18,23,20,19,18,23,21,23,21,24,18,23,20,23,18,19,19,23,23,21,18,21,20,24,19,22,22,18,18,22,18,19,20,20,21,19,24,18,18,24,21,21,18,18,24,19,24,21,24,24,24,19,23,18,22,24,22,23,18,21,22,21,22,21,24,22,21,23,19,21,19,19,18,24,23,19,20,24,19,21,19,21,21,20,19,19,22,24,22,18,21,20,22,19,18,20,23,19,19,23,21,21,22,22,19,24,19,22,23,22,19,20,19,20,20,19,24,24,18,22,24,21,19,20,19,22,23,24,24,24,20,21,21,24,21,23,24,18,20,23,20,24,23,24,23,24,18,20,23,18,19,24,22,23,21,18,18,23,18,19,18,22,22,24,24,21,19,22,23,20,20,20,24,23,18,23,18,20,21,21,18,20,23,21,18,23,20,19,20,24,20,23,23,22,22,23,23,19,19,20,24,21,24,19,20,24,18,22,24,21,20,24,23,18,22,18,20,19,22,18,19,21,20,20,22,18,21,23,22,23,22,18,21,18,20,23,19,24,20,20,23,22,20,24,21,20,21,18,22,21,20,22,24,22,21,21,19,19,22,23,23,19,20,18,22,18,19,21,24,22,19,20,24,22,22,23,21,22,21,19,20,24,24,20,22,22,19,23,23,23,21,23,20,24,24,21,19,20,24,20,24,18,19,19,18,21,24,24,24,23,23,23,23,23,18,19,21,20,23,18,24,21,21,21,18,20,23,21,18,24,19,24,18,18,18,21,18,19,21,24,19,22,24,18,23,23,21,23,24,21,24,18,20,20,19,18,23,18,22,20,23,24,24,20,18,23,19,24,18,19,23,20,22,21,20,19,18,24,23,20,24,24,22,23,19,23,23,18,21,24,19,18,24,21,18,21,21,21,18,23,21,23,24,24,19,22,23,24,22,21,22,22,21,23,21,19,20,18,21,21,22,19,24,24,22,23,21,21,22,21,23,20,18,18,18,20,21,22,24,19,21,20,23,20,24,18,21,24,18,19,23,18,19,20,18,18,22,23,23,24,20,22,24,19,24,19,20,23,19,20,24,19,21,18,24,23,24,21,20,20,24,21,24,18,18,22,19,22,18,21,19,21,22,20,21,22,22,22,20,20,24,20,19,20,20,20,21,20,19,22,21,18,20,24,24,22,22,21,24,18,23,24,24,19,23,22,23,24,22,23,22,22,21,18,22,19,24,24,19,20,22,22,22,23,22,22,19,18,18,20,19,22,18,21,21,21,22,22,20,24,20,20,23,21,22,21,20,22,19,18,18,20,24,21,19,22,24,21,20,21,20,23,18,24,18,21,19,22,20,22,18,19,19,22,18,22,21,19,19,21,18,19,24,23,23,23,20,24,20,18,21,22,24,18,22,18,20,23,21,20,21,24,22,18,19,19,21,23,23,21,20,19,20,22,19,22,18,20,21,19,20,21,18,19,22,18,23,21,19,19,24,24,18,19,21,18,22,18,18,22,23,24,21,23,23,23,24,20,24,23,20,22,24,21,23,19,22,20,24,21,18,21,21,23,23,24,24,20,24,20,23,23,19,19,22,23,18,19,20,21,24,24,22,19,21,21,19,18,18,22,18,22,20,19,21,22,24,18,24,22,23,22,18,23,23,18,23,19,21,24,19,19,18,18,24,21,22,19,23,21,19,22,23,19,20,24,21,24,18,19,23,23,21,21,24,23,23,23,19,23,18,23,18,19,21,18,19,23,19,23,24,19,21,18,24,21,20,23,18,21,18,20,22,23,23,19,23,23,21,24,23,23,20,24,20,18,18,23,23,19,18,21,23,21,23,21,22,21,24,18,23,18,24,24,21,20,20,24,20,23,19,22,21,19,20,21,19,18,20,19,23,18,20,22,24,20,23,22,22,22,21,21,24,22,24,18,22,19,22,21,21,19,19,20,18,18,18,23,21,18,20,20,18,19,20,24,19,24,21,23,20,19,24,18,24,24,21,22,22,18,21,21,21,21,22,19,21,19,24,24,21,20,23,20,24,23,20,21,19,23,22,18,23,23,22,21,20,20,24,19,21,22,21,21,20,22,18,23,20,22,19,23,23,20,24,19,20,21,24,22,19,23,20,23,19,23,20,24,20,18,23,18,24,18,23,19,21,24,20,22,24,18,19,23,19,19,23,22,23,22,23,18,22,18,24,22,22,23,22,18,24,23,20,24,24,18,24,20,19,23,19,23,24,23,18,20,23,20,23,20,19,18,23,21,20,20,21,18,20,18,20,24,22,24,20,22,23,18,20,19,19,21,19,22,19,19,19,20,21,18,21,22,20,23,20,24,19,19,22,23,24,20,23,18,21,20,23,18,18,24,24,21,18,22,18,23,24,22,24,24,24,18,19,18,24,22,18,24,24,18,18,22,18,21,23,21,22,19,21,24,23,20,23,21,20,22,23,19,20,20,23,21,20,22,23,22,23,22,21,23,24,19,21,22,23,21,22,18,18,20,19,18,24,22,21,23,21,20,21,18,21,18,18,19,20,24,24,22,24,18,23,20,22,24,24,23,21,20,23,24,20,20,24,21,21,24,20,23,19,18,21,24,19,21,20,24,19,24,23,23,22,18,18,21,18,24,24,22,23,19,19,23,20,23,19,21,22,23,20,21,23,21,23,21,24,18,21,24,18,19,18,21,22,22,19,21,18,22,23,20,21,24,24,23,23,21,20,22,20,19,18,18,23,22,20,23,21,23,21,21,19,19,21,22,19,19,18,23,18,22,19,24,19,20,22,24,23,23,24,23,24,22,24,24,20,20,18,22,22,20,21,21,18,21,21,21,19,18,20,21,23,24,19,21,24,24,19,18,23,23,23,21,19,23,24,24,22,22,19,21,21,18,18,23,20,24,18,21,24,20,18,19,22,18,18,19,21,23,19,23,18,21,20,18,19,20,22,20,19,24,20,19,24,18,24,21,22,24,21,21,21,24,19,19,22,19,23,19,19,19,18,22,23,19,22,20,18,24,19,23,18,23,24,24,18,20,22,18,21,24,20,24,21,20,24,21,21,24,24,23,18,18,20,22,24,23,18,18,23,19,23,18,22,19,21,23,21,19,19,19,20,23,24,22,22,21,21,24,21,23,18,21,19,21,19,20,18,18,24,23,23,22,20,24,23,19,20,18,19,24,24,20,18,23,19,19,18,19,23,23,23,18,21,21,24,24,19,23,19,18,19,22,21,19,19,20,19,22,21,20,18,24,18,21,24,18,22,19,21,24,20,19,18,18,20,22,20,21,20,18,22,22,23,20,21,18,19,22,20,23,21,21,24,18,22,18,23,19,19,19,21,22,18,18,23,19,22,22,23,20,22,22,18,23,22,22,18,22,18,20,21,24,18,18,22,18,23,19,19,20,18,23,22,22,24,21,20,23,23,24,24,22,21,22,21,19,23,24,19,22,20,18,20,20,18,23,19,19,23,18,21,20,22,19,23,22,24,18,22,22,20,18,22,19,18,19,23,23,24,21,23,22,18,23,19,22,23,20,19,24,24,24,19,24,21,20,21,23,20,19,21,22,20,19,18,20,20,23,22,23,24,20,20,24,22,22,21,19,19,21,19,20,21,21,19,18,19,23,18,21,18,20,22,18,23,22,20,23,24,22,24,20,22,22,19,23,23,18,24,24,23,23,22,24,21,19,18,19,18,20,22,23,23,21,24,24,19,19,19,24,23,24,19,22,18,23,22,20,22,22,20,22,18,23,21,24,20,23,19,18,21,18,18,19,21,24,18,19,20,19,22,23,19,19,19,24,18,24,21,19,19,22,22,20,20,22,21,20,23,23,21,22,20,19,22,20,21,23,21,20,21,20,20,21,18,19,22,23,19,22,22,23,19,23,20,23,21,18,18,18,19,19,20,24,18,20,24,18,19,24,21,21,21,23,21,22,18,21,24,22,22,22,20,24,20,22,23,21,18,24,23,19,20,21,21,19,19,24,21,19,21,23,24,19,23,23,19,24,21,22,21,18,19,20,24,19,18,23,20,20,21,22,21,24,20,20,22,24,19,22,23,21,19,21,22,19,22,23,18,20,24,19,20,18,19,20,20,19,20,20,19,24,20,20,24,21,23,21,18,21,21,18,20,20,21,18,20,22,19,19,23,19,21,19,19,22,20,22,21,19,24,20,23,23,19,19,23,23,24,21,19,23,24,18,23,20,20,18,21,19,19,23,20,21,21,21,23,19,21,23,23,18,22,21,22,19,23,24,21,24,20,19,18,18,22,23,22,20,20,18,24,21,18,18,24,24,20,24,22,20,24,23,20,20,18,21,18,19,20,24,24,24,20,24,19,20,24,20,23,20,19,18,20,21,19,22,23,19,18,24,24,19,22,24,23,21,22,19,22,24,24,19,24,24,21,21,18,21,20,22,22,19,21,18,24,18,18,23,24,20,21,24,18,24,20,22,19,21,21,23,22,21,23,23,23,21,21,21,20,23,20,19,21,24,22,18,19,24,18,18,21,22,18,23,24,18,19,22,22,18,22,19,24,19,19,23,21,18,24,22,19,18,24,24,18,21,23,22,23,24,22,24,19,19,18,22,22,24,23,19,20,18,22,21,21,20,19,19,19,23,24,21,19,21,20,18,24,23,22,20,24,21,20,22,24,23,18,22,24,23,21,22,20,19,20,21,24,18,22,24,18,21,22,23,23,24,20,24,20,21,23,22,23,20,24,21,23,21,23,24,18,24,23,20,24,22,20,20,20,21,19,19,18,20,19,18,21,20,22,21,18,21,22,21,18,22,22,21,22,24,21,20,22,21,20,22,20,23,22,23,18,18,21,19,23,23,18,23,19,20,20,19,23,23,23,24,21,22,19,19,24,19,19,24,19,23,24,21,18,23,23,22,24,18,19,18,21,20,23,24,24,18,22,21,20,21,24,19,20,24,22,20,24,22,19,22,21,18,21,24,24,23,21,20,19,23,23,23,24,18,22,20,24,19,24,18,24,24,21,19,23,19,19,21,22,24,20,23,22,18,24,23,20,24,18,21,22,24,23,19,20,24,23,19,23,24,18,19,19,23,21,24,21,22,18,21,23,24,21,22,20,22,19,24,19,21,21,22,22,23,18,23,19,23,22,24,23,20,18,22,24,21,23,22,21,21,19,19,24,22,24,22,20,18,18,22,19,23,24,20,18,22,19,19,19,24,23,21],\"xaxis\":\"x\",\"yaxis\":\"y\",\"type\":\"histogram\"}],                        {\"template\":{\"data\":{\"bar\":[{\"error_x\":{\"color\":\"#2a3f5f\"},\"error_y\":{\"color\":\"#2a3f5f\"},\"marker\":{\"line\":{\"color\":\"#E5ECF6\",\"width\":0.5},\"pattern\":{\"fillmode\":\"overlay\",\"size\":10,\"solidity\":0.2}},\"type\":\"bar\"}],\"barpolar\":[{\"marker\":{\"line\":{\"color\":\"#E5ECF6\",\"width\":0.5},\"pattern\":{\"fillmode\":\"overlay\",\"size\":10,\"solidity\":0.2}},\"type\":\"barpolar\"}],\"carpet\":[{\"aaxis\":{\"endlinecolor\":\"#2a3f5f\",\"gridcolor\":\"white\",\"linecolor\":\"white\",\"minorgridcolor\":\"white\",\"startlinecolor\":\"#2a3f5f\"},\"baxis\":{\"endlinecolor\":\"#2a3f5f\",\"gridcolor\":\"white\",\"linecolor\":\"white\",\"minorgridcolor\":\"white\",\"startlinecolor\":\"#2a3f5f\"},\"type\":\"carpet\"}],\"choropleth\":[{\"colorbar\":{\"outlinewidth\":0,\"ticks\":\"\"},\"type\":\"choropleth\"}],\"contour\":[{\"colorbar\":{\"outlinewidth\":0,\"ticks\":\"\"},\"colorscale\":[[0.0,\"#0d0887\"],[0.1111111111111111,\"#46039f\"],[0.2222222222222222,\"#7201a8\"],[0.3333333333333333,\"#9c179e\"],[0.4444444444444444,\"#bd3786\"],[0.5555555555555556,\"#d8576b\"],[0.6666666666666666,\"#ed7953\"],[0.7777777777777778,\"#fb9f3a\"],[0.8888888888888888,\"#fdca26\"],[1.0,\"#f0f921\"]],\"type\":\"contour\"}],\"contourcarpet\":[{\"colorbar\":{\"outlinewidth\":0,\"ticks\":\"\"},\"type\":\"contourcarpet\"}],\"heatmap\":[{\"colorbar\":{\"outlinewidth\":0,\"ticks\":\"\"},\"colorscale\":[[0.0,\"#0d0887\"],[0.1111111111111111,\"#46039f\"],[0.2222222222222222,\"#7201a8\"],[0.3333333333333333,\"#9c179e\"],[0.4444444444444444,\"#bd3786\"],[0.5555555555555556,\"#d8576b\"],[0.6666666666666666,\"#ed7953\"],[0.7777777777777778,\"#fb9f3a\"],[0.8888888888888888,\"#fdca26\"],[1.0,\"#f0f921\"]],\"type\":\"heatmap\"}],\"heatmapgl\":[{\"colorbar\":{\"outlinewidth\":0,\"ticks\":\"\"},\"colorscale\":[[0.0,\"#0d0887\"],[0.1111111111111111,\"#46039f\"],[0.2222222222222222,\"#7201a8\"],[0.3333333333333333,\"#9c179e\"],[0.4444444444444444,\"#bd3786\"],[0.5555555555555556,\"#d8576b\"],[0.6666666666666666,\"#ed7953\"],[0.7777777777777778,\"#fb9f3a\"],[0.8888888888888888,\"#fdca26\"],[1.0,\"#f0f921\"]],\"type\":\"heatmapgl\"}],\"histogram\":[{\"marker\":{\"pattern\":{\"fillmode\":\"overlay\",\"size\":10,\"solidity\":0.2}},\"type\":\"histogram\"}],\"histogram2d\":[{\"colorbar\":{\"outlinewidth\":0,\"ticks\":\"\"},\"colorscale\":[[0.0,\"#0d0887\"],[0.1111111111111111,\"#46039f\"],[0.2222222222222222,\"#7201a8\"],[0.3333333333333333,\"#9c179e\"],[0.4444444444444444,\"#bd3786\"],[0.5555555555555556,\"#d8576b\"],[0.6666666666666666,\"#ed7953\"],[0.7777777777777778,\"#fb9f3a\"],[0.8888888888888888,\"#fdca26\"],[1.0,\"#f0f921\"]],\"type\":\"histogram2d\"}],\"histogram2dcontour\":[{\"colorbar\":{\"outlinewidth\":0,\"ticks\":\"\"},\"colorscale\":[[0.0,\"#0d0887\"],[0.1111111111111111,\"#46039f\"],[0.2222222222222222,\"#7201a8\"],[0.3333333333333333,\"#9c179e\"],[0.4444444444444444,\"#bd3786\"],[0.5555555555555556,\"#d8576b\"],[0.6666666666666666,\"#ed7953\"],[0.7777777777777778,\"#fb9f3a\"],[0.8888888888888888,\"#fdca26\"],[1.0,\"#f0f921\"]],\"type\":\"histogram2dcontour\"}],\"mesh3d\":[{\"colorbar\":{\"outlinewidth\":0,\"ticks\":\"\"},\"type\":\"mesh3d\"}],\"parcoords\":[{\"line\":{\"colorbar\":{\"outlinewidth\":0,\"ticks\":\"\"}},\"type\":\"parcoords\"}],\"pie\":[{\"automargin\":true,\"type\":\"pie\"}],\"scatter\":[{\"marker\":{\"colorbar\":{\"outlinewidth\":0,\"ticks\":\"\"}},\"type\":\"scatter\"}],\"scatter3d\":[{\"line\":{\"colorbar\":{\"outlinewidth\":0,\"ticks\":\"\"}},\"marker\":{\"colorbar\":{\"outlinewidth\":0,\"ticks\":\"\"}},\"type\":\"scatter3d\"}],\"scattercarpet\":[{\"marker\":{\"colorbar\":{\"outlinewidth\":0,\"ticks\":\"\"}},\"type\":\"scattercarpet\"}],\"scattergeo\":[{\"marker\":{\"colorbar\":{\"outlinewidth\":0,\"ticks\":\"\"}},\"type\":\"scattergeo\"}],\"scattergl\":[{\"marker\":{\"colorbar\":{\"outlinewidth\":0,\"ticks\":\"\"}},\"type\":\"scattergl\"}],\"scattermapbox\":[{\"marker\":{\"colorbar\":{\"outlinewidth\":0,\"ticks\":\"\"}},\"type\":\"scattermapbox\"}],\"scatterpolar\":[{\"marker\":{\"colorbar\":{\"outlinewidth\":0,\"ticks\":\"\"}},\"type\":\"scatterpolar\"}],\"scatterpolargl\":[{\"marker\":{\"colorbar\":{\"outlinewidth\":0,\"ticks\":\"\"}},\"type\":\"scatterpolargl\"}],\"scatterternary\":[{\"marker\":{\"colorbar\":{\"outlinewidth\":0,\"ticks\":\"\"}},\"type\":\"scatterternary\"}],\"surface\":[{\"colorbar\":{\"outlinewidth\":0,\"ticks\":\"\"},\"colorscale\":[[0.0,\"#0d0887\"],[0.1111111111111111,\"#46039f\"],[0.2222222222222222,\"#7201a8\"],[0.3333333333333333,\"#9c179e\"],[0.4444444444444444,\"#bd3786\"],[0.5555555555555556,\"#d8576b\"],[0.6666666666666666,\"#ed7953\"],[0.7777777777777778,\"#fb9f3a\"],[0.8888888888888888,\"#fdca26\"],[1.0,\"#f0f921\"]],\"type\":\"surface\"}],\"table\":[{\"cells\":{\"fill\":{\"color\":\"#EBF0F8\"},\"line\":{\"color\":\"white\"}},\"header\":{\"fill\":{\"color\":\"#C8D4E3\"},\"line\":{\"color\":\"white\"}},\"type\":\"table\"}]},\"layout\":{\"annotationdefaults\":{\"arrowcolor\":\"#2a3f5f\",\"arrowhead\":0,\"arrowwidth\":1},\"autotypenumbers\":\"strict\",\"coloraxis\":{\"colorbar\":{\"outlinewidth\":0,\"ticks\":\"\"}},\"colorscale\":{\"diverging\":[[0,\"#8e0152\"],[0.1,\"#c51b7d\"],[0.2,\"#de77ae\"],[0.3,\"#f1b6da\"],[0.4,\"#fde0ef\"],[0.5,\"#f7f7f7\"],[0.6,\"#e6f5d0\"],[0.7,\"#b8e186\"],[0.8,\"#7fbc41\"],[0.9,\"#4d9221\"],[1,\"#276419\"]],\"sequential\":[[0.0,\"#0d0887\"],[0.1111111111111111,\"#46039f\"],[0.2222222222222222,\"#7201a8\"],[0.3333333333333333,\"#9c179e\"],[0.4444444444444444,\"#bd3786\"],[0.5555555555555556,\"#d8576b\"],[0.6666666666666666,\"#ed7953\"],[0.7777777777777778,\"#fb9f3a\"],[0.8888888888888888,\"#fdca26\"],[1.0,\"#f0f921\"]],\"sequentialminus\":[[0.0,\"#0d0887\"],[0.1111111111111111,\"#46039f\"],[0.2222222222222222,\"#7201a8\"],[0.3333333333333333,\"#9c179e\"],[0.4444444444444444,\"#bd3786\"],[0.5555555555555556,\"#d8576b\"],[0.6666666666666666,\"#ed7953\"],[0.7777777777777778,\"#fb9f3a\"],[0.8888888888888888,\"#fdca26\"],[1.0,\"#f0f921\"]]},\"colorway\":[\"#636efa\",\"#EF553B\",\"#00cc96\",\"#ab63fa\",\"#FFA15A\",\"#19d3f3\",\"#FF6692\",\"#B6E880\",\"#FF97FF\",\"#FECB52\"],\"font\":{\"color\":\"#2a3f5f\"},\"geo\":{\"bgcolor\":\"white\",\"lakecolor\":\"white\",\"landcolor\":\"#E5ECF6\",\"showlakes\":true,\"showland\":true,\"subunitcolor\":\"white\"},\"hoverlabel\":{\"align\":\"left\"},\"hovermode\":\"closest\",\"mapbox\":{\"style\":\"light\"},\"paper_bgcolor\":\"white\",\"plot_bgcolor\":\"#E5ECF6\",\"polar\":{\"angularaxis\":{\"gridcolor\":\"white\",\"linecolor\":\"white\",\"ticks\":\"\"},\"bgcolor\":\"#E5ECF6\",\"radialaxis\":{\"gridcolor\":\"white\",\"linecolor\":\"white\",\"ticks\":\"\"}},\"scene\":{\"xaxis\":{\"backgroundcolor\":\"#E5ECF6\",\"gridcolor\":\"white\",\"gridwidth\":2,\"linecolor\":\"white\",\"showbackground\":true,\"ticks\":\"\",\"zerolinecolor\":\"white\"},\"yaxis\":{\"backgroundcolor\":\"#E5ECF6\",\"gridcolor\":\"white\",\"gridwidth\":2,\"linecolor\":\"white\",\"showbackground\":true,\"ticks\":\"\",\"zerolinecolor\":\"white\"},\"zaxis\":{\"backgroundcolor\":\"#E5ECF6\",\"gridcolor\":\"white\",\"gridwidth\":2,\"linecolor\":\"white\",\"showbackground\":true,\"ticks\":\"\",\"zerolinecolor\":\"white\"}},\"shapedefaults\":{\"line\":{\"color\":\"#2a3f5f\"}},\"ternary\":{\"aaxis\":{\"gridcolor\":\"white\",\"linecolor\":\"white\",\"ticks\":\"\"},\"baxis\":{\"gridcolor\":\"white\",\"linecolor\":\"white\",\"ticks\":\"\"},\"bgcolor\":\"#E5ECF6\",\"caxis\":{\"gridcolor\":\"white\",\"linecolor\":\"white\",\"ticks\":\"\"}},\"title\":{\"x\":0.05},\"xaxis\":{\"automargin\":true,\"gridcolor\":\"white\",\"linecolor\":\"white\",\"ticks\":\"\",\"title\":{\"standoff\":15},\"zerolinecolor\":\"white\",\"zerolinewidth\":2},\"yaxis\":{\"automargin\":true,\"gridcolor\":\"white\",\"linecolor\":\"white\",\"ticks\":\"\",\"title\":{\"standoff\":15},\"zerolinecolor\":\"white\",\"zerolinewidth\":2}}},\"xaxis\":{\"anchor\":\"y\",\"domain\":[0.0,1.0],\"title\":{\"text\":\"Age\"}},\"yaxis\":{\"anchor\":\"x\",\"domain\":[0.0,1.0],\"title\":{\"text\":\"count\"}},\"legend\":{\"tracegroupgap\":0},\"title\":{\"text\":\"Distribui\\u00e7\\u00e3o de Idades - Alunos\"},\"barmode\":\"relative\"},                        {\"responsive\": true}                    )                };                            </script>        </div>\n</body>\n</html>",
       "datasetInfos": [],
       "metadata": {},
       "removedWidgets": [],
       "textData": null,
       "type": "htmlSandbox"
      }
     },
     "output_type": "display_data"
    },
    {
     "output_type": "display_data",
     "data": {
      "text/html": [
       "<html>\n",
       "<head><meta charset=\"utf-8\" /></head>\n",
       "<body>\n",
       "    <div>            <script src=\"https://cdnjs.cloudflare.com/ajax/libs/mathjax/2.7.5/MathJax.js?config=TeX-AMS-MML_SVG\"></script><script type=\"text/javascript\">if (window.MathJax) {MathJax.Hub.Config({SVG: {font: \"STIX-Web\"}});}</script>                <script type=\"text/javascript\">window.PlotlyConfig = {MathJaxConfig: 'local'};</script>\n",
       "        <script src=\"https://cdn.plot.ly/plotly-2.9.0.min.js\"></script>                <div id=\"12f9659c-a11f-48c1-afcb-8b6ab8c02a92\" class=\"plotly-graph-div\" style=\"height:100%; width:100%;\"></div>            <script type=\"text/javascript\">                                    window.PLOTLYENV=window.PLOTLYENV || {};                                    if (document.getElementById(\"12f9659c-a11f-48c1-afcb-8b6ab8c02a92\")) {                    Plotly.newPlot(                        \"12f9659c-a11f-48c1-afcb-8b6ab8c02a92\",                        [{\"alignmentgroup\":\"True\",\"bingroup\":\"x\",\"hovertemplate\":\"Nota_Final=%{x}<br>count=%{y}<extra></extra>\",\"legendgroup\":\"\",\"marker\":{\"color\":\"#636efa\",\"pattern\":{\"shape\":\"\"}},\"name\":\"\",\"nbinsx\":20,\"offsetgroup\":\"\",\"orientation\":\"v\",\"showlegend\":false,\"x\":[57.82,45.8,93.68,80.63,78.89,43.53,89.07,73.96,90.87,98.47,97.43,91.37,40.66,93.14,44.5,91.07,56.81,76.6,42.28,86.27,46.7,64.64,89.05,81.72,40.36,64.18,42.52,80.41,98.14,79.32,53.46,61.31,98.6,53.44,73.69,64.03,86.1,92.04,60.45,79.62,72.94,56.71,56.32,72.32,49.24,88.65,44.14,45.67,60.53,47.09,68.54,63.98,83.31,97.18,85.21,50.77,96.13,63.53,68.45,65.29,56.83,93.7,59.93,74.72,54.4,87.84,86.45,57.78,80.89,82.23,73.75,76.04,74.47,44.91,80.22,68.19,66.31,91.6,41.39,55.08,47.28,42.12,56.54,99.31,56.21,79.82,47.1,76.11,99.07,57.51,90.88,99.85,75.31,58.56,80.41,90.69,50.28,67.15,59.15,57.0,91.65,65.3,60.34,76.21,53.16,53.79,71.22,64.56,57.7,43.24,71.25,89.0,91.08,54.13,75.98,91.35,64.52,95.93,94.18,52.49,55.54,50.83,51.76,94.47,95.87,43.11,75.62,73.85,63.43,77.9,96.84,50.22,47.22,42.0,61.83,60.26,65.85,70.2,85.47,63.53,59.84,89.61,90.99,53.97,58.88,89.51,44.76,59.55,66.9,51.22,50.79,65.49,85.27,90.41,98.75,44.44,53.0,85.4,72.44,59.66,52.34,56.83,65.76,50.63,97.85,46.46,99.13,90.51,65.39,84.39,80.29,52.8,60.34,70.79,78.27,72.57,68.38,66.59,69.9,66.06,72.48,93.28,77.97,83.36,75.85,78.58,74.7,41.61,99.98,42.02,63.71,46.31,45.82,87.61,65.56,88.07,56.37,55.39,55.07,76.97,88.9,67.14,62.75,98.41,47.01,69.2,64.51,45.89,56.09,41.71,92.62,76.47,88.9,71.29,75.97,82.05,94.48,45.51,59.86,82.54,97.5,98.85,78.29,51.62,47.15,96.76,66.04,51.69,96.03,46.27,83.77,77.52,45.26,60.32,49.0,76.27,68.63,40.26,98.54,60.98,55.49,53.35,49.53,99.95,57.71,64.33,92.28,78.51,62.12,93.9,84.98,53.67,78.62,95.34,69.79,84.02,98.27,81.42,46.15,54.67,75.71,56.53,97.45,64.32,67.43,82.1,71.45,62.93,44.6,75.79,92.05,81.15,62.89,47.66,88.98,96.5,63.3,83.72,64.65,70.14,90.19,45.01,71.82,52.88,60.39,78.67,41.63,75.63,57.01,80.17,48.49,84.15,78.74,98.27,94.67,57.0,41.64,79.32,76.17,41.65,47.36,75.08,94.71,94.39,49.09,63.07,42.59,68.16,85.19,87.4,69.94,45.75,62.88,95.93,53.78,59.19,84.81,84.01,94.73,63.29,70.88,68.04,95.67,86.16,89.89,47.99,87.51,65.98,41.4,43.61,80.67,62.32,92.09,84.06,41.3,81.21,51.54,65.35,77.48,92.36,67.37,88.51,86.98,64.87,70.06,82.03,41.87,93.45,86.19,54.96,98.87,50.76,94.85,59.47,85.79,67.38,84.19,49.35,56.17,45.99,91.91,57.78,81.67,89.21,94.09,46.38,93.58,51.84,84.21,83.73,40.51,53.24,69.51,65.2,95.11,61.58,96.22,67.57,97.86,84.24,89.76,46.29,75.17,48.56,57.86,77.41,83.57,42.35,71.86,73.92,44.73,70.04,82.83,43.19,85.62,74.59,89.99,53.08,90.0,45.67,64.23,51.97,92.56,82.3,41.52,40.57,57.47,48.6,77.82,79.83,96.52,97.12,79.53,40.34,61.54,70.79,69.95,76.2,97.63,93.11,46.53,55.96,89.99,89.46,56.52,83.84,80.32,68.41,52.09,93.32,80.67,50.14,82.29,84.49,93.21,53.37,99.33,49.2,76.04,79.43,65.14,68.5,93.45,78.72,69.82,47.7,40.44,47.5,97.37,85.85,98.03,42.14,80.81,42.66,86.92,62.86,45.75,74.08,56.81,79.57,79.49,82.3,99.55,63.2,67.92,88.28,74.7,42.24,90.58,43.09,50.25,46.12,44.68,41.54,43.3,66.55,55.17,47.59,79.52,53.57,41.14,65.11,58.63,59.12,66.72,80.13,76.99,96.24,71.06,68.35,52.8,85.32,48.45,69.47,65.28,79.5,95.06,96.8,50.07,55.71,88.7,71.1,67.18,82.64,76.12,98.24,75.04,67.96,72.57,88.51,76.76,78.82,98.29,77.1,62.82,81.48,79.57,40.83,68.04,84.57,69.94,86.78,67.05,99.0,57.57,45.53,65.8,72.5,60.95,54.54,80.32,62.63,77.88,86.74,85.66,62.52,74.07,66.98,92.25,92.73,60.62,45.5,50.05,62.02,73.85,79.41,59.88,80.05,96.26,79.12,49.51,74.78,72.51,92.24,61.02,65.38,75.92,71.47,83.14,42.42,73.81,47.3,58.91,79.7,49.44,58.53,82.18,79.05,45.46,74.64,48.84,55.14,67.55,46.56,99.62,49.92,86.88,89.79,99.67,65.72,92.45,97.45,50.37,68.77,43.6,77.24,74.88,52.25,87.87,42.24,88.37,41.6,79.41,44.73,55.07,83.31,56.82,70.67,94.91,42.98,88.66,43.92,47.61,47.16,99.65,50.81,93.81,99.46,63.03,77.86,86.75,63.56,49.71,66.03,86.31,86.85,53.83,50.5,95.23,42.64,84.08,42.79,90.27,94.32,57.85,44.44,68.84,57.91,65.03,79.9,52.59,61.42,86.95,78.63,59.58,79.86,85.92,75.55,54.37,40.01,88.17,89.36,81.86,44.59,75.11,89.26,63.38,51.88,75.26,89.58,42.93,75.82,78.59,76.14,79.0,77.88,47.82,54.1,77.14,41.06,78.08,79.92,54.35,75.89,72.05,55.64,67.78,94.58,65.6,77.79,42.12,44.67,44.88,86.69,61.02,53.66,84.84,50.2,54.79,65.86,59.89,75.12,60.27,63.58,91.77,93.07,89.66,91.89,74.18,78.77,73.43,87.14,73.06,46.66,88.57,85.64,89.22,51.43,56.3,57.75,70.48,48.03,63.12,50.93,55.89,82.38,91.29,41.37,73.95,42.16,45.11,82.31,84.14,88.84,68.45,91.59,50.01,54.98,48.07,87.85,53.72,49.33,77.39,44.62,42.69,46.4,40.01,81.82,73.73,52.59,53.98,88.66,70.11,81.91,67.17,54.26,98.22,73.94,47.86,64.37,59.76,52.85,96.01,92.86,51.95,61.13,85.74,52.51,75.49,81.99,79.24,82.38,82.4,97.89,60.79,92.72,41.31,57.29,42.92,79.07,46.05,90.74,78.8,41.73,82.89,91.72,79.67,41.83,91.48,83.95,62.71,59.72,68.79,92.03,55.12,46.06,91.88,41.58,94.66,58.34,70.49,47.94,94.14,84.99,95.45,80.99,51.08,58.5,69.21,76.44,95.59,63.04,82.18,97.66,49.14,91.76,65.24,83.95,57.61,60.04,41.63,98.28,88.81,45.64,99.97,76.3,91.22,44.0,63.37,80.18,46.39,69.33,66.56,52.96,58.02,98.03,57.32,52.81,72.17,80.26,83.51,85.25,42.21,63.63,86.44,94.29,76.13,43.14,63.8,44.45,84.91,43.81,51.14,65.02,67.76,64.39,67.8,82.79,62.16,72.87,58.2,61.22,76.83,69.43,83.38,73.63,88.21,66.6,69.46,80.2,53.27,63.16,77.49,41.73,66.22,75.93,98.04,92.62,56.84,70.43,43.38,54.45,86.49,47.4,55.46,96.64,89.43,86.91,91.87,84.98,47.24,70.99,66.65,58.67,90.04,67.85,43.62,56.5,53.72,93.25,78.85,73.62,70.4,79.01,85.29,73.26,96.3,98.61,99.72,80.16,95.96,64.27,91.58,94.55,94.25,89.85,64.4,49.53,60.04,86.04,53.97,68.7,73.92,76.23,96.14,79.69,87.18,74.91,90.01,55.82,52.59,95.58,81.61,80.29,68.04,62.6,73.34,47.23,67.28,67.32,72.3,78.08,97.44,79.13,93.02,73.38,77.62,44.19,48.0,74.78,63.74,87.93,72.59,92.94,98.34,48.86,63.69,79.9,58.33,56.02,88.82,98.82,86.43,71.42,66.55,72.38,67.77,70.17,52.21,94.22,85.27,80.86,97.0,57.06,44.87,89.57,99.91,74.71,43.53,86.83,44.42,72.4,56.65,94.9,67.08,93.91,57.94,63.24,96.83,52.08,74.71,63.31,86.45,47.76,66.23,81.94,64.42,43.51,82.31,70.19,40.68,76.76,95.19,46.66,75.44,83.72,44.25,41.36,67.85,87.47,49.64,90.2,79.39,59.93,70.95,97.93,52.99,69.97,77.47,48.28,42.61,40.81,59.48,44.44,88.23,99.84,43.68,65.96,41.54,48.04,59.38,63.62,96.39,63.75,69.78,54.74,40.01,93.96,44.9,97.85,47.85,76.29,99.96,48.31,65.44,86.83,41.93,81.39,44.82,54.19,49.6,94.44,50.83,42.43,75.26,60.77,64.34,47.14,84.89,76.09,61.85,50.29,75.61,86.72,58.74,41.55,52.86,80.94,99.35,40.8,58.37,43.72,58.98,64.35,95.25,44.83,86.63,63.73,88.68,70.8,42.36,96.77,44.96,75.86,92.66,44.79,73.23,89.46,99.18,83.46,56.7,81.97,82.35,82.0,91.26,45.24,46.51,78.44,97.23,67.95,97.63,96.29,94.17,94.59,93.9,89.19,81.7,41.46,47.94,48.05,41.41,47.0,95.18,79.83,58.72,87.6,69.3,48.53,93.07,60.32,81.93,57.44,70.0,88.98,49.41,98.64,44.21,72.04,94.96,96.74,53.93,48.64,83.46,42.52,69.11,87.78,73.62,51.28,69.22,95.28,77.03,83.29,60.18,51.31,55.34,71.99,56.81,72.52,82.47,84.06,49.88,85.03,80.36,40.72,43.53,78.77,63.02,48.77,42.66,49.56,97.45,83.65,71.66,96.49,77.15,83.54,56.96,75.34,48.61,64.27,41.99,53.0,44.49,63.27,90.58,62.68,89.9,79.39,70.57,54.21,95.33,43.25,81.33,77.27,66.46,54.42,65.84,92.37,90.21,96.48,58.47,63.23,41.12,96.58,59.76,64.25,94.47,71.6,73.97,50.57,69.92,95.09,73.52,55.31,41.87,60.18,74.36,42.56,76.59,71.4,87.01,41.73,86.85,71.25,62.23,97.92,49.61,72.48,59.26,71.65,73.14,45.37,79.67,78.07,86.17,45.44,57.84,79.01,48.2,80.66,43.54,60.1,90.8,86.46,78.69,92.23,82.56,71.16,98.78,81.69,76.08,64.53,94.14,57.74,40.55,51.8,46.57,59.14,89.55,79.09,50.14,87.33,70.25,70.76,61.73,91.88,59.1,45.65,58.16,82.92,79.45,51.28,46.71,79.65,80.58,61.97,90.57,98.69,52.34,74.62,40.32,82.78,64.86,51.6,85.13,88.64,46.67,42.46,60.04,77.56,87.61,72.76,74.84,87.99,71.73,76.67,70.97,92.83,54.13,55.84,47.68,89.17,64.71,60.87,98.88,95.61,98.32,48.54,93.48,59.72,40.76,63.48,70.55,46.49,72.26,89.17,62.66,61.16,60.33,95.39,42.93,66.7,55.88,93.63,45.76,64.69,64.41,93.3,52.93,78.69,48.06,97.24,75.58,77.58,66.03,60.54,52.76,76.24,97.27,61.59,92.99,48.93,96.17,61.03,62.78,67.77,83.09,83.18,68.78,71.39,41.8,58.26,60.76,73.52,73.5,82.59,83.02,54.11,86.21,41.18,82.97,46.12,83.78,71.63,66.24,81.44,42.18,53.41,76.99,90.83,62.87,55.53,71.12,77.34,65.21,92.6,71.41,42.15,53.38,67.04,81.86,53.19,98.58,59.11,71.95,41.14,93.09,87.33,51.73,95.99,58.95,81.53,89.14,84.45,95.05,91.86,99.68,50.96,58.29,78.17,83.98,72.08,44.44,90.5,97.65,64.33,53.49,41.16,54.24,82.0,94.7,45.61,73.2,81.73,56.58,74.19,82.91,90.26,67.15,84.87,58.11,52.78,51.24,61.53,42.15,56.98,79.13,78.88,44.41,57.24,74.17,59.11,65.08,82.77,40.56,56.58,48.54,47.66,97.54,62.59,71.63,84.03,42.85,54.46,89.93,91.72,62.38,62.49,85.41,57.7,47.03,55.45,63.24,43.13,68.72,84.4,70.82,44.31,66.41,82.53,43.49,43.59,62.24,51.7,96.09,74.88,57.24,82.29,62.5,47.93,54.23,78.56,43.11,56.36,52.5,52.07,80.97,89.55,82.95,78.74,94.99,43.5,50.05,64.86,62.35,65.08,52.39,48.97,70.55,95.68,63.52,42.6,82.37,57.47,54.71,59.46,83.43,89.13,75.28,59.35,58.63,47.46,96.0,78.29,41.62,79.74,66.83,98.35,89.14,50.28,83.21,69.13,51.22,81.92,72.84,41.82,78.8,78.1,48.65,60.94,75.15,48.33,91.16,41.65,46.17,46.97,71.69,77.21,64.22,57.32,88.56,44.1,56.82,42.35,40.83,61.2,51.69,56.1,89.26,49.78,86.81,80.5,59.59,72.79,66.67,47.7,94.43,74.18,92.81,89.43,44.79,52.44,48.72,89.85,91.75,71.68,46.25,48.14,88.81,95.75,51.97,40.67,59.86,41.83,89.68,69.49,78.51,64.69,60.73,53.33,86.23,81.73,61.64,59.27,40.07,43.81,77.4,70.88,66.09,89.65,70.23,63.07,49.68,89.24,74.57,45.55,78.93,65.5,88.68,95.13,76.03,83.9,43.4,73.62,85.32,69.81,75.61,93.94,51.89,45.89,81.44,89.37,91.03,78.5,89.99,82.04,45.24,85.72,50.76,54.2,63.68,58.87,59.3,50.16,57.63,41.18,68.37,86.12,91.73,89.23,64.99,83.83,57.27,43.33,80.56,78.93,88.1,76.97,49.41,91.19,77.64,88.46,86.45,57.87,44.47,50.59,45.57,54.6,67.57,94.41,92.32,83.12,41.45,60.48,80.94,47.74,88.07,94.87,61.25,82.35,48.89,81.45,41.29,49.05,82.59,82.71,78.47,68.64,80.49,86.43,97.99,93.32,87.67,81.69,74.45,47.24,49.93,89.22,88.2,76.87,66.33,41.56,59.63,65.24,69.15,95.76,46.52,71.13,62.08,99.41,91.71,66.33,99.98,70.84,50.03,73.35,53.57,78.18,96.25,87.17,56.39,57.81,44.16,57.15,45.56,69.97,82.5,85.07,43.57,60.4,57.29,46.26,61.75,57.96,78.07,93.0,67.29,84.8,48.76,93.7,49.16,51.53,46.39,58.58,73.14,99.28,87.6,62.83,74.55,77.4,89.36,84.19,74.16,80.15,84.76,47.99,52.03,81.32,91.03,64.56,98.79,52.96,65.0,62.71,95.82,57.12,68.25,51.23,71.28,91.44,58.24,88.65,94.68,44.38,85.39,55.32,50.52,76.07,82.34,63.69,42.35,94.52,83.84,56.3,69.81,41.67,60.36,71.35,71.03,52.49,86.6,57.93,74.82,56.29,65.51,52.45,77.98,65.54,40.97,41.69,68.27,50.99,75.1,64.49,79.27,97.14,71.72,87.24,85.18,95.31,52.84,89.64,94.33,63.57,58.83,97.12,77.66,62.84,87.51,58.27,50.58,72.64,73.97,89.54,67.42,88.88,58.68,74.52,52.51,63.13,91.45,52.96,88.61,56.97,42.07,46.6,84.75,55.72,79.25,81.95,60.71,68.5,64.23,96.84,59.2,51.0,61.94,80.17,81.84,95.44,92.91,57.3,67.31,84.84,94.99,60.23,66.67,93.97,61.51,68.83,94.27,88.13,54.61,59.49,61.18,94.76,99.94,86.44,69.06,40.61,81.85,63.36,77.98,76.4,68.85,96.66,41.39,82.73,64.59,82.83,80.51,40.61,57.12,51.35,50.02,83.71,54.37,68.48,54.82,74.81,83.23,59.86,76.18,89.49,45.65,82.64,59.39,47.36,72.74,53.58,89.28,42.57,45.92,71.26,75.34,83.79,55.56,90.51,97.19,69.94,85.63,71.49,44.17,59.57,45.25,99.33,53.74,78.15,57.06,79.19,52.62,87.12,46.65,93.71,90.43,80.73,44.04,52.51,91.56,47.32,49.36,72.64,56.45,53.32,74.55,62.35,48.43,72.09,63.22,84.07,46.17,77.24,66.19,64.36,53.94,41.83,90.86,59.58,80.87,96.86,73.9,63.83,56.1,96.04,80.92,79.92,65.57,90.7,82.82,56.99,75.97,65.81,40.4,88.46,47.37,70.6,60.17,60.53,68.64,99.82,64.5,50.94,76.82,54.18,46.33,43.01,41.37,65.87,65.6,51.13,87.04,47.76,94.92,75.25,41.66,97.78,58.48,67.0,57.06,83.71,69.14,47.94,46.25,83.52,54.22,48.27,69.97,88.17,56.73,56.59,90.03,48.87,77.0,97.3,90.48,43.71,59.19,48.54,96.95,99.16,54.1,80.18,90.5,54.02,51.26,40.67,64.72,93.97,94.18,47.66,52.26,64.48,86.84,76.71,70.83,75.52,45.77,68.66,99.52,45.31,71.15,57.74,72.39,74.43,74.65,91.13,63.38,70.98,40.66,87.37,55.57,88.99,55.94,40.65,49.29,99.14,59.19,46.53,47.13,58.62,42.26,70.69,52.82,71.16,48.45,65.79,75.88,43.72,63.92,58.15,54.42,76.27,75.31,77.84,49.53,57.14,52.58,72.43,67.66,59.82,87.16,45.64,98.49,46.99,86.38,62.09,91.92,44.45,62.48,60.13,99.59,99.13,51.39,77.8,72.13,49.26,50.07,99.36,67.16,47.55,52.89,56.1,70.66,60.13,67.3,49.99,59.6,44.22,93.38,51.93,85.41,60.97,68.46,57.48,81.79,90.67,57.18,54.53,80.89,51.71,78.39,45.67,77.21,70.8,46.83,78.95,66.79,53.03,61.2,69.53,45.49,97.46,79.93,46.15,89.37,59.35,75.81,56.63,84.0,83.38,73.12,54.46,55.22,62.97,48.7,60.26,81.06,89.85,59.95,54.02,89.96,93.44,64.6,41.61,81.7,87.04,41.08,75.7,75.3,62.72,84.99,65.69,80.61,71.03,54.91,76.39,84.21,98.43,62.81,43.87,99.28,77.43,96.79,46.23,60.52,48.04,90.13,92.82,70.08,51.2,47.63,75.29,70.38,81.69,58.31,64.14,41.28,76.61,65.39,95.19,78.51,63.92,55.82,94.32,40.98,59.61,96.61,79.24,71.96,52.21,90.0,52.25,54.9,51.51,49.49,97.2,76.12,78.27,97.26,53.83,40.36,75.93,70.47,68.66,43.71,67.27,57.25,56.47,53.34,59.95,61.19,58.53,98.73,95.96,74.47,98.86,99.47,61.36,66.71,97.54,76.52,52.78,81.36,52.34,60.36,53.65,54.7,40.28,92.84,57.76,45.18,45.22,73.36,99.58,48.7,45.98,66.3,73.8,57.66,58.15,65.47,58.85,94.92,42.52,54.07,88.51,90.04,46.69,98.43,81.6,56.36,67.36,57.83,49.0,57.47,74.81,89.56,61.81,60.87,68.08,78.67,85.1,59.61,75.18,63.36,82.98,49.88,55.42,65.56,93.36,74.4,97.92,46.2,67.61,65.14,76.01,88.72,90.49,80.21,78.49,96.94,63.02,89.97,95.29,69.49,83.75,62.62,49.53,75.19,51.79,67.46,92.37,45.16,41.83,76.39,59.86,65.08,64.34,45.2,40.21,93.91,53.07,65.56,98.32,89.61,46.48,70.51,83.8,81.9,85.65,67.45,50.56,67.89,78.87,76.52,44.23,43.9,97.92,49.11,57.67,86.06,64.58,50.89,68.03,74.14,67.17,95.14,57.08,79.68,46.74,63.54,84.46,53.49,75.39,49.21,46.16,71.39,80.5,46.8,95.07,53.55,47.2,52.16,50.17,45.44,87.87,69.73,63.31,97.04,62.26,50.02,56.44,54.34,69.92,57.49,70.96,80.16,86.64,82.61,52.34,46.95,72.55,51.93,45.1,71.63,59.61,85.37,58.85,98.72,85.51,43.46,70.53,73.76,81.72,69.87,69.01,62.08,56.29,96.77,59.06,43.81,50.04,91.44,75.2,86.73,88.53,89.39,73.04,50.63,48.89,74.44,61.99,73.48,69.91,76.13,41.93,41.97,83.3,51.59,79.13,72.79,98.91,90.12,64.79,76.98,47.04,63.18,84.03,77.36,69.07,50.59,88.19,56.39,89.23,76.7,62.36,42.44,53.95,93.34,89.08,74.49,67.98,78.83,67.97,78.66,58.44,90.31,82.12,59.8,89.84,69.24,50.48,44.66,81.98,91.91,88.45,79.34,48.48,45.64,60.7,91.29,97.7,54.48,85.73,74.43,41.91,72.57,88.36,56.57,93.84,54.18,44.59,49.6,90.22,65.04,87.82,71.87,68.83,88.41,65.41,88.12,46.04,78.18,82.16,93.95,53.46,76.25,66.0,62.97,46.4,48.05,90.22,84.99,62.94,89.71,44.85,77.49,92.09,90.33,62.37,84.71,65.65,90.41,71.85,85.89,44.71,75.4,73.02,76.6,81.74,95.09,87.14,53.18,89.55,47.32,77.33,92.97,46.07,90.98,87.92,70.23,58.53,64.33,98.12,52.1,74.78,44.99,53.07,85.8,58.16,99.15,70.05,70.99,42.18,97.39,50.45,72.3,63.74,64.94,78.6,79.73,49.26,69.98,87.43,66.6,49.95,58.79,52.74,47.55,62.65,72.46,44.37,76.23,99.58,97.85,89.75,55.98,41.34,90.01,43.34,52.34,72.67,50.7,90.03,86.63,85.35,88.97,53.18,83.73,61.32,80.01,47.32,82.34,98.33,42.62,45.63,47.42,65.83,57.45,88.42,68.43,69.07,83.02,61.72,61.19,85.42,86.8,40.86,48.63,52.79,61.1,57.49,80.11,89.69,51.53,73.78,62.07,70.35,77.25,93.62,51.54,45.22,77.63,63.65,49.77,47.03,73.53,58.03,99.85,64.35,52.74,77.73,54.66,69.65,68.95,67.21,87.77,53.0,94.26,87.48,59.99,50.84,56.77,59.96,73.42,42.78,94.86,45.92,56.76,46.56,55.4,90.26,76.91,53.64,92.31,88.04,85.22,90.86,77.18,70.09,62.44,53.43,73.44,93.37,75.64,95.18,61.42,81.71,78.92,80.23,78.7,53.3,48.62,98.72,42.72,68.06,65.5,61.6,86.92,84.72,94.31,63.73,73.85,93.54,99.63,98.16,83.07,48.59,41.39,89.51,90.46,84.78,56.8,78.39,58.97,67.04,62.95,94.82,54.05,74.66,61.66,79.78,73.87,95.44,46.1,53.24,85.98,62.13,49.95,70.2,79.13,42.69,57.5,88.57,71.21,42.12,56.92,78.35,51.96,89.64,80.59,68.28,94.94,63.51,54.1,79.68,74.4,60.11,60.62,63.89,57.47,82.61,79.08,66.45,63.87,61.9,57.01,45.14,56.09,59.27,72.86,86.43,63.74,96.69,89.64,99.09,92.57,77.0,75.91,47.77,83.34,76.01,70.42,81.6,66.64,71.43,63.9,83.04,92.6,90.45,87.16,40.83,94.71,56.49,93.28,51.82,66.38,84.96,78.42,64.96,80.72,72.94,56.54,78.78,52.25,81.64,40.19,72.93,64.06,58.19,70.94,78.72,97.92,89.98,83.03,68.74,63.53,41.95,61.55,90.9,63.04,67.7,56.31,56.45,43.71,76.83,66.88,76.36,72.81,87.93,85.06,86.29,69.95,61.23,96.01,43.26,49.16,65.18,76.84,40.49,83.16,73.52,69.08,65.41,71.17,49.71,46.52,57.38,82.57,75.3,68.81,74.29,73.56,58.42,45.85,93.81,75.99,81.86,67.84,85.39,75.07,43.23,93.41,58.33,48.27,45.28,83.23,82.24,82.01,94.95,60.94,73.67,77.17,98.77,58.74,97.38,48.92,85.84,77.97,89.01,41.72,44.69,44.18,75.58,76.18,94.37,68.06,44.08,52.57,40.48,86.6,88.94,99.88,64.73,41.16,54.08,75.27,97.72,46.21,47.29,82.11,80.03,55.03,88.79,47.73,95.54,52.06,44.88,60.37,51.27,71.62,81.21,69.46,79.64,61.9,41.68,98.44,89.16,44.41,66.95,78.1,51.44,74.68,72.02,52.5,48.47,85.54,59.36,54.64,84.27,84.16,56.58,92.35,81.3,60.75,65.65,83.6,52.7,68.13,79.21,72.37,76.5,72.77,51.95,64.61,71.92,86.8,79.23,65.6,98.46,46.47,52.41,60.48,53.71,77.53,42.37,50.65,57.6,81.0,92.55,87.91,50.92,73.92,41.8,58.63,88.36,67.4,49.0,66.31,51.88,63.59,69.27,60.97,96.22,73.75,90.57,85.64,79.67,69.81,40.13,76.81,61.36,47.07,66.68,84.13,97.7,62.45,72.56,91.07,60.04,48.54,56.91,93.95,49.56,59.75,67.88,90.83,96.26,65.55,95.92,49.69,49.41,96.96,70.58,51.15,69.28,86.99,89.62,91.84,74.17,92.02,70.6,76.42,85.52,65.53,44.41,61.01,77.44,51.54,48.9,57.58,41.93,84.61,55.52,47.45,81.95,90.58,41.19,54.02,96.71,63.12,96.32,56.45,53.08,52.85,45.11,93.79,98.79,97.27,91.12,90.81,79.67,89.57,52.5,63.27,78.45,92.49,79.63,90.34,68.44,83.04,98.8,49.21,95.62,71.34,78.59,92.67,64.58,65.12,71.63,41.15,69.8,57.47,95.68,45.26,67.56,96.85,94.06,82.08,75.36,56.84,62.02,45.41,87.17,59.43,80.07,61.46,67.86,73.3,88.11,52.67,63.93,47.8,44.55,76.28,51.35,43.59,93.83,72.06,48.08,43.21,47.19,68.28,80.11,78.48,48.67,78.01,64.29,67.88,88.09,59.95,48.82,92.41,52.73,57.64,82.4,81.01,88.02,51.03,61.14,47.55,72.46,57.55,81.34,40.02,43.58,65.95,97.49,93.45,99.64,65.01,42.79,58.36,80.55,48.11,58.0,43.37,68.5,52.54,45.47,64.67,61.07,72.25,84.94,46.75,87.47,41.58,66.59,75.25,97.42,74.44,49.52,71.05,63.75,68.76,51.83,70.05,49.0,84.64,75.63,44.71,93.38,76.98,58.97,42.74,77.93,62.41,94.46,42.09,42.35,96.96,97.89,41.66,82.96,53.29,82.08,92.12,46.05,54.33,41.44,42.63,41.78,88.04,57.9,69.59,87.27,69.7,65.75,40.69,74.08,47.48,85.88,55.46,80.45,78.77,77.0,56.02,56.03,91.78,40.77,50.89,76.61,89.02,61.5,79.21,73.43,43.87,77.31,88.83,99.55,41.78,79.6,64.87,40.59,76.86,47.35,62.71,55.68,61.67,69.56,61.55,73.16,54.32,78.12,91.23,53.44,70.47,78.92,73.88,61.94,78.53,41.69,62.19,71.96,41.24,70.46,79.26,85.55,46.8,99.43,76.37,61.79,54.95,74.37,92.9,71.23,79.69,61.46,63.29,57.17,82.34,61.55,51.44,62.16,91.23,84.3,60.08,94.41,44.49,42.99,47.65,46.99,45.27,79.68,76.05,78.86,81.3,85.41,52.43,77.34,74.8,96.62,53.94,43.52,79.21,84.41,56.99,74.25,43.57,97.6,46.6,44.05,42.65,65.64,45.83,84.68,93.93,55.61,77.73,42.54,63.19,57.58,53.72,78.68,47.81,91.64,79.89,82.64,96.12,96.54,73.1,69.72,60.12,82.93,72.29,95.97,54.32,58.62,58.97,88.36,45.94,67.34,65.65,44.39,64.65,70.8,43.91,70.59,97.55,98.73,71.9,70.91,57.13,99.83,56.45,67.17,40.18,60.95,44.29,84.63,73.66,74.33,57.19,88.89,40.2,60.02,79.57,94.48,54.08,72.47,72.28,92.45,43.03,65.47,50.95,41.29,48.82,98.59,52.89,96.1,52.32,95.88,79.28,46.79,74.91,59.11,62.99,66.41,65.36,79.85,86.1,59.75,95.46,96.31,42.44,40.89,65.5,75.44,56.67,55.56,80.7,76.1,50.03,93.07,80.8,61.75,81.02,46.76,68.1,50.14,42.49,60.3,49.04,78.01,80.44,48.92,41.48,87.57,40.12,60.63,69.67,89.12,90.31,83.5,54.83,83.21,54.79,52.88,72.83,80.73,43.18,43.6,87.05,91.57,76.27,65.73,90.72,83.73,74.78,59.19,51.88,65.12,57.21,60.36,70.94,50.15,88.37,48.73,68.86,84.76,69.1,61.66,68.49,90.92,99.43,77.87,87.61,40.87,92.82,97.24,74.51,85.23,70.76,57.17,91.13,75.81,74.76,79.55,91.36,83.91,52.67,68.01,98.82,73.27,96.29,88.8,79.96,60.96,58.26,78.61,65.95,87.93,85.63,58.73,82.16,69.67,59.4,64.78,93.72,61.57,57.24,61.11,52.88,72.68,48.85,89.05,53.53,75.88,47.5,98.71,67.27,89.33,86.12,82.82,89.64,46.03,80.71,55.95,87.15,97.41,94.09,46.9,62.17,61.86,47.34,45.89,63.09,99.52,74.14,77.31,68.26,79.74,97.4,75.32,43.9,69.57,99.57,63.24,75.63,46.4,48.47,92.48,58.02,58.33,63.23,97.99,45.06,89.13,60.49,90.97,99.51,60.92,47.76,48.66,85.52,48.7,55.63,52.26,61.34,44.46,91.4,91.61,64.78,76.73,78.52,84.96,71.24,70.62,77.88,82.18,60.8,59.82,56.18,72.93,61.61,72.42,64.36,90.2,44.39,74.33,74.54,63.02,65.26,88.01,56.84,92.28,93.78,79.04,86.37,76.78,71.52,98.0,56.96,49.25,57.25,76.88,51.11,94.53,64.66,91.0,54.95,58.79,43.55,55.47,69.42,96.77,63.33,78.38,65.66,42.81,70.21,43.95,93.02,85.18,62.72,78.41,46.72,82.15,89.36,89.3,57.06,55.82,71.28,98.07,95.23,61.58,86.79,95.28,55.66,89.82,56.07,60.6,51.93,70.42,90.6,71.68,47.41,55.11,73.77,74.99,74.61,44.62,85.22,94.57,70.63,83.13,94.84,78.56,80.46,83.28,55.63,74.96,90.53,57.77,93.83,77.22,65.39,77.39,64.11,90.28,68.94,94.07,70.59,79.62,99.86,48.82,84.2,48.33,90.33,75.79,96.29,91.96,44.49,48.24,76.07,71.1,50.11,47.76,73.84,42.94,92.42,88.42,87.12,40.96,42.86,72.99,99.67,60.54,60.66,48.06,80.46,78.8,46.08,68.04,80.02,69.61,80.46,88.98,81.15,76.97,91.22,94.04,63.33,50.39,89.07,52.83,95.74,41.37,95.28,75.35,86.48,63.91,99.5,53.65,55.86,43.09,96.43,67.36,80.49,81.25,92.47,79.9,73.72,82.62,85.06,51.16,46.58,44.49,62.44,69.88,76.94,97.48,59.85,85.65,71.88,53.21,76.92,98.03,47.46,70.44,43.1,59.27,77.24,90.46,83.82,67.77,94.55,58.16,85.24,68.44,93.92,87.85,94.09,52.85,80.09,84.31,84.54,70.24,40.68,55.69,59.4,91.12,90.45,46.28,96.99,50.95,64.86,52.91,91.62,84.96,61.21,80.91,51.06,62.94,62.63,54.28,92.58,80.73,56.8,54.53,41.08,60.79,71.61,56.66,82.03,64.7,58.98,96.34,55.77,63.9,62.94,54.47,53.05,58.14,91.85,86.02,80.86,67.43,70.47,56.03,44.46,59.86,69.74,43.44,45.29,55.78,62.02,63.6,47.07,53.55,55.7,44.06,59.57,44.33,82.21,63.16,59.61,47.59,53.59,53.96,99.11,90.12,40.92,77.01,55.35,46.26,82.34,47.9,66.62,77.93,73.27,98.66,87.14,86.45,61.34,40.5,84.06,99.98,64.35,99.13,48.5,57.79,50.24,68.51,87.82,60.44,94.37,72.69,67.93,87.22,46.09,86.43,54.58,56.85,75.97,94.12,74.7,78.94,86.6,55.56,89.63,65.08,50.54,61.01,54.77,53.72,56.95,50.86,80.06,74.8,78.91,60.62,86.18,47.78,74.27,56.53,71.66,59.42,87.43,93.48,84.55,50.54,56.49,95.16,66.23,96.47,63.55,97.11,95.54,79.63,40.53,64.02,94.67,93.11,51.24,63.95,90.13,74.67,90.84,89.59,94.45,47.03,48.71,44.97,96.12,68.51,43.86,59.29,61.08,88.57,84.13,81.36,41.31,94.64,52.93,77.74,43.71,44.89,40.57,73.96,77.76,43.03,57.43,91.09,46.08,52.99,65.46,90.54,55.29,99.83,61.32,63.19,47.33,80.81,54.61,77.73,53.39,63.27,91.4,84.33,49.28,76.46,77.72,45.43,67.95,55.64,68.03,86.62,49.5,47.4,56.16,97.14,84.87,41.17,64.06,55.44,78.29,67.56,97.87,53.14,75.27,82.01,89.53,64.42,81.22,58.19,66.13,93.74,96.99,83.13,62.46,89.2,41.55,46.16,79.68,57.47,97.08,66.16,65.76,80.68,86.05,68.53,52.84,86.4,59.22,50.51,77.9,45.43,98.28,77.94,99.15,60.33,98.27,48.73,42.44,41.98,67.89,44.98,70.73,59.65,60.14,78.14,49.79,85.99,74.92,94.9,61.89,98.96,74.55,98.4,41.62,83.68,89.0,43.19,74.74,88.12,73.66,43.83,81.61,43.64,89.05,42.58,48.24,56.51,78.0,98.58,47.07,48.56,62.13,90.17,68.03,59.3,73.67,55.63,64.07,59.96,88.25,95.46,85.57,66.35,70.26,47.5,84.81,75.79,94.15,52.04,85.58,81.08,55.95,80.04,95.46,95.11,83.18,42.88,92.34,79.47,58.63,51.24,46.97,43.01,85.25,54.15,41.46,63.84,68.96,50.15,42.64,51.35,80.75,44.93,73.3,48.78,51.74,63.58,46.05,50.39,60.94,59.78,84.96,44.49,91.63,88.97,85.96,58.56,89.37,50.97,47.46,42.7,96.36,58.48,95.06,56.36,94.45,94.24,95.42,69.77,91.96,97.05,59.48,65.13,83.15,58.02,85.23,44.43,71.41,47.34,57.6,55.52,90.34,51.61,88.51,87.64,69.93,54.03,53.61,67.9,40.53,71.88,97.17,49.28,74.4,97.71,91.63,91.02,89.31,58.54,93.44,96.48,69.75,61.27,64.85,60.05,52.75,77.11,73.76,67.76,45.75,87.81,50.5,46.87,77.38,63.92,43.59,61.33,86.31,76.91,61.77,51.51,77.91,93.25,78.78,88.77,71.29,83.08,93.77,86.39,94.59,65.87,94.25,77.29,92.2,42.36,79.47,90.88,50.45,79.71,89.5,57.28,64.31,74.17,71.15,42.35,45.92,46.03,55.74,54.75,84.53,74.36,85.84,44.19,69.11,59.43,91.0,82.47,92.16,42.79,83.25,72.4,89.5,70.43,72.41,43.11,80.11,56.39,41.18,43.99,97.44,60.76,92.08,97.58,96.6,92.9,93.69,57.34,49.09,78.36,69.29,45.92,80.65,73.77,91.78,76.55,74.44,66.45,67.77,97.26,48.31,66.77,79.35,65.98,56.99,57.24,54.02,60.63,92.3,70.31,54.41,63.07,46.35,94.24,64.49,98.82,60.85,90.18,55.38,44.57,41.9,76.37,58.69,66.61,89.12,54.89,58.52,90.72,69.57,89.66,62.47,63.9,50.03,94.98,93.81,99.05,64.15,89.12,64.9,67.26,89.8,50.64,53.22,58.88,87.29,62.36,61.49,99.93,63.03,54.87,77.39,88.11,44.18,77.13,42.14,71.58,55.42,58.4,68.03,95.63,82.64,96.21,79.6,40.43,55.94,94.35,78.61,98.9,49.36,57.8,61.74,59.59,55.12,66.61,78.54,58.68,44.78,82.51,67.54,73.39,67.32,93.42,73.52,95.4,70.63,57.56,61.33,71.33,71.8,81.24,53.47,79.53,86.72,80.6,68.91,99.5,64.29,46.4,89.29,52.73,82.8,50.74,41.01,49.59,62.62,46.4,51.86,85.88,86.19,89.05,90.47,65.23,92.05,71.56,68.24,83.11,52.83,87.37,65.77,47.64,47.16,49.89,93.43,99.46,61.42,57.53,53.13,89.43,52.55,95.45,80.04,93.83,73.24,81.44,77.17,89.87,90.15,75.39,77.95,95.31,95.79,79.85,40.47,46.26,91.48,45.08,52.81,53.83,76.01,74.6,57.37,52.46,85.87,96.13,43.17,47.99,78.53,88.27,87.47,83.18,93.25,53.04,46.44,76.92,89.34,74.92,97.78,87.73,82.05,43.62,46.46,87.09,51.89,41.73,94.65,93.45,53.11,86.81,42.88,57.1,77.42,85.79,40.62,59.57,52.86,99.93,80.26,64.34,44.54,75.92,78.5,88.98,57.31,98.89,66.37,57.76,60.91,71.18,96.2,84.11,74.63,49.77,48.96,70.13,83.72,85.06,53.55,46.01,63.07,95.09,72.72,59.21,59.42,47.93,68.39,87.48,98.11,70.1,50.03,80.98,85.41,44.3,91.01,89.76,68.35,73.63,82.8,80.6,40.99,47.35,49.76,85.34,66.41,72.73,86.36,60.46,84.93,66.54,62.63,59.98,97.9,86.32,41.21,97.44,86.53,48.95,44.58,58.49,77.45,76.99,56.55,66.74,52.71,43.03,71.02,60.82,72.57,96.79,48.6,40.12,44.61,67.76,82.42,74.85,69.69,61.24,58.6,62.58,76.7,50.07,86.28,74.52,56.15,70.07,97.77,41.23,51.97,66.9,78.31,52.73,95.88,78.55,92.65,59.76,89.74,62.69,55.17,94.7,45.53,96.57,67.51,99.56,72.38,85.45,40.42,69.8,84.25,86.97,49.48,65.14,65.14,46.22,66.58,88.43,58.01,65.95,97.66,41.9,75.49,84.61,85.65,82.96,83.59,43.54,72.05,86.98,45.64,40.72,88.87,82.74,64.73,96.42,86.0,98.07,95.76,68.88,85.28,80.15,88.69,87.26,49.19,54.02,55.94,89.11,88.64,69.72,74.85,89.62,58.76,43.01,68.96,94.82,87.43,62.0,43.89,78.22,90.07,79.9,65.5,47.4,94.65,56.56,53.46,88.96,98.87,79.61,77.49,59.17,41.22,51.51,75.07,49.08,93.03,51.29,71.33,70.72,76.24,59.65,92.41,66.66,82.01,78.15,47.03,77.36,73.04,93.92,92.85,49.06,44.9,57.68,99.2,41.29,80.37,76.51,78.79,53.1,53.6,65.84,45.75,44.48,45.3,74.38,63.86,57.62,58.95,52.44,64.69,52.18,81.88,47.44,96.89,45.39,96.61,90.0,80.84,94.74,48.35,50.58,55.13,54.69,58.65,74.54,41.69,62.94,54.78,76.4,99.11,71.06,65.54,62.09,87.1,44.32,97.59,65.08,58.82,98.44,96.15,78.52,41.11,84.91,60.13,63.3,49.52,71.41,84.67,56.38,96.32,51.68,43.98,78.66,90.96,97.19,86.03,51.98,98.66,95.17,49.79,73.53,73.33,66.55,99.06,43.58,77.63,52.32,71.64,86.78,54.8,63.6,97.05,85.69,74.36,53.32,65.52,86.44,89.23,54.68,79.72,45.7,41.39,72.92,53.46,44.73,83.79,69.88,87.78,79.84,83.79,58.44,55.8,76.05,52.0,88.92,71.38,53.62,77.51,96.7,44.93,46.56,90.63,46.58,42.36,60.88,68.0,74.17,70.44,94.79,86.12,99.03,68.59,45.06,97.33,40.25,86.57,41.88,85.67,96.28,63.36,54.46,53.58,69.5,50.25,80.38,62.1,59.39,67.68,72.56,48.52,82.47,92.98,56.68,50.82,85.63,51.01,42.48,77.15,54.39,50.31,98.9,57.51,94.21,50.69,89.14,70.12,44.72,84.02,93.52,49.78,83.54,66.7,85.23,82.84,41.6,50.72,68.26,96.02,60.52,77.73,40.73,82.67,76.18,82.92,94.28,48.79,55.7,99.75,49.38,83.24,83.5,80.98,53.65,52.91,79.98,51.18,79.69,69.55,63.2,58.01,96.85,70.49,73.68,96.96,79.23,97.47,46.38,90.8,60.12,88.63,91.34,56.29,64.53,83.56,45.94,85.33,46.63,94.87,56.58,74.54,47.03,56.17,64.24,69.22,40.0,93.32,40.46,86.42,68.23,71.43,52.5,76.44,72.23,49.85,54.29,44.01,43.98,40.83,53.23,80.78,58.97,60.56,47.91,74.53,60.53,80.58,84.49,75.08,56.56,70.52,55.12,94.17,85.98,69.58,97.93,72.81,59.71,45.73,72.62,91.62,92.0,76.27,63.61,79.02,85.73,64.7,68.58,80.84,92.6,87.46,41.34,47.46,91.17,90.03,63.33,75.06,94.35,94.69,86.99,52.58,83.82,46.07,93.64,48.95,79.74,76.61,86.61,73.09,43.57,82.35,62.99,59.22,99.5,75.42,82.64,71.58,86.2,85.12,79.43,99.86,67.59,82.37,87.87,62.56,67.43,98.15,41.94,60.12,69.17,40.09,93.95,57.17,55.46,89.22,56.68,79.46,89.29,87.55,86.92,45.32,44.79,58.41,42.16,70.03,63.69,73.42,57.93,69.15,60.08,51.71,78.96,80.41,89.75,92.49,82.27,81.25,43.4,46.59,88.75,53.98,61.33,48.72,51.71,86.53,55.71,66.94,49.1,80.68,83.7,61.7,87.08,54.39,81.51,83.8,98.12,53.94,45.62,55.78,47.37,50.18,60.05,64.84,94.22,51.74,98.31,88.61,92.89,95.77,85.19,87.33,66.27,70.63,95.95,62.7,42.52,85.77,74.39,88.89,44.53,77.27,54.86,94.2,46.59,90.58,45.31,41.51,54.1,59.98,77.59,47.9,66.24,52.26,91.32,42.7,61.36,77.88,94.79,92.08,93.71,43.77,90.46,86.79,94.15,58.69,94.71,64.16,78.05,65.45,65.66,72.8,61.36,87.56,78.02,81.39,53.86,98.17,79.61,51.83,85.03,50.42,43.8,71.65,73.21,51.34,60.9,96.75,57.1,49.33,99.55,58.14,80.82,53.89,73.01,63.18,97.69,65.97,75.05,96.69,99.35,46.1,90.06,62.93,75.69,62.5,64.07,49.53,74.37,72.8,51.36,72.5,98.39,82.86,68.86,94.97,74.52,48.1,72.85,50.86,86.05,98.03,61.65,66.1,65.29,57.12,87.65,77.06,43.84,90.33,51.23,98.75,62.6,76.99,44.67,60.68,88.14,68.63,94.28,74.51,95.71,98.96,67.23,73.91,90.1,53.29,91.7,75.52,83.53,44.79,85.97,58.65,88.31,70.55,56.48,97.17,85.9,99.14,61.87,78.95,76.7,81.25,42.3,57.5,94.56,65.43,97.64,52.81,99.85,81.85,86.58,63.81,94.42,72.73,80.86,45.69,77.9,92.74,50.7,84.26,41.52,95.57,98.98,61.25,46.42,79.51,41.79,68.95,56.31,68.4,41.1,43.1,40.96,77.15,73.61,53.99,78.8,93.05,56.64,89.92,79.75,42.03,62.51,70.47,83.9,57.23,98.96,81.07,62.37,45.82,50.88,69.26,69.68,86.06,83.57,52.08,75.7,41.24,63.91,85.85,63.97,90.14,98.57,76.43,48.7,62.78,40.57,76.16,89.29,77.8,87.17,87.99,91.06,56.0,92.28,79.25,57.38,99.24,97.01,74.47,90.59,55.69,64.96,51.04,71.21,69.76,52.77,80.37,47.07,43.7,63.09,64.59,59.18,55.48,60.33,49.8,64.21,94.28,53.47],\"xaxis\":\"x\",\"yaxis\":\"y\",\"type\":\"histogram\"}],                        {\"template\":{\"data\":{\"bar\":[{\"error_x\":{\"color\":\"#2a3f5f\"},\"error_y\":{\"color\":\"#2a3f5f\"},\"marker\":{\"line\":{\"color\":\"#E5ECF6\",\"width\":0.5},\"pattern\":{\"fillmode\":\"overlay\",\"size\":10,\"solidity\":0.2}},\"type\":\"bar\"}],\"barpolar\":[{\"marker\":{\"line\":{\"color\":\"#E5ECF6\",\"width\":0.5},\"pattern\":{\"fillmode\":\"overlay\",\"size\":10,\"solidity\":0.2}},\"type\":\"barpolar\"}],\"carpet\":[{\"aaxis\":{\"endlinecolor\":\"#2a3f5f\",\"gridcolor\":\"white\",\"linecolor\":\"white\",\"minorgridcolor\":\"white\",\"startlinecolor\":\"#2a3f5f\"},\"baxis\":{\"endlinecolor\":\"#2a3f5f\",\"gridcolor\":\"white\",\"linecolor\":\"white\",\"minorgridcolor\":\"white\",\"startlinecolor\":\"#2a3f5f\"},\"type\":\"carpet\"}],\"choropleth\":[{\"colorbar\":{\"outlinewidth\":0,\"ticks\":\"\"},\"type\":\"choropleth\"}],\"contour\":[{\"colorbar\":{\"outlinewidth\":0,\"ticks\":\"\"},\"colorscale\":[[0.0,\"#0d0887\"],[0.1111111111111111,\"#46039f\"],[0.2222222222222222,\"#7201a8\"],[0.3333333333333333,\"#9c179e\"],[0.4444444444444444,\"#bd3786\"],[0.5555555555555556,\"#d8576b\"],[0.6666666666666666,\"#ed7953\"],[0.7777777777777778,\"#fb9f3a\"],[0.8888888888888888,\"#fdca26\"],[1.0,\"#f0f921\"]],\"type\":\"contour\"}],\"contourcarpet\":[{\"colorbar\":{\"outlinewidth\":0,\"ticks\":\"\"},\"type\":\"contourcarpet\"}],\"heatmap\":[{\"colorbar\":{\"outlinewidth\":0,\"ticks\":\"\"},\"colorscale\":[[0.0,\"#0d0887\"],[0.1111111111111111,\"#46039f\"],[0.2222222222222222,\"#7201a8\"],[0.3333333333333333,\"#9c179e\"],[0.4444444444444444,\"#bd3786\"],[0.5555555555555556,\"#d8576b\"],[0.6666666666666666,\"#ed7953\"],[0.7777777777777778,\"#fb9f3a\"],[0.8888888888888888,\"#fdca26\"],[1.0,\"#f0f921\"]],\"type\":\"heatmap\"}],\"heatmapgl\":[{\"colorbar\":{\"outlinewidth\":0,\"ticks\":\"\"},\"colorscale\":[[0.0,\"#0d0887\"],[0.1111111111111111,\"#46039f\"],[0.2222222222222222,\"#7201a8\"],[0.3333333333333333,\"#9c179e\"],[0.4444444444444444,\"#bd3786\"],[0.5555555555555556,\"#d8576b\"],[0.6666666666666666,\"#ed7953\"],[0.7777777777777778,\"#fb9f3a\"],[0.8888888888888888,\"#fdca26\"],[1.0,\"#f0f921\"]],\"type\":\"heatmapgl\"}],\"histogram\":[{\"marker\":{\"pattern\":{\"fillmode\":\"overlay\",\"size\":10,\"solidity\":0.2}},\"type\":\"histogram\"}],\"histogram2d\":[{\"colorbar\":{\"outlinewidth\":0,\"ticks\":\"\"},\"colorscale\":[[0.0,\"#0d0887\"],[0.1111111111111111,\"#46039f\"],[0.2222222222222222,\"#7201a8\"],[0.3333333333333333,\"#9c179e\"],[0.4444444444444444,\"#bd3786\"],[0.5555555555555556,\"#d8576b\"],[0.6666666666666666,\"#ed7953\"],[0.7777777777777778,\"#fb9f3a\"],[0.8888888888888888,\"#fdca26\"],[1.0,\"#f0f921\"]],\"type\":\"histogram2d\"}],\"histogram2dcontour\":[{\"colorbar\":{\"outlinewidth\":0,\"ticks\":\"\"},\"colorscale\":[[0.0,\"#0d0887\"],[0.1111111111111111,\"#46039f\"],[0.2222222222222222,\"#7201a8\"],[0.3333333333333333,\"#9c179e\"],[0.4444444444444444,\"#bd3786\"],[0.5555555555555556,\"#d8576b\"],[0.6666666666666666,\"#ed7953\"],[0.7777777777777778,\"#fb9f3a\"],[0.8888888888888888,\"#fdca26\"],[1.0,\"#f0f921\"]],\"type\":\"histogram2dcontour\"}],\"mesh3d\":[{\"colorbar\":{\"outlinewidth\":0,\"ticks\":\"\"},\"type\":\"mesh3d\"}],\"parcoords\":[{\"line\":{\"colorbar\":{\"outlinewidth\":0,\"ticks\":\"\"}},\"type\":\"parcoords\"}],\"pie\":[{\"automargin\":true,\"type\":\"pie\"}],\"scatter\":[{\"marker\":{\"colorbar\":{\"outlinewidth\":0,\"ticks\":\"\"}},\"type\":\"scatter\"}],\"scatter3d\":[{\"line\":{\"colorbar\":{\"outlinewidth\":0,\"ticks\":\"\"}},\"marker\":{\"colorbar\":{\"outlinewidth\":0,\"ticks\":\"\"}},\"type\":\"scatter3d\"}],\"scattercarpet\":[{\"marker\":{\"colorbar\":{\"outlinewidth\":0,\"ticks\":\"\"}},\"type\":\"scattercarpet\"}],\"scattergeo\":[{\"marker\":{\"colorbar\":{\"outlinewidth\":0,\"ticks\":\"\"}},\"type\":\"scattergeo\"}],\"scattergl\":[{\"marker\":{\"colorbar\":{\"outlinewidth\":0,\"ticks\":\"\"}},\"type\":\"scattergl\"}],\"scattermapbox\":[{\"marker\":{\"colorbar\":{\"outlinewidth\":0,\"ticks\":\"\"}},\"type\":\"scattermapbox\"}],\"scatterpolar\":[{\"marker\":{\"colorbar\":{\"outlinewidth\":0,\"ticks\":\"\"}},\"type\":\"scatterpolar\"}],\"scatterpolargl\":[{\"marker\":{\"colorbar\":{\"outlinewidth\":0,\"ticks\":\"\"}},\"type\":\"scatterpolargl\"}],\"scatterternary\":[{\"marker\":{\"colorbar\":{\"outlinewidth\":0,\"ticks\":\"\"}},\"type\":\"scatterternary\"}],\"surface\":[{\"colorbar\":{\"outlinewidth\":0,\"ticks\":\"\"},\"colorscale\":[[0.0,\"#0d0887\"],[0.1111111111111111,\"#46039f\"],[0.2222222222222222,\"#7201a8\"],[0.3333333333333333,\"#9c179e\"],[0.4444444444444444,\"#bd3786\"],[0.5555555555555556,\"#d8576b\"],[0.6666666666666666,\"#ed7953\"],[0.7777777777777778,\"#fb9f3a\"],[0.8888888888888888,\"#fdca26\"],[1.0,\"#f0f921\"]],\"type\":\"surface\"}],\"table\":[{\"cells\":{\"fill\":{\"color\":\"#EBF0F8\"},\"line\":{\"color\":\"white\"}},\"header\":{\"fill\":{\"color\":\"#C8D4E3\"},\"line\":{\"color\":\"white\"}},\"type\":\"table\"}]},\"layout\":{\"annotationdefaults\":{\"arrowcolor\":\"#2a3f5f\",\"arrowhead\":0,\"arrowwidth\":1},\"autotypenumbers\":\"strict\",\"coloraxis\":{\"colorbar\":{\"outlinewidth\":0,\"ticks\":\"\"}},\"colorscale\":{\"diverging\":[[0,\"#8e0152\"],[0.1,\"#c51b7d\"],[0.2,\"#de77ae\"],[0.3,\"#f1b6da\"],[0.4,\"#fde0ef\"],[0.5,\"#f7f7f7\"],[0.6,\"#e6f5d0\"],[0.7,\"#b8e186\"],[0.8,\"#7fbc41\"],[0.9,\"#4d9221\"],[1,\"#276419\"]],\"sequential\":[[0.0,\"#0d0887\"],[0.1111111111111111,\"#46039f\"],[0.2222222222222222,\"#7201a8\"],[0.3333333333333333,\"#9c179e\"],[0.4444444444444444,\"#bd3786\"],[0.5555555555555556,\"#d8576b\"],[0.6666666666666666,\"#ed7953\"],[0.7777777777777778,\"#fb9f3a\"],[0.8888888888888888,\"#fdca26\"],[1.0,\"#f0f921\"]],\"sequentialminus\":[[0.0,\"#0d0887\"],[0.1111111111111111,\"#46039f\"],[0.2222222222222222,\"#7201a8\"],[0.3333333333333333,\"#9c179e\"],[0.4444444444444444,\"#bd3786\"],[0.5555555555555556,\"#d8576b\"],[0.6666666666666666,\"#ed7953\"],[0.7777777777777778,\"#fb9f3a\"],[0.8888888888888888,\"#fdca26\"],[1.0,\"#f0f921\"]]},\"colorway\":[\"#636efa\",\"#EF553B\",\"#00cc96\",\"#ab63fa\",\"#FFA15A\",\"#19d3f3\",\"#FF6692\",\"#B6E880\",\"#FF97FF\",\"#FECB52\"],\"font\":{\"color\":\"#2a3f5f\"},\"geo\":{\"bgcolor\":\"white\",\"lakecolor\":\"white\",\"landcolor\":\"#E5ECF6\",\"showlakes\":true,\"showland\":true,\"subunitcolor\":\"white\"},\"hoverlabel\":{\"align\":\"left\"},\"hovermode\":\"closest\",\"mapbox\":{\"style\":\"light\"},\"paper_bgcolor\":\"white\",\"plot_bgcolor\":\"#E5ECF6\",\"polar\":{\"angularaxis\":{\"gridcolor\":\"white\",\"linecolor\":\"white\",\"ticks\":\"\"},\"bgcolor\":\"#E5ECF6\",\"radialaxis\":{\"gridcolor\":\"white\",\"linecolor\":\"white\",\"ticks\":\"\"}},\"scene\":{\"xaxis\":{\"backgroundcolor\":\"#E5ECF6\",\"gridcolor\":\"white\",\"gridwidth\":2,\"linecolor\":\"white\",\"showbackground\":true,\"ticks\":\"\",\"zerolinecolor\":\"white\"},\"yaxis\":{\"backgroundcolor\":\"#E5ECF6\",\"gridcolor\":\"white\",\"gridwidth\":2,\"linecolor\":\"white\",\"showbackground\":true,\"ticks\":\"\",\"zerolinecolor\":\"white\"},\"zaxis\":{\"backgroundcolor\":\"#E5ECF6\",\"gridcolor\":\"white\",\"gridwidth\":2,\"linecolor\":\"white\",\"showbackground\":true,\"ticks\":\"\",\"zerolinecolor\":\"white\"}},\"shapedefaults\":{\"line\":{\"color\":\"#2a3f5f\"}},\"ternary\":{\"aaxis\":{\"gridcolor\":\"white\",\"linecolor\":\"white\",\"ticks\":\"\"},\"baxis\":{\"gridcolor\":\"white\",\"linecolor\":\"white\",\"ticks\":\"\"},\"bgcolor\":\"#E5ECF6\",\"caxis\":{\"gridcolor\":\"white\",\"linecolor\":\"white\",\"ticks\":\"\"}},\"title\":{\"x\":0.05},\"xaxis\":{\"automargin\":true,\"gridcolor\":\"white\",\"linecolor\":\"white\",\"ticks\":\"\",\"title\":{\"standoff\":15},\"zerolinecolor\":\"white\",\"zerolinewidth\":2},\"yaxis\":{\"automargin\":true,\"gridcolor\":\"white\",\"linecolor\":\"white\",\"ticks\":\"\",\"title\":{\"standoff\":15},\"zerolinecolor\":\"white\",\"zerolinewidth\":2}}},\"xaxis\":{\"anchor\":\"y\",\"domain\":[0.0,1.0],\"title\":{\"text\":\"Nota_Final\"}},\"yaxis\":{\"anchor\":\"x\",\"domain\":[0.0,1.0],\"title\":{\"text\":\"count\"}},\"legend\":{\"tracegroupgap\":0},\"title\":{\"text\":\"Distribui\\u00e7\\u00e3o das Notas Finais\"},\"barmode\":\"relative\"},                        {\"responsive\": true}                    )                };                            </script>        </div>\n",
       "</body>\n",
       "</html>"
      ]
     },
     "metadata": {
      "application/vnd.databricks.v1+output": {
       "addedWidgets": {},
       "arguments": {},
       "data": "<html>\n<head><meta charset=\"utf-8\" /></head>\n<body>\n    <div>            <script src=\"https://cdnjs.cloudflare.com/ajax/libs/mathjax/2.7.5/MathJax.js?config=TeX-AMS-MML_SVG\"></script><script type=\"text/javascript\">if (window.MathJax) {MathJax.Hub.Config({SVG: {font: \"STIX-Web\"}});}</script>                <script type=\"text/javascript\">window.PlotlyConfig = {MathJaxConfig: 'local'};</script>\n        <script src=\"https://cdn.plot.ly/plotly-2.9.0.min.js\"></script>                <div id=\"12f9659c-a11f-48c1-afcb-8b6ab8c02a92\" class=\"plotly-graph-div\" style=\"height:100%; width:100%;\"></div>            <script type=\"text/javascript\">                                    window.PLOTLYENV=window.PLOTLYENV || {};                                    if (document.getElementById(\"12f9659c-a11f-48c1-afcb-8b6ab8c02a92\")) {                    Plotly.newPlot(                        \"12f9659c-a11f-48c1-afcb-8b6ab8c02a92\",                        [{\"alignmentgroup\":\"True\",\"bingroup\":\"x\",\"hovertemplate\":\"Nota_Final=%{x}<br>count=%{y}<extra></extra>\",\"legendgroup\":\"\",\"marker\":{\"color\":\"#636efa\",\"pattern\":{\"shape\":\"\"}},\"name\":\"\",\"nbinsx\":20,\"offsetgroup\":\"\",\"orientation\":\"v\",\"showlegend\":false,\"x\":[57.82,45.8,93.68,80.63,78.89,43.53,89.07,73.96,90.87,98.47,97.43,91.37,40.66,93.14,44.5,91.07,56.81,76.6,42.28,86.27,46.7,64.64,89.05,81.72,40.36,64.18,42.52,80.41,98.14,79.32,53.46,61.31,98.6,53.44,73.69,64.03,86.1,92.04,60.45,79.62,72.94,56.71,56.32,72.32,49.24,88.65,44.14,45.67,60.53,47.09,68.54,63.98,83.31,97.18,85.21,50.77,96.13,63.53,68.45,65.29,56.83,93.7,59.93,74.72,54.4,87.84,86.45,57.78,80.89,82.23,73.75,76.04,74.47,44.91,80.22,68.19,66.31,91.6,41.39,55.08,47.28,42.12,56.54,99.31,56.21,79.82,47.1,76.11,99.07,57.51,90.88,99.85,75.31,58.56,80.41,90.69,50.28,67.15,59.15,57.0,91.65,65.3,60.34,76.21,53.16,53.79,71.22,64.56,57.7,43.24,71.25,89.0,91.08,54.13,75.98,91.35,64.52,95.93,94.18,52.49,55.54,50.83,51.76,94.47,95.87,43.11,75.62,73.85,63.43,77.9,96.84,50.22,47.22,42.0,61.83,60.26,65.85,70.2,85.47,63.53,59.84,89.61,90.99,53.97,58.88,89.51,44.76,59.55,66.9,51.22,50.79,65.49,85.27,90.41,98.75,44.44,53.0,85.4,72.44,59.66,52.34,56.83,65.76,50.63,97.85,46.46,99.13,90.51,65.39,84.39,80.29,52.8,60.34,70.79,78.27,72.57,68.38,66.59,69.9,66.06,72.48,93.28,77.97,83.36,75.85,78.58,74.7,41.61,99.98,42.02,63.71,46.31,45.82,87.61,65.56,88.07,56.37,55.39,55.07,76.97,88.9,67.14,62.75,98.41,47.01,69.2,64.51,45.89,56.09,41.71,92.62,76.47,88.9,71.29,75.97,82.05,94.48,45.51,59.86,82.54,97.5,98.85,78.29,51.62,47.15,96.76,66.04,51.69,96.03,46.27,83.77,77.52,45.26,60.32,49.0,76.27,68.63,40.26,98.54,60.98,55.49,53.35,49.53,99.95,57.71,64.33,92.28,78.51,62.12,93.9,84.98,53.67,78.62,95.34,69.79,84.02,98.27,81.42,46.15,54.67,75.71,56.53,97.45,64.32,67.43,82.1,71.45,62.93,44.6,75.79,92.05,81.15,62.89,47.66,88.98,96.5,63.3,83.72,64.65,70.14,90.19,45.01,71.82,52.88,60.39,78.67,41.63,75.63,57.01,80.17,48.49,84.15,78.74,98.27,94.67,57.0,41.64,79.32,76.17,41.65,47.36,75.08,94.71,94.39,49.09,63.07,42.59,68.16,85.19,87.4,69.94,45.75,62.88,95.93,53.78,59.19,84.81,84.01,94.73,63.29,70.88,68.04,95.67,86.16,89.89,47.99,87.51,65.98,41.4,43.61,80.67,62.32,92.09,84.06,41.3,81.21,51.54,65.35,77.48,92.36,67.37,88.51,86.98,64.87,70.06,82.03,41.87,93.45,86.19,54.96,98.87,50.76,94.85,59.47,85.79,67.38,84.19,49.35,56.17,45.99,91.91,57.78,81.67,89.21,94.09,46.38,93.58,51.84,84.21,83.73,40.51,53.24,69.51,65.2,95.11,61.58,96.22,67.57,97.86,84.24,89.76,46.29,75.17,48.56,57.86,77.41,83.57,42.35,71.86,73.92,44.73,70.04,82.83,43.19,85.62,74.59,89.99,53.08,90.0,45.67,64.23,51.97,92.56,82.3,41.52,40.57,57.47,48.6,77.82,79.83,96.52,97.12,79.53,40.34,61.54,70.79,69.95,76.2,97.63,93.11,46.53,55.96,89.99,89.46,56.52,83.84,80.32,68.41,52.09,93.32,80.67,50.14,82.29,84.49,93.21,53.37,99.33,49.2,76.04,79.43,65.14,68.5,93.45,78.72,69.82,47.7,40.44,47.5,97.37,85.85,98.03,42.14,80.81,42.66,86.92,62.86,45.75,74.08,56.81,79.57,79.49,82.3,99.55,63.2,67.92,88.28,74.7,42.24,90.58,43.09,50.25,46.12,44.68,41.54,43.3,66.55,55.17,47.59,79.52,53.57,41.14,65.11,58.63,59.12,66.72,80.13,76.99,96.24,71.06,68.35,52.8,85.32,48.45,69.47,65.28,79.5,95.06,96.8,50.07,55.71,88.7,71.1,67.18,82.64,76.12,98.24,75.04,67.96,72.57,88.51,76.76,78.82,98.29,77.1,62.82,81.48,79.57,40.83,68.04,84.57,69.94,86.78,67.05,99.0,57.57,45.53,65.8,72.5,60.95,54.54,80.32,62.63,77.88,86.74,85.66,62.52,74.07,66.98,92.25,92.73,60.62,45.5,50.05,62.02,73.85,79.41,59.88,80.05,96.26,79.12,49.51,74.78,72.51,92.24,61.02,65.38,75.92,71.47,83.14,42.42,73.81,47.3,58.91,79.7,49.44,58.53,82.18,79.05,45.46,74.64,48.84,55.14,67.55,46.56,99.62,49.92,86.88,89.79,99.67,65.72,92.45,97.45,50.37,68.77,43.6,77.24,74.88,52.25,87.87,42.24,88.37,41.6,79.41,44.73,55.07,83.31,56.82,70.67,94.91,42.98,88.66,43.92,47.61,47.16,99.65,50.81,93.81,99.46,63.03,77.86,86.75,63.56,49.71,66.03,86.31,86.85,53.83,50.5,95.23,42.64,84.08,42.79,90.27,94.32,57.85,44.44,68.84,57.91,65.03,79.9,52.59,61.42,86.95,78.63,59.58,79.86,85.92,75.55,54.37,40.01,88.17,89.36,81.86,44.59,75.11,89.26,63.38,51.88,75.26,89.58,42.93,75.82,78.59,76.14,79.0,77.88,47.82,54.1,77.14,41.06,78.08,79.92,54.35,75.89,72.05,55.64,67.78,94.58,65.6,77.79,42.12,44.67,44.88,86.69,61.02,53.66,84.84,50.2,54.79,65.86,59.89,75.12,60.27,63.58,91.77,93.07,89.66,91.89,74.18,78.77,73.43,87.14,73.06,46.66,88.57,85.64,89.22,51.43,56.3,57.75,70.48,48.03,63.12,50.93,55.89,82.38,91.29,41.37,73.95,42.16,45.11,82.31,84.14,88.84,68.45,91.59,50.01,54.98,48.07,87.85,53.72,49.33,77.39,44.62,42.69,46.4,40.01,81.82,73.73,52.59,53.98,88.66,70.11,81.91,67.17,54.26,98.22,73.94,47.86,64.37,59.76,52.85,96.01,92.86,51.95,61.13,85.74,52.51,75.49,81.99,79.24,82.38,82.4,97.89,60.79,92.72,41.31,57.29,42.92,79.07,46.05,90.74,78.8,41.73,82.89,91.72,79.67,41.83,91.48,83.95,62.71,59.72,68.79,92.03,55.12,46.06,91.88,41.58,94.66,58.34,70.49,47.94,94.14,84.99,95.45,80.99,51.08,58.5,69.21,76.44,95.59,63.04,82.18,97.66,49.14,91.76,65.24,83.95,57.61,60.04,41.63,98.28,88.81,45.64,99.97,76.3,91.22,44.0,63.37,80.18,46.39,69.33,66.56,52.96,58.02,98.03,57.32,52.81,72.17,80.26,83.51,85.25,42.21,63.63,86.44,94.29,76.13,43.14,63.8,44.45,84.91,43.81,51.14,65.02,67.76,64.39,67.8,82.79,62.16,72.87,58.2,61.22,76.83,69.43,83.38,73.63,88.21,66.6,69.46,80.2,53.27,63.16,77.49,41.73,66.22,75.93,98.04,92.62,56.84,70.43,43.38,54.45,86.49,47.4,55.46,96.64,89.43,86.91,91.87,84.98,47.24,70.99,66.65,58.67,90.04,67.85,43.62,56.5,53.72,93.25,78.85,73.62,70.4,79.01,85.29,73.26,96.3,98.61,99.72,80.16,95.96,64.27,91.58,94.55,94.25,89.85,64.4,49.53,60.04,86.04,53.97,68.7,73.92,76.23,96.14,79.69,87.18,74.91,90.01,55.82,52.59,95.58,81.61,80.29,68.04,62.6,73.34,47.23,67.28,67.32,72.3,78.08,97.44,79.13,93.02,73.38,77.62,44.19,48.0,74.78,63.74,87.93,72.59,92.94,98.34,48.86,63.69,79.9,58.33,56.02,88.82,98.82,86.43,71.42,66.55,72.38,67.77,70.17,52.21,94.22,85.27,80.86,97.0,57.06,44.87,89.57,99.91,74.71,43.53,86.83,44.42,72.4,56.65,94.9,67.08,93.91,57.94,63.24,96.83,52.08,74.71,63.31,86.45,47.76,66.23,81.94,64.42,43.51,82.31,70.19,40.68,76.76,95.19,46.66,75.44,83.72,44.25,41.36,67.85,87.47,49.64,90.2,79.39,59.93,70.95,97.93,52.99,69.97,77.47,48.28,42.61,40.81,59.48,44.44,88.23,99.84,43.68,65.96,41.54,48.04,59.38,63.62,96.39,63.75,69.78,54.74,40.01,93.96,44.9,97.85,47.85,76.29,99.96,48.31,65.44,86.83,41.93,81.39,44.82,54.19,49.6,94.44,50.83,42.43,75.26,60.77,64.34,47.14,84.89,76.09,61.85,50.29,75.61,86.72,58.74,41.55,52.86,80.94,99.35,40.8,58.37,43.72,58.98,64.35,95.25,44.83,86.63,63.73,88.68,70.8,42.36,96.77,44.96,75.86,92.66,44.79,73.23,89.46,99.18,83.46,56.7,81.97,82.35,82.0,91.26,45.24,46.51,78.44,97.23,67.95,97.63,96.29,94.17,94.59,93.9,89.19,81.7,41.46,47.94,48.05,41.41,47.0,95.18,79.83,58.72,87.6,69.3,48.53,93.07,60.32,81.93,57.44,70.0,88.98,49.41,98.64,44.21,72.04,94.96,96.74,53.93,48.64,83.46,42.52,69.11,87.78,73.62,51.28,69.22,95.28,77.03,83.29,60.18,51.31,55.34,71.99,56.81,72.52,82.47,84.06,49.88,85.03,80.36,40.72,43.53,78.77,63.02,48.77,42.66,49.56,97.45,83.65,71.66,96.49,77.15,83.54,56.96,75.34,48.61,64.27,41.99,53.0,44.49,63.27,90.58,62.68,89.9,79.39,70.57,54.21,95.33,43.25,81.33,77.27,66.46,54.42,65.84,92.37,90.21,96.48,58.47,63.23,41.12,96.58,59.76,64.25,94.47,71.6,73.97,50.57,69.92,95.09,73.52,55.31,41.87,60.18,74.36,42.56,76.59,71.4,87.01,41.73,86.85,71.25,62.23,97.92,49.61,72.48,59.26,71.65,73.14,45.37,79.67,78.07,86.17,45.44,57.84,79.01,48.2,80.66,43.54,60.1,90.8,86.46,78.69,92.23,82.56,71.16,98.78,81.69,76.08,64.53,94.14,57.74,40.55,51.8,46.57,59.14,89.55,79.09,50.14,87.33,70.25,70.76,61.73,91.88,59.1,45.65,58.16,82.92,79.45,51.28,46.71,79.65,80.58,61.97,90.57,98.69,52.34,74.62,40.32,82.78,64.86,51.6,85.13,88.64,46.67,42.46,60.04,77.56,87.61,72.76,74.84,87.99,71.73,76.67,70.97,92.83,54.13,55.84,47.68,89.17,64.71,60.87,98.88,95.61,98.32,48.54,93.48,59.72,40.76,63.48,70.55,46.49,72.26,89.17,62.66,61.16,60.33,95.39,42.93,66.7,55.88,93.63,45.76,64.69,64.41,93.3,52.93,78.69,48.06,97.24,75.58,77.58,66.03,60.54,52.76,76.24,97.27,61.59,92.99,48.93,96.17,61.03,62.78,67.77,83.09,83.18,68.78,71.39,41.8,58.26,60.76,73.52,73.5,82.59,83.02,54.11,86.21,41.18,82.97,46.12,83.78,71.63,66.24,81.44,42.18,53.41,76.99,90.83,62.87,55.53,71.12,77.34,65.21,92.6,71.41,42.15,53.38,67.04,81.86,53.19,98.58,59.11,71.95,41.14,93.09,87.33,51.73,95.99,58.95,81.53,89.14,84.45,95.05,91.86,99.68,50.96,58.29,78.17,83.98,72.08,44.44,90.5,97.65,64.33,53.49,41.16,54.24,82.0,94.7,45.61,73.2,81.73,56.58,74.19,82.91,90.26,67.15,84.87,58.11,52.78,51.24,61.53,42.15,56.98,79.13,78.88,44.41,57.24,74.17,59.11,65.08,82.77,40.56,56.58,48.54,47.66,97.54,62.59,71.63,84.03,42.85,54.46,89.93,91.72,62.38,62.49,85.41,57.7,47.03,55.45,63.24,43.13,68.72,84.4,70.82,44.31,66.41,82.53,43.49,43.59,62.24,51.7,96.09,74.88,57.24,82.29,62.5,47.93,54.23,78.56,43.11,56.36,52.5,52.07,80.97,89.55,82.95,78.74,94.99,43.5,50.05,64.86,62.35,65.08,52.39,48.97,70.55,95.68,63.52,42.6,82.37,57.47,54.71,59.46,83.43,89.13,75.28,59.35,58.63,47.46,96.0,78.29,41.62,79.74,66.83,98.35,89.14,50.28,83.21,69.13,51.22,81.92,72.84,41.82,78.8,78.1,48.65,60.94,75.15,48.33,91.16,41.65,46.17,46.97,71.69,77.21,64.22,57.32,88.56,44.1,56.82,42.35,40.83,61.2,51.69,56.1,89.26,49.78,86.81,80.5,59.59,72.79,66.67,47.7,94.43,74.18,92.81,89.43,44.79,52.44,48.72,89.85,91.75,71.68,46.25,48.14,88.81,95.75,51.97,40.67,59.86,41.83,89.68,69.49,78.51,64.69,60.73,53.33,86.23,81.73,61.64,59.27,40.07,43.81,77.4,70.88,66.09,89.65,70.23,63.07,49.68,89.24,74.57,45.55,78.93,65.5,88.68,95.13,76.03,83.9,43.4,73.62,85.32,69.81,75.61,93.94,51.89,45.89,81.44,89.37,91.03,78.5,89.99,82.04,45.24,85.72,50.76,54.2,63.68,58.87,59.3,50.16,57.63,41.18,68.37,86.12,91.73,89.23,64.99,83.83,57.27,43.33,80.56,78.93,88.1,76.97,49.41,91.19,77.64,88.46,86.45,57.87,44.47,50.59,45.57,54.6,67.57,94.41,92.32,83.12,41.45,60.48,80.94,47.74,88.07,94.87,61.25,82.35,48.89,81.45,41.29,49.05,82.59,82.71,78.47,68.64,80.49,86.43,97.99,93.32,87.67,81.69,74.45,47.24,49.93,89.22,88.2,76.87,66.33,41.56,59.63,65.24,69.15,95.76,46.52,71.13,62.08,99.41,91.71,66.33,99.98,70.84,50.03,73.35,53.57,78.18,96.25,87.17,56.39,57.81,44.16,57.15,45.56,69.97,82.5,85.07,43.57,60.4,57.29,46.26,61.75,57.96,78.07,93.0,67.29,84.8,48.76,93.7,49.16,51.53,46.39,58.58,73.14,99.28,87.6,62.83,74.55,77.4,89.36,84.19,74.16,80.15,84.76,47.99,52.03,81.32,91.03,64.56,98.79,52.96,65.0,62.71,95.82,57.12,68.25,51.23,71.28,91.44,58.24,88.65,94.68,44.38,85.39,55.32,50.52,76.07,82.34,63.69,42.35,94.52,83.84,56.3,69.81,41.67,60.36,71.35,71.03,52.49,86.6,57.93,74.82,56.29,65.51,52.45,77.98,65.54,40.97,41.69,68.27,50.99,75.1,64.49,79.27,97.14,71.72,87.24,85.18,95.31,52.84,89.64,94.33,63.57,58.83,97.12,77.66,62.84,87.51,58.27,50.58,72.64,73.97,89.54,67.42,88.88,58.68,74.52,52.51,63.13,91.45,52.96,88.61,56.97,42.07,46.6,84.75,55.72,79.25,81.95,60.71,68.5,64.23,96.84,59.2,51.0,61.94,80.17,81.84,95.44,92.91,57.3,67.31,84.84,94.99,60.23,66.67,93.97,61.51,68.83,94.27,88.13,54.61,59.49,61.18,94.76,99.94,86.44,69.06,40.61,81.85,63.36,77.98,76.4,68.85,96.66,41.39,82.73,64.59,82.83,80.51,40.61,57.12,51.35,50.02,83.71,54.37,68.48,54.82,74.81,83.23,59.86,76.18,89.49,45.65,82.64,59.39,47.36,72.74,53.58,89.28,42.57,45.92,71.26,75.34,83.79,55.56,90.51,97.19,69.94,85.63,71.49,44.17,59.57,45.25,99.33,53.74,78.15,57.06,79.19,52.62,87.12,46.65,93.71,90.43,80.73,44.04,52.51,91.56,47.32,49.36,72.64,56.45,53.32,74.55,62.35,48.43,72.09,63.22,84.07,46.17,77.24,66.19,64.36,53.94,41.83,90.86,59.58,80.87,96.86,73.9,63.83,56.1,96.04,80.92,79.92,65.57,90.7,82.82,56.99,75.97,65.81,40.4,88.46,47.37,70.6,60.17,60.53,68.64,99.82,64.5,50.94,76.82,54.18,46.33,43.01,41.37,65.87,65.6,51.13,87.04,47.76,94.92,75.25,41.66,97.78,58.48,67.0,57.06,83.71,69.14,47.94,46.25,83.52,54.22,48.27,69.97,88.17,56.73,56.59,90.03,48.87,77.0,97.3,90.48,43.71,59.19,48.54,96.95,99.16,54.1,80.18,90.5,54.02,51.26,40.67,64.72,93.97,94.18,47.66,52.26,64.48,86.84,76.71,70.83,75.52,45.77,68.66,99.52,45.31,71.15,57.74,72.39,74.43,74.65,91.13,63.38,70.98,40.66,87.37,55.57,88.99,55.94,40.65,49.29,99.14,59.19,46.53,47.13,58.62,42.26,70.69,52.82,71.16,48.45,65.79,75.88,43.72,63.92,58.15,54.42,76.27,75.31,77.84,49.53,57.14,52.58,72.43,67.66,59.82,87.16,45.64,98.49,46.99,86.38,62.09,91.92,44.45,62.48,60.13,99.59,99.13,51.39,77.8,72.13,49.26,50.07,99.36,67.16,47.55,52.89,56.1,70.66,60.13,67.3,49.99,59.6,44.22,93.38,51.93,85.41,60.97,68.46,57.48,81.79,90.67,57.18,54.53,80.89,51.71,78.39,45.67,77.21,70.8,46.83,78.95,66.79,53.03,61.2,69.53,45.49,97.46,79.93,46.15,89.37,59.35,75.81,56.63,84.0,83.38,73.12,54.46,55.22,62.97,48.7,60.26,81.06,89.85,59.95,54.02,89.96,93.44,64.6,41.61,81.7,87.04,41.08,75.7,75.3,62.72,84.99,65.69,80.61,71.03,54.91,76.39,84.21,98.43,62.81,43.87,99.28,77.43,96.79,46.23,60.52,48.04,90.13,92.82,70.08,51.2,47.63,75.29,70.38,81.69,58.31,64.14,41.28,76.61,65.39,95.19,78.51,63.92,55.82,94.32,40.98,59.61,96.61,79.24,71.96,52.21,90.0,52.25,54.9,51.51,49.49,97.2,76.12,78.27,97.26,53.83,40.36,75.93,70.47,68.66,43.71,67.27,57.25,56.47,53.34,59.95,61.19,58.53,98.73,95.96,74.47,98.86,99.47,61.36,66.71,97.54,76.52,52.78,81.36,52.34,60.36,53.65,54.7,40.28,92.84,57.76,45.18,45.22,73.36,99.58,48.7,45.98,66.3,73.8,57.66,58.15,65.47,58.85,94.92,42.52,54.07,88.51,90.04,46.69,98.43,81.6,56.36,67.36,57.83,49.0,57.47,74.81,89.56,61.81,60.87,68.08,78.67,85.1,59.61,75.18,63.36,82.98,49.88,55.42,65.56,93.36,74.4,97.92,46.2,67.61,65.14,76.01,88.72,90.49,80.21,78.49,96.94,63.02,89.97,95.29,69.49,83.75,62.62,49.53,75.19,51.79,67.46,92.37,45.16,41.83,76.39,59.86,65.08,64.34,45.2,40.21,93.91,53.07,65.56,98.32,89.61,46.48,70.51,83.8,81.9,85.65,67.45,50.56,67.89,78.87,76.52,44.23,43.9,97.92,49.11,57.67,86.06,64.58,50.89,68.03,74.14,67.17,95.14,57.08,79.68,46.74,63.54,84.46,53.49,75.39,49.21,46.16,71.39,80.5,46.8,95.07,53.55,47.2,52.16,50.17,45.44,87.87,69.73,63.31,97.04,62.26,50.02,56.44,54.34,69.92,57.49,70.96,80.16,86.64,82.61,52.34,46.95,72.55,51.93,45.1,71.63,59.61,85.37,58.85,98.72,85.51,43.46,70.53,73.76,81.72,69.87,69.01,62.08,56.29,96.77,59.06,43.81,50.04,91.44,75.2,86.73,88.53,89.39,73.04,50.63,48.89,74.44,61.99,73.48,69.91,76.13,41.93,41.97,83.3,51.59,79.13,72.79,98.91,90.12,64.79,76.98,47.04,63.18,84.03,77.36,69.07,50.59,88.19,56.39,89.23,76.7,62.36,42.44,53.95,93.34,89.08,74.49,67.98,78.83,67.97,78.66,58.44,90.31,82.12,59.8,89.84,69.24,50.48,44.66,81.98,91.91,88.45,79.34,48.48,45.64,60.7,91.29,97.7,54.48,85.73,74.43,41.91,72.57,88.36,56.57,93.84,54.18,44.59,49.6,90.22,65.04,87.82,71.87,68.83,88.41,65.41,88.12,46.04,78.18,82.16,93.95,53.46,76.25,66.0,62.97,46.4,48.05,90.22,84.99,62.94,89.71,44.85,77.49,92.09,90.33,62.37,84.71,65.65,90.41,71.85,85.89,44.71,75.4,73.02,76.6,81.74,95.09,87.14,53.18,89.55,47.32,77.33,92.97,46.07,90.98,87.92,70.23,58.53,64.33,98.12,52.1,74.78,44.99,53.07,85.8,58.16,99.15,70.05,70.99,42.18,97.39,50.45,72.3,63.74,64.94,78.6,79.73,49.26,69.98,87.43,66.6,49.95,58.79,52.74,47.55,62.65,72.46,44.37,76.23,99.58,97.85,89.75,55.98,41.34,90.01,43.34,52.34,72.67,50.7,90.03,86.63,85.35,88.97,53.18,83.73,61.32,80.01,47.32,82.34,98.33,42.62,45.63,47.42,65.83,57.45,88.42,68.43,69.07,83.02,61.72,61.19,85.42,86.8,40.86,48.63,52.79,61.1,57.49,80.11,89.69,51.53,73.78,62.07,70.35,77.25,93.62,51.54,45.22,77.63,63.65,49.77,47.03,73.53,58.03,99.85,64.35,52.74,77.73,54.66,69.65,68.95,67.21,87.77,53.0,94.26,87.48,59.99,50.84,56.77,59.96,73.42,42.78,94.86,45.92,56.76,46.56,55.4,90.26,76.91,53.64,92.31,88.04,85.22,90.86,77.18,70.09,62.44,53.43,73.44,93.37,75.64,95.18,61.42,81.71,78.92,80.23,78.7,53.3,48.62,98.72,42.72,68.06,65.5,61.6,86.92,84.72,94.31,63.73,73.85,93.54,99.63,98.16,83.07,48.59,41.39,89.51,90.46,84.78,56.8,78.39,58.97,67.04,62.95,94.82,54.05,74.66,61.66,79.78,73.87,95.44,46.1,53.24,85.98,62.13,49.95,70.2,79.13,42.69,57.5,88.57,71.21,42.12,56.92,78.35,51.96,89.64,80.59,68.28,94.94,63.51,54.1,79.68,74.4,60.11,60.62,63.89,57.47,82.61,79.08,66.45,63.87,61.9,57.01,45.14,56.09,59.27,72.86,86.43,63.74,96.69,89.64,99.09,92.57,77.0,75.91,47.77,83.34,76.01,70.42,81.6,66.64,71.43,63.9,83.04,92.6,90.45,87.16,40.83,94.71,56.49,93.28,51.82,66.38,84.96,78.42,64.96,80.72,72.94,56.54,78.78,52.25,81.64,40.19,72.93,64.06,58.19,70.94,78.72,97.92,89.98,83.03,68.74,63.53,41.95,61.55,90.9,63.04,67.7,56.31,56.45,43.71,76.83,66.88,76.36,72.81,87.93,85.06,86.29,69.95,61.23,96.01,43.26,49.16,65.18,76.84,40.49,83.16,73.52,69.08,65.41,71.17,49.71,46.52,57.38,82.57,75.3,68.81,74.29,73.56,58.42,45.85,93.81,75.99,81.86,67.84,85.39,75.07,43.23,93.41,58.33,48.27,45.28,83.23,82.24,82.01,94.95,60.94,73.67,77.17,98.77,58.74,97.38,48.92,85.84,77.97,89.01,41.72,44.69,44.18,75.58,76.18,94.37,68.06,44.08,52.57,40.48,86.6,88.94,99.88,64.73,41.16,54.08,75.27,97.72,46.21,47.29,82.11,80.03,55.03,88.79,47.73,95.54,52.06,44.88,60.37,51.27,71.62,81.21,69.46,79.64,61.9,41.68,98.44,89.16,44.41,66.95,78.1,51.44,74.68,72.02,52.5,48.47,85.54,59.36,54.64,84.27,84.16,56.58,92.35,81.3,60.75,65.65,83.6,52.7,68.13,79.21,72.37,76.5,72.77,51.95,64.61,71.92,86.8,79.23,65.6,98.46,46.47,52.41,60.48,53.71,77.53,42.37,50.65,57.6,81.0,92.55,87.91,50.92,73.92,41.8,58.63,88.36,67.4,49.0,66.31,51.88,63.59,69.27,60.97,96.22,73.75,90.57,85.64,79.67,69.81,40.13,76.81,61.36,47.07,66.68,84.13,97.7,62.45,72.56,91.07,60.04,48.54,56.91,93.95,49.56,59.75,67.88,90.83,96.26,65.55,95.92,49.69,49.41,96.96,70.58,51.15,69.28,86.99,89.62,91.84,74.17,92.02,70.6,76.42,85.52,65.53,44.41,61.01,77.44,51.54,48.9,57.58,41.93,84.61,55.52,47.45,81.95,90.58,41.19,54.02,96.71,63.12,96.32,56.45,53.08,52.85,45.11,93.79,98.79,97.27,91.12,90.81,79.67,89.57,52.5,63.27,78.45,92.49,79.63,90.34,68.44,83.04,98.8,49.21,95.62,71.34,78.59,92.67,64.58,65.12,71.63,41.15,69.8,57.47,95.68,45.26,67.56,96.85,94.06,82.08,75.36,56.84,62.02,45.41,87.17,59.43,80.07,61.46,67.86,73.3,88.11,52.67,63.93,47.8,44.55,76.28,51.35,43.59,93.83,72.06,48.08,43.21,47.19,68.28,80.11,78.48,48.67,78.01,64.29,67.88,88.09,59.95,48.82,92.41,52.73,57.64,82.4,81.01,88.02,51.03,61.14,47.55,72.46,57.55,81.34,40.02,43.58,65.95,97.49,93.45,99.64,65.01,42.79,58.36,80.55,48.11,58.0,43.37,68.5,52.54,45.47,64.67,61.07,72.25,84.94,46.75,87.47,41.58,66.59,75.25,97.42,74.44,49.52,71.05,63.75,68.76,51.83,70.05,49.0,84.64,75.63,44.71,93.38,76.98,58.97,42.74,77.93,62.41,94.46,42.09,42.35,96.96,97.89,41.66,82.96,53.29,82.08,92.12,46.05,54.33,41.44,42.63,41.78,88.04,57.9,69.59,87.27,69.7,65.75,40.69,74.08,47.48,85.88,55.46,80.45,78.77,77.0,56.02,56.03,91.78,40.77,50.89,76.61,89.02,61.5,79.21,73.43,43.87,77.31,88.83,99.55,41.78,79.6,64.87,40.59,76.86,47.35,62.71,55.68,61.67,69.56,61.55,73.16,54.32,78.12,91.23,53.44,70.47,78.92,73.88,61.94,78.53,41.69,62.19,71.96,41.24,70.46,79.26,85.55,46.8,99.43,76.37,61.79,54.95,74.37,92.9,71.23,79.69,61.46,63.29,57.17,82.34,61.55,51.44,62.16,91.23,84.3,60.08,94.41,44.49,42.99,47.65,46.99,45.27,79.68,76.05,78.86,81.3,85.41,52.43,77.34,74.8,96.62,53.94,43.52,79.21,84.41,56.99,74.25,43.57,97.6,46.6,44.05,42.65,65.64,45.83,84.68,93.93,55.61,77.73,42.54,63.19,57.58,53.72,78.68,47.81,91.64,79.89,82.64,96.12,96.54,73.1,69.72,60.12,82.93,72.29,95.97,54.32,58.62,58.97,88.36,45.94,67.34,65.65,44.39,64.65,70.8,43.91,70.59,97.55,98.73,71.9,70.91,57.13,99.83,56.45,67.17,40.18,60.95,44.29,84.63,73.66,74.33,57.19,88.89,40.2,60.02,79.57,94.48,54.08,72.47,72.28,92.45,43.03,65.47,50.95,41.29,48.82,98.59,52.89,96.1,52.32,95.88,79.28,46.79,74.91,59.11,62.99,66.41,65.36,79.85,86.1,59.75,95.46,96.31,42.44,40.89,65.5,75.44,56.67,55.56,80.7,76.1,50.03,93.07,80.8,61.75,81.02,46.76,68.1,50.14,42.49,60.3,49.04,78.01,80.44,48.92,41.48,87.57,40.12,60.63,69.67,89.12,90.31,83.5,54.83,83.21,54.79,52.88,72.83,80.73,43.18,43.6,87.05,91.57,76.27,65.73,90.72,83.73,74.78,59.19,51.88,65.12,57.21,60.36,70.94,50.15,88.37,48.73,68.86,84.76,69.1,61.66,68.49,90.92,99.43,77.87,87.61,40.87,92.82,97.24,74.51,85.23,70.76,57.17,91.13,75.81,74.76,79.55,91.36,83.91,52.67,68.01,98.82,73.27,96.29,88.8,79.96,60.96,58.26,78.61,65.95,87.93,85.63,58.73,82.16,69.67,59.4,64.78,93.72,61.57,57.24,61.11,52.88,72.68,48.85,89.05,53.53,75.88,47.5,98.71,67.27,89.33,86.12,82.82,89.64,46.03,80.71,55.95,87.15,97.41,94.09,46.9,62.17,61.86,47.34,45.89,63.09,99.52,74.14,77.31,68.26,79.74,97.4,75.32,43.9,69.57,99.57,63.24,75.63,46.4,48.47,92.48,58.02,58.33,63.23,97.99,45.06,89.13,60.49,90.97,99.51,60.92,47.76,48.66,85.52,48.7,55.63,52.26,61.34,44.46,91.4,91.61,64.78,76.73,78.52,84.96,71.24,70.62,77.88,82.18,60.8,59.82,56.18,72.93,61.61,72.42,64.36,90.2,44.39,74.33,74.54,63.02,65.26,88.01,56.84,92.28,93.78,79.04,86.37,76.78,71.52,98.0,56.96,49.25,57.25,76.88,51.11,94.53,64.66,91.0,54.95,58.79,43.55,55.47,69.42,96.77,63.33,78.38,65.66,42.81,70.21,43.95,93.02,85.18,62.72,78.41,46.72,82.15,89.36,89.3,57.06,55.82,71.28,98.07,95.23,61.58,86.79,95.28,55.66,89.82,56.07,60.6,51.93,70.42,90.6,71.68,47.41,55.11,73.77,74.99,74.61,44.62,85.22,94.57,70.63,83.13,94.84,78.56,80.46,83.28,55.63,74.96,90.53,57.77,93.83,77.22,65.39,77.39,64.11,90.28,68.94,94.07,70.59,79.62,99.86,48.82,84.2,48.33,90.33,75.79,96.29,91.96,44.49,48.24,76.07,71.1,50.11,47.76,73.84,42.94,92.42,88.42,87.12,40.96,42.86,72.99,99.67,60.54,60.66,48.06,80.46,78.8,46.08,68.04,80.02,69.61,80.46,88.98,81.15,76.97,91.22,94.04,63.33,50.39,89.07,52.83,95.74,41.37,95.28,75.35,86.48,63.91,99.5,53.65,55.86,43.09,96.43,67.36,80.49,81.25,92.47,79.9,73.72,82.62,85.06,51.16,46.58,44.49,62.44,69.88,76.94,97.48,59.85,85.65,71.88,53.21,76.92,98.03,47.46,70.44,43.1,59.27,77.24,90.46,83.82,67.77,94.55,58.16,85.24,68.44,93.92,87.85,94.09,52.85,80.09,84.31,84.54,70.24,40.68,55.69,59.4,91.12,90.45,46.28,96.99,50.95,64.86,52.91,91.62,84.96,61.21,80.91,51.06,62.94,62.63,54.28,92.58,80.73,56.8,54.53,41.08,60.79,71.61,56.66,82.03,64.7,58.98,96.34,55.77,63.9,62.94,54.47,53.05,58.14,91.85,86.02,80.86,67.43,70.47,56.03,44.46,59.86,69.74,43.44,45.29,55.78,62.02,63.6,47.07,53.55,55.7,44.06,59.57,44.33,82.21,63.16,59.61,47.59,53.59,53.96,99.11,90.12,40.92,77.01,55.35,46.26,82.34,47.9,66.62,77.93,73.27,98.66,87.14,86.45,61.34,40.5,84.06,99.98,64.35,99.13,48.5,57.79,50.24,68.51,87.82,60.44,94.37,72.69,67.93,87.22,46.09,86.43,54.58,56.85,75.97,94.12,74.7,78.94,86.6,55.56,89.63,65.08,50.54,61.01,54.77,53.72,56.95,50.86,80.06,74.8,78.91,60.62,86.18,47.78,74.27,56.53,71.66,59.42,87.43,93.48,84.55,50.54,56.49,95.16,66.23,96.47,63.55,97.11,95.54,79.63,40.53,64.02,94.67,93.11,51.24,63.95,90.13,74.67,90.84,89.59,94.45,47.03,48.71,44.97,96.12,68.51,43.86,59.29,61.08,88.57,84.13,81.36,41.31,94.64,52.93,77.74,43.71,44.89,40.57,73.96,77.76,43.03,57.43,91.09,46.08,52.99,65.46,90.54,55.29,99.83,61.32,63.19,47.33,80.81,54.61,77.73,53.39,63.27,91.4,84.33,49.28,76.46,77.72,45.43,67.95,55.64,68.03,86.62,49.5,47.4,56.16,97.14,84.87,41.17,64.06,55.44,78.29,67.56,97.87,53.14,75.27,82.01,89.53,64.42,81.22,58.19,66.13,93.74,96.99,83.13,62.46,89.2,41.55,46.16,79.68,57.47,97.08,66.16,65.76,80.68,86.05,68.53,52.84,86.4,59.22,50.51,77.9,45.43,98.28,77.94,99.15,60.33,98.27,48.73,42.44,41.98,67.89,44.98,70.73,59.65,60.14,78.14,49.79,85.99,74.92,94.9,61.89,98.96,74.55,98.4,41.62,83.68,89.0,43.19,74.74,88.12,73.66,43.83,81.61,43.64,89.05,42.58,48.24,56.51,78.0,98.58,47.07,48.56,62.13,90.17,68.03,59.3,73.67,55.63,64.07,59.96,88.25,95.46,85.57,66.35,70.26,47.5,84.81,75.79,94.15,52.04,85.58,81.08,55.95,80.04,95.46,95.11,83.18,42.88,92.34,79.47,58.63,51.24,46.97,43.01,85.25,54.15,41.46,63.84,68.96,50.15,42.64,51.35,80.75,44.93,73.3,48.78,51.74,63.58,46.05,50.39,60.94,59.78,84.96,44.49,91.63,88.97,85.96,58.56,89.37,50.97,47.46,42.7,96.36,58.48,95.06,56.36,94.45,94.24,95.42,69.77,91.96,97.05,59.48,65.13,83.15,58.02,85.23,44.43,71.41,47.34,57.6,55.52,90.34,51.61,88.51,87.64,69.93,54.03,53.61,67.9,40.53,71.88,97.17,49.28,74.4,97.71,91.63,91.02,89.31,58.54,93.44,96.48,69.75,61.27,64.85,60.05,52.75,77.11,73.76,67.76,45.75,87.81,50.5,46.87,77.38,63.92,43.59,61.33,86.31,76.91,61.77,51.51,77.91,93.25,78.78,88.77,71.29,83.08,93.77,86.39,94.59,65.87,94.25,77.29,92.2,42.36,79.47,90.88,50.45,79.71,89.5,57.28,64.31,74.17,71.15,42.35,45.92,46.03,55.74,54.75,84.53,74.36,85.84,44.19,69.11,59.43,91.0,82.47,92.16,42.79,83.25,72.4,89.5,70.43,72.41,43.11,80.11,56.39,41.18,43.99,97.44,60.76,92.08,97.58,96.6,92.9,93.69,57.34,49.09,78.36,69.29,45.92,80.65,73.77,91.78,76.55,74.44,66.45,67.77,97.26,48.31,66.77,79.35,65.98,56.99,57.24,54.02,60.63,92.3,70.31,54.41,63.07,46.35,94.24,64.49,98.82,60.85,90.18,55.38,44.57,41.9,76.37,58.69,66.61,89.12,54.89,58.52,90.72,69.57,89.66,62.47,63.9,50.03,94.98,93.81,99.05,64.15,89.12,64.9,67.26,89.8,50.64,53.22,58.88,87.29,62.36,61.49,99.93,63.03,54.87,77.39,88.11,44.18,77.13,42.14,71.58,55.42,58.4,68.03,95.63,82.64,96.21,79.6,40.43,55.94,94.35,78.61,98.9,49.36,57.8,61.74,59.59,55.12,66.61,78.54,58.68,44.78,82.51,67.54,73.39,67.32,93.42,73.52,95.4,70.63,57.56,61.33,71.33,71.8,81.24,53.47,79.53,86.72,80.6,68.91,99.5,64.29,46.4,89.29,52.73,82.8,50.74,41.01,49.59,62.62,46.4,51.86,85.88,86.19,89.05,90.47,65.23,92.05,71.56,68.24,83.11,52.83,87.37,65.77,47.64,47.16,49.89,93.43,99.46,61.42,57.53,53.13,89.43,52.55,95.45,80.04,93.83,73.24,81.44,77.17,89.87,90.15,75.39,77.95,95.31,95.79,79.85,40.47,46.26,91.48,45.08,52.81,53.83,76.01,74.6,57.37,52.46,85.87,96.13,43.17,47.99,78.53,88.27,87.47,83.18,93.25,53.04,46.44,76.92,89.34,74.92,97.78,87.73,82.05,43.62,46.46,87.09,51.89,41.73,94.65,93.45,53.11,86.81,42.88,57.1,77.42,85.79,40.62,59.57,52.86,99.93,80.26,64.34,44.54,75.92,78.5,88.98,57.31,98.89,66.37,57.76,60.91,71.18,96.2,84.11,74.63,49.77,48.96,70.13,83.72,85.06,53.55,46.01,63.07,95.09,72.72,59.21,59.42,47.93,68.39,87.48,98.11,70.1,50.03,80.98,85.41,44.3,91.01,89.76,68.35,73.63,82.8,80.6,40.99,47.35,49.76,85.34,66.41,72.73,86.36,60.46,84.93,66.54,62.63,59.98,97.9,86.32,41.21,97.44,86.53,48.95,44.58,58.49,77.45,76.99,56.55,66.74,52.71,43.03,71.02,60.82,72.57,96.79,48.6,40.12,44.61,67.76,82.42,74.85,69.69,61.24,58.6,62.58,76.7,50.07,86.28,74.52,56.15,70.07,97.77,41.23,51.97,66.9,78.31,52.73,95.88,78.55,92.65,59.76,89.74,62.69,55.17,94.7,45.53,96.57,67.51,99.56,72.38,85.45,40.42,69.8,84.25,86.97,49.48,65.14,65.14,46.22,66.58,88.43,58.01,65.95,97.66,41.9,75.49,84.61,85.65,82.96,83.59,43.54,72.05,86.98,45.64,40.72,88.87,82.74,64.73,96.42,86.0,98.07,95.76,68.88,85.28,80.15,88.69,87.26,49.19,54.02,55.94,89.11,88.64,69.72,74.85,89.62,58.76,43.01,68.96,94.82,87.43,62.0,43.89,78.22,90.07,79.9,65.5,47.4,94.65,56.56,53.46,88.96,98.87,79.61,77.49,59.17,41.22,51.51,75.07,49.08,93.03,51.29,71.33,70.72,76.24,59.65,92.41,66.66,82.01,78.15,47.03,77.36,73.04,93.92,92.85,49.06,44.9,57.68,99.2,41.29,80.37,76.51,78.79,53.1,53.6,65.84,45.75,44.48,45.3,74.38,63.86,57.62,58.95,52.44,64.69,52.18,81.88,47.44,96.89,45.39,96.61,90.0,80.84,94.74,48.35,50.58,55.13,54.69,58.65,74.54,41.69,62.94,54.78,76.4,99.11,71.06,65.54,62.09,87.1,44.32,97.59,65.08,58.82,98.44,96.15,78.52,41.11,84.91,60.13,63.3,49.52,71.41,84.67,56.38,96.32,51.68,43.98,78.66,90.96,97.19,86.03,51.98,98.66,95.17,49.79,73.53,73.33,66.55,99.06,43.58,77.63,52.32,71.64,86.78,54.8,63.6,97.05,85.69,74.36,53.32,65.52,86.44,89.23,54.68,79.72,45.7,41.39,72.92,53.46,44.73,83.79,69.88,87.78,79.84,83.79,58.44,55.8,76.05,52.0,88.92,71.38,53.62,77.51,96.7,44.93,46.56,90.63,46.58,42.36,60.88,68.0,74.17,70.44,94.79,86.12,99.03,68.59,45.06,97.33,40.25,86.57,41.88,85.67,96.28,63.36,54.46,53.58,69.5,50.25,80.38,62.1,59.39,67.68,72.56,48.52,82.47,92.98,56.68,50.82,85.63,51.01,42.48,77.15,54.39,50.31,98.9,57.51,94.21,50.69,89.14,70.12,44.72,84.02,93.52,49.78,83.54,66.7,85.23,82.84,41.6,50.72,68.26,96.02,60.52,77.73,40.73,82.67,76.18,82.92,94.28,48.79,55.7,99.75,49.38,83.24,83.5,80.98,53.65,52.91,79.98,51.18,79.69,69.55,63.2,58.01,96.85,70.49,73.68,96.96,79.23,97.47,46.38,90.8,60.12,88.63,91.34,56.29,64.53,83.56,45.94,85.33,46.63,94.87,56.58,74.54,47.03,56.17,64.24,69.22,40.0,93.32,40.46,86.42,68.23,71.43,52.5,76.44,72.23,49.85,54.29,44.01,43.98,40.83,53.23,80.78,58.97,60.56,47.91,74.53,60.53,80.58,84.49,75.08,56.56,70.52,55.12,94.17,85.98,69.58,97.93,72.81,59.71,45.73,72.62,91.62,92.0,76.27,63.61,79.02,85.73,64.7,68.58,80.84,92.6,87.46,41.34,47.46,91.17,90.03,63.33,75.06,94.35,94.69,86.99,52.58,83.82,46.07,93.64,48.95,79.74,76.61,86.61,73.09,43.57,82.35,62.99,59.22,99.5,75.42,82.64,71.58,86.2,85.12,79.43,99.86,67.59,82.37,87.87,62.56,67.43,98.15,41.94,60.12,69.17,40.09,93.95,57.17,55.46,89.22,56.68,79.46,89.29,87.55,86.92,45.32,44.79,58.41,42.16,70.03,63.69,73.42,57.93,69.15,60.08,51.71,78.96,80.41,89.75,92.49,82.27,81.25,43.4,46.59,88.75,53.98,61.33,48.72,51.71,86.53,55.71,66.94,49.1,80.68,83.7,61.7,87.08,54.39,81.51,83.8,98.12,53.94,45.62,55.78,47.37,50.18,60.05,64.84,94.22,51.74,98.31,88.61,92.89,95.77,85.19,87.33,66.27,70.63,95.95,62.7,42.52,85.77,74.39,88.89,44.53,77.27,54.86,94.2,46.59,90.58,45.31,41.51,54.1,59.98,77.59,47.9,66.24,52.26,91.32,42.7,61.36,77.88,94.79,92.08,93.71,43.77,90.46,86.79,94.15,58.69,94.71,64.16,78.05,65.45,65.66,72.8,61.36,87.56,78.02,81.39,53.86,98.17,79.61,51.83,85.03,50.42,43.8,71.65,73.21,51.34,60.9,96.75,57.1,49.33,99.55,58.14,80.82,53.89,73.01,63.18,97.69,65.97,75.05,96.69,99.35,46.1,90.06,62.93,75.69,62.5,64.07,49.53,74.37,72.8,51.36,72.5,98.39,82.86,68.86,94.97,74.52,48.1,72.85,50.86,86.05,98.03,61.65,66.1,65.29,57.12,87.65,77.06,43.84,90.33,51.23,98.75,62.6,76.99,44.67,60.68,88.14,68.63,94.28,74.51,95.71,98.96,67.23,73.91,90.1,53.29,91.7,75.52,83.53,44.79,85.97,58.65,88.31,70.55,56.48,97.17,85.9,99.14,61.87,78.95,76.7,81.25,42.3,57.5,94.56,65.43,97.64,52.81,99.85,81.85,86.58,63.81,94.42,72.73,80.86,45.69,77.9,92.74,50.7,84.26,41.52,95.57,98.98,61.25,46.42,79.51,41.79,68.95,56.31,68.4,41.1,43.1,40.96,77.15,73.61,53.99,78.8,93.05,56.64,89.92,79.75,42.03,62.51,70.47,83.9,57.23,98.96,81.07,62.37,45.82,50.88,69.26,69.68,86.06,83.57,52.08,75.7,41.24,63.91,85.85,63.97,90.14,98.57,76.43,48.7,62.78,40.57,76.16,89.29,77.8,87.17,87.99,91.06,56.0,92.28,79.25,57.38,99.24,97.01,74.47,90.59,55.69,64.96,51.04,71.21,69.76,52.77,80.37,47.07,43.7,63.09,64.59,59.18,55.48,60.33,49.8,64.21,94.28,53.47],\"xaxis\":\"x\",\"yaxis\":\"y\",\"type\":\"histogram\"}],                        {\"template\":{\"data\":{\"bar\":[{\"error_x\":{\"color\":\"#2a3f5f\"},\"error_y\":{\"color\":\"#2a3f5f\"},\"marker\":{\"line\":{\"color\":\"#E5ECF6\",\"width\":0.5},\"pattern\":{\"fillmode\":\"overlay\",\"size\":10,\"solidity\":0.2}},\"type\":\"bar\"}],\"barpolar\":[{\"marker\":{\"line\":{\"color\":\"#E5ECF6\",\"width\":0.5},\"pattern\":{\"fillmode\":\"overlay\",\"size\":10,\"solidity\":0.2}},\"type\":\"barpolar\"}],\"carpet\":[{\"aaxis\":{\"endlinecolor\":\"#2a3f5f\",\"gridcolor\":\"white\",\"linecolor\":\"white\",\"minorgridcolor\":\"white\",\"startlinecolor\":\"#2a3f5f\"},\"baxis\":{\"endlinecolor\":\"#2a3f5f\",\"gridcolor\":\"white\",\"linecolor\":\"white\",\"minorgridcolor\":\"white\",\"startlinecolor\":\"#2a3f5f\"},\"type\":\"carpet\"}],\"choropleth\":[{\"colorbar\":{\"outlinewidth\":0,\"ticks\":\"\"},\"type\":\"choropleth\"}],\"contour\":[{\"colorbar\":{\"outlinewidth\":0,\"ticks\":\"\"},\"colorscale\":[[0.0,\"#0d0887\"],[0.1111111111111111,\"#46039f\"],[0.2222222222222222,\"#7201a8\"],[0.3333333333333333,\"#9c179e\"],[0.4444444444444444,\"#bd3786\"],[0.5555555555555556,\"#d8576b\"],[0.6666666666666666,\"#ed7953\"],[0.7777777777777778,\"#fb9f3a\"],[0.8888888888888888,\"#fdca26\"],[1.0,\"#f0f921\"]],\"type\":\"contour\"}],\"contourcarpet\":[{\"colorbar\":{\"outlinewidth\":0,\"ticks\":\"\"},\"type\":\"contourcarpet\"}],\"heatmap\":[{\"colorbar\":{\"outlinewidth\":0,\"ticks\":\"\"},\"colorscale\":[[0.0,\"#0d0887\"],[0.1111111111111111,\"#46039f\"],[0.2222222222222222,\"#7201a8\"],[0.3333333333333333,\"#9c179e\"],[0.4444444444444444,\"#bd3786\"],[0.5555555555555556,\"#d8576b\"],[0.6666666666666666,\"#ed7953\"],[0.7777777777777778,\"#fb9f3a\"],[0.8888888888888888,\"#fdca26\"],[1.0,\"#f0f921\"]],\"type\":\"heatmap\"}],\"heatmapgl\":[{\"colorbar\":{\"outlinewidth\":0,\"ticks\":\"\"},\"colorscale\":[[0.0,\"#0d0887\"],[0.1111111111111111,\"#46039f\"],[0.2222222222222222,\"#7201a8\"],[0.3333333333333333,\"#9c179e\"],[0.4444444444444444,\"#bd3786\"],[0.5555555555555556,\"#d8576b\"],[0.6666666666666666,\"#ed7953\"],[0.7777777777777778,\"#fb9f3a\"],[0.8888888888888888,\"#fdca26\"],[1.0,\"#f0f921\"]],\"type\":\"heatmapgl\"}],\"histogram\":[{\"marker\":{\"pattern\":{\"fillmode\":\"overlay\",\"size\":10,\"solidity\":0.2}},\"type\":\"histogram\"}],\"histogram2d\":[{\"colorbar\":{\"outlinewidth\":0,\"ticks\":\"\"},\"colorscale\":[[0.0,\"#0d0887\"],[0.1111111111111111,\"#46039f\"],[0.2222222222222222,\"#7201a8\"],[0.3333333333333333,\"#9c179e\"],[0.4444444444444444,\"#bd3786\"],[0.5555555555555556,\"#d8576b\"],[0.6666666666666666,\"#ed7953\"],[0.7777777777777778,\"#fb9f3a\"],[0.8888888888888888,\"#fdca26\"],[1.0,\"#f0f921\"]],\"type\":\"histogram2d\"}],\"histogram2dcontour\":[{\"colorbar\":{\"outlinewidth\":0,\"ticks\":\"\"},\"colorscale\":[[0.0,\"#0d0887\"],[0.1111111111111111,\"#46039f\"],[0.2222222222222222,\"#7201a8\"],[0.3333333333333333,\"#9c179e\"],[0.4444444444444444,\"#bd3786\"],[0.5555555555555556,\"#d8576b\"],[0.6666666666666666,\"#ed7953\"],[0.7777777777777778,\"#fb9f3a\"],[0.8888888888888888,\"#fdca26\"],[1.0,\"#f0f921\"]],\"type\":\"histogram2dcontour\"}],\"mesh3d\":[{\"colorbar\":{\"outlinewidth\":0,\"ticks\":\"\"},\"type\":\"mesh3d\"}],\"parcoords\":[{\"line\":{\"colorbar\":{\"outlinewidth\":0,\"ticks\":\"\"}},\"type\":\"parcoords\"}],\"pie\":[{\"automargin\":true,\"type\":\"pie\"}],\"scatter\":[{\"marker\":{\"colorbar\":{\"outlinewidth\":0,\"ticks\":\"\"}},\"type\":\"scatter\"}],\"scatter3d\":[{\"line\":{\"colorbar\":{\"outlinewidth\":0,\"ticks\":\"\"}},\"marker\":{\"colorbar\":{\"outlinewidth\":0,\"ticks\":\"\"}},\"type\":\"scatter3d\"}],\"scattercarpet\":[{\"marker\":{\"colorbar\":{\"outlinewidth\":0,\"ticks\":\"\"}},\"type\":\"scattercarpet\"}],\"scattergeo\":[{\"marker\":{\"colorbar\":{\"outlinewidth\":0,\"ticks\":\"\"}},\"type\":\"scattergeo\"}],\"scattergl\":[{\"marker\":{\"colorbar\":{\"outlinewidth\":0,\"ticks\":\"\"}},\"type\":\"scattergl\"}],\"scattermapbox\":[{\"marker\":{\"colorbar\":{\"outlinewidth\":0,\"ticks\":\"\"}},\"type\":\"scattermapbox\"}],\"scatterpolar\":[{\"marker\":{\"colorbar\":{\"outlinewidth\":0,\"ticks\":\"\"}},\"type\":\"scatterpolar\"}],\"scatterpolargl\":[{\"marker\":{\"colorbar\":{\"outlinewidth\":0,\"ticks\":\"\"}},\"type\":\"scatterpolargl\"}],\"scatterternary\":[{\"marker\":{\"colorbar\":{\"outlinewidth\":0,\"ticks\":\"\"}},\"type\":\"scatterternary\"}],\"surface\":[{\"colorbar\":{\"outlinewidth\":0,\"ticks\":\"\"},\"colorscale\":[[0.0,\"#0d0887\"],[0.1111111111111111,\"#46039f\"],[0.2222222222222222,\"#7201a8\"],[0.3333333333333333,\"#9c179e\"],[0.4444444444444444,\"#bd3786\"],[0.5555555555555556,\"#d8576b\"],[0.6666666666666666,\"#ed7953\"],[0.7777777777777778,\"#fb9f3a\"],[0.8888888888888888,\"#fdca26\"],[1.0,\"#f0f921\"]],\"type\":\"surface\"}],\"table\":[{\"cells\":{\"fill\":{\"color\":\"#EBF0F8\"},\"line\":{\"color\":\"white\"}},\"header\":{\"fill\":{\"color\":\"#C8D4E3\"},\"line\":{\"color\":\"white\"}},\"type\":\"table\"}]},\"layout\":{\"annotationdefaults\":{\"arrowcolor\":\"#2a3f5f\",\"arrowhead\":0,\"arrowwidth\":1},\"autotypenumbers\":\"strict\",\"coloraxis\":{\"colorbar\":{\"outlinewidth\":0,\"ticks\":\"\"}},\"colorscale\":{\"diverging\":[[0,\"#8e0152\"],[0.1,\"#c51b7d\"],[0.2,\"#de77ae\"],[0.3,\"#f1b6da\"],[0.4,\"#fde0ef\"],[0.5,\"#f7f7f7\"],[0.6,\"#e6f5d0\"],[0.7,\"#b8e186\"],[0.8,\"#7fbc41\"],[0.9,\"#4d9221\"],[1,\"#276419\"]],\"sequential\":[[0.0,\"#0d0887\"],[0.1111111111111111,\"#46039f\"],[0.2222222222222222,\"#7201a8\"],[0.3333333333333333,\"#9c179e\"],[0.4444444444444444,\"#bd3786\"],[0.5555555555555556,\"#d8576b\"],[0.6666666666666666,\"#ed7953\"],[0.7777777777777778,\"#fb9f3a\"],[0.8888888888888888,\"#fdca26\"],[1.0,\"#f0f921\"]],\"sequentialminus\":[[0.0,\"#0d0887\"],[0.1111111111111111,\"#46039f\"],[0.2222222222222222,\"#7201a8\"],[0.3333333333333333,\"#9c179e\"],[0.4444444444444444,\"#bd3786\"],[0.5555555555555556,\"#d8576b\"],[0.6666666666666666,\"#ed7953\"],[0.7777777777777778,\"#fb9f3a\"],[0.8888888888888888,\"#fdca26\"],[1.0,\"#f0f921\"]]},\"colorway\":[\"#636efa\",\"#EF553B\",\"#00cc96\",\"#ab63fa\",\"#FFA15A\",\"#19d3f3\",\"#FF6692\",\"#B6E880\",\"#FF97FF\",\"#FECB52\"],\"font\":{\"color\":\"#2a3f5f\"},\"geo\":{\"bgcolor\":\"white\",\"lakecolor\":\"white\",\"landcolor\":\"#E5ECF6\",\"showlakes\":true,\"showland\":true,\"subunitcolor\":\"white\"},\"hoverlabel\":{\"align\":\"left\"},\"hovermode\":\"closest\",\"mapbox\":{\"style\":\"light\"},\"paper_bgcolor\":\"white\",\"plot_bgcolor\":\"#E5ECF6\",\"polar\":{\"angularaxis\":{\"gridcolor\":\"white\",\"linecolor\":\"white\",\"ticks\":\"\"},\"bgcolor\":\"#E5ECF6\",\"radialaxis\":{\"gridcolor\":\"white\",\"linecolor\":\"white\",\"ticks\":\"\"}},\"scene\":{\"xaxis\":{\"backgroundcolor\":\"#E5ECF6\",\"gridcolor\":\"white\",\"gridwidth\":2,\"linecolor\":\"white\",\"showbackground\":true,\"ticks\":\"\",\"zerolinecolor\":\"white\"},\"yaxis\":{\"backgroundcolor\":\"#E5ECF6\",\"gridcolor\":\"white\",\"gridwidth\":2,\"linecolor\":\"white\",\"showbackground\":true,\"ticks\":\"\",\"zerolinecolor\":\"white\"},\"zaxis\":{\"backgroundcolor\":\"#E5ECF6\",\"gridcolor\":\"white\",\"gridwidth\":2,\"linecolor\":\"white\",\"showbackground\":true,\"ticks\":\"\",\"zerolinecolor\":\"white\"}},\"shapedefaults\":{\"line\":{\"color\":\"#2a3f5f\"}},\"ternary\":{\"aaxis\":{\"gridcolor\":\"white\",\"linecolor\":\"white\",\"ticks\":\"\"},\"baxis\":{\"gridcolor\":\"white\",\"linecolor\":\"white\",\"ticks\":\"\"},\"bgcolor\":\"#E5ECF6\",\"caxis\":{\"gridcolor\":\"white\",\"linecolor\":\"white\",\"ticks\":\"\"}},\"title\":{\"x\":0.05},\"xaxis\":{\"automargin\":true,\"gridcolor\":\"white\",\"linecolor\":\"white\",\"ticks\":\"\",\"title\":{\"standoff\":15},\"zerolinecolor\":\"white\",\"zerolinewidth\":2},\"yaxis\":{\"automargin\":true,\"gridcolor\":\"white\",\"linecolor\":\"white\",\"ticks\":\"\",\"title\":{\"standoff\":15},\"zerolinecolor\":\"white\",\"zerolinewidth\":2}}},\"xaxis\":{\"anchor\":\"y\",\"domain\":[0.0,1.0],\"title\":{\"text\":\"Nota_Final\"}},\"yaxis\":{\"anchor\":\"x\",\"domain\":[0.0,1.0],\"title\":{\"text\":\"count\"}},\"legend\":{\"tracegroupgap\":0},\"title\":{\"text\":\"Distribui\\u00e7\\u00e3o das Notas Finais\"},\"barmode\":\"relative\"},                        {\"responsive\": true}                    )                };                            </script>        </div>\n</body>\n</html>",
       "datasetInfos": [],
       "metadata": {},
       "removedWidgets": [],
       "textData": null,
       "type": "htmlSandbox"
      }
     },
     "output_type": "display_data"
    }
   ],
   "source": [
    "# histogram dos dados: distribuição de idade e distribuição de notas. \n",
    "\n",
    "import importlib.util\n",
    "import subprocess\n",
    "\n",
    "# Verifica se a biblioteca Plotly está instalada, caso contrário, instala\n",
    "\n",
    "package_name = \"plotly\"\n",
    "\n",
    "if importlib.util.find_spec(package_name) is None:\n",
    "    print(f\"{package_name} não encontrado. Instalando...\")\n",
    "    subprocess.run([\"pip\", \"install\", package_name])\n",
    "else:\n",
    "    print(f\"{package_name} OK!\")\n",
    "\n",
    "#------------------------------\n",
    "\n",
    "import plotly.express as px\n",
    "\n",
    "# Verificar se 'Age' existe na tabela alunos\n",
    "df_check = spark.sql(\"SHOW COLUMNS IN default.alunos\").toPandas()\n",
    "if 'Age' not in df_check['col_name'].values:\n",
    "    raise ValueError(\"A coluna 'Age' não existe na tabela 'alunos'. Verifique os nomes das colunas.\")\n",
    "\n",
    "# Criar DataFrame unindo as tabelas (Age e Nota_Final)\n",
    "query = \"\"\"\n",
    "SELECT A.Age, F.Nota_Final \n",
    "FROM default.alunos A\n",
    "JOIN default.fato_desempenho F \n",
    "ON A.ID_Aluno = F.ID_Aluno\n",
    "WHERE A.Age IS NOT NULL AND F.Nota_Final IS NOT NULL\n",
    "\"\"\"\n",
    "\n",
    "df = spark.sql(query).toPandas()\n",
    "\n",
    "# Criar histograma da distribuição de idades\n",
    "fig1 = px.histogram(df, x=\"Age\", nbins=20, title=\"Distribuição de Idades - Alunos\")\n",
    "fig1.show()\n",
    "\n",
    "# Criar histograma da distribuição de notas finais\n",
    "fig2 = px.histogram(df, x=\"Nota_Final\", nbins=20, title=\"Distribuição das Notas Finais\")\n",
    "fig2.show()"
   ]
  },
  {
   "cell_type": "code",
   "execution_count": 0,
   "metadata": {
    "application/vnd.databricks.v1+cell": {
     "cellMetadata": {
      "byteLimit": 2048000,
      "rowLimit": 10000
     },
     "collapsed": true,
     "inputWidgets": {},
     "nuid": "19d312d2-a68e-4a3d-97de-d1cb487d5916",
     "showTitle": false,
     "tableResultSettingsMap": {},
     "title": ""
    }
   },
   "outputs": [
    {
     "output_type": "display_data",
     "data": {
      "text/html": [
       "<html>\n",
       "<head><meta charset=\"utf-8\" /></head>\n",
       "<body>\n",
       "    <div>            <script src=\"https://cdnjs.cloudflare.com/ajax/libs/mathjax/2.7.5/MathJax.js?config=TeX-AMS-MML_SVG\"></script><script type=\"text/javascript\">if (window.MathJax) {MathJax.Hub.Config({SVG: {font: \"STIX-Web\"}});}</script>                <script type=\"text/javascript\">window.PlotlyConfig = {MathJaxConfig: 'local'};</script>\n",
       "        <script src=\"https://cdn.plot.ly/plotly-2.9.0.min.js\"></script>                <div id=\"6a699447-f5a3-4e51-94f7-e4dbcb337ad8\" class=\"plotly-graph-div\" style=\"height:100%; width:100%;\"></div>            <script type=\"text/javascript\">                                    window.PLOTLYENV=window.PLOTLYENV || {};                                    if (document.getElementById(\"6a699447-f5a3-4e51-94f7-e4dbcb337ad8\")) {                    Plotly.newPlot(                        \"6a699447-f5a3-4e51-94f7-e4dbcb337ad8\",                        [{\"alignmentgroup\":\"True\",\"hovertemplate\":\"Status=%{x}<br>Quantidade=%{text}<extra></extra>\",\"legendgroup\":\"\",\"marker\":{\"color\":\"#636efa\",\"pattern\":{\"shape\":\"\"}},\"name\":\"\",\"offsetgroup\":\"\",\"orientation\":\"v\",\"showlegend\":false,\"text\":[39016.0,984.0],\"textposition\":\"outside\",\"x\":[\"V\\u00e1lidos\",\"Nulos\"],\"xaxis\":\"x\",\"y\":[39016,984],\"yaxis\":\"y\",\"type\":\"bar\"}],                        {\"template\":{\"data\":{\"bar\":[{\"error_x\":{\"color\":\"#2a3f5f\"},\"error_y\":{\"color\":\"#2a3f5f\"},\"marker\":{\"line\":{\"color\":\"#E5ECF6\",\"width\":0.5},\"pattern\":{\"fillmode\":\"overlay\",\"size\":10,\"solidity\":0.2}},\"type\":\"bar\"}],\"barpolar\":[{\"marker\":{\"line\":{\"color\":\"#E5ECF6\",\"width\":0.5},\"pattern\":{\"fillmode\":\"overlay\",\"size\":10,\"solidity\":0.2}},\"type\":\"barpolar\"}],\"carpet\":[{\"aaxis\":{\"endlinecolor\":\"#2a3f5f\",\"gridcolor\":\"white\",\"linecolor\":\"white\",\"minorgridcolor\":\"white\",\"startlinecolor\":\"#2a3f5f\"},\"baxis\":{\"endlinecolor\":\"#2a3f5f\",\"gridcolor\":\"white\",\"linecolor\":\"white\",\"minorgridcolor\":\"white\",\"startlinecolor\":\"#2a3f5f\"},\"type\":\"carpet\"}],\"choropleth\":[{\"colorbar\":{\"outlinewidth\":0,\"ticks\":\"\"},\"type\":\"choropleth\"}],\"contour\":[{\"colorbar\":{\"outlinewidth\":0,\"ticks\":\"\"},\"colorscale\":[[0.0,\"#0d0887\"],[0.1111111111111111,\"#46039f\"],[0.2222222222222222,\"#7201a8\"],[0.3333333333333333,\"#9c179e\"],[0.4444444444444444,\"#bd3786\"],[0.5555555555555556,\"#d8576b\"],[0.6666666666666666,\"#ed7953\"],[0.7777777777777778,\"#fb9f3a\"],[0.8888888888888888,\"#fdca26\"],[1.0,\"#f0f921\"]],\"type\":\"contour\"}],\"contourcarpet\":[{\"colorbar\":{\"outlinewidth\":0,\"ticks\":\"\"},\"type\":\"contourcarpet\"}],\"heatmap\":[{\"colorbar\":{\"outlinewidth\":0,\"ticks\":\"\"},\"colorscale\":[[0.0,\"#0d0887\"],[0.1111111111111111,\"#46039f\"],[0.2222222222222222,\"#7201a8\"],[0.3333333333333333,\"#9c179e\"],[0.4444444444444444,\"#bd3786\"],[0.5555555555555556,\"#d8576b\"],[0.6666666666666666,\"#ed7953\"],[0.7777777777777778,\"#fb9f3a\"],[0.8888888888888888,\"#fdca26\"],[1.0,\"#f0f921\"]],\"type\":\"heatmap\"}],\"heatmapgl\":[{\"colorbar\":{\"outlinewidth\":0,\"ticks\":\"\"},\"colorscale\":[[0.0,\"#0d0887\"],[0.1111111111111111,\"#46039f\"],[0.2222222222222222,\"#7201a8\"],[0.3333333333333333,\"#9c179e\"],[0.4444444444444444,\"#bd3786\"],[0.5555555555555556,\"#d8576b\"],[0.6666666666666666,\"#ed7953\"],[0.7777777777777778,\"#fb9f3a\"],[0.8888888888888888,\"#fdca26\"],[1.0,\"#f0f921\"]],\"type\":\"heatmapgl\"}],\"histogram\":[{\"marker\":{\"pattern\":{\"fillmode\":\"overlay\",\"size\":10,\"solidity\":0.2}},\"type\":\"histogram\"}],\"histogram2d\":[{\"colorbar\":{\"outlinewidth\":0,\"ticks\":\"\"},\"colorscale\":[[0.0,\"#0d0887\"],[0.1111111111111111,\"#46039f\"],[0.2222222222222222,\"#7201a8\"],[0.3333333333333333,\"#9c179e\"],[0.4444444444444444,\"#bd3786\"],[0.5555555555555556,\"#d8576b\"],[0.6666666666666666,\"#ed7953\"],[0.7777777777777778,\"#fb9f3a\"],[0.8888888888888888,\"#fdca26\"],[1.0,\"#f0f921\"]],\"type\":\"histogram2d\"}],\"histogram2dcontour\":[{\"colorbar\":{\"outlinewidth\":0,\"ticks\":\"\"},\"colorscale\":[[0.0,\"#0d0887\"],[0.1111111111111111,\"#46039f\"],[0.2222222222222222,\"#7201a8\"],[0.3333333333333333,\"#9c179e\"],[0.4444444444444444,\"#bd3786\"],[0.5555555555555556,\"#d8576b\"],[0.6666666666666666,\"#ed7953\"],[0.7777777777777778,\"#fb9f3a\"],[0.8888888888888888,\"#fdca26\"],[1.0,\"#f0f921\"]],\"type\":\"histogram2dcontour\"}],\"mesh3d\":[{\"colorbar\":{\"outlinewidth\":0,\"ticks\":\"\"},\"type\":\"mesh3d\"}],\"parcoords\":[{\"line\":{\"colorbar\":{\"outlinewidth\":0,\"ticks\":\"\"}},\"type\":\"parcoords\"}],\"pie\":[{\"automargin\":true,\"type\":\"pie\"}],\"scatter\":[{\"marker\":{\"colorbar\":{\"outlinewidth\":0,\"ticks\":\"\"}},\"type\":\"scatter\"}],\"scatter3d\":[{\"line\":{\"colorbar\":{\"outlinewidth\":0,\"ticks\":\"\"}},\"marker\":{\"colorbar\":{\"outlinewidth\":0,\"ticks\":\"\"}},\"type\":\"scatter3d\"}],\"scattercarpet\":[{\"marker\":{\"colorbar\":{\"outlinewidth\":0,\"ticks\":\"\"}},\"type\":\"scattercarpet\"}],\"scattergeo\":[{\"marker\":{\"colorbar\":{\"outlinewidth\":0,\"ticks\":\"\"}},\"type\":\"scattergeo\"}],\"scattergl\":[{\"marker\":{\"colorbar\":{\"outlinewidth\":0,\"ticks\":\"\"}},\"type\":\"scattergl\"}],\"scattermapbox\":[{\"marker\":{\"colorbar\":{\"outlinewidth\":0,\"ticks\":\"\"}},\"type\":\"scattermapbox\"}],\"scatterpolar\":[{\"marker\":{\"colorbar\":{\"outlinewidth\":0,\"ticks\":\"\"}},\"type\":\"scatterpolar\"}],\"scatterpolargl\":[{\"marker\":{\"colorbar\":{\"outlinewidth\":0,\"ticks\":\"\"}},\"type\":\"scatterpolargl\"}],\"scatterternary\":[{\"marker\":{\"colorbar\":{\"outlinewidth\":0,\"ticks\":\"\"}},\"type\":\"scatterternary\"}],\"surface\":[{\"colorbar\":{\"outlinewidth\":0,\"ticks\":\"\"},\"colorscale\":[[0.0,\"#0d0887\"],[0.1111111111111111,\"#46039f\"],[0.2222222222222222,\"#7201a8\"],[0.3333333333333333,\"#9c179e\"],[0.4444444444444444,\"#bd3786\"],[0.5555555555555556,\"#d8576b\"],[0.6666666666666666,\"#ed7953\"],[0.7777777777777778,\"#fb9f3a\"],[0.8888888888888888,\"#fdca26\"],[1.0,\"#f0f921\"]],\"type\":\"surface\"}],\"table\":[{\"cells\":{\"fill\":{\"color\":\"#EBF0F8\"},\"line\":{\"color\":\"white\"}},\"header\":{\"fill\":{\"color\":\"#C8D4E3\"},\"line\":{\"color\":\"white\"}},\"type\":\"table\"}]},\"layout\":{\"annotationdefaults\":{\"arrowcolor\":\"#2a3f5f\",\"arrowhead\":0,\"arrowwidth\":1},\"autotypenumbers\":\"strict\",\"coloraxis\":{\"colorbar\":{\"outlinewidth\":0,\"ticks\":\"\"}},\"colorscale\":{\"diverging\":[[0,\"#8e0152\"],[0.1,\"#c51b7d\"],[0.2,\"#de77ae\"],[0.3,\"#f1b6da\"],[0.4,\"#fde0ef\"],[0.5,\"#f7f7f7\"],[0.6,\"#e6f5d0\"],[0.7,\"#b8e186\"],[0.8,\"#7fbc41\"],[0.9,\"#4d9221\"],[1,\"#276419\"]],\"sequential\":[[0.0,\"#0d0887\"],[0.1111111111111111,\"#46039f\"],[0.2222222222222222,\"#7201a8\"],[0.3333333333333333,\"#9c179e\"],[0.4444444444444444,\"#bd3786\"],[0.5555555555555556,\"#d8576b\"],[0.6666666666666666,\"#ed7953\"],[0.7777777777777778,\"#fb9f3a\"],[0.8888888888888888,\"#fdca26\"],[1.0,\"#f0f921\"]],\"sequentialminus\":[[0.0,\"#0d0887\"],[0.1111111111111111,\"#46039f\"],[0.2222222222222222,\"#7201a8\"],[0.3333333333333333,\"#9c179e\"],[0.4444444444444444,\"#bd3786\"],[0.5555555555555556,\"#d8576b\"],[0.6666666666666666,\"#ed7953\"],[0.7777777777777778,\"#fb9f3a\"],[0.8888888888888888,\"#fdca26\"],[1.0,\"#f0f921\"]]},\"colorway\":[\"#636efa\",\"#EF553B\",\"#00cc96\",\"#ab63fa\",\"#FFA15A\",\"#19d3f3\",\"#FF6692\",\"#B6E880\",\"#FF97FF\",\"#FECB52\"],\"font\":{\"color\":\"#2a3f5f\"},\"geo\":{\"bgcolor\":\"white\",\"lakecolor\":\"white\",\"landcolor\":\"#E5ECF6\",\"showlakes\":true,\"showland\":true,\"subunitcolor\":\"white\"},\"hoverlabel\":{\"align\":\"left\"},\"hovermode\":\"closest\",\"mapbox\":{\"style\":\"light\"},\"paper_bgcolor\":\"white\",\"plot_bgcolor\":\"#E5ECF6\",\"polar\":{\"angularaxis\":{\"gridcolor\":\"white\",\"linecolor\":\"white\",\"ticks\":\"\"},\"bgcolor\":\"#E5ECF6\",\"radialaxis\":{\"gridcolor\":\"white\",\"linecolor\":\"white\",\"ticks\":\"\"}},\"scene\":{\"xaxis\":{\"backgroundcolor\":\"#E5ECF6\",\"gridcolor\":\"white\",\"gridwidth\":2,\"linecolor\":\"white\",\"showbackground\":true,\"ticks\":\"\",\"zerolinecolor\":\"white\"},\"yaxis\":{\"backgroundcolor\":\"#E5ECF6\",\"gridcolor\":\"white\",\"gridwidth\":2,\"linecolor\":\"white\",\"showbackground\":true,\"ticks\":\"\",\"zerolinecolor\":\"white\"},\"zaxis\":{\"backgroundcolor\":\"#E5ECF6\",\"gridcolor\":\"white\",\"gridwidth\":2,\"linecolor\":\"white\",\"showbackground\":true,\"ticks\":\"\",\"zerolinecolor\":\"white\"}},\"shapedefaults\":{\"line\":{\"color\":\"#2a3f5f\"}},\"ternary\":{\"aaxis\":{\"gridcolor\":\"white\",\"linecolor\":\"white\",\"ticks\":\"\"},\"baxis\":{\"gridcolor\":\"white\",\"linecolor\":\"white\",\"ticks\":\"\"},\"bgcolor\":\"#E5ECF6\",\"caxis\":{\"gridcolor\":\"white\",\"linecolor\":\"white\",\"ticks\":\"\"}},\"title\":{\"x\":0.05},\"xaxis\":{\"automargin\":true,\"gridcolor\":\"white\",\"linecolor\":\"white\",\"ticks\":\"\",\"title\":{\"standoff\":15},\"zerolinecolor\":\"white\",\"zerolinewidth\":2},\"yaxis\":{\"automargin\":true,\"gridcolor\":\"white\",\"linecolor\":\"white\",\"ticks\":\"\",\"title\":{\"standoff\":15},\"zerolinecolor\":\"white\",\"zerolinewidth\":2}}},\"xaxis\":{\"anchor\":\"y\",\"domain\":[0.0,1.0],\"title\":{\"text\":\"Status\"}},\"yaxis\":{\"anchor\":\"x\",\"domain\":[0.0,1.0],\"title\":{\"text\":\"Quantidade\"}},\"legend\":{\"tracegroupgap\":0},\"title\":{\"text\":\"Quantidade de Dados - alunos\"},\"barmode\":\"group\"},                        {\"responsive\": true}                    )                };                            </script>        </div>\n",
       "</body>\n",
       "</html>"
      ]
     },
     "metadata": {
      "application/vnd.databricks.v1+output": {
       "addedWidgets": {},
       "arguments": {},
       "data": "<html>\n<head><meta charset=\"utf-8\" /></head>\n<body>\n    <div>            <script src=\"https://cdnjs.cloudflare.com/ajax/libs/mathjax/2.7.5/MathJax.js?config=TeX-AMS-MML_SVG\"></script><script type=\"text/javascript\">if (window.MathJax) {MathJax.Hub.Config({SVG: {font: \"STIX-Web\"}});}</script>                <script type=\"text/javascript\">window.PlotlyConfig = {MathJaxConfig: 'local'};</script>\n        <script src=\"https://cdn.plot.ly/plotly-2.9.0.min.js\"></script>                <div id=\"6a699447-f5a3-4e51-94f7-e4dbcb337ad8\" class=\"plotly-graph-div\" style=\"height:100%; width:100%;\"></div>            <script type=\"text/javascript\">                                    window.PLOTLYENV=window.PLOTLYENV || {};                                    if (document.getElementById(\"6a699447-f5a3-4e51-94f7-e4dbcb337ad8\")) {                    Plotly.newPlot(                        \"6a699447-f5a3-4e51-94f7-e4dbcb337ad8\",                        [{\"alignmentgroup\":\"True\",\"hovertemplate\":\"Status=%{x}<br>Quantidade=%{text}<extra></extra>\",\"legendgroup\":\"\",\"marker\":{\"color\":\"#636efa\",\"pattern\":{\"shape\":\"\"}},\"name\":\"\",\"offsetgroup\":\"\",\"orientation\":\"v\",\"showlegend\":false,\"text\":[39016.0,984.0],\"textposition\":\"outside\",\"x\":[\"V\\u00e1lidos\",\"Nulos\"],\"xaxis\":\"x\",\"y\":[39016,984],\"yaxis\":\"y\",\"type\":\"bar\"}],                        {\"template\":{\"data\":{\"bar\":[{\"error_x\":{\"color\":\"#2a3f5f\"},\"error_y\":{\"color\":\"#2a3f5f\"},\"marker\":{\"line\":{\"color\":\"#E5ECF6\",\"width\":0.5},\"pattern\":{\"fillmode\":\"overlay\",\"size\":10,\"solidity\":0.2}},\"type\":\"bar\"}],\"barpolar\":[{\"marker\":{\"line\":{\"color\":\"#E5ECF6\",\"width\":0.5},\"pattern\":{\"fillmode\":\"overlay\",\"size\":10,\"solidity\":0.2}},\"type\":\"barpolar\"}],\"carpet\":[{\"aaxis\":{\"endlinecolor\":\"#2a3f5f\",\"gridcolor\":\"white\",\"linecolor\":\"white\",\"minorgridcolor\":\"white\",\"startlinecolor\":\"#2a3f5f\"},\"baxis\":{\"endlinecolor\":\"#2a3f5f\",\"gridcolor\":\"white\",\"linecolor\":\"white\",\"minorgridcolor\":\"white\",\"startlinecolor\":\"#2a3f5f\"},\"type\":\"carpet\"}],\"choropleth\":[{\"colorbar\":{\"outlinewidth\":0,\"ticks\":\"\"},\"type\":\"choropleth\"}],\"contour\":[{\"colorbar\":{\"outlinewidth\":0,\"ticks\":\"\"},\"colorscale\":[[0.0,\"#0d0887\"],[0.1111111111111111,\"#46039f\"],[0.2222222222222222,\"#7201a8\"],[0.3333333333333333,\"#9c179e\"],[0.4444444444444444,\"#bd3786\"],[0.5555555555555556,\"#d8576b\"],[0.6666666666666666,\"#ed7953\"],[0.7777777777777778,\"#fb9f3a\"],[0.8888888888888888,\"#fdca26\"],[1.0,\"#f0f921\"]],\"type\":\"contour\"}],\"contourcarpet\":[{\"colorbar\":{\"outlinewidth\":0,\"ticks\":\"\"},\"type\":\"contourcarpet\"}],\"heatmap\":[{\"colorbar\":{\"outlinewidth\":0,\"ticks\":\"\"},\"colorscale\":[[0.0,\"#0d0887\"],[0.1111111111111111,\"#46039f\"],[0.2222222222222222,\"#7201a8\"],[0.3333333333333333,\"#9c179e\"],[0.4444444444444444,\"#bd3786\"],[0.5555555555555556,\"#d8576b\"],[0.6666666666666666,\"#ed7953\"],[0.7777777777777778,\"#fb9f3a\"],[0.8888888888888888,\"#fdca26\"],[1.0,\"#f0f921\"]],\"type\":\"heatmap\"}],\"heatmapgl\":[{\"colorbar\":{\"outlinewidth\":0,\"ticks\":\"\"},\"colorscale\":[[0.0,\"#0d0887\"],[0.1111111111111111,\"#46039f\"],[0.2222222222222222,\"#7201a8\"],[0.3333333333333333,\"#9c179e\"],[0.4444444444444444,\"#bd3786\"],[0.5555555555555556,\"#d8576b\"],[0.6666666666666666,\"#ed7953\"],[0.7777777777777778,\"#fb9f3a\"],[0.8888888888888888,\"#fdca26\"],[1.0,\"#f0f921\"]],\"type\":\"heatmapgl\"}],\"histogram\":[{\"marker\":{\"pattern\":{\"fillmode\":\"overlay\",\"size\":10,\"solidity\":0.2}},\"type\":\"histogram\"}],\"histogram2d\":[{\"colorbar\":{\"outlinewidth\":0,\"ticks\":\"\"},\"colorscale\":[[0.0,\"#0d0887\"],[0.1111111111111111,\"#46039f\"],[0.2222222222222222,\"#7201a8\"],[0.3333333333333333,\"#9c179e\"],[0.4444444444444444,\"#bd3786\"],[0.5555555555555556,\"#d8576b\"],[0.6666666666666666,\"#ed7953\"],[0.7777777777777778,\"#fb9f3a\"],[0.8888888888888888,\"#fdca26\"],[1.0,\"#f0f921\"]],\"type\":\"histogram2d\"}],\"histogram2dcontour\":[{\"colorbar\":{\"outlinewidth\":0,\"ticks\":\"\"},\"colorscale\":[[0.0,\"#0d0887\"],[0.1111111111111111,\"#46039f\"],[0.2222222222222222,\"#7201a8\"],[0.3333333333333333,\"#9c179e\"],[0.4444444444444444,\"#bd3786\"],[0.5555555555555556,\"#d8576b\"],[0.6666666666666666,\"#ed7953\"],[0.7777777777777778,\"#fb9f3a\"],[0.8888888888888888,\"#fdca26\"],[1.0,\"#f0f921\"]],\"type\":\"histogram2dcontour\"}],\"mesh3d\":[{\"colorbar\":{\"outlinewidth\":0,\"ticks\":\"\"},\"type\":\"mesh3d\"}],\"parcoords\":[{\"line\":{\"colorbar\":{\"outlinewidth\":0,\"ticks\":\"\"}},\"type\":\"parcoords\"}],\"pie\":[{\"automargin\":true,\"type\":\"pie\"}],\"scatter\":[{\"marker\":{\"colorbar\":{\"outlinewidth\":0,\"ticks\":\"\"}},\"type\":\"scatter\"}],\"scatter3d\":[{\"line\":{\"colorbar\":{\"outlinewidth\":0,\"ticks\":\"\"}},\"marker\":{\"colorbar\":{\"outlinewidth\":0,\"ticks\":\"\"}},\"type\":\"scatter3d\"}],\"scattercarpet\":[{\"marker\":{\"colorbar\":{\"outlinewidth\":0,\"ticks\":\"\"}},\"type\":\"scattercarpet\"}],\"scattergeo\":[{\"marker\":{\"colorbar\":{\"outlinewidth\":0,\"ticks\":\"\"}},\"type\":\"scattergeo\"}],\"scattergl\":[{\"marker\":{\"colorbar\":{\"outlinewidth\":0,\"ticks\":\"\"}},\"type\":\"scattergl\"}],\"scattermapbox\":[{\"marker\":{\"colorbar\":{\"outlinewidth\":0,\"ticks\":\"\"}},\"type\":\"scattermapbox\"}],\"scatterpolar\":[{\"marker\":{\"colorbar\":{\"outlinewidth\":0,\"ticks\":\"\"}},\"type\":\"scatterpolar\"}],\"scatterpolargl\":[{\"marker\":{\"colorbar\":{\"outlinewidth\":0,\"ticks\":\"\"}},\"type\":\"scatterpolargl\"}],\"scatterternary\":[{\"marker\":{\"colorbar\":{\"outlinewidth\":0,\"ticks\":\"\"}},\"type\":\"scatterternary\"}],\"surface\":[{\"colorbar\":{\"outlinewidth\":0,\"ticks\":\"\"},\"colorscale\":[[0.0,\"#0d0887\"],[0.1111111111111111,\"#46039f\"],[0.2222222222222222,\"#7201a8\"],[0.3333333333333333,\"#9c179e\"],[0.4444444444444444,\"#bd3786\"],[0.5555555555555556,\"#d8576b\"],[0.6666666666666666,\"#ed7953\"],[0.7777777777777778,\"#fb9f3a\"],[0.8888888888888888,\"#fdca26\"],[1.0,\"#f0f921\"]],\"type\":\"surface\"}],\"table\":[{\"cells\":{\"fill\":{\"color\":\"#EBF0F8\"},\"line\":{\"color\":\"white\"}},\"header\":{\"fill\":{\"color\":\"#C8D4E3\"},\"line\":{\"color\":\"white\"}},\"type\":\"table\"}]},\"layout\":{\"annotationdefaults\":{\"arrowcolor\":\"#2a3f5f\",\"arrowhead\":0,\"arrowwidth\":1},\"autotypenumbers\":\"strict\",\"coloraxis\":{\"colorbar\":{\"outlinewidth\":0,\"ticks\":\"\"}},\"colorscale\":{\"diverging\":[[0,\"#8e0152\"],[0.1,\"#c51b7d\"],[0.2,\"#de77ae\"],[0.3,\"#f1b6da\"],[0.4,\"#fde0ef\"],[0.5,\"#f7f7f7\"],[0.6,\"#e6f5d0\"],[0.7,\"#b8e186\"],[0.8,\"#7fbc41\"],[0.9,\"#4d9221\"],[1,\"#276419\"]],\"sequential\":[[0.0,\"#0d0887\"],[0.1111111111111111,\"#46039f\"],[0.2222222222222222,\"#7201a8\"],[0.3333333333333333,\"#9c179e\"],[0.4444444444444444,\"#bd3786\"],[0.5555555555555556,\"#d8576b\"],[0.6666666666666666,\"#ed7953\"],[0.7777777777777778,\"#fb9f3a\"],[0.8888888888888888,\"#fdca26\"],[1.0,\"#f0f921\"]],\"sequentialminus\":[[0.0,\"#0d0887\"],[0.1111111111111111,\"#46039f\"],[0.2222222222222222,\"#7201a8\"],[0.3333333333333333,\"#9c179e\"],[0.4444444444444444,\"#bd3786\"],[0.5555555555555556,\"#d8576b\"],[0.6666666666666666,\"#ed7953\"],[0.7777777777777778,\"#fb9f3a\"],[0.8888888888888888,\"#fdca26\"],[1.0,\"#f0f921\"]]},\"colorway\":[\"#636efa\",\"#EF553B\",\"#00cc96\",\"#ab63fa\",\"#FFA15A\",\"#19d3f3\",\"#FF6692\",\"#B6E880\",\"#FF97FF\",\"#FECB52\"],\"font\":{\"color\":\"#2a3f5f\"},\"geo\":{\"bgcolor\":\"white\",\"lakecolor\":\"white\",\"landcolor\":\"#E5ECF6\",\"showlakes\":true,\"showland\":true,\"subunitcolor\":\"white\"},\"hoverlabel\":{\"align\":\"left\"},\"hovermode\":\"closest\",\"mapbox\":{\"style\":\"light\"},\"paper_bgcolor\":\"white\",\"plot_bgcolor\":\"#E5ECF6\",\"polar\":{\"angularaxis\":{\"gridcolor\":\"white\",\"linecolor\":\"white\",\"ticks\":\"\"},\"bgcolor\":\"#E5ECF6\",\"radialaxis\":{\"gridcolor\":\"white\",\"linecolor\":\"white\",\"ticks\":\"\"}},\"scene\":{\"xaxis\":{\"backgroundcolor\":\"#E5ECF6\",\"gridcolor\":\"white\",\"gridwidth\":2,\"linecolor\":\"white\",\"showbackground\":true,\"ticks\":\"\",\"zerolinecolor\":\"white\"},\"yaxis\":{\"backgroundcolor\":\"#E5ECF6\",\"gridcolor\":\"white\",\"gridwidth\":2,\"linecolor\":\"white\",\"showbackground\":true,\"ticks\":\"\",\"zerolinecolor\":\"white\"},\"zaxis\":{\"backgroundcolor\":\"#E5ECF6\",\"gridcolor\":\"white\",\"gridwidth\":2,\"linecolor\":\"white\",\"showbackground\":true,\"ticks\":\"\",\"zerolinecolor\":\"white\"}},\"shapedefaults\":{\"line\":{\"color\":\"#2a3f5f\"}},\"ternary\":{\"aaxis\":{\"gridcolor\":\"white\",\"linecolor\":\"white\",\"ticks\":\"\"},\"baxis\":{\"gridcolor\":\"white\",\"linecolor\":\"white\",\"ticks\":\"\"},\"bgcolor\":\"#E5ECF6\",\"caxis\":{\"gridcolor\":\"white\",\"linecolor\":\"white\",\"ticks\":\"\"}},\"title\":{\"x\":0.05},\"xaxis\":{\"automargin\":true,\"gridcolor\":\"white\",\"linecolor\":\"white\",\"ticks\":\"\",\"title\":{\"standoff\":15},\"zerolinecolor\":\"white\",\"zerolinewidth\":2},\"yaxis\":{\"automargin\":true,\"gridcolor\":\"white\",\"linecolor\":\"white\",\"ticks\":\"\",\"title\":{\"standoff\":15},\"zerolinecolor\":\"white\",\"zerolinewidth\":2}}},\"xaxis\":{\"anchor\":\"y\",\"domain\":[0.0,1.0],\"title\":{\"text\":\"Status\"}},\"yaxis\":{\"anchor\":\"x\",\"domain\":[0.0,1.0],\"title\":{\"text\":\"Quantidade\"}},\"legend\":{\"tracegroupgap\":0},\"title\":{\"text\":\"Quantidade de Dados - alunos\"},\"barmode\":\"group\"},                        {\"responsive\": true}                    )                };                            </script>        </div>\n</body>\n</html>",
       "datasetInfos": [],
       "metadata": {},
       "removedWidgets": [],
       "textData": null,
       "type": "htmlSandbox"
      }
     },
     "output_type": "display_data"
    },
    {
     "output_type": "display_data",
     "data": {
      "text/html": [
       "<html>\n",
       "<head><meta charset=\"utf-8\" /></head>\n",
       "<body>\n",
       "    <div>            <script src=\"https://cdnjs.cloudflare.com/ajax/libs/mathjax/2.7.5/MathJax.js?config=TeX-AMS-MML_SVG\"></script><script type=\"text/javascript\">if (window.MathJax) {MathJax.Hub.Config({SVG: {font: \"STIX-Web\"}});}</script>                <script type=\"text/javascript\">window.PlotlyConfig = {MathJaxConfig: 'local'};</script>\n",
       "        <script src=\"https://cdn.plot.ly/plotly-2.9.0.min.js\"></script>                <div id=\"9f80f8c5-7a32-447e-b58e-0604eb0c5547\" class=\"plotly-graph-div\" style=\"height:100%; width:100%;\"></div>            <script type=\"text/javascript\">                                    window.PLOTLYENV=window.PLOTLYENV || {};                                    if (document.getElementById(\"9f80f8c5-7a32-447e-b58e-0604eb0c5547\")) {                    Plotly.newPlot(                        \"9f80f8c5-7a32-447e-b58e-0604eb0c5547\",                        [{\"alignmentgroup\":\"True\",\"hovertemplate\":\"Status=%{x}<br>Quantidade=%{text}<extra></extra>\",\"legendgroup\":\"\",\"marker\":{\"color\":\"#636efa\",\"pattern\":{\"shape\":\"\"}},\"name\":\"\",\"offsetgroup\":\"\",\"orientation\":\"v\",\"showlegend\":false,\"text\":[8.0,0.0],\"textposition\":\"outside\",\"x\":[\"V\\u00e1lidos\",\"Nulos\"],\"xaxis\":\"x\",\"y\":[8,0],\"yaxis\":\"y\",\"type\":\"bar\"}],                        {\"template\":{\"data\":{\"bar\":[{\"error_x\":{\"color\":\"#2a3f5f\"},\"error_y\":{\"color\":\"#2a3f5f\"},\"marker\":{\"line\":{\"color\":\"#E5ECF6\",\"width\":0.5},\"pattern\":{\"fillmode\":\"overlay\",\"size\":10,\"solidity\":0.2}},\"type\":\"bar\"}],\"barpolar\":[{\"marker\":{\"line\":{\"color\":\"#E5ECF6\",\"width\":0.5},\"pattern\":{\"fillmode\":\"overlay\",\"size\":10,\"solidity\":0.2}},\"type\":\"barpolar\"}],\"carpet\":[{\"aaxis\":{\"endlinecolor\":\"#2a3f5f\",\"gridcolor\":\"white\",\"linecolor\":\"white\",\"minorgridcolor\":\"white\",\"startlinecolor\":\"#2a3f5f\"},\"baxis\":{\"endlinecolor\":\"#2a3f5f\",\"gridcolor\":\"white\",\"linecolor\":\"white\",\"minorgridcolor\":\"white\",\"startlinecolor\":\"#2a3f5f\"},\"type\":\"carpet\"}],\"choropleth\":[{\"colorbar\":{\"outlinewidth\":0,\"ticks\":\"\"},\"type\":\"choropleth\"}],\"contour\":[{\"colorbar\":{\"outlinewidth\":0,\"ticks\":\"\"},\"colorscale\":[[0.0,\"#0d0887\"],[0.1111111111111111,\"#46039f\"],[0.2222222222222222,\"#7201a8\"],[0.3333333333333333,\"#9c179e\"],[0.4444444444444444,\"#bd3786\"],[0.5555555555555556,\"#d8576b\"],[0.6666666666666666,\"#ed7953\"],[0.7777777777777778,\"#fb9f3a\"],[0.8888888888888888,\"#fdca26\"],[1.0,\"#f0f921\"]],\"type\":\"contour\"}],\"contourcarpet\":[{\"colorbar\":{\"outlinewidth\":0,\"ticks\":\"\"},\"type\":\"contourcarpet\"}],\"heatmap\":[{\"colorbar\":{\"outlinewidth\":0,\"ticks\":\"\"},\"colorscale\":[[0.0,\"#0d0887\"],[0.1111111111111111,\"#46039f\"],[0.2222222222222222,\"#7201a8\"],[0.3333333333333333,\"#9c179e\"],[0.4444444444444444,\"#bd3786\"],[0.5555555555555556,\"#d8576b\"],[0.6666666666666666,\"#ed7953\"],[0.7777777777777778,\"#fb9f3a\"],[0.8888888888888888,\"#fdca26\"],[1.0,\"#f0f921\"]],\"type\":\"heatmap\"}],\"heatmapgl\":[{\"colorbar\":{\"outlinewidth\":0,\"ticks\":\"\"},\"colorscale\":[[0.0,\"#0d0887\"],[0.1111111111111111,\"#46039f\"],[0.2222222222222222,\"#7201a8\"],[0.3333333333333333,\"#9c179e\"],[0.4444444444444444,\"#bd3786\"],[0.5555555555555556,\"#d8576b\"],[0.6666666666666666,\"#ed7953\"],[0.7777777777777778,\"#fb9f3a\"],[0.8888888888888888,\"#fdca26\"],[1.0,\"#f0f921\"]],\"type\":\"heatmapgl\"}],\"histogram\":[{\"marker\":{\"pattern\":{\"fillmode\":\"overlay\",\"size\":10,\"solidity\":0.2}},\"type\":\"histogram\"}],\"histogram2d\":[{\"colorbar\":{\"outlinewidth\":0,\"ticks\":\"\"},\"colorscale\":[[0.0,\"#0d0887\"],[0.1111111111111111,\"#46039f\"],[0.2222222222222222,\"#7201a8\"],[0.3333333333333333,\"#9c179e\"],[0.4444444444444444,\"#bd3786\"],[0.5555555555555556,\"#d8576b\"],[0.6666666666666666,\"#ed7953\"],[0.7777777777777778,\"#fb9f3a\"],[0.8888888888888888,\"#fdca26\"],[1.0,\"#f0f921\"]],\"type\":\"histogram2d\"}],\"histogram2dcontour\":[{\"colorbar\":{\"outlinewidth\":0,\"ticks\":\"\"},\"colorscale\":[[0.0,\"#0d0887\"],[0.1111111111111111,\"#46039f\"],[0.2222222222222222,\"#7201a8\"],[0.3333333333333333,\"#9c179e\"],[0.4444444444444444,\"#bd3786\"],[0.5555555555555556,\"#d8576b\"],[0.6666666666666666,\"#ed7953\"],[0.7777777777777778,\"#fb9f3a\"],[0.8888888888888888,\"#fdca26\"],[1.0,\"#f0f921\"]],\"type\":\"histogram2dcontour\"}],\"mesh3d\":[{\"colorbar\":{\"outlinewidth\":0,\"ticks\":\"\"},\"type\":\"mesh3d\"}],\"parcoords\":[{\"line\":{\"colorbar\":{\"outlinewidth\":0,\"ticks\":\"\"}},\"type\":\"parcoords\"}],\"pie\":[{\"automargin\":true,\"type\":\"pie\"}],\"scatter\":[{\"marker\":{\"colorbar\":{\"outlinewidth\":0,\"ticks\":\"\"}},\"type\":\"scatter\"}],\"scatter3d\":[{\"line\":{\"colorbar\":{\"outlinewidth\":0,\"ticks\":\"\"}},\"marker\":{\"colorbar\":{\"outlinewidth\":0,\"ticks\":\"\"}},\"type\":\"scatter3d\"}],\"scattercarpet\":[{\"marker\":{\"colorbar\":{\"outlinewidth\":0,\"ticks\":\"\"}},\"type\":\"scattercarpet\"}],\"scattergeo\":[{\"marker\":{\"colorbar\":{\"outlinewidth\":0,\"ticks\":\"\"}},\"type\":\"scattergeo\"}],\"scattergl\":[{\"marker\":{\"colorbar\":{\"outlinewidth\":0,\"ticks\":\"\"}},\"type\":\"scattergl\"}],\"scattermapbox\":[{\"marker\":{\"colorbar\":{\"outlinewidth\":0,\"ticks\":\"\"}},\"type\":\"scattermapbox\"}],\"scatterpolar\":[{\"marker\":{\"colorbar\":{\"outlinewidth\":0,\"ticks\":\"\"}},\"type\":\"scatterpolar\"}],\"scatterpolargl\":[{\"marker\":{\"colorbar\":{\"outlinewidth\":0,\"ticks\":\"\"}},\"type\":\"scatterpolargl\"}],\"scatterternary\":[{\"marker\":{\"colorbar\":{\"outlinewidth\":0,\"ticks\":\"\"}},\"type\":\"scatterternary\"}],\"surface\":[{\"colorbar\":{\"outlinewidth\":0,\"ticks\":\"\"},\"colorscale\":[[0.0,\"#0d0887\"],[0.1111111111111111,\"#46039f\"],[0.2222222222222222,\"#7201a8\"],[0.3333333333333333,\"#9c179e\"],[0.4444444444444444,\"#bd3786\"],[0.5555555555555556,\"#d8576b\"],[0.6666666666666666,\"#ed7953\"],[0.7777777777777778,\"#fb9f3a\"],[0.8888888888888888,\"#fdca26\"],[1.0,\"#f0f921\"]],\"type\":\"surface\"}],\"table\":[{\"cells\":{\"fill\":{\"color\":\"#EBF0F8\"},\"line\":{\"color\":\"white\"}},\"header\":{\"fill\":{\"color\":\"#C8D4E3\"},\"line\":{\"color\":\"white\"}},\"type\":\"table\"}]},\"layout\":{\"annotationdefaults\":{\"arrowcolor\":\"#2a3f5f\",\"arrowhead\":0,\"arrowwidth\":1},\"autotypenumbers\":\"strict\",\"coloraxis\":{\"colorbar\":{\"outlinewidth\":0,\"ticks\":\"\"}},\"colorscale\":{\"diverging\":[[0,\"#8e0152\"],[0.1,\"#c51b7d\"],[0.2,\"#de77ae\"],[0.3,\"#f1b6da\"],[0.4,\"#fde0ef\"],[0.5,\"#f7f7f7\"],[0.6,\"#e6f5d0\"],[0.7,\"#b8e186\"],[0.8,\"#7fbc41\"],[0.9,\"#4d9221\"],[1,\"#276419\"]],\"sequential\":[[0.0,\"#0d0887\"],[0.1111111111111111,\"#46039f\"],[0.2222222222222222,\"#7201a8\"],[0.3333333333333333,\"#9c179e\"],[0.4444444444444444,\"#bd3786\"],[0.5555555555555556,\"#d8576b\"],[0.6666666666666666,\"#ed7953\"],[0.7777777777777778,\"#fb9f3a\"],[0.8888888888888888,\"#fdca26\"],[1.0,\"#f0f921\"]],\"sequentialminus\":[[0.0,\"#0d0887\"],[0.1111111111111111,\"#46039f\"],[0.2222222222222222,\"#7201a8\"],[0.3333333333333333,\"#9c179e\"],[0.4444444444444444,\"#bd3786\"],[0.5555555555555556,\"#d8576b\"],[0.6666666666666666,\"#ed7953\"],[0.7777777777777778,\"#fb9f3a\"],[0.8888888888888888,\"#fdca26\"],[1.0,\"#f0f921\"]]},\"colorway\":[\"#636efa\",\"#EF553B\",\"#00cc96\",\"#ab63fa\",\"#FFA15A\",\"#19d3f3\",\"#FF6692\",\"#B6E880\",\"#FF97FF\",\"#FECB52\"],\"font\":{\"color\":\"#2a3f5f\"},\"geo\":{\"bgcolor\":\"white\",\"lakecolor\":\"white\",\"landcolor\":\"#E5ECF6\",\"showlakes\":true,\"showland\":true,\"subunitcolor\":\"white\"},\"hoverlabel\":{\"align\":\"left\"},\"hovermode\":\"closest\",\"mapbox\":{\"style\":\"light\"},\"paper_bgcolor\":\"white\",\"plot_bgcolor\":\"#E5ECF6\",\"polar\":{\"angularaxis\":{\"gridcolor\":\"white\",\"linecolor\":\"white\",\"ticks\":\"\"},\"bgcolor\":\"#E5ECF6\",\"radialaxis\":{\"gridcolor\":\"white\",\"linecolor\":\"white\",\"ticks\":\"\"}},\"scene\":{\"xaxis\":{\"backgroundcolor\":\"#E5ECF6\",\"gridcolor\":\"white\",\"gridwidth\":2,\"linecolor\":\"white\",\"showbackground\":true,\"ticks\":\"\",\"zerolinecolor\":\"white\"},\"yaxis\":{\"backgroundcolor\":\"#E5ECF6\",\"gridcolor\":\"white\",\"gridwidth\":2,\"linecolor\":\"white\",\"showbackground\":true,\"ticks\":\"\",\"zerolinecolor\":\"white\"},\"zaxis\":{\"backgroundcolor\":\"#E5ECF6\",\"gridcolor\":\"white\",\"gridwidth\":2,\"linecolor\":\"white\",\"showbackground\":true,\"ticks\":\"\",\"zerolinecolor\":\"white\"}},\"shapedefaults\":{\"line\":{\"color\":\"#2a3f5f\"}},\"ternary\":{\"aaxis\":{\"gridcolor\":\"white\",\"linecolor\":\"white\",\"ticks\":\"\"},\"baxis\":{\"gridcolor\":\"white\",\"linecolor\":\"white\",\"ticks\":\"\"},\"bgcolor\":\"#E5ECF6\",\"caxis\":{\"gridcolor\":\"white\",\"linecolor\":\"white\",\"ticks\":\"\"}},\"title\":{\"x\":0.05},\"xaxis\":{\"automargin\":true,\"gridcolor\":\"white\",\"linecolor\":\"white\",\"ticks\":\"\",\"title\":{\"standoff\":15},\"zerolinecolor\":\"white\",\"zerolinewidth\":2},\"yaxis\":{\"automargin\":true,\"gridcolor\":\"white\",\"linecolor\":\"white\",\"ticks\":\"\",\"title\":{\"standoff\":15},\"zerolinecolor\":\"white\",\"zerolinewidth\":2}}},\"xaxis\":{\"anchor\":\"y\",\"domain\":[0.0,1.0],\"title\":{\"text\":\"Status\"}},\"yaxis\":{\"anchor\":\"x\",\"domain\":[0.0,1.0],\"title\":{\"text\":\"Quantidade\"}},\"legend\":{\"tracegroupgap\":0},\"title\":{\"text\":\"Quantidade de Dados - disciplinas\"},\"barmode\":\"group\"},                        {\"responsive\": true}                    )                };                            </script>        </div>\n",
       "</body>\n",
       "</html>"
      ]
     },
     "metadata": {
      "application/vnd.databricks.v1+output": {
       "addedWidgets": {},
       "arguments": {},
       "data": "<html>\n<head><meta charset=\"utf-8\" /></head>\n<body>\n    <div>            <script src=\"https://cdnjs.cloudflare.com/ajax/libs/mathjax/2.7.5/MathJax.js?config=TeX-AMS-MML_SVG\"></script><script type=\"text/javascript\">if (window.MathJax) {MathJax.Hub.Config({SVG: {font: \"STIX-Web\"}});}</script>                <script type=\"text/javascript\">window.PlotlyConfig = {MathJaxConfig: 'local'};</script>\n        <script src=\"https://cdn.plot.ly/plotly-2.9.0.min.js\"></script>                <div id=\"9f80f8c5-7a32-447e-b58e-0604eb0c5547\" class=\"plotly-graph-div\" style=\"height:100%; width:100%;\"></div>            <script type=\"text/javascript\">                                    window.PLOTLYENV=window.PLOTLYENV || {};                                    if (document.getElementById(\"9f80f8c5-7a32-447e-b58e-0604eb0c5547\")) {                    Plotly.newPlot(                        \"9f80f8c5-7a32-447e-b58e-0604eb0c5547\",                        [{\"alignmentgroup\":\"True\",\"hovertemplate\":\"Status=%{x}<br>Quantidade=%{text}<extra></extra>\",\"legendgroup\":\"\",\"marker\":{\"color\":\"#636efa\",\"pattern\":{\"shape\":\"\"}},\"name\":\"\",\"offsetgroup\":\"\",\"orientation\":\"v\",\"showlegend\":false,\"text\":[8.0,0.0],\"textposition\":\"outside\",\"x\":[\"V\\u00e1lidos\",\"Nulos\"],\"xaxis\":\"x\",\"y\":[8,0],\"yaxis\":\"y\",\"type\":\"bar\"}],                        {\"template\":{\"data\":{\"bar\":[{\"error_x\":{\"color\":\"#2a3f5f\"},\"error_y\":{\"color\":\"#2a3f5f\"},\"marker\":{\"line\":{\"color\":\"#E5ECF6\",\"width\":0.5},\"pattern\":{\"fillmode\":\"overlay\",\"size\":10,\"solidity\":0.2}},\"type\":\"bar\"}],\"barpolar\":[{\"marker\":{\"line\":{\"color\":\"#E5ECF6\",\"width\":0.5},\"pattern\":{\"fillmode\":\"overlay\",\"size\":10,\"solidity\":0.2}},\"type\":\"barpolar\"}],\"carpet\":[{\"aaxis\":{\"endlinecolor\":\"#2a3f5f\",\"gridcolor\":\"white\",\"linecolor\":\"white\",\"minorgridcolor\":\"white\",\"startlinecolor\":\"#2a3f5f\"},\"baxis\":{\"endlinecolor\":\"#2a3f5f\",\"gridcolor\":\"white\",\"linecolor\":\"white\",\"minorgridcolor\":\"white\",\"startlinecolor\":\"#2a3f5f\"},\"type\":\"carpet\"}],\"choropleth\":[{\"colorbar\":{\"outlinewidth\":0,\"ticks\":\"\"},\"type\":\"choropleth\"}],\"contour\":[{\"colorbar\":{\"outlinewidth\":0,\"ticks\":\"\"},\"colorscale\":[[0.0,\"#0d0887\"],[0.1111111111111111,\"#46039f\"],[0.2222222222222222,\"#7201a8\"],[0.3333333333333333,\"#9c179e\"],[0.4444444444444444,\"#bd3786\"],[0.5555555555555556,\"#d8576b\"],[0.6666666666666666,\"#ed7953\"],[0.7777777777777778,\"#fb9f3a\"],[0.8888888888888888,\"#fdca26\"],[1.0,\"#f0f921\"]],\"type\":\"contour\"}],\"contourcarpet\":[{\"colorbar\":{\"outlinewidth\":0,\"ticks\":\"\"},\"type\":\"contourcarpet\"}],\"heatmap\":[{\"colorbar\":{\"outlinewidth\":0,\"ticks\":\"\"},\"colorscale\":[[0.0,\"#0d0887\"],[0.1111111111111111,\"#46039f\"],[0.2222222222222222,\"#7201a8\"],[0.3333333333333333,\"#9c179e\"],[0.4444444444444444,\"#bd3786\"],[0.5555555555555556,\"#d8576b\"],[0.6666666666666666,\"#ed7953\"],[0.7777777777777778,\"#fb9f3a\"],[0.8888888888888888,\"#fdca26\"],[1.0,\"#f0f921\"]],\"type\":\"heatmap\"}],\"heatmapgl\":[{\"colorbar\":{\"outlinewidth\":0,\"ticks\":\"\"},\"colorscale\":[[0.0,\"#0d0887\"],[0.1111111111111111,\"#46039f\"],[0.2222222222222222,\"#7201a8\"],[0.3333333333333333,\"#9c179e\"],[0.4444444444444444,\"#bd3786\"],[0.5555555555555556,\"#d8576b\"],[0.6666666666666666,\"#ed7953\"],[0.7777777777777778,\"#fb9f3a\"],[0.8888888888888888,\"#fdca26\"],[1.0,\"#f0f921\"]],\"type\":\"heatmapgl\"}],\"histogram\":[{\"marker\":{\"pattern\":{\"fillmode\":\"overlay\",\"size\":10,\"solidity\":0.2}},\"type\":\"histogram\"}],\"histogram2d\":[{\"colorbar\":{\"outlinewidth\":0,\"ticks\":\"\"},\"colorscale\":[[0.0,\"#0d0887\"],[0.1111111111111111,\"#46039f\"],[0.2222222222222222,\"#7201a8\"],[0.3333333333333333,\"#9c179e\"],[0.4444444444444444,\"#bd3786\"],[0.5555555555555556,\"#d8576b\"],[0.6666666666666666,\"#ed7953\"],[0.7777777777777778,\"#fb9f3a\"],[0.8888888888888888,\"#fdca26\"],[1.0,\"#f0f921\"]],\"type\":\"histogram2d\"}],\"histogram2dcontour\":[{\"colorbar\":{\"outlinewidth\":0,\"ticks\":\"\"},\"colorscale\":[[0.0,\"#0d0887\"],[0.1111111111111111,\"#46039f\"],[0.2222222222222222,\"#7201a8\"],[0.3333333333333333,\"#9c179e\"],[0.4444444444444444,\"#bd3786\"],[0.5555555555555556,\"#d8576b\"],[0.6666666666666666,\"#ed7953\"],[0.7777777777777778,\"#fb9f3a\"],[0.8888888888888888,\"#fdca26\"],[1.0,\"#f0f921\"]],\"type\":\"histogram2dcontour\"}],\"mesh3d\":[{\"colorbar\":{\"outlinewidth\":0,\"ticks\":\"\"},\"type\":\"mesh3d\"}],\"parcoords\":[{\"line\":{\"colorbar\":{\"outlinewidth\":0,\"ticks\":\"\"}},\"type\":\"parcoords\"}],\"pie\":[{\"automargin\":true,\"type\":\"pie\"}],\"scatter\":[{\"marker\":{\"colorbar\":{\"outlinewidth\":0,\"ticks\":\"\"}},\"type\":\"scatter\"}],\"scatter3d\":[{\"line\":{\"colorbar\":{\"outlinewidth\":0,\"ticks\":\"\"}},\"marker\":{\"colorbar\":{\"outlinewidth\":0,\"ticks\":\"\"}},\"type\":\"scatter3d\"}],\"scattercarpet\":[{\"marker\":{\"colorbar\":{\"outlinewidth\":0,\"ticks\":\"\"}},\"type\":\"scattercarpet\"}],\"scattergeo\":[{\"marker\":{\"colorbar\":{\"outlinewidth\":0,\"ticks\":\"\"}},\"type\":\"scattergeo\"}],\"scattergl\":[{\"marker\":{\"colorbar\":{\"outlinewidth\":0,\"ticks\":\"\"}},\"type\":\"scattergl\"}],\"scattermapbox\":[{\"marker\":{\"colorbar\":{\"outlinewidth\":0,\"ticks\":\"\"}},\"type\":\"scattermapbox\"}],\"scatterpolar\":[{\"marker\":{\"colorbar\":{\"outlinewidth\":0,\"ticks\":\"\"}},\"type\":\"scatterpolar\"}],\"scatterpolargl\":[{\"marker\":{\"colorbar\":{\"outlinewidth\":0,\"ticks\":\"\"}},\"type\":\"scatterpolargl\"}],\"scatterternary\":[{\"marker\":{\"colorbar\":{\"outlinewidth\":0,\"ticks\":\"\"}},\"type\":\"scatterternary\"}],\"surface\":[{\"colorbar\":{\"outlinewidth\":0,\"ticks\":\"\"},\"colorscale\":[[0.0,\"#0d0887\"],[0.1111111111111111,\"#46039f\"],[0.2222222222222222,\"#7201a8\"],[0.3333333333333333,\"#9c179e\"],[0.4444444444444444,\"#bd3786\"],[0.5555555555555556,\"#d8576b\"],[0.6666666666666666,\"#ed7953\"],[0.7777777777777778,\"#fb9f3a\"],[0.8888888888888888,\"#fdca26\"],[1.0,\"#f0f921\"]],\"type\":\"surface\"}],\"table\":[{\"cells\":{\"fill\":{\"color\":\"#EBF0F8\"},\"line\":{\"color\":\"white\"}},\"header\":{\"fill\":{\"color\":\"#C8D4E3\"},\"line\":{\"color\":\"white\"}},\"type\":\"table\"}]},\"layout\":{\"annotationdefaults\":{\"arrowcolor\":\"#2a3f5f\",\"arrowhead\":0,\"arrowwidth\":1},\"autotypenumbers\":\"strict\",\"coloraxis\":{\"colorbar\":{\"outlinewidth\":0,\"ticks\":\"\"}},\"colorscale\":{\"diverging\":[[0,\"#8e0152\"],[0.1,\"#c51b7d\"],[0.2,\"#de77ae\"],[0.3,\"#f1b6da\"],[0.4,\"#fde0ef\"],[0.5,\"#f7f7f7\"],[0.6,\"#e6f5d0\"],[0.7,\"#b8e186\"],[0.8,\"#7fbc41\"],[0.9,\"#4d9221\"],[1,\"#276419\"]],\"sequential\":[[0.0,\"#0d0887\"],[0.1111111111111111,\"#46039f\"],[0.2222222222222222,\"#7201a8\"],[0.3333333333333333,\"#9c179e\"],[0.4444444444444444,\"#bd3786\"],[0.5555555555555556,\"#d8576b\"],[0.6666666666666666,\"#ed7953\"],[0.7777777777777778,\"#fb9f3a\"],[0.8888888888888888,\"#fdca26\"],[1.0,\"#f0f921\"]],\"sequentialminus\":[[0.0,\"#0d0887\"],[0.1111111111111111,\"#46039f\"],[0.2222222222222222,\"#7201a8\"],[0.3333333333333333,\"#9c179e\"],[0.4444444444444444,\"#bd3786\"],[0.5555555555555556,\"#d8576b\"],[0.6666666666666666,\"#ed7953\"],[0.7777777777777778,\"#fb9f3a\"],[0.8888888888888888,\"#fdca26\"],[1.0,\"#f0f921\"]]},\"colorway\":[\"#636efa\",\"#EF553B\",\"#00cc96\",\"#ab63fa\",\"#FFA15A\",\"#19d3f3\",\"#FF6692\",\"#B6E880\",\"#FF97FF\",\"#FECB52\"],\"font\":{\"color\":\"#2a3f5f\"},\"geo\":{\"bgcolor\":\"white\",\"lakecolor\":\"white\",\"landcolor\":\"#E5ECF6\",\"showlakes\":true,\"showland\":true,\"subunitcolor\":\"white\"},\"hoverlabel\":{\"align\":\"left\"},\"hovermode\":\"closest\",\"mapbox\":{\"style\":\"light\"},\"paper_bgcolor\":\"white\",\"plot_bgcolor\":\"#E5ECF6\",\"polar\":{\"angularaxis\":{\"gridcolor\":\"white\",\"linecolor\":\"white\",\"ticks\":\"\"},\"bgcolor\":\"#E5ECF6\",\"radialaxis\":{\"gridcolor\":\"white\",\"linecolor\":\"white\",\"ticks\":\"\"}},\"scene\":{\"xaxis\":{\"backgroundcolor\":\"#E5ECF6\",\"gridcolor\":\"white\",\"gridwidth\":2,\"linecolor\":\"white\",\"showbackground\":true,\"ticks\":\"\",\"zerolinecolor\":\"white\"},\"yaxis\":{\"backgroundcolor\":\"#E5ECF6\",\"gridcolor\":\"white\",\"gridwidth\":2,\"linecolor\":\"white\",\"showbackground\":true,\"ticks\":\"\",\"zerolinecolor\":\"white\"},\"zaxis\":{\"backgroundcolor\":\"#E5ECF6\",\"gridcolor\":\"white\",\"gridwidth\":2,\"linecolor\":\"white\",\"showbackground\":true,\"ticks\":\"\",\"zerolinecolor\":\"white\"}},\"shapedefaults\":{\"line\":{\"color\":\"#2a3f5f\"}},\"ternary\":{\"aaxis\":{\"gridcolor\":\"white\",\"linecolor\":\"white\",\"ticks\":\"\"},\"baxis\":{\"gridcolor\":\"white\",\"linecolor\":\"white\",\"ticks\":\"\"},\"bgcolor\":\"#E5ECF6\",\"caxis\":{\"gridcolor\":\"white\",\"linecolor\":\"white\",\"ticks\":\"\"}},\"title\":{\"x\":0.05},\"xaxis\":{\"automargin\":true,\"gridcolor\":\"white\",\"linecolor\":\"white\",\"ticks\":\"\",\"title\":{\"standoff\":15},\"zerolinecolor\":\"white\",\"zerolinewidth\":2},\"yaxis\":{\"automargin\":true,\"gridcolor\":\"white\",\"linecolor\":\"white\",\"ticks\":\"\",\"title\":{\"standoff\":15},\"zerolinecolor\":\"white\",\"zerolinewidth\":2}}},\"xaxis\":{\"anchor\":\"y\",\"domain\":[0.0,1.0],\"title\":{\"text\":\"Status\"}},\"yaxis\":{\"anchor\":\"x\",\"domain\":[0.0,1.0],\"title\":{\"text\":\"Quantidade\"}},\"legend\":{\"tracegroupgap\":0},\"title\":{\"text\":\"Quantidade de Dados - disciplinas\"},\"barmode\":\"group\"},                        {\"responsive\": true}                    )                };                            </script>        </div>\n</body>\n</html>",
       "datasetInfos": [],
       "metadata": {},
       "removedWidgets": [],
       "textData": null,
       "type": "htmlSandbox"
      }
     },
     "output_type": "display_data"
    },
    {
     "output_type": "display_data",
     "data": {
      "text/html": [
       "<html>\n",
       "<head><meta charset=\"utf-8\" /></head>\n",
       "<body>\n",
       "    <div>            <script src=\"https://cdnjs.cloudflare.com/ajax/libs/mathjax/2.7.5/MathJax.js?config=TeX-AMS-MML_SVG\"></script><script type=\"text/javascript\">if (window.MathJax) {MathJax.Hub.Config({SVG: {font: \"STIX-Web\"}});}</script>                <script type=\"text/javascript\">window.PlotlyConfig = {MathJaxConfig: 'local'};</script>\n",
       "        <script src=\"https://cdn.plot.ly/plotly-2.9.0.min.js\"></script>                <div id=\"e7e48cbf-3774-4857-9b47-7fa7f65c7bd7\" class=\"plotly-graph-div\" style=\"height:100%; width:100%;\"></div>            <script type=\"text/javascript\">                                    window.PLOTLYENV=window.PLOTLYENV || {};                                    if (document.getElementById(\"e7e48cbf-3774-4857-9b47-7fa7f65c7bd7\")) {                    Plotly.newPlot(                        \"e7e48cbf-3774-4857-9b47-7fa7f65c7bd7\",                        [{\"alignmentgroup\":\"True\",\"hovertemplate\":\"Status=%{x}<br>Quantidade=%{text}<extra></extra>\",\"legendgroup\":\"\",\"marker\":{\"color\":\"#636efa\",\"pattern\":{\"shape\":\"\"}},\"name\":\"\",\"offsetgroup\":\"\",\"orientation\":\"v\",\"showlegend\":false,\"text\":[39484.0,516.0],\"textposition\":\"outside\",\"x\":[\"V\\u00e1lidos\",\"Nulos\"],\"xaxis\":\"x\",\"y\":[39484,516],\"yaxis\":\"y\",\"type\":\"bar\"}],                        {\"template\":{\"data\":{\"bar\":[{\"error_x\":{\"color\":\"#2a3f5f\"},\"error_y\":{\"color\":\"#2a3f5f\"},\"marker\":{\"line\":{\"color\":\"#E5ECF6\",\"width\":0.5},\"pattern\":{\"fillmode\":\"overlay\",\"size\":10,\"solidity\":0.2}},\"type\":\"bar\"}],\"barpolar\":[{\"marker\":{\"line\":{\"color\":\"#E5ECF6\",\"width\":0.5},\"pattern\":{\"fillmode\":\"overlay\",\"size\":10,\"solidity\":0.2}},\"type\":\"barpolar\"}],\"carpet\":[{\"aaxis\":{\"endlinecolor\":\"#2a3f5f\",\"gridcolor\":\"white\",\"linecolor\":\"white\",\"minorgridcolor\":\"white\",\"startlinecolor\":\"#2a3f5f\"},\"baxis\":{\"endlinecolor\":\"#2a3f5f\",\"gridcolor\":\"white\",\"linecolor\":\"white\",\"minorgridcolor\":\"white\",\"startlinecolor\":\"#2a3f5f\"},\"type\":\"carpet\"}],\"choropleth\":[{\"colorbar\":{\"outlinewidth\":0,\"ticks\":\"\"},\"type\":\"choropleth\"}],\"contour\":[{\"colorbar\":{\"outlinewidth\":0,\"ticks\":\"\"},\"colorscale\":[[0.0,\"#0d0887\"],[0.1111111111111111,\"#46039f\"],[0.2222222222222222,\"#7201a8\"],[0.3333333333333333,\"#9c179e\"],[0.4444444444444444,\"#bd3786\"],[0.5555555555555556,\"#d8576b\"],[0.6666666666666666,\"#ed7953\"],[0.7777777777777778,\"#fb9f3a\"],[0.8888888888888888,\"#fdca26\"],[1.0,\"#f0f921\"]],\"type\":\"contour\"}],\"contourcarpet\":[{\"colorbar\":{\"outlinewidth\":0,\"ticks\":\"\"},\"type\":\"contourcarpet\"}],\"heatmap\":[{\"colorbar\":{\"outlinewidth\":0,\"ticks\":\"\"},\"colorscale\":[[0.0,\"#0d0887\"],[0.1111111111111111,\"#46039f\"],[0.2222222222222222,\"#7201a8\"],[0.3333333333333333,\"#9c179e\"],[0.4444444444444444,\"#bd3786\"],[0.5555555555555556,\"#d8576b\"],[0.6666666666666666,\"#ed7953\"],[0.7777777777777778,\"#fb9f3a\"],[0.8888888888888888,\"#fdca26\"],[1.0,\"#f0f921\"]],\"type\":\"heatmap\"}],\"heatmapgl\":[{\"colorbar\":{\"outlinewidth\":0,\"ticks\":\"\"},\"colorscale\":[[0.0,\"#0d0887\"],[0.1111111111111111,\"#46039f\"],[0.2222222222222222,\"#7201a8\"],[0.3333333333333333,\"#9c179e\"],[0.4444444444444444,\"#bd3786\"],[0.5555555555555556,\"#d8576b\"],[0.6666666666666666,\"#ed7953\"],[0.7777777777777778,\"#fb9f3a\"],[0.8888888888888888,\"#fdca26\"],[1.0,\"#f0f921\"]],\"type\":\"heatmapgl\"}],\"histogram\":[{\"marker\":{\"pattern\":{\"fillmode\":\"overlay\",\"size\":10,\"solidity\":0.2}},\"type\":\"histogram\"}],\"histogram2d\":[{\"colorbar\":{\"outlinewidth\":0,\"ticks\":\"\"},\"colorscale\":[[0.0,\"#0d0887\"],[0.1111111111111111,\"#46039f\"],[0.2222222222222222,\"#7201a8\"],[0.3333333333333333,\"#9c179e\"],[0.4444444444444444,\"#bd3786\"],[0.5555555555555556,\"#d8576b\"],[0.6666666666666666,\"#ed7953\"],[0.7777777777777778,\"#fb9f3a\"],[0.8888888888888888,\"#fdca26\"],[1.0,\"#f0f921\"]],\"type\":\"histogram2d\"}],\"histogram2dcontour\":[{\"colorbar\":{\"outlinewidth\":0,\"ticks\":\"\"},\"colorscale\":[[0.0,\"#0d0887\"],[0.1111111111111111,\"#46039f\"],[0.2222222222222222,\"#7201a8\"],[0.3333333333333333,\"#9c179e\"],[0.4444444444444444,\"#bd3786\"],[0.5555555555555556,\"#d8576b\"],[0.6666666666666666,\"#ed7953\"],[0.7777777777777778,\"#fb9f3a\"],[0.8888888888888888,\"#fdca26\"],[1.0,\"#f0f921\"]],\"type\":\"histogram2dcontour\"}],\"mesh3d\":[{\"colorbar\":{\"outlinewidth\":0,\"ticks\":\"\"},\"type\":\"mesh3d\"}],\"parcoords\":[{\"line\":{\"colorbar\":{\"outlinewidth\":0,\"ticks\":\"\"}},\"type\":\"parcoords\"}],\"pie\":[{\"automargin\":true,\"type\":\"pie\"}],\"scatter\":[{\"marker\":{\"colorbar\":{\"outlinewidth\":0,\"ticks\":\"\"}},\"type\":\"scatter\"}],\"scatter3d\":[{\"line\":{\"colorbar\":{\"outlinewidth\":0,\"ticks\":\"\"}},\"marker\":{\"colorbar\":{\"outlinewidth\":0,\"ticks\":\"\"}},\"type\":\"scatter3d\"}],\"scattercarpet\":[{\"marker\":{\"colorbar\":{\"outlinewidth\":0,\"ticks\":\"\"}},\"type\":\"scattercarpet\"}],\"scattergeo\":[{\"marker\":{\"colorbar\":{\"outlinewidth\":0,\"ticks\":\"\"}},\"type\":\"scattergeo\"}],\"scattergl\":[{\"marker\":{\"colorbar\":{\"outlinewidth\":0,\"ticks\":\"\"}},\"type\":\"scattergl\"}],\"scattermapbox\":[{\"marker\":{\"colorbar\":{\"outlinewidth\":0,\"ticks\":\"\"}},\"type\":\"scattermapbox\"}],\"scatterpolar\":[{\"marker\":{\"colorbar\":{\"outlinewidth\":0,\"ticks\":\"\"}},\"type\":\"scatterpolar\"}],\"scatterpolargl\":[{\"marker\":{\"colorbar\":{\"outlinewidth\":0,\"ticks\":\"\"}},\"type\":\"scatterpolargl\"}],\"scatterternary\":[{\"marker\":{\"colorbar\":{\"outlinewidth\":0,\"ticks\":\"\"}},\"type\":\"scatterternary\"}],\"surface\":[{\"colorbar\":{\"outlinewidth\":0,\"ticks\":\"\"},\"colorscale\":[[0.0,\"#0d0887\"],[0.1111111111111111,\"#46039f\"],[0.2222222222222222,\"#7201a8\"],[0.3333333333333333,\"#9c179e\"],[0.4444444444444444,\"#bd3786\"],[0.5555555555555556,\"#d8576b\"],[0.6666666666666666,\"#ed7953\"],[0.7777777777777778,\"#fb9f3a\"],[0.8888888888888888,\"#fdca26\"],[1.0,\"#f0f921\"]],\"type\":\"surface\"}],\"table\":[{\"cells\":{\"fill\":{\"color\":\"#EBF0F8\"},\"line\":{\"color\":\"white\"}},\"header\":{\"fill\":{\"color\":\"#C8D4E3\"},\"line\":{\"color\":\"white\"}},\"type\":\"table\"}]},\"layout\":{\"annotationdefaults\":{\"arrowcolor\":\"#2a3f5f\",\"arrowhead\":0,\"arrowwidth\":1},\"autotypenumbers\":\"strict\",\"coloraxis\":{\"colorbar\":{\"outlinewidth\":0,\"ticks\":\"\"}},\"colorscale\":{\"diverging\":[[0,\"#8e0152\"],[0.1,\"#c51b7d\"],[0.2,\"#de77ae\"],[0.3,\"#f1b6da\"],[0.4,\"#fde0ef\"],[0.5,\"#f7f7f7\"],[0.6,\"#e6f5d0\"],[0.7,\"#b8e186\"],[0.8,\"#7fbc41\"],[0.9,\"#4d9221\"],[1,\"#276419\"]],\"sequential\":[[0.0,\"#0d0887\"],[0.1111111111111111,\"#46039f\"],[0.2222222222222222,\"#7201a8\"],[0.3333333333333333,\"#9c179e\"],[0.4444444444444444,\"#bd3786\"],[0.5555555555555556,\"#d8576b\"],[0.6666666666666666,\"#ed7953\"],[0.7777777777777778,\"#fb9f3a\"],[0.8888888888888888,\"#fdca26\"],[1.0,\"#f0f921\"]],\"sequentialminus\":[[0.0,\"#0d0887\"],[0.1111111111111111,\"#46039f\"],[0.2222222222222222,\"#7201a8\"],[0.3333333333333333,\"#9c179e\"],[0.4444444444444444,\"#bd3786\"],[0.5555555555555556,\"#d8576b\"],[0.6666666666666666,\"#ed7953\"],[0.7777777777777778,\"#fb9f3a\"],[0.8888888888888888,\"#fdca26\"],[1.0,\"#f0f921\"]]},\"colorway\":[\"#636efa\",\"#EF553B\",\"#00cc96\",\"#ab63fa\",\"#FFA15A\",\"#19d3f3\",\"#FF6692\",\"#B6E880\",\"#FF97FF\",\"#FECB52\"],\"font\":{\"color\":\"#2a3f5f\"},\"geo\":{\"bgcolor\":\"white\",\"lakecolor\":\"white\",\"landcolor\":\"#E5ECF6\",\"showlakes\":true,\"showland\":true,\"subunitcolor\":\"white\"},\"hoverlabel\":{\"align\":\"left\"},\"hovermode\":\"closest\",\"mapbox\":{\"style\":\"light\"},\"paper_bgcolor\":\"white\",\"plot_bgcolor\":\"#E5ECF6\",\"polar\":{\"angularaxis\":{\"gridcolor\":\"white\",\"linecolor\":\"white\",\"ticks\":\"\"},\"bgcolor\":\"#E5ECF6\",\"radialaxis\":{\"gridcolor\":\"white\",\"linecolor\":\"white\",\"ticks\":\"\"}},\"scene\":{\"xaxis\":{\"backgroundcolor\":\"#E5ECF6\",\"gridcolor\":\"white\",\"gridwidth\":2,\"linecolor\":\"white\",\"showbackground\":true,\"ticks\":\"\",\"zerolinecolor\":\"white\"},\"yaxis\":{\"backgroundcolor\":\"#E5ECF6\",\"gridcolor\":\"white\",\"gridwidth\":2,\"linecolor\":\"white\",\"showbackground\":true,\"ticks\":\"\",\"zerolinecolor\":\"white\"},\"zaxis\":{\"backgroundcolor\":\"#E5ECF6\",\"gridcolor\":\"white\",\"gridwidth\":2,\"linecolor\":\"white\",\"showbackground\":true,\"ticks\":\"\",\"zerolinecolor\":\"white\"}},\"shapedefaults\":{\"line\":{\"color\":\"#2a3f5f\"}},\"ternary\":{\"aaxis\":{\"gridcolor\":\"white\",\"linecolor\":\"white\",\"ticks\":\"\"},\"baxis\":{\"gridcolor\":\"white\",\"linecolor\":\"white\",\"ticks\":\"\"},\"bgcolor\":\"#E5ECF6\",\"caxis\":{\"gridcolor\":\"white\",\"linecolor\":\"white\",\"ticks\":\"\"}},\"title\":{\"x\":0.05},\"xaxis\":{\"automargin\":true,\"gridcolor\":\"white\",\"linecolor\":\"white\",\"ticks\":\"\",\"title\":{\"standoff\":15},\"zerolinecolor\":\"white\",\"zerolinewidth\":2},\"yaxis\":{\"automargin\":true,\"gridcolor\":\"white\",\"linecolor\":\"white\",\"ticks\":\"\",\"title\":{\"standoff\":15},\"zerolinecolor\":\"white\",\"zerolinewidth\":2}}},\"xaxis\":{\"anchor\":\"y\",\"domain\":[0.0,1.0],\"title\":{\"text\":\"Status\"}},\"yaxis\":{\"anchor\":\"x\",\"domain\":[0.0,1.0],\"title\":{\"text\":\"Quantidade\"}},\"legend\":{\"tracegroupgap\":0},\"title\":{\"text\":\"Quantidade de Dados - fato_desempenho\"},\"barmode\":\"group\"},                        {\"responsive\": true}                    )                };                            </script>        </div>\n",
       "</body>\n",
       "</html>"
      ]
     },
     "metadata": {
      "application/vnd.databricks.v1+output": {
       "addedWidgets": {},
       "arguments": {},
       "data": "<html>\n<head><meta charset=\"utf-8\" /></head>\n<body>\n    <div>            <script src=\"https://cdnjs.cloudflare.com/ajax/libs/mathjax/2.7.5/MathJax.js?config=TeX-AMS-MML_SVG\"></script><script type=\"text/javascript\">if (window.MathJax) {MathJax.Hub.Config({SVG: {font: \"STIX-Web\"}});}</script>                <script type=\"text/javascript\">window.PlotlyConfig = {MathJaxConfig: 'local'};</script>\n        <script src=\"https://cdn.plot.ly/plotly-2.9.0.min.js\"></script>                <div id=\"e7e48cbf-3774-4857-9b47-7fa7f65c7bd7\" class=\"plotly-graph-div\" style=\"height:100%; width:100%;\"></div>            <script type=\"text/javascript\">                                    window.PLOTLYENV=window.PLOTLYENV || {};                                    if (document.getElementById(\"e7e48cbf-3774-4857-9b47-7fa7f65c7bd7\")) {                    Plotly.newPlot(                        \"e7e48cbf-3774-4857-9b47-7fa7f65c7bd7\",                        [{\"alignmentgroup\":\"True\",\"hovertemplate\":\"Status=%{x}<br>Quantidade=%{text}<extra></extra>\",\"legendgroup\":\"\",\"marker\":{\"color\":\"#636efa\",\"pattern\":{\"shape\":\"\"}},\"name\":\"\",\"offsetgroup\":\"\",\"orientation\":\"v\",\"showlegend\":false,\"text\":[39484.0,516.0],\"textposition\":\"outside\",\"x\":[\"V\\u00e1lidos\",\"Nulos\"],\"xaxis\":\"x\",\"y\":[39484,516],\"yaxis\":\"y\",\"type\":\"bar\"}],                        {\"template\":{\"data\":{\"bar\":[{\"error_x\":{\"color\":\"#2a3f5f\"},\"error_y\":{\"color\":\"#2a3f5f\"},\"marker\":{\"line\":{\"color\":\"#E5ECF6\",\"width\":0.5},\"pattern\":{\"fillmode\":\"overlay\",\"size\":10,\"solidity\":0.2}},\"type\":\"bar\"}],\"barpolar\":[{\"marker\":{\"line\":{\"color\":\"#E5ECF6\",\"width\":0.5},\"pattern\":{\"fillmode\":\"overlay\",\"size\":10,\"solidity\":0.2}},\"type\":\"barpolar\"}],\"carpet\":[{\"aaxis\":{\"endlinecolor\":\"#2a3f5f\",\"gridcolor\":\"white\",\"linecolor\":\"white\",\"minorgridcolor\":\"white\",\"startlinecolor\":\"#2a3f5f\"},\"baxis\":{\"endlinecolor\":\"#2a3f5f\",\"gridcolor\":\"white\",\"linecolor\":\"white\",\"minorgridcolor\":\"white\",\"startlinecolor\":\"#2a3f5f\"},\"type\":\"carpet\"}],\"choropleth\":[{\"colorbar\":{\"outlinewidth\":0,\"ticks\":\"\"},\"type\":\"choropleth\"}],\"contour\":[{\"colorbar\":{\"outlinewidth\":0,\"ticks\":\"\"},\"colorscale\":[[0.0,\"#0d0887\"],[0.1111111111111111,\"#46039f\"],[0.2222222222222222,\"#7201a8\"],[0.3333333333333333,\"#9c179e\"],[0.4444444444444444,\"#bd3786\"],[0.5555555555555556,\"#d8576b\"],[0.6666666666666666,\"#ed7953\"],[0.7777777777777778,\"#fb9f3a\"],[0.8888888888888888,\"#fdca26\"],[1.0,\"#f0f921\"]],\"type\":\"contour\"}],\"contourcarpet\":[{\"colorbar\":{\"outlinewidth\":0,\"ticks\":\"\"},\"type\":\"contourcarpet\"}],\"heatmap\":[{\"colorbar\":{\"outlinewidth\":0,\"ticks\":\"\"},\"colorscale\":[[0.0,\"#0d0887\"],[0.1111111111111111,\"#46039f\"],[0.2222222222222222,\"#7201a8\"],[0.3333333333333333,\"#9c179e\"],[0.4444444444444444,\"#bd3786\"],[0.5555555555555556,\"#d8576b\"],[0.6666666666666666,\"#ed7953\"],[0.7777777777777778,\"#fb9f3a\"],[0.8888888888888888,\"#fdca26\"],[1.0,\"#f0f921\"]],\"type\":\"heatmap\"}],\"heatmapgl\":[{\"colorbar\":{\"outlinewidth\":0,\"ticks\":\"\"},\"colorscale\":[[0.0,\"#0d0887\"],[0.1111111111111111,\"#46039f\"],[0.2222222222222222,\"#7201a8\"],[0.3333333333333333,\"#9c179e\"],[0.4444444444444444,\"#bd3786\"],[0.5555555555555556,\"#d8576b\"],[0.6666666666666666,\"#ed7953\"],[0.7777777777777778,\"#fb9f3a\"],[0.8888888888888888,\"#fdca26\"],[1.0,\"#f0f921\"]],\"type\":\"heatmapgl\"}],\"histogram\":[{\"marker\":{\"pattern\":{\"fillmode\":\"overlay\",\"size\":10,\"solidity\":0.2}},\"type\":\"histogram\"}],\"histogram2d\":[{\"colorbar\":{\"outlinewidth\":0,\"ticks\":\"\"},\"colorscale\":[[0.0,\"#0d0887\"],[0.1111111111111111,\"#46039f\"],[0.2222222222222222,\"#7201a8\"],[0.3333333333333333,\"#9c179e\"],[0.4444444444444444,\"#bd3786\"],[0.5555555555555556,\"#d8576b\"],[0.6666666666666666,\"#ed7953\"],[0.7777777777777778,\"#fb9f3a\"],[0.8888888888888888,\"#fdca26\"],[1.0,\"#f0f921\"]],\"type\":\"histogram2d\"}],\"histogram2dcontour\":[{\"colorbar\":{\"outlinewidth\":0,\"ticks\":\"\"},\"colorscale\":[[0.0,\"#0d0887\"],[0.1111111111111111,\"#46039f\"],[0.2222222222222222,\"#7201a8\"],[0.3333333333333333,\"#9c179e\"],[0.4444444444444444,\"#bd3786\"],[0.5555555555555556,\"#d8576b\"],[0.6666666666666666,\"#ed7953\"],[0.7777777777777778,\"#fb9f3a\"],[0.8888888888888888,\"#fdca26\"],[1.0,\"#f0f921\"]],\"type\":\"histogram2dcontour\"}],\"mesh3d\":[{\"colorbar\":{\"outlinewidth\":0,\"ticks\":\"\"},\"type\":\"mesh3d\"}],\"parcoords\":[{\"line\":{\"colorbar\":{\"outlinewidth\":0,\"ticks\":\"\"}},\"type\":\"parcoords\"}],\"pie\":[{\"automargin\":true,\"type\":\"pie\"}],\"scatter\":[{\"marker\":{\"colorbar\":{\"outlinewidth\":0,\"ticks\":\"\"}},\"type\":\"scatter\"}],\"scatter3d\":[{\"line\":{\"colorbar\":{\"outlinewidth\":0,\"ticks\":\"\"}},\"marker\":{\"colorbar\":{\"outlinewidth\":0,\"ticks\":\"\"}},\"type\":\"scatter3d\"}],\"scattercarpet\":[{\"marker\":{\"colorbar\":{\"outlinewidth\":0,\"ticks\":\"\"}},\"type\":\"scattercarpet\"}],\"scattergeo\":[{\"marker\":{\"colorbar\":{\"outlinewidth\":0,\"ticks\":\"\"}},\"type\":\"scattergeo\"}],\"scattergl\":[{\"marker\":{\"colorbar\":{\"outlinewidth\":0,\"ticks\":\"\"}},\"type\":\"scattergl\"}],\"scattermapbox\":[{\"marker\":{\"colorbar\":{\"outlinewidth\":0,\"ticks\":\"\"}},\"type\":\"scattermapbox\"}],\"scatterpolar\":[{\"marker\":{\"colorbar\":{\"outlinewidth\":0,\"ticks\":\"\"}},\"type\":\"scatterpolar\"}],\"scatterpolargl\":[{\"marker\":{\"colorbar\":{\"outlinewidth\":0,\"ticks\":\"\"}},\"type\":\"scatterpolargl\"}],\"scatterternary\":[{\"marker\":{\"colorbar\":{\"outlinewidth\":0,\"ticks\":\"\"}},\"type\":\"scatterternary\"}],\"surface\":[{\"colorbar\":{\"outlinewidth\":0,\"ticks\":\"\"},\"colorscale\":[[0.0,\"#0d0887\"],[0.1111111111111111,\"#46039f\"],[0.2222222222222222,\"#7201a8\"],[0.3333333333333333,\"#9c179e\"],[0.4444444444444444,\"#bd3786\"],[0.5555555555555556,\"#d8576b\"],[0.6666666666666666,\"#ed7953\"],[0.7777777777777778,\"#fb9f3a\"],[0.8888888888888888,\"#fdca26\"],[1.0,\"#f0f921\"]],\"type\":\"surface\"}],\"table\":[{\"cells\":{\"fill\":{\"color\":\"#EBF0F8\"},\"line\":{\"color\":\"white\"}},\"header\":{\"fill\":{\"color\":\"#C8D4E3\"},\"line\":{\"color\":\"white\"}},\"type\":\"table\"}]},\"layout\":{\"annotationdefaults\":{\"arrowcolor\":\"#2a3f5f\",\"arrowhead\":0,\"arrowwidth\":1},\"autotypenumbers\":\"strict\",\"coloraxis\":{\"colorbar\":{\"outlinewidth\":0,\"ticks\":\"\"}},\"colorscale\":{\"diverging\":[[0,\"#8e0152\"],[0.1,\"#c51b7d\"],[0.2,\"#de77ae\"],[0.3,\"#f1b6da\"],[0.4,\"#fde0ef\"],[0.5,\"#f7f7f7\"],[0.6,\"#e6f5d0\"],[0.7,\"#b8e186\"],[0.8,\"#7fbc41\"],[0.9,\"#4d9221\"],[1,\"#276419\"]],\"sequential\":[[0.0,\"#0d0887\"],[0.1111111111111111,\"#46039f\"],[0.2222222222222222,\"#7201a8\"],[0.3333333333333333,\"#9c179e\"],[0.4444444444444444,\"#bd3786\"],[0.5555555555555556,\"#d8576b\"],[0.6666666666666666,\"#ed7953\"],[0.7777777777777778,\"#fb9f3a\"],[0.8888888888888888,\"#fdca26\"],[1.0,\"#f0f921\"]],\"sequentialminus\":[[0.0,\"#0d0887\"],[0.1111111111111111,\"#46039f\"],[0.2222222222222222,\"#7201a8\"],[0.3333333333333333,\"#9c179e\"],[0.4444444444444444,\"#bd3786\"],[0.5555555555555556,\"#d8576b\"],[0.6666666666666666,\"#ed7953\"],[0.7777777777777778,\"#fb9f3a\"],[0.8888888888888888,\"#fdca26\"],[1.0,\"#f0f921\"]]},\"colorway\":[\"#636efa\",\"#EF553B\",\"#00cc96\",\"#ab63fa\",\"#FFA15A\",\"#19d3f3\",\"#FF6692\",\"#B6E880\",\"#FF97FF\",\"#FECB52\"],\"font\":{\"color\":\"#2a3f5f\"},\"geo\":{\"bgcolor\":\"white\",\"lakecolor\":\"white\",\"landcolor\":\"#E5ECF6\",\"showlakes\":true,\"showland\":true,\"subunitcolor\":\"white\"},\"hoverlabel\":{\"align\":\"left\"},\"hovermode\":\"closest\",\"mapbox\":{\"style\":\"light\"},\"paper_bgcolor\":\"white\",\"plot_bgcolor\":\"#E5ECF6\",\"polar\":{\"angularaxis\":{\"gridcolor\":\"white\",\"linecolor\":\"white\",\"ticks\":\"\"},\"bgcolor\":\"#E5ECF6\",\"radialaxis\":{\"gridcolor\":\"white\",\"linecolor\":\"white\",\"ticks\":\"\"}},\"scene\":{\"xaxis\":{\"backgroundcolor\":\"#E5ECF6\",\"gridcolor\":\"white\",\"gridwidth\":2,\"linecolor\":\"white\",\"showbackground\":true,\"ticks\":\"\",\"zerolinecolor\":\"white\"},\"yaxis\":{\"backgroundcolor\":\"#E5ECF6\",\"gridcolor\":\"white\",\"gridwidth\":2,\"linecolor\":\"white\",\"showbackground\":true,\"ticks\":\"\",\"zerolinecolor\":\"white\"},\"zaxis\":{\"backgroundcolor\":\"#E5ECF6\",\"gridcolor\":\"white\",\"gridwidth\":2,\"linecolor\":\"white\",\"showbackground\":true,\"ticks\":\"\",\"zerolinecolor\":\"white\"}},\"shapedefaults\":{\"line\":{\"color\":\"#2a3f5f\"}},\"ternary\":{\"aaxis\":{\"gridcolor\":\"white\",\"linecolor\":\"white\",\"ticks\":\"\"},\"baxis\":{\"gridcolor\":\"white\",\"linecolor\":\"white\",\"ticks\":\"\"},\"bgcolor\":\"#E5ECF6\",\"caxis\":{\"gridcolor\":\"white\",\"linecolor\":\"white\",\"ticks\":\"\"}},\"title\":{\"x\":0.05},\"xaxis\":{\"automargin\":true,\"gridcolor\":\"white\",\"linecolor\":\"white\",\"ticks\":\"\",\"title\":{\"standoff\":15},\"zerolinecolor\":\"white\",\"zerolinewidth\":2},\"yaxis\":{\"automargin\":true,\"gridcolor\":\"white\",\"linecolor\":\"white\",\"ticks\":\"\",\"title\":{\"standoff\":15},\"zerolinecolor\":\"white\",\"zerolinewidth\":2}}},\"xaxis\":{\"anchor\":\"y\",\"domain\":[0.0,1.0],\"title\":{\"text\":\"Status\"}},\"yaxis\":{\"anchor\":\"x\",\"domain\":[0.0,1.0],\"title\":{\"text\":\"Quantidade\"}},\"legend\":{\"tracegroupgap\":0},\"title\":{\"text\":\"Quantidade de Dados - fato_desempenho\"},\"barmode\":\"group\"},                        {\"responsive\": true}                    )                };                            </script>        </div>\n</body>\n</html>",
       "datasetInfos": [],
       "metadata": {},
       "removedWidgets": [],
       "textData": null,
       "type": "htmlSandbox"
      }
     },
     "output_type": "display_data"
    },
    {
     "output_type": "display_data",
     "data": {
      "text/html": [
       "<html>\n",
       "<head><meta charset=\"utf-8\" /></head>\n",
       "<body>\n",
       "    <div>            <script src=\"https://cdnjs.cloudflare.com/ajax/libs/mathjax/2.7.5/MathJax.js?config=TeX-AMS-MML_SVG\"></script><script type=\"text/javascript\">if (window.MathJax) {MathJax.Hub.Config({SVG: {font: \"STIX-Web\"}});}</script>                <script type=\"text/javascript\">window.PlotlyConfig = {MathJaxConfig: 'local'};</script>\n",
       "        <script src=\"https://cdn.plot.ly/plotly-2.9.0.min.js\"></script>                <div id=\"878dbc8a-02aa-4ea9-9407-79a9eef48e68\" class=\"plotly-graph-div\" style=\"height:100%; width:100%;\"></div>            <script type=\"text/javascript\">                                    window.PLOTLYENV=window.PLOTLYENV || {};                                    if (document.getElementById(\"878dbc8a-02aa-4ea9-9407-79a9eef48e68\")) {                    Plotly.newPlot(                        \"878dbc8a-02aa-4ea9-9407-79a9eef48e68\",                        [{\"alignmentgroup\":\"True\",\"hovertemplate\":\"Status=%{x}<br>Quantidade=%{text}<extra></extra>\",\"legendgroup\":\"\",\"marker\":{\"color\":\"#636efa\",\"pattern\":{\"shape\":\"\"}},\"name\":\"\",\"offsetgroup\":\"\",\"orientation\":\"v\",\"showlegend\":false,\"text\":[30000.0,0.0],\"textposition\":\"outside\",\"x\":[\"V\\u00e1lidos\",\"Nulos\"],\"xaxis\":\"x\",\"y\":[30000,0],\"yaxis\":\"y\",\"type\":\"bar\"}],                        {\"template\":{\"data\":{\"bar\":[{\"error_x\":{\"color\":\"#2a3f5f\"},\"error_y\":{\"color\":\"#2a3f5f\"},\"marker\":{\"line\":{\"color\":\"#E5ECF6\",\"width\":0.5},\"pattern\":{\"fillmode\":\"overlay\",\"size\":10,\"solidity\":0.2}},\"type\":\"bar\"}],\"barpolar\":[{\"marker\":{\"line\":{\"color\":\"#E5ECF6\",\"width\":0.5},\"pattern\":{\"fillmode\":\"overlay\",\"size\":10,\"solidity\":0.2}},\"type\":\"barpolar\"}],\"carpet\":[{\"aaxis\":{\"endlinecolor\":\"#2a3f5f\",\"gridcolor\":\"white\",\"linecolor\":\"white\",\"minorgridcolor\":\"white\",\"startlinecolor\":\"#2a3f5f\"},\"baxis\":{\"endlinecolor\":\"#2a3f5f\",\"gridcolor\":\"white\",\"linecolor\":\"white\",\"minorgridcolor\":\"white\",\"startlinecolor\":\"#2a3f5f\"},\"type\":\"carpet\"}],\"choropleth\":[{\"colorbar\":{\"outlinewidth\":0,\"ticks\":\"\"},\"type\":\"choropleth\"}],\"contour\":[{\"colorbar\":{\"outlinewidth\":0,\"ticks\":\"\"},\"colorscale\":[[0.0,\"#0d0887\"],[0.1111111111111111,\"#46039f\"],[0.2222222222222222,\"#7201a8\"],[0.3333333333333333,\"#9c179e\"],[0.4444444444444444,\"#bd3786\"],[0.5555555555555556,\"#d8576b\"],[0.6666666666666666,\"#ed7953\"],[0.7777777777777778,\"#fb9f3a\"],[0.8888888888888888,\"#fdca26\"],[1.0,\"#f0f921\"]],\"type\":\"contour\"}],\"contourcarpet\":[{\"colorbar\":{\"outlinewidth\":0,\"ticks\":\"\"},\"type\":\"contourcarpet\"}],\"heatmap\":[{\"colorbar\":{\"outlinewidth\":0,\"ticks\":\"\"},\"colorscale\":[[0.0,\"#0d0887\"],[0.1111111111111111,\"#46039f\"],[0.2222222222222222,\"#7201a8\"],[0.3333333333333333,\"#9c179e\"],[0.4444444444444444,\"#bd3786\"],[0.5555555555555556,\"#d8576b\"],[0.6666666666666666,\"#ed7953\"],[0.7777777777777778,\"#fb9f3a\"],[0.8888888888888888,\"#fdca26\"],[1.0,\"#f0f921\"]],\"type\":\"heatmap\"}],\"heatmapgl\":[{\"colorbar\":{\"outlinewidth\":0,\"ticks\":\"\"},\"colorscale\":[[0.0,\"#0d0887\"],[0.1111111111111111,\"#46039f\"],[0.2222222222222222,\"#7201a8\"],[0.3333333333333333,\"#9c179e\"],[0.4444444444444444,\"#bd3786\"],[0.5555555555555556,\"#d8576b\"],[0.6666666666666666,\"#ed7953\"],[0.7777777777777778,\"#fb9f3a\"],[0.8888888888888888,\"#fdca26\"],[1.0,\"#f0f921\"]],\"type\":\"heatmapgl\"}],\"histogram\":[{\"marker\":{\"pattern\":{\"fillmode\":\"overlay\",\"size\":10,\"solidity\":0.2}},\"type\":\"histogram\"}],\"histogram2d\":[{\"colorbar\":{\"outlinewidth\":0,\"ticks\":\"\"},\"colorscale\":[[0.0,\"#0d0887\"],[0.1111111111111111,\"#46039f\"],[0.2222222222222222,\"#7201a8\"],[0.3333333333333333,\"#9c179e\"],[0.4444444444444444,\"#bd3786\"],[0.5555555555555556,\"#d8576b\"],[0.6666666666666666,\"#ed7953\"],[0.7777777777777778,\"#fb9f3a\"],[0.8888888888888888,\"#fdca26\"],[1.0,\"#f0f921\"]],\"type\":\"histogram2d\"}],\"histogram2dcontour\":[{\"colorbar\":{\"outlinewidth\":0,\"ticks\":\"\"},\"colorscale\":[[0.0,\"#0d0887\"],[0.1111111111111111,\"#46039f\"],[0.2222222222222222,\"#7201a8\"],[0.3333333333333333,\"#9c179e\"],[0.4444444444444444,\"#bd3786\"],[0.5555555555555556,\"#d8576b\"],[0.6666666666666666,\"#ed7953\"],[0.7777777777777778,\"#fb9f3a\"],[0.8888888888888888,\"#fdca26\"],[1.0,\"#f0f921\"]],\"type\":\"histogram2dcontour\"}],\"mesh3d\":[{\"colorbar\":{\"outlinewidth\":0,\"ticks\":\"\"},\"type\":\"mesh3d\"}],\"parcoords\":[{\"line\":{\"colorbar\":{\"outlinewidth\":0,\"ticks\":\"\"}},\"type\":\"parcoords\"}],\"pie\":[{\"automargin\":true,\"type\":\"pie\"}],\"scatter\":[{\"marker\":{\"colorbar\":{\"outlinewidth\":0,\"ticks\":\"\"}},\"type\":\"scatter\"}],\"scatter3d\":[{\"line\":{\"colorbar\":{\"outlinewidth\":0,\"ticks\":\"\"}},\"marker\":{\"colorbar\":{\"outlinewidth\":0,\"ticks\":\"\"}},\"type\":\"scatter3d\"}],\"scattercarpet\":[{\"marker\":{\"colorbar\":{\"outlinewidth\":0,\"ticks\":\"\"}},\"type\":\"scattercarpet\"}],\"scattergeo\":[{\"marker\":{\"colorbar\":{\"outlinewidth\":0,\"ticks\":\"\"}},\"type\":\"scattergeo\"}],\"scattergl\":[{\"marker\":{\"colorbar\":{\"outlinewidth\":0,\"ticks\":\"\"}},\"type\":\"scattergl\"}],\"scattermapbox\":[{\"marker\":{\"colorbar\":{\"outlinewidth\":0,\"ticks\":\"\"}},\"type\":\"scattermapbox\"}],\"scatterpolar\":[{\"marker\":{\"colorbar\":{\"outlinewidth\":0,\"ticks\":\"\"}},\"type\":\"scatterpolar\"}],\"scatterpolargl\":[{\"marker\":{\"colorbar\":{\"outlinewidth\":0,\"ticks\":\"\"}},\"type\":\"scatterpolargl\"}],\"scatterternary\":[{\"marker\":{\"colorbar\":{\"outlinewidth\":0,\"ticks\":\"\"}},\"type\":\"scatterternary\"}],\"surface\":[{\"colorbar\":{\"outlinewidth\":0,\"ticks\":\"\"},\"colorscale\":[[0.0,\"#0d0887\"],[0.1111111111111111,\"#46039f\"],[0.2222222222222222,\"#7201a8\"],[0.3333333333333333,\"#9c179e\"],[0.4444444444444444,\"#bd3786\"],[0.5555555555555556,\"#d8576b\"],[0.6666666666666666,\"#ed7953\"],[0.7777777777777778,\"#fb9f3a\"],[0.8888888888888888,\"#fdca26\"],[1.0,\"#f0f921\"]],\"type\":\"surface\"}],\"table\":[{\"cells\":{\"fill\":{\"color\":\"#EBF0F8\"},\"line\":{\"color\":\"white\"}},\"header\":{\"fill\":{\"color\":\"#C8D4E3\"},\"line\":{\"color\":\"white\"}},\"type\":\"table\"}]},\"layout\":{\"annotationdefaults\":{\"arrowcolor\":\"#2a3f5f\",\"arrowhead\":0,\"arrowwidth\":1},\"autotypenumbers\":\"strict\",\"coloraxis\":{\"colorbar\":{\"outlinewidth\":0,\"ticks\":\"\"}},\"colorscale\":{\"diverging\":[[0,\"#8e0152\"],[0.1,\"#c51b7d\"],[0.2,\"#de77ae\"],[0.3,\"#f1b6da\"],[0.4,\"#fde0ef\"],[0.5,\"#f7f7f7\"],[0.6,\"#e6f5d0\"],[0.7,\"#b8e186\"],[0.8,\"#7fbc41\"],[0.9,\"#4d9221\"],[1,\"#276419\"]],\"sequential\":[[0.0,\"#0d0887\"],[0.1111111111111111,\"#46039f\"],[0.2222222222222222,\"#7201a8\"],[0.3333333333333333,\"#9c179e\"],[0.4444444444444444,\"#bd3786\"],[0.5555555555555556,\"#d8576b\"],[0.6666666666666666,\"#ed7953\"],[0.7777777777777778,\"#fb9f3a\"],[0.8888888888888888,\"#fdca26\"],[1.0,\"#f0f921\"]],\"sequentialminus\":[[0.0,\"#0d0887\"],[0.1111111111111111,\"#46039f\"],[0.2222222222222222,\"#7201a8\"],[0.3333333333333333,\"#9c179e\"],[0.4444444444444444,\"#bd3786\"],[0.5555555555555556,\"#d8576b\"],[0.6666666666666666,\"#ed7953\"],[0.7777777777777778,\"#fb9f3a\"],[0.8888888888888888,\"#fdca26\"],[1.0,\"#f0f921\"]]},\"colorway\":[\"#636efa\",\"#EF553B\",\"#00cc96\",\"#ab63fa\",\"#FFA15A\",\"#19d3f3\",\"#FF6692\",\"#B6E880\",\"#FF97FF\",\"#FECB52\"],\"font\":{\"color\":\"#2a3f5f\"},\"geo\":{\"bgcolor\":\"white\",\"lakecolor\":\"white\",\"landcolor\":\"#E5ECF6\",\"showlakes\":true,\"showland\":true,\"subunitcolor\":\"white\"},\"hoverlabel\":{\"align\":\"left\"},\"hovermode\":\"closest\",\"mapbox\":{\"style\":\"light\"},\"paper_bgcolor\":\"white\",\"plot_bgcolor\":\"#E5ECF6\",\"polar\":{\"angularaxis\":{\"gridcolor\":\"white\",\"linecolor\":\"white\",\"ticks\":\"\"},\"bgcolor\":\"#E5ECF6\",\"radialaxis\":{\"gridcolor\":\"white\",\"linecolor\":\"white\",\"ticks\":\"\"}},\"scene\":{\"xaxis\":{\"backgroundcolor\":\"#E5ECF6\",\"gridcolor\":\"white\",\"gridwidth\":2,\"linecolor\":\"white\",\"showbackground\":true,\"ticks\":\"\",\"zerolinecolor\":\"white\"},\"yaxis\":{\"backgroundcolor\":\"#E5ECF6\",\"gridcolor\":\"white\",\"gridwidth\":2,\"linecolor\":\"white\",\"showbackground\":true,\"ticks\":\"\",\"zerolinecolor\":\"white\"},\"zaxis\":{\"backgroundcolor\":\"#E5ECF6\",\"gridcolor\":\"white\",\"gridwidth\":2,\"linecolor\":\"white\",\"showbackground\":true,\"ticks\":\"\",\"zerolinecolor\":\"white\"}},\"shapedefaults\":{\"line\":{\"color\":\"#2a3f5f\"}},\"ternary\":{\"aaxis\":{\"gridcolor\":\"white\",\"linecolor\":\"white\",\"ticks\":\"\"},\"baxis\":{\"gridcolor\":\"white\",\"linecolor\":\"white\",\"ticks\":\"\"},\"bgcolor\":\"#E5ECF6\",\"caxis\":{\"gridcolor\":\"white\",\"linecolor\":\"white\",\"ticks\":\"\"}},\"title\":{\"x\":0.05},\"xaxis\":{\"automargin\":true,\"gridcolor\":\"white\",\"linecolor\":\"white\",\"ticks\":\"\",\"title\":{\"standoff\":15},\"zerolinecolor\":\"white\",\"zerolinewidth\":2},\"yaxis\":{\"automargin\":true,\"gridcolor\":\"white\",\"linecolor\":\"white\",\"ticks\":\"\",\"title\":{\"standoff\":15},\"zerolinecolor\":\"white\",\"zerolinewidth\":2}}},\"xaxis\":{\"anchor\":\"y\",\"domain\":[0.0,1.0],\"title\":{\"text\":\"Status\"}},\"yaxis\":{\"anchor\":\"x\",\"domain\":[0.0,1.0],\"title\":{\"text\":\"Quantidade\"}},\"legend\":{\"tracegroupgap\":0},\"title\":{\"text\":\"Quantidade de Dados - habitos\"},\"barmode\":\"group\"},                        {\"responsive\": true}                    )                };                            </script>        </div>\n",
       "</body>\n",
       "</html>"
      ]
     },
     "metadata": {
      "application/vnd.databricks.v1+output": {
       "addedWidgets": {},
       "arguments": {},
       "data": "<html>\n<head><meta charset=\"utf-8\" /></head>\n<body>\n    <div>            <script src=\"https://cdnjs.cloudflare.com/ajax/libs/mathjax/2.7.5/MathJax.js?config=TeX-AMS-MML_SVG\"></script><script type=\"text/javascript\">if (window.MathJax) {MathJax.Hub.Config({SVG: {font: \"STIX-Web\"}});}</script>                <script type=\"text/javascript\">window.PlotlyConfig = {MathJaxConfig: 'local'};</script>\n        <script src=\"https://cdn.plot.ly/plotly-2.9.0.min.js\"></script>                <div id=\"878dbc8a-02aa-4ea9-9407-79a9eef48e68\" class=\"plotly-graph-div\" style=\"height:100%; width:100%;\"></div>            <script type=\"text/javascript\">                                    window.PLOTLYENV=window.PLOTLYENV || {};                                    if (document.getElementById(\"878dbc8a-02aa-4ea9-9407-79a9eef48e68\")) {                    Plotly.newPlot(                        \"878dbc8a-02aa-4ea9-9407-79a9eef48e68\",                        [{\"alignmentgroup\":\"True\",\"hovertemplate\":\"Status=%{x}<br>Quantidade=%{text}<extra></extra>\",\"legendgroup\":\"\",\"marker\":{\"color\":\"#636efa\",\"pattern\":{\"shape\":\"\"}},\"name\":\"\",\"offsetgroup\":\"\",\"orientation\":\"v\",\"showlegend\":false,\"text\":[30000.0,0.0],\"textposition\":\"outside\",\"x\":[\"V\\u00e1lidos\",\"Nulos\"],\"xaxis\":\"x\",\"y\":[30000,0],\"yaxis\":\"y\",\"type\":\"bar\"}],                        {\"template\":{\"data\":{\"bar\":[{\"error_x\":{\"color\":\"#2a3f5f\"},\"error_y\":{\"color\":\"#2a3f5f\"},\"marker\":{\"line\":{\"color\":\"#E5ECF6\",\"width\":0.5},\"pattern\":{\"fillmode\":\"overlay\",\"size\":10,\"solidity\":0.2}},\"type\":\"bar\"}],\"barpolar\":[{\"marker\":{\"line\":{\"color\":\"#E5ECF6\",\"width\":0.5},\"pattern\":{\"fillmode\":\"overlay\",\"size\":10,\"solidity\":0.2}},\"type\":\"barpolar\"}],\"carpet\":[{\"aaxis\":{\"endlinecolor\":\"#2a3f5f\",\"gridcolor\":\"white\",\"linecolor\":\"white\",\"minorgridcolor\":\"white\",\"startlinecolor\":\"#2a3f5f\"},\"baxis\":{\"endlinecolor\":\"#2a3f5f\",\"gridcolor\":\"white\",\"linecolor\":\"white\",\"minorgridcolor\":\"white\",\"startlinecolor\":\"#2a3f5f\"},\"type\":\"carpet\"}],\"choropleth\":[{\"colorbar\":{\"outlinewidth\":0,\"ticks\":\"\"},\"type\":\"choropleth\"}],\"contour\":[{\"colorbar\":{\"outlinewidth\":0,\"ticks\":\"\"},\"colorscale\":[[0.0,\"#0d0887\"],[0.1111111111111111,\"#46039f\"],[0.2222222222222222,\"#7201a8\"],[0.3333333333333333,\"#9c179e\"],[0.4444444444444444,\"#bd3786\"],[0.5555555555555556,\"#d8576b\"],[0.6666666666666666,\"#ed7953\"],[0.7777777777777778,\"#fb9f3a\"],[0.8888888888888888,\"#fdca26\"],[1.0,\"#f0f921\"]],\"type\":\"contour\"}],\"contourcarpet\":[{\"colorbar\":{\"outlinewidth\":0,\"ticks\":\"\"},\"type\":\"contourcarpet\"}],\"heatmap\":[{\"colorbar\":{\"outlinewidth\":0,\"ticks\":\"\"},\"colorscale\":[[0.0,\"#0d0887\"],[0.1111111111111111,\"#46039f\"],[0.2222222222222222,\"#7201a8\"],[0.3333333333333333,\"#9c179e\"],[0.4444444444444444,\"#bd3786\"],[0.5555555555555556,\"#d8576b\"],[0.6666666666666666,\"#ed7953\"],[0.7777777777777778,\"#fb9f3a\"],[0.8888888888888888,\"#fdca26\"],[1.0,\"#f0f921\"]],\"type\":\"heatmap\"}],\"heatmapgl\":[{\"colorbar\":{\"outlinewidth\":0,\"ticks\":\"\"},\"colorscale\":[[0.0,\"#0d0887\"],[0.1111111111111111,\"#46039f\"],[0.2222222222222222,\"#7201a8\"],[0.3333333333333333,\"#9c179e\"],[0.4444444444444444,\"#bd3786\"],[0.5555555555555556,\"#d8576b\"],[0.6666666666666666,\"#ed7953\"],[0.7777777777777778,\"#fb9f3a\"],[0.8888888888888888,\"#fdca26\"],[1.0,\"#f0f921\"]],\"type\":\"heatmapgl\"}],\"histogram\":[{\"marker\":{\"pattern\":{\"fillmode\":\"overlay\",\"size\":10,\"solidity\":0.2}},\"type\":\"histogram\"}],\"histogram2d\":[{\"colorbar\":{\"outlinewidth\":0,\"ticks\":\"\"},\"colorscale\":[[0.0,\"#0d0887\"],[0.1111111111111111,\"#46039f\"],[0.2222222222222222,\"#7201a8\"],[0.3333333333333333,\"#9c179e\"],[0.4444444444444444,\"#bd3786\"],[0.5555555555555556,\"#d8576b\"],[0.6666666666666666,\"#ed7953\"],[0.7777777777777778,\"#fb9f3a\"],[0.8888888888888888,\"#fdca26\"],[1.0,\"#f0f921\"]],\"type\":\"histogram2d\"}],\"histogram2dcontour\":[{\"colorbar\":{\"outlinewidth\":0,\"ticks\":\"\"},\"colorscale\":[[0.0,\"#0d0887\"],[0.1111111111111111,\"#46039f\"],[0.2222222222222222,\"#7201a8\"],[0.3333333333333333,\"#9c179e\"],[0.4444444444444444,\"#bd3786\"],[0.5555555555555556,\"#d8576b\"],[0.6666666666666666,\"#ed7953\"],[0.7777777777777778,\"#fb9f3a\"],[0.8888888888888888,\"#fdca26\"],[1.0,\"#f0f921\"]],\"type\":\"histogram2dcontour\"}],\"mesh3d\":[{\"colorbar\":{\"outlinewidth\":0,\"ticks\":\"\"},\"type\":\"mesh3d\"}],\"parcoords\":[{\"line\":{\"colorbar\":{\"outlinewidth\":0,\"ticks\":\"\"}},\"type\":\"parcoords\"}],\"pie\":[{\"automargin\":true,\"type\":\"pie\"}],\"scatter\":[{\"marker\":{\"colorbar\":{\"outlinewidth\":0,\"ticks\":\"\"}},\"type\":\"scatter\"}],\"scatter3d\":[{\"line\":{\"colorbar\":{\"outlinewidth\":0,\"ticks\":\"\"}},\"marker\":{\"colorbar\":{\"outlinewidth\":0,\"ticks\":\"\"}},\"type\":\"scatter3d\"}],\"scattercarpet\":[{\"marker\":{\"colorbar\":{\"outlinewidth\":0,\"ticks\":\"\"}},\"type\":\"scattercarpet\"}],\"scattergeo\":[{\"marker\":{\"colorbar\":{\"outlinewidth\":0,\"ticks\":\"\"}},\"type\":\"scattergeo\"}],\"scattergl\":[{\"marker\":{\"colorbar\":{\"outlinewidth\":0,\"ticks\":\"\"}},\"type\":\"scattergl\"}],\"scattermapbox\":[{\"marker\":{\"colorbar\":{\"outlinewidth\":0,\"ticks\":\"\"}},\"type\":\"scattermapbox\"}],\"scatterpolar\":[{\"marker\":{\"colorbar\":{\"outlinewidth\":0,\"ticks\":\"\"}},\"type\":\"scatterpolar\"}],\"scatterpolargl\":[{\"marker\":{\"colorbar\":{\"outlinewidth\":0,\"ticks\":\"\"}},\"type\":\"scatterpolargl\"}],\"scatterternary\":[{\"marker\":{\"colorbar\":{\"outlinewidth\":0,\"ticks\":\"\"}},\"type\":\"scatterternary\"}],\"surface\":[{\"colorbar\":{\"outlinewidth\":0,\"ticks\":\"\"},\"colorscale\":[[0.0,\"#0d0887\"],[0.1111111111111111,\"#46039f\"],[0.2222222222222222,\"#7201a8\"],[0.3333333333333333,\"#9c179e\"],[0.4444444444444444,\"#bd3786\"],[0.5555555555555556,\"#d8576b\"],[0.6666666666666666,\"#ed7953\"],[0.7777777777777778,\"#fb9f3a\"],[0.8888888888888888,\"#fdca26\"],[1.0,\"#f0f921\"]],\"type\":\"surface\"}],\"table\":[{\"cells\":{\"fill\":{\"color\":\"#EBF0F8\"},\"line\":{\"color\":\"white\"}},\"header\":{\"fill\":{\"color\":\"#C8D4E3\"},\"line\":{\"color\":\"white\"}},\"type\":\"table\"}]},\"layout\":{\"annotationdefaults\":{\"arrowcolor\":\"#2a3f5f\",\"arrowhead\":0,\"arrowwidth\":1},\"autotypenumbers\":\"strict\",\"coloraxis\":{\"colorbar\":{\"outlinewidth\":0,\"ticks\":\"\"}},\"colorscale\":{\"diverging\":[[0,\"#8e0152\"],[0.1,\"#c51b7d\"],[0.2,\"#de77ae\"],[0.3,\"#f1b6da\"],[0.4,\"#fde0ef\"],[0.5,\"#f7f7f7\"],[0.6,\"#e6f5d0\"],[0.7,\"#b8e186\"],[0.8,\"#7fbc41\"],[0.9,\"#4d9221\"],[1,\"#276419\"]],\"sequential\":[[0.0,\"#0d0887\"],[0.1111111111111111,\"#46039f\"],[0.2222222222222222,\"#7201a8\"],[0.3333333333333333,\"#9c179e\"],[0.4444444444444444,\"#bd3786\"],[0.5555555555555556,\"#d8576b\"],[0.6666666666666666,\"#ed7953\"],[0.7777777777777778,\"#fb9f3a\"],[0.8888888888888888,\"#fdca26\"],[1.0,\"#f0f921\"]],\"sequentialminus\":[[0.0,\"#0d0887\"],[0.1111111111111111,\"#46039f\"],[0.2222222222222222,\"#7201a8\"],[0.3333333333333333,\"#9c179e\"],[0.4444444444444444,\"#bd3786\"],[0.5555555555555556,\"#d8576b\"],[0.6666666666666666,\"#ed7953\"],[0.7777777777777778,\"#fb9f3a\"],[0.8888888888888888,\"#fdca26\"],[1.0,\"#f0f921\"]]},\"colorway\":[\"#636efa\",\"#EF553B\",\"#00cc96\",\"#ab63fa\",\"#FFA15A\",\"#19d3f3\",\"#FF6692\",\"#B6E880\",\"#FF97FF\",\"#FECB52\"],\"font\":{\"color\":\"#2a3f5f\"},\"geo\":{\"bgcolor\":\"white\",\"lakecolor\":\"white\",\"landcolor\":\"#E5ECF6\",\"showlakes\":true,\"showland\":true,\"subunitcolor\":\"white\"},\"hoverlabel\":{\"align\":\"left\"},\"hovermode\":\"closest\",\"mapbox\":{\"style\":\"light\"},\"paper_bgcolor\":\"white\",\"plot_bgcolor\":\"#E5ECF6\",\"polar\":{\"angularaxis\":{\"gridcolor\":\"white\",\"linecolor\":\"white\",\"ticks\":\"\"},\"bgcolor\":\"#E5ECF6\",\"radialaxis\":{\"gridcolor\":\"white\",\"linecolor\":\"white\",\"ticks\":\"\"}},\"scene\":{\"xaxis\":{\"backgroundcolor\":\"#E5ECF6\",\"gridcolor\":\"white\",\"gridwidth\":2,\"linecolor\":\"white\",\"showbackground\":true,\"ticks\":\"\",\"zerolinecolor\":\"white\"},\"yaxis\":{\"backgroundcolor\":\"#E5ECF6\",\"gridcolor\":\"white\",\"gridwidth\":2,\"linecolor\":\"white\",\"showbackground\":true,\"ticks\":\"\",\"zerolinecolor\":\"white\"},\"zaxis\":{\"backgroundcolor\":\"#E5ECF6\",\"gridcolor\":\"white\",\"gridwidth\":2,\"linecolor\":\"white\",\"showbackground\":true,\"ticks\":\"\",\"zerolinecolor\":\"white\"}},\"shapedefaults\":{\"line\":{\"color\":\"#2a3f5f\"}},\"ternary\":{\"aaxis\":{\"gridcolor\":\"white\",\"linecolor\":\"white\",\"ticks\":\"\"},\"baxis\":{\"gridcolor\":\"white\",\"linecolor\":\"white\",\"ticks\":\"\"},\"bgcolor\":\"#E5ECF6\",\"caxis\":{\"gridcolor\":\"white\",\"linecolor\":\"white\",\"ticks\":\"\"}},\"title\":{\"x\":0.05},\"xaxis\":{\"automargin\":true,\"gridcolor\":\"white\",\"linecolor\":\"white\",\"ticks\":\"\",\"title\":{\"standoff\":15},\"zerolinecolor\":\"white\",\"zerolinewidth\":2},\"yaxis\":{\"automargin\":true,\"gridcolor\":\"white\",\"linecolor\":\"white\",\"ticks\":\"\",\"title\":{\"standoff\":15},\"zerolinecolor\":\"white\",\"zerolinewidth\":2}}},\"xaxis\":{\"anchor\":\"y\",\"domain\":[0.0,1.0],\"title\":{\"text\":\"Status\"}},\"yaxis\":{\"anchor\":\"x\",\"domain\":[0.0,1.0],\"title\":{\"text\":\"Quantidade\"}},\"legend\":{\"tracegroupgap\":0},\"title\":{\"text\":\"Quantidade de Dados - habitos\"},\"barmode\":\"group\"},                        {\"responsive\": true}                    )                };                            </script>        </div>\n</body>\n</html>",
       "datasetInfos": [],
       "metadata": {},
       "removedWidgets": [],
       "textData": null,
       "type": "htmlSandbox"
      }
     },
     "output_type": "display_data"
    }
   ],
   "source": [
    "# Importar bibliotecas necessárias\n",
    "import plotly.express as px\n",
    "import pandas as pd\n",
    "\n",
    "# Listar tabelas para análise\n",
    "tables = [\"alunos\", \"disciplinas\", \"fato_desempenho\", \"habitos\"]\n",
    "\n",
    "# Criar dicionário para armazenar os DataFrames dos gráficos\n",
    "df_list = {}\n",
    "\n",
    "for table in tables:\n",
    "    # Ler os dados\n",
    "    df = spark.sql(f\"SELECT * FROM default.{table}\").toPandas()\n",
    "\n",
    "    # Contar valores válidos e nulos\n",
    "    total_values = df.size  # Total de células (linhas x colunas)\n",
    "    null_values = df.isnull().sum().sum()  # Total de valores nulos\n",
    "    valid_values = total_values - null_values  # Total de valores válidos\n",
    "\n",
    "    # Criar DataFrame específico para essa tabela\n",
    "    df_list[table] = pd.DataFrame({\n",
    "        \"Status\": [\"Válidos\", \"Nulos\"],\n",
    "        \"Quantidade\": [valid_values, null_values]\n",
    "    })\n",
    "\n",
    "# Criar gráficos individuais com rótulos nos dados\n",
    "for table, df_plot in df_list.items():\n",
    "    fig = px.bar(df_plot, x=\"Status\", y=\"Quantidade\", title=f\"Quantidade de Dados - {table}\", \n",
    "                 barmode=\"group\", text=\"Quantidade\")\n",
    "    \n",
    "    # Ajustar layout para exibir os rótulos corretamente\n",
    "    fig.update_traces(textposition=\"outside\")\n",
    "    \n",
    "    # Mostrar gráfico\n",
    "    fig.show()\n"
   ]
  },
  {
   "cell_type": "markdown",
   "metadata": {
    "application/vnd.databricks.v1+cell": {
     "cellMetadata": {
      "byteLimit": 2048000,
      "rowLimit": 10000
     },
     "inputWidgets": {},
     "nuid": "8922445a-633f-4b57-8650-9425492fcd75",
     "showTitle": false,
     "tableResultSettingsMap": {},
     "title": ""
    }
   },
   "source": [
    "### Entrega 📫"
   ]
  },
  {
   "cell_type": "markdown",
   "metadata": {
    "application/vnd.databricks.v1+cell": {
     "cellMetadata": {
      "byteLimit": 2048000,
      "rowLimit": 10000
     },
     "inputWidgets": {},
     "nuid": "c7cba9c6-7d04-4f54-97f6-a45ba00ca541",
     "showTitle": false,
     "tableResultSettingsMap": {},
     "title": ""
    }
   },
   "source": [
    "#### ❗ Problema\n",
    "Parte dos alunos apresenta baixo desempenho acadêmico, e as causas nem sempre são claras, dificultando ações preventivas e direcionadas."
   ]
  },
  {
   "cell_type": "code",
   "execution_count": 0,
   "metadata": {
    "application/vnd.databricks.v1+cell": {
     "cellMetadata": {
      "byteLimit": 2048000,
      "implicitDf": true,
      "rowLimit": 10000
     },
     "collapsed": true,
     "inputWidgets": {},
     "nuid": "2ee65bf6-a3f6-4c2e-849c-1d831eefdcc0",
     "showTitle": false,
     "tableResultSettingsMap": {},
     "title": ""
    }
   },
   "outputs": [
    {
     "output_type": "display_data",
     "data": {
      "text/html": [
       "<style scoped>\n",
       "  .table-result-container {\n",
       "    max-height: 300px;\n",
       "    overflow: auto;\n",
       "  }\n",
       "  table, th, td {\n",
       "    border: 1px solid black;\n",
       "    border-collapse: collapse;\n",
       "  }\n",
       "  th, td {\n",
       "    padding: 5px;\n",
       "  }\n",
       "  th {\n",
       "    text-align: left;\n",
       "  }\n",
       "</style><div class='table-result-container'><table class='table-result'><thead style='background-color: white'><tr><th>Conceito</th><th>Quantidade_de_Registros</th></tr></thead><tbody><tr><td>A</td><td>1495</td></tr><tr><td>B</td><td>978</td></tr><tr><td>D</td><td>889</td></tr><tr><td>F</td><td>844</td></tr><tr><td>C</td><td>794</td></tr></tbody></table></div>"
      ]
     },
     "metadata": {
      "application/vnd.databricks.v1+output": {
       "addedWidgets": {},
       "aggData": [],
       "aggError": "",
       "aggOverflow": false,
       "aggSchema": [],
       "aggSeriesLimitReached": false,
       "aggType": "",
       "arguments": {},
       "columnCustomDisplayInfos": {},
       "data": [
        [
         "A",
         1495
        ],
        [
         "B",
         978
        ],
        [
         "D",
         889
        ],
        [
         "F",
         844
        ],
        [
         "C",
         794
        ]
       ],
       "datasetInfos": [],
       "dbfsResultPath": null,
       "isJsonSchema": true,
       "metadata": {},
       "overflow": false,
       "plotOptions": {
        "customPlotOptions": {},
        "displayType": "table",
        "pivotAggregation": null,
        "pivotColumns": null,
        "xColumns": null,
        "yColumns": null
       },
       "removedWidgets": [],
       "schema": [
        {
         "metadata": "{}",
         "name": "Conceito",
         "type": "\"string\""
        },
        {
         "metadata": "{}",
         "name": "Quantidade_de_Registros",
         "type": "\"long\""
        }
       ],
       "type": "table"
      }
     },
     "output_type": "display_data"
    }
   ],
   "source": [
    "%sql\n",
    "-- Distribuição de desempenho por conceito\n",
    "\n",
    "SELECT \n",
    "  Conceito,\n",
    "  COUNT(*) AS Quantidade_de_Registros\n",
    "FROM \n",
    "  default.fato_desempenho\n",
    "GROUP BY \n",
    "  Conceito\n",
    "ORDER BY \n",
    "  Quantidade_de_Registros DESC;\n"
   ]
  },
  {
   "cell_type": "code",
   "execution_count": 0,
   "metadata": {
    "application/vnd.databricks.v1+cell": {
     "cellMetadata": {
      "byteLimit": 2048000,
      "rowLimit": 10000
     },
     "collapsed": true,
     "inputWidgets": {},
     "nuid": "bb58bf3b-fc65-46a4-ac4b-2f398adad8b4",
     "showTitle": false,
     "tableResultSettingsMap": {},
     "title": ""
    }
   },
   "outputs": [
    {
     "output_type": "display_data",
     "data": {
      "text/html": [
       "<html>\n",
       "<head><meta charset=\"utf-8\" /></head>\n",
       "<body>\n",
       "    <div>            <script src=\"https://cdnjs.cloudflare.com/ajax/libs/mathjax/2.7.5/MathJax.js?config=TeX-AMS-MML_SVG\"></script><script type=\"text/javascript\">if (window.MathJax) {MathJax.Hub.Config({SVG: {font: \"STIX-Web\"}});}</script>                <script type=\"text/javascript\">window.PlotlyConfig = {MathJaxConfig: 'local'};</script>\n",
       "        <script src=\"https://cdn.plot.ly/plotly-2.9.0.min.js\"></script>                <div id=\"98c884f6-da8c-44a5-b2d2-2cd44fd022b8\" class=\"plotly-graph-div\" style=\"height:100%; width:100%;\"></div>            <script type=\"text/javascript\">                                    window.PLOTLYENV=window.PLOTLYENV || {};                                    if (document.getElementById(\"98c884f6-da8c-44a5-b2d2-2cd44fd022b8\")) {                    Plotly.newPlot(                        \"98c884f6-da8c-44a5-b2d2-2cd44fd022b8\",                        [{\"alignmentgroup\":\"True\",\"hovertemplate\":\"Percentual (%)=%{x}<br>Conceito=%{y}<br>text=%{text}<extra></extra>\",\"legendgroup\":\"\",\"marker\":{\"color\":\"teal\",\"pattern\":{\"shape\":\"\"}},\"name\":\"\",\"offsetgroup\":\"\",\"orientation\":\"h\",\"showlegend\":false,\"text\":[\"29.9%\",\"19.6%\",\"15.9%\",\"17.8%\",\"16.9%\"],\"textposition\":\"outside\",\"x\":[29.9,19.56,15.879999999999999,17.78,16.88],\"xaxis\":\"x\",\"y\":[\"A\",\"B\",\"C\",\"D\",\"F\"],\"yaxis\":\"y\",\"type\":\"bar\"}],                        {\"template\":{\"data\":{\"bar\":[{\"error_x\":{\"color\":\"#2a3f5f\"},\"error_y\":{\"color\":\"#2a3f5f\"},\"marker\":{\"line\":{\"color\":\"#E5ECF6\",\"width\":0.5},\"pattern\":{\"fillmode\":\"overlay\",\"size\":10,\"solidity\":0.2}},\"type\":\"bar\"}],\"barpolar\":[{\"marker\":{\"line\":{\"color\":\"#E5ECF6\",\"width\":0.5},\"pattern\":{\"fillmode\":\"overlay\",\"size\":10,\"solidity\":0.2}},\"type\":\"barpolar\"}],\"carpet\":[{\"aaxis\":{\"endlinecolor\":\"#2a3f5f\",\"gridcolor\":\"white\",\"linecolor\":\"white\",\"minorgridcolor\":\"white\",\"startlinecolor\":\"#2a3f5f\"},\"baxis\":{\"endlinecolor\":\"#2a3f5f\",\"gridcolor\":\"white\",\"linecolor\":\"white\",\"minorgridcolor\":\"white\",\"startlinecolor\":\"#2a3f5f\"},\"type\":\"carpet\"}],\"choropleth\":[{\"colorbar\":{\"outlinewidth\":0,\"ticks\":\"\"},\"type\":\"choropleth\"}],\"contour\":[{\"colorbar\":{\"outlinewidth\":0,\"ticks\":\"\"},\"colorscale\":[[0.0,\"#0d0887\"],[0.1111111111111111,\"#46039f\"],[0.2222222222222222,\"#7201a8\"],[0.3333333333333333,\"#9c179e\"],[0.4444444444444444,\"#bd3786\"],[0.5555555555555556,\"#d8576b\"],[0.6666666666666666,\"#ed7953\"],[0.7777777777777778,\"#fb9f3a\"],[0.8888888888888888,\"#fdca26\"],[1.0,\"#f0f921\"]],\"type\":\"contour\"}],\"contourcarpet\":[{\"colorbar\":{\"outlinewidth\":0,\"ticks\":\"\"},\"type\":\"contourcarpet\"}],\"heatmap\":[{\"colorbar\":{\"outlinewidth\":0,\"ticks\":\"\"},\"colorscale\":[[0.0,\"#0d0887\"],[0.1111111111111111,\"#46039f\"],[0.2222222222222222,\"#7201a8\"],[0.3333333333333333,\"#9c179e\"],[0.4444444444444444,\"#bd3786\"],[0.5555555555555556,\"#d8576b\"],[0.6666666666666666,\"#ed7953\"],[0.7777777777777778,\"#fb9f3a\"],[0.8888888888888888,\"#fdca26\"],[1.0,\"#f0f921\"]],\"type\":\"heatmap\"}],\"heatmapgl\":[{\"colorbar\":{\"outlinewidth\":0,\"ticks\":\"\"},\"colorscale\":[[0.0,\"#0d0887\"],[0.1111111111111111,\"#46039f\"],[0.2222222222222222,\"#7201a8\"],[0.3333333333333333,\"#9c179e\"],[0.4444444444444444,\"#bd3786\"],[0.5555555555555556,\"#d8576b\"],[0.6666666666666666,\"#ed7953\"],[0.7777777777777778,\"#fb9f3a\"],[0.8888888888888888,\"#fdca26\"],[1.0,\"#f0f921\"]],\"type\":\"heatmapgl\"}],\"histogram\":[{\"marker\":{\"pattern\":{\"fillmode\":\"overlay\",\"size\":10,\"solidity\":0.2}},\"type\":\"histogram\"}],\"histogram2d\":[{\"colorbar\":{\"outlinewidth\":0,\"ticks\":\"\"},\"colorscale\":[[0.0,\"#0d0887\"],[0.1111111111111111,\"#46039f\"],[0.2222222222222222,\"#7201a8\"],[0.3333333333333333,\"#9c179e\"],[0.4444444444444444,\"#bd3786\"],[0.5555555555555556,\"#d8576b\"],[0.6666666666666666,\"#ed7953\"],[0.7777777777777778,\"#fb9f3a\"],[0.8888888888888888,\"#fdca26\"],[1.0,\"#f0f921\"]],\"type\":\"histogram2d\"}],\"histogram2dcontour\":[{\"colorbar\":{\"outlinewidth\":0,\"ticks\":\"\"},\"colorscale\":[[0.0,\"#0d0887\"],[0.1111111111111111,\"#46039f\"],[0.2222222222222222,\"#7201a8\"],[0.3333333333333333,\"#9c179e\"],[0.4444444444444444,\"#bd3786\"],[0.5555555555555556,\"#d8576b\"],[0.6666666666666666,\"#ed7953\"],[0.7777777777777778,\"#fb9f3a\"],[0.8888888888888888,\"#fdca26\"],[1.0,\"#f0f921\"]],\"type\":\"histogram2dcontour\"}],\"mesh3d\":[{\"colorbar\":{\"outlinewidth\":0,\"ticks\":\"\"},\"type\":\"mesh3d\"}],\"parcoords\":[{\"line\":{\"colorbar\":{\"outlinewidth\":0,\"ticks\":\"\"}},\"type\":\"parcoords\"}],\"pie\":[{\"automargin\":true,\"type\":\"pie\"}],\"scatter\":[{\"marker\":{\"colorbar\":{\"outlinewidth\":0,\"ticks\":\"\"}},\"type\":\"scatter\"}],\"scatter3d\":[{\"line\":{\"colorbar\":{\"outlinewidth\":0,\"ticks\":\"\"}},\"marker\":{\"colorbar\":{\"outlinewidth\":0,\"ticks\":\"\"}},\"type\":\"scatter3d\"}],\"scattercarpet\":[{\"marker\":{\"colorbar\":{\"outlinewidth\":0,\"ticks\":\"\"}},\"type\":\"scattercarpet\"}],\"scattergeo\":[{\"marker\":{\"colorbar\":{\"outlinewidth\":0,\"ticks\":\"\"}},\"type\":\"scattergeo\"}],\"scattergl\":[{\"marker\":{\"colorbar\":{\"outlinewidth\":0,\"ticks\":\"\"}},\"type\":\"scattergl\"}],\"scattermapbox\":[{\"marker\":{\"colorbar\":{\"outlinewidth\":0,\"ticks\":\"\"}},\"type\":\"scattermapbox\"}],\"scatterpolar\":[{\"marker\":{\"colorbar\":{\"outlinewidth\":0,\"ticks\":\"\"}},\"type\":\"scatterpolar\"}],\"scatterpolargl\":[{\"marker\":{\"colorbar\":{\"outlinewidth\":0,\"ticks\":\"\"}},\"type\":\"scatterpolargl\"}],\"scatterternary\":[{\"marker\":{\"colorbar\":{\"outlinewidth\":0,\"ticks\":\"\"}},\"type\":\"scatterternary\"}],\"surface\":[{\"colorbar\":{\"outlinewidth\":0,\"ticks\":\"\"},\"colorscale\":[[0.0,\"#0d0887\"],[0.1111111111111111,\"#46039f\"],[0.2222222222222222,\"#7201a8\"],[0.3333333333333333,\"#9c179e\"],[0.4444444444444444,\"#bd3786\"],[0.5555555555555556,\"#d8576b\"],[0.6666666666666666,\"#ed7953\"],[0.7777777777777778,\"#fb9f3a\"],[0.8888888888888888,\"#fdca26\"],[1.0,\"#f0f921\"]],\"type\":\"surface\"}],\"table\":[{\"cells\":{\"fill\":{\"color\":\"#EBF0F8\"},\"line\":{\"color\":\"white\"}},\"header\":{\"fill\":{\"color\":\"#C8D4E3\"},\"line\":{\"color\":\"white\"}},\"type\":\"table\"}]},\"layout\":{\"annotationdefaults\":{\"arrowcolor\":\"#2a3f5f\",\"arrowhead\":0,\"arrowwidth\":1},\"autotypenumbers\":\"strict\",\"coloraxis\":{\"colorbar\":{\"outlinewidth\":0,\"ticks\":\"\"}},\"colorscale\":{\"diverging\":[[0,\"#8e0152\"],[0.1,\"#c51b7d\"],[0.2,\"#de77ae\"],[0.3,\"#f1b6da\"],[0.4,\"#fde0ef\"],[0.5,\"#f7f7f7\"],[0.6,\"#e6f5d0\"],[0.7,\"#b8e186\"],[0.8,\"#7fbc41\"],[0.9,\"#4d9221\"],[1,\"#276419\"]],\"sequential\":[[0.0,\"#0d0887\"],[0.1111111111111111,\"#46039f\"],[0.2222222222222222,\"#7201a8\"],[0.3333333333333333,\"#9c179e\"],[0.4444444444444444,\"#bd3786\"],[0.5555555555555556,\"#d8576b\"],[0.6666666666666666,\"#ed7953\"],[0.7777777777777778,\"#fb9f3a\"],[0.8888888888888888,\"#fdca26\"],[1.0,\"#f0f921\"]],\"sequentialminus\":[[0.0,\"#0d0887\"],[0.1111111111111111,\"#46039f\"],[0.2222222222222222,\"#7201a8\"],[0.3333333333333333,\"#9c179e\"],[0.4444444444444444,\"#bd3786\"],[0.5555555555555556,\"#d8576b\"],[0.6666666666666666,\"#ed7953\"],[0.7777777777777778,\"#fb9f3a\"],[0.8888888888888888,\"#fdca26\"],[1.0,\"#f0f921\"]]},\"colorway\":[\"#636efa\",\"#EF553B\",\"#00cc96\",\"#ab63fa\",\"#FFA15A\",\"#19d3f3\",\"#FF6692\",\"#B6E880\",\"#FF97FF\",\"#FECB52\"],\"font\":{\"color\":\"#2a3f5f\"},\"geo\":{\"bgcolor\":\"white\",\"lakecolor\":\"white\",\"landcolor\":\"#E5ECF6\",\"showlakes\":true,\"showland\":true,\"subunitcolor\":\"white\"},\"hoverlabel\":{\"align\":\"left\"},\"hovermode\":\"closest\",\"mapbox\":{\"style\":\"light\"},\"paper_bgcolor\":\"white\",\"plot_bgcolor\":\"#E5ECF6\",\"polar\":{\"angularaxis\":{\"gridcolor\":\"white\",\"linecolor\":\"white\",\"ticks\":\"\"},\"bgcolor\":\"#E5ECF6\",\"radialaxis\":{\"gridcolor\":\"white\",\"linecolor\":\"white\",\"ticks\":\"\"}},\"scene\":{\"xaxis\":{\"backgroundcolor\":\"#E5ECF6\",\"gridcolor\":\"white\",\"gridwidth\":2,\"linecolor\":\"white\",\"showbackground\":true,\"ticks\":\"\",\"zerolinecolor\":\"white\"},\"yaxis\":{\"backgroundcolor\":\"#E5ECF6\",\"gridcolor\":\"white\",\"gridwidth\":2,\"linecolor\":\"white\",\"showbackground\":true,\"ticks\":\"\",\"zerolinecolor\":\"white\"},\"zaxis\":{\"backgroundcolor\":\"#E5ECF6\",\"gridcolor\":\"white\",\"gridwidth\":2,\"linecolor\":\"white\",\"showbackground\":true,\"ticks\":\"\",\"zerolinecolor\":\"white\"}},\"shapedefaults\":{\"line\":{\"color\":\"#2a3f5f\"}},\"ternary\":{\"aaxis\":{\"gridcolor\":\"white\",\"linecolor\":\"white\",\"ticks\":\"\"},\"baxis\":{\"gridcolor\":\"white\",\"linecolor\":\"white\",\"ticks\":\"\"},\"bgcolor\":\"#E5ECF6\",\"caxis\":{\"gridcolor\":\"white\",\"linecolor\":\"white\",\"ticks\":\"\"}},\"title\":{\"x\":0.05},\"xaxis\":{\"automargin\":true,\"gridcolor\":\"white\",\"linecolor\":\"white\",\"ticks\":\"\",\"title\":{\"standoff\":15},\"zerolinecolor\":\"white\",\"zerolinewidth\":2},\"yaxis\":{\"automargin\":true,\"gridcolor\":\"white\",\"linecolor\":\"white\",\"ticks\":\"\",\"title\":{\"standoff\":15},\"zerolinecolor\":\"white\",\"zerolinewidth\":2}}},\"xaxis\":{\"anchor\":\"y\",\"domain\":[0.0,1.0],\"title\":{\"text\":\"Percentual (%)\"}},\"yaxis\":{\"anchor\":\"x\",\"domain\":[0.0,1.0],\"title\":{\"text\":\"Conceito\"},\"categoryorder\":\"array\",\"categoryarray\":[\"F\",\"D\",\"C\",\"B\",\"A\"]},\"legend\":{\"tracegroupgap\":0},\"title\":{\"text\":\"Percentual de Alunos por Conceito de Desempenho\"},\"barmode\":\"relative\"},                        {\"responsive\": true}                    )                };                            </script>        </div>\n",
       "</body>\n",
       "</html>"
      ]
     },
     "metadata": {
      "application/vnd.databricks.v1+output": {
       "addedWidgets": {},
       "arguments": {},
       "data": "<html>\n<head><meta charset=\"utf-8\" /></head>\n<body>\n    <div>            <script src=\"https://cdnjs.cloudflare.com/ajax/libs/mathjax/2.7.5/MathJax.js?config=TeX-AMS-MML_SVG\"></script><script type=\"text/javascript\">if (window.MathJax) {MathJax.Hub.Config({SVG: {font: \"STIX-Web\"}});}</script>                <script type=\"text/javascript\">window.PlotlyConfig = {MathJaxConfig: 'local'};</script>\n        <script src=\"https://cdn.plot.ly/plotly-2.9.0.min.js\"></script>                <div id=\"98c884f6-da8c-44a5-b2d2-2cd44fd022b8\" class=\"plotly-graph-div\" style=\"height:100%; width:100%;\"></div>            <script type=\"text/javascript\">                                    window.PLOTLYENV=window.PLOTLYENV || {};                                    if (document.getElementById(\"98c884f6-da8c-44a5-b2d2-2cd44fd022b8\")) {                    Plotly.newPlot(                        \"98c884f6-da8c-44a5-b2d2-2cd44fd022b8\",                        [{\"alignmentgroup\":\"True\",\"hovertemplate\":\"Percentual (%)=%{x}<br>Conceito=%{y}<br>text=%{text}<extra></extra>\",\"legendgroup\":\"\",\"marker\":{\"color\":\"teal\",\"pattern\":{\"shape\":\"\"}},\"name\":\"\",\"offsetgroup\":\"\",\"orientation\":\"h\",\"showlegend\":false,\"text\":[\"29.9%\",\"19.6%\",\"15.9%\",\"17.8%\",\"16.9%\"],\"textposition\":\"outside\",\"x\":[29.9,19.56,15.879999999999999,17.78,16.88],\"xaxis\":\"x\",\"y\":[\"A\",\"B\",\"C\",\"D\",\"F\"],\"yaxis\":\"y\",\"type\":\"bar\"}],                        {\"template\":{\"data\":{\"bar\":[{\"error_x\":{\"color\":\"#2a3f5f\"},\"error_y\":{\"color\":\"#2a3f5f\"},\"marker\":{\"line\":{\"color\":\"#E5ECF6\",\"width\":0.5},\"pattern\":{\"fillmode\":\"overlay\",\"size\":10,\"solidity\":0.2}},\"type\":\"bar\"}],\"barpolar\":[{\"marker\":{\"line\":{\"color\":\"#E5ECF6\",\"width\":0.5},\"pattern\":{\"fillmode\":\"overlay\",\"size\":10,\"solidity\":0.2}},\"type\":\"barpolar\"}],\"carpet\":[{\"aaxis\":{\"endlinecolor\":\"#2a3f5f\",\"gridcolor\":\"white\",\"linecolor\":\"white\",\"minorgridcolor\":\"white\",\"startlinecolor\":\"#2a3f5f\"},\"baxis\":{\"endlinecolor\":\"#2a3f5f\",\"gridcolor\":\"white\",\"linecolor\":\"white\",\"minorgridcolor\":\"white\",\"startlinecolor\":\"#2a3f5f\"},\"type\":\"carpet\"}],\"choropleth\":[{\"colorbar\":{\"outlinewidth\":0,\"ticks\":\"\"},\"type\":\"choropleth\"}],\"contour\":[{\"colorbar\":{\"outlinewidth\":0,\"ticks\":\"\"},\"colorscale\":[[0.0,\"#0d0887\"],[0.1111111111111111,\"#46039f\"],[0.2222222222222222,\"#7201a8\"],[0.3333333333333333,\"#9c179e\"],[0.4444444444444444,\"#bd3786\"],[0.5555555555555556,\"#d8576b\"],[0.6666666666666666,\"#ed7953\"],[0.7777777777777778,\"#fb9f3a\"],[0.8888888888888888,\"#fdca26\"],[1.0,\"#f0f921\"]],\"type\":\"contour\"}],\"contourcarpet\":[{\"colorbar\":{\"outlinewidth\":0,\"ticks\":\"\"},\"type\":\"contourcarpet\"}],\"heatmap\":[{\"colorbar\":{\"outlinewidth\":0,\"ticks\":\"\"},\"colorscale\":[[0.0,\"#0d0887\"],[0.1111111111111111,\"#46039f\"],[0.2222222222222222,\"#7201a8\"],[0.3333333333333333,\"#9c179e\"],[0.4444444444444444,\"#bd3786\"],[0.5555555555555556,\"#d8576b\"],[0.6666666666666666,\"#ed7953\"],[0.7777777777777778,\"#fb9f3a\"],[0.8888888888888888,\"#fdca26\"],[1.0,\"#f0f921\"]],\"type\":\"heatmap\"}],\"heatmapgl\":[{\"colorbar\":{\"outlinewidth\":0,\"ticks\":\"\"},\"colorscale\":[[0.0,\"#0d0887\"],[0.1111111111111111,\"#46039f\"],[0.2222222222222222,\"#7201a8\"],[0.3333333333333333,\"#9c179e\"],[0.4444444444444444,\"#bd3786\"],[0.5555555555555556,\"#d8576b\"],[0.6666666666666666,\"#ed7953\"],[0.7777777777777778,\"#fb9f3a\"],[0.8888888888888888,\"#fdca26\"],[1.0,\"#f0f921\"]],\"type\":\"heatmapgl\"}],\"histogram\":[{\"marker\":{\"pattern\":{\"fillmode\":\"overlay\",\"size\":10,\"solidity\":0.2}},\"type\":\"histogram\"}],\"histogram2d\":[{\"colorbar\":{\"outlinewidth\":0,\"ticks\":\"\"},\"colorscale\":[[0.0,\"#0d0887\"],[0.1111111111111111,\"#46039f\"],[0.2222222222222222,\"#7201a8\"],[0.3333333333333333,\"#9c179e\"],[0.4444444444444444,\"#bd3786\"],[0.5555555555555556,\"#d8576b\"],[0.6666666666666666,\"#ed7953\"],[0.7777777777777778,\"#fb9f3a\"],[0.8888888888888888,\"#fdca26\"],[1.0,\"#f0f921\"]],\"type\":\"histogram2d\"}],\"histogram2dcontour\":[{\"colorbar\":{\"outlinewidth\":0,\"ticks\":\"\"},\"colorscale\":[[0.0,\"#0d0887\"],[0.1111111111111111,\"#46039f\"],[0.2222222222222222,\"#7201a8\"],[0.3333333333333333,\"#9c179e\"],[0.4444444444444444,\"#bd3786\"],[0.5555555555555556,\"#d8576b\"],[0.6666666666666666,\"#ed7953\"],[0.7777777777777778,\"#fb9f3a\"],[0.8888888888888888,\"#fdca26\"],[1.0,\"#f0f921\"]],\"type\":\"histogram2dcontour\"}],\"mesh3d\":[{\"colorbar\":{\"outlinewidth\":0,\"ticks\":\"\"},\"type\":\"mesh3d\"}],\"parcoords\":[{\"line\":{\"colorbar\":{\"outlinewidth\":0,\"ticks\":\"\"}},\"type\":\"parcoords\"}],\"pie\":[{\"automargin\":true,\"type\":\"pie\"}],\"scatter\":[{\"marker\":{\"colorbar\":{\"outlinewidth\":0,\"ticks\":\"\"}},\"type\":\"scatter\"}],\"scatter3d\":[{\"line\":{\"colorbar\":{\"outlinewidth\":0,\"ticks\":\"\"}},\"marker\":{\"colorbar\":{\"outlinewidth\":0,\"ticks\":\"\"}},\"type\":\"scatter3d\"}],\"scattercarpet\":[{\"marker\":{\"colorbar\":{\"outlinewidth\":0,\"ticks\":\"\"}},\"type\":\"scattercarpet\"}],\"scattergeo\":[{\"marker\":{\"colorbar\":{\"outlinewidth\":0,\"ticks\":\"\"}},\"type\":\"scattergeo\"}],\"scattergl\":[{\"marker\":{\"colorbar\":{\"outlinewidth\":0,\"ticks\":\"\"}},\"type\":\"scattergl\"}],\"scattermapbox\":[{\"marker\":{\"colorbar\":{\"outlinewidth\":0,\"ticks\":\"\"}},\"type\":\"scattermapbox\"}],\"scatterpolar\":[{\"marker\":{\"colorbar\":{\"outlinewidth\":0,\"ticks\":\"\"}},\"type\":\"scatterpolar\"}],\"scatterpolargl\":[{\"marker\":{\"colorbar\":{\"outlinewidth\":0,\"ticks\":\"\"}},\"type\":\"scatterpolargl\"}],\"scatterternary\":[{\"marker\":{\"colorbar\":{\"outlinewidth\":0,\"ticks\":\"\"}},\"type\":\"scatterternary\"}],\"surface\":[{\"colorbar\":{\"outlinewidth\":0,\"ticks\":\"\"},\"colorscale\":[[0.0,\"#0d0887\"],[0.1111111111111111,\"#46039f\"],[0.2222222222222222,\"#7201a8\"],[0.3333333333333333,\"#9c179e\"],[0.4444444444444444,\"#bd3786\"],[0.5555555555555556,\"#d8576b\"],[0.6666666666666666,\"#ed7953\"],[0.7777777777777778,\"#fb9f3a\"],[0.8888888888888888,\"#fdca26\"],[1.0,\"#f0f921\"]],\"type\":\"surface\"}],\"table\":[{\"cells\":{\"fill\":{\"color\":\"#EBF0F8\"},\"line\":{\"color\":\"white\"}},\"header\":{\"fill\":{\"color\":\"#C8D4E3\"},\"line\":{\"color\":\"white\"}},\"type\":\"table\"}]},\"layout\":{\"annotationdefaults\":{\"arrowcolor\":\"#2a3f5f\",\"arrowhead\":0,\"arrowwidth\":1},\"autotypenumbers\":\"strict\",\"coloraxis\":{\"colorbar\":{\"outlinewidth\":0,\"ticks\":\"\"}},\"colorscale\":{\"diverging\":[[0,\"#8e0152\"],[0.1,\"#c51b7d\"],[0.2,\"#de77ae\"],[0.3,\"#f1b6da\"],[0.4,\"#fde0ef\"],[0.5,\"#f7f7f7\"],[0.6,\"#e6f5d0\"],[0.7,\"#b8e186\"],[0.8,\"#7fbc41\"],[0.9,\"#4d9221\"],[1,\"#276419\"]],\"sequential\":[[0.0,\"#0d0887\"],[0.1111111111111111,\"#46039f\"],[0.2222222222222222,\"#7201a8\"],[0.3333333333333333,\"#9c179e\"],[0.4444444444444444,\"#bd3786\"],[0.5555555555555556,\"#d8576b\"],[0.6666666666666666,\"#ed7953\"],[0.7777777777777778,\"#fb9f3a\"],[0.8888888888888888,\"#fdca26\"],[1.0,\"#f0f921\"]],\"sequentialminus\":[[0.0,\"#0d0887\"],[0.1111111111111111,\"#46039f\"],[0.2222222222222222,\"#7201a8\"],[0.3333333333333333,\"#9c179e\"],[0.4444444444444444,\"#bd3786\"],[0.5555555555555556,\"#d8576b\"],[0.6666666666666666,\"#ed7953\"],[0.7777777777777778,\"#fb9f3a\"],[0.8888888888888888,\"#fdca26\"],[1.0,\"#f0f921\"]]},\"colorway\":[\"#636efa\",\"#EF553B\",\"#00cc96\",\"#ab63fa\",\"#FFA15A\",\"#19d3f3\",\"#FF6692\",\"#B6E880\",\"#FF97FF\",\"#FECB52\"],\"font\":{\"color\":\"#2a3f5f\"},\"geo\":{\"bgcolor\":\"white\",\"lakecolor\":\"white\",\"landcolor\":\"#E5ECF6\",\"showlakes\":true,\"showland\":true,\"subunitcolor\":\"white\"},\"hoverlabel\":{\"align\":\"left\"},\"hovermode\":\"closest\",\"mapbox\":{\"style\":\"light\"},\"paper_bgcolor\":\"white\",\"plot_bgcolor\":\"#E5ECF6\",\"polar\":{\"angularaxis\":{\"gridcolor\":\"white\",\"linecolor\":\"white\",\"ticks\":\"\"},\"bgcolor\":\"#E5ECF6\",\"radialaxis\":{\"gridcolor\":\"white\",\"linecolor\":\"white\",\"ticks\":\"\"}},\"scene\":{\"xaxis\":{\"backgroundcolor\":\"#E5ECF6\",\"gridcolor\":\"white\",\"gridwidth\":2,\"linecolor\":\"white\",\"showbackground\":true,\"ticks\":\"\",\"zerolinecolor\":\"white\"},\"yaxis\":{\"backgroundcolor\":\"#E5ECF6\",\"gridcolor\":\"white\",\"gridwidth\":2,\"linecolor\":\"white\",\"showbackground\":true,\"ticks\":\"\",\"zerolinecolor\":\"white\"},\"zaxis\":{\"backgroundcolor\":\"#E5ECF6\",\"gridcolor\":\"white\",\"gridwidth\":2,\"linecolor\":\"white\",\"showbackground\":true,\"ticks\":\"\",\"zerolinecolor\":\"white\"}},\"shapedefaults\":{\"line\":{\"color\":\"#2a3f5f\"}},\"ternary\":{\"aaxis\":{\"gridcolor\":\"white\",\"linecolor\":\"white\",\"ticks\":\"\"},\"baxis\":{\"gridcolor\":\"white\",\"linecolor\":\"white\",\"ticks\":\"\"},\"bgcolor\":\"#E5ECF6\",\"caxis\":{\"gridcolor\":\"white\",\"linecolor\":\"white\",\"ticks\":\"\"}},\"title\":{\"x\":0.05},\"xaxis\":{\"automargin\":true,\"gridcolor\":\"white\",\"linecolor\":\"white\",\"ticks\":\"\",\"title\":{\"standoff\":15},\"zerolinecolor\":\"white\",\"zerolinewidth\":2},\"yaxis\":{\"automargin\":true,\"gridcolor\":\"white\",\"linecolor\":\"white\",\"ticks\":\"\",\"title\":{\"standoff\":15},\"zerolinecolor\":\"white\",\"zerolinewidth\":2}}},\"xaxis\":{\"anchor\":\"y\",\"domain\":[0.0,1.0],\"title\":{\"text\":\"Percentual (%)\"}},\"yaxis\":{\"anchor\":\"x\",\"domain\":[0.0,1.0],\"title\":{\"text\":\"Conceito\"},\"categoryorder\":\"array\",\"categoryarray\":[\"F\",\"D\",\"C\",\"B\",\"A\"]},\"legend\":{\"tracegroupgap\":0},\"title\":{\"text\":\"Percentual de Alunos por Conceito de Desempenho\"},\"barmode\":\"relative\"},                        {\"responsive\": true}                    )                };                            </script>        </div>\n</body>\n</html>",
       "datasetInfos": [],
       "metadata": {},
       "removedWidgets": [],
       "textData": null,
       "type": "htmlSandbox"
      }
     },
     "output_type": "display_data"
    },
    {
     "output_type": "display_data",
     "data": {
      "text/html": [
       "<div style='font-size:16px'>\n",
       "💬 O gráfico demonstra que 17.8% dos alunos têm nota D e 16.9% dos estudantes têm nota F.  \n",
       "Em síntese, 34.7% registram **baixo desempenho**.\n",
       "</div>"
      ]
     },
     "metadata": {
      "application/vnd.databricks.v1+output": {
       "addedWidgets": {},
       "arguments": {},
       "data": "<div style='font-size:16px'>\n💬 O gráfico demonstra que 17.8% dos alunos têm nota D e 16.9% dos estudantes têm nota F.  \nEm síntese, 34.7% registram **baixo desempenho**.\n</div>",
       "datasetInfos": [],
       "metadata": {},
       "removedWidgets": [],
       "textData": null,
       "type": "htmlSandbox"
      }
     },
     "output_type": "display_data"
    }
   ],
   "source": [
    "df_conceitos = spark.sql(\"\"\"\n",
    "SELECT \n",
    "  Conceito,\n",
    "  COUNT(*) AS Quantidade_de_Registros\n",
    "FROM \n",
    "  default.fato_desempenho\n",
    "GROUP BY \n",
    "  Conceito\n",
    "\"\"\").toPandas()\n",
    "\n",
    "# Calcular percentual\n",
    "df_conceitos['Percentual'] = (df_conceitos['Quantidade_de_Registros'] / df_conceitos['Quantidade_de_Registros'].sum()) * 100\n",
    "\n",
    "# Ordenar pela ordem lógica dos conceitos\n",
    "ordem_conceitos = ['A', 'B', 'C', 'D', 'F']\n",
    "df_conceitos['Conceito'] = pd.Categorical(df_conceitos['Conceito'], categories=ordem_conceitos, ordered=True)\n",
    "df_conceitos = df_conceitos.sort_values('Conceito')\n",
    "\n",
    "# Criar gráfico\n",
    "import plotly.express as px\n",
    "\n",
    "fig = px.bar(\n",
    "    df_conceitos,\n",
    "    x='Percentual',\n",
    "    y='Conceito',\n",
    "    orientation='h',\n",
    "    text=df_conceitos['Percentual'].apply(lambda x: f'{x:.1f}%'),\n",
    "    title='Percentual de Alunos por Conceito de Desempenho',\n",
    "    labels={'Percentual': 'Percentual (%)', 'Conceito': 'Conceito'}\n",
    ")\n",
    "\n",
    "fig.update_traces(marker_color='teal', textposition='outside')\n",
    "fig.update_layout(yaxis=dict(categoryorder='array', categoryarray=ordem_conceitos[::-1]))\n",
    "\n",
    "fig.show()\n",
    "\n",
    "#---------------------\n",
    "\n",
    "\n",
    "# Extrair os percentuais de D e F\n",
    "pct_D = df_conceitos.loc[df_conceitos['Conceito'] == 'D', 'Percentual'].values[0]\n",
    "pct_F = df_conceitos.loc[df_conceitos['Conceito'] == 'F', 'Percentual'].values[0]\n",
    "pct_total = pct_D + pct_F\n",
    "\n",
    "# Construir texto markdown dinâmico\n",
    "texto_md = f\"\"\"\n",
    "💬 O gráfico demonstra que {pct_D:.1f}% dos alunos têm nota D e {pct_F:.1f}% dos estudantes têm nota F.  \n",
    "Em síntese, {pct_total:.1f}% registram **baixo desempenho**.\n",
    "\"\"\"\n",
    "\n",
    "# Exibir markdown no notebook\n",
    "displayHTML(f\"<div style='font-size:16px'>{texto_md}</div>\")\n"
   ]
  },
  {
   "cell_type": "markdown",
   "metadata": {
    "application/vnd.databricks.v1+cell": {
     "cellMetadata": {
      "byteLimit": 2048000,
      "rowLimit": 10000
     },
     "inputWidgets": {},
     "nuid": "090bf3a4-d6c4-46f1-892f-3213ac8a2682",
     "showTitle": false,
     "tableResultSettingsMap": {},
     "title": ""
    }
   },
   "source": [
    "#### 🎯 Objetivo\n",
    "Identificar os principais fatores comportamentais e socioeconômicos que influenciam negativamente o desempenho acadêmico dos alunos."
   ]
  },
  {
   "cell_type": "code",
   "execution_count": 0,
   "metadata": {
    "application/vnd.databricks.v1+cell": {
     "cellMetadata": {
      "byteLimit": 2048000,
      "implicitDf": true,
      "rowLimit": 10000
     },
     "collapsed": true,
     "inputWidgets": {},
     "nuid": "e2e2179d-bcfd-4e35-a458-4db94d789555",
     "showTitle": false,
     "tableResultSettingsMap": {},
     "title": ""
    }
   },
   "outputs": [
    {
     "output_type": "display_data",
     "data": {
      "text/html": [
       "<style scoped>\n",
       "  .table-result-container {\n",
       "    max-height: 300px;\n",
       "    overflow: auto;\n",
       "  }\n",
       "  table, th, td {\n",
       "    border: 1px solid black;\n",
       "    border-collapse: collapse;\n",
       "  }\n",
       "  th, td {\n",
       "    padding: 5px;\n",
       "  }\n",
       "  th {\n",
       "    text-align: left;\n",
       "  }\n",
       "</style><div class='table-result-container'><table class='table-result'><thead style='background-color: white'><tr><th>num_affected_rows</th><th>num_inserted_rows</th></tr></thead><tbody></tbody></table></div>"
      ]
     },
     "metadata": {
      "application/vnd.databricks.v1+output": {
       "addedWidgets": {},
       "aggData": [],
       "aggError": "",
       "aggOverflow": false,
       "aggSchema": [],
       "aggSeriesLimitReached": false,
       "aggType": "",
       "arguments": {},
       "columnCustomDisplayInfos": {},
       "data": [],
       "datasetInfos": [],
       "dbfsResultPath": null,
       "isJsonSchema": true,
       "metadata": {},
       "overflow": false,
       "plotOptions": {
        "customPlotOptions": {},
        "displayType": "table",
        "pivotAggregation": null,
        "pivotColumns": null,
        "xColumns": null,
        "yColumns": null
       },
       "removedWidgets": [],
       "schema": [
        {
         "metadata": "{}",
         "name": "num_affected_rows",
         "type": "\"long\""
        },
        {
         "metadata": "{}",
         "name": "num_inserted_rows",
         "type": "\"long\""
        }
       ],
       "type": "table"
      }
     },
     "output_type": "display_data"
    }
   ],
   "source": [
    "%sql\n",
    "-- Criar no banco de dados a tabela de alunos unificados para analisarmos todas as caracteristicas dos alunos.\n",
    "\n",
    "CREATE OR REPLACE TABLE default.alunos_unificados AS\n",
    "SELECT \n",
    "    f.ID_Aluno,\n",
    "    f.ID_Disciplina,\n",
    "    f.Presenca,\n",
    "    f.Nota_Midterm,\n",
    "    f.Nota_Final,\n",
    "    f.Nota_Projetos,\n",
    "    f.Nota_Total,\n",
    "    f.Conceito,\n",
    "    a.Gender,\n",
    "    a.Age,\n",
    "    a.Parent_Education_Level,\n",
    "    a.Family_Income_Level,\n",
    "    h.Study_Hours_per_Week,\n",
    "    h.Extracurricular_Activities,\n",
    "    h.Internet_Access_at_Home,\n",
    "    h.`Stress_Level (1-10)` AS Stress_Level,\n",
    "    h.Sleep_Hours_per_Night\n",
    "FROM \n",
    "    default.fato_desempenho f\n",
    "LEFT JOIN \n",
    "    default.alunos a ON f.ID_Aluno = a.ID_Aluno\n",
    "LEFT JOIN \n",
    "    default.habitos h ON f.ID_Aluno = h.ID_Aluno;\n"
   ]
  },
  {
   "cell_type": "code",
   "execution_count": 0,
   "metadata": {
    "application/vnd.databricks.v1+cell": {
     "cellMetadata": {
      "byteLimit": 2048000,
      "implicitDf": true,
      "rowLimit": 10000
     },
     "collapsed": true,
     "inputWidgets": {},
     "nuid": "7d039b64-b114-44db-b849-2569816fa682",
     "showTitle": false,
     "tableResultSettingsMap": {},
     "title": ""
    }
   },
   "outputs": [
    {
     "output_type": "display_data",
     "data": {
      "text/html": [
       "<style scoped>\n",
       "  .table-result-container {\n",
       "    max-height: 300px;\n",
       "    overflow: auto;\n",
       "  }\n",
       "  table, th, td {\n",
       "    border: 1px solid black;\n",
       "    border-collapse: collapse;\n",
       "  }\n",
       "  th, td {\n",
       "    padding: 5px;\n",
       "  }\n",
       "  th {\n",
       "    text-align: left;\n",
       "  }\n",
       "</style><div class='table-result-container'><table class='table-result'><thead style='background-color: white'><tr><th>num_affected_rows</th><th>num_inserted_rows</th></tr></thead><tbody></tbody></table></div>"
      ]
     },
     "metadata": {
      "application/vnd.databricks.v1+output": {
       "addedWidgets": {},
       "aggData": [],
       "aggError": "",
       "aggOverflow": false,
       "aggSchema": [],
       "aggSeriesLimitReached": false,
       "aggType": "",
       "arguments": {},
       "columnCustomDisplayInfos": {},
       "data": [],
       "datasetInfos": [],
       "dbfsResultPath": null,
       "isJsonSchema": true,
       "metadata": {},
       "overflow": false,
       "plotOptions": {
        "customPlotOptions": {},
        "displayType": "table",
        "pivotAggregation": null,
        "pivotColumns": null,
        "xColumns": null,
        "yColumns": null
       },
       "removedWidgets": [],
       "schema": [
        {
         "metadata": "{}",
         "name": "num_affected_rows",
         "type": "\"long\""
        },
        {
         "metadata": "{}",
         "name": "num_inserted_rows",
         "type": "\"long\""
        }
       ],
       "type": "table"
      }
     },
     "output_type": "display_data"
    }
   ],
   "source": [
    "%sql\n",
    "-- Criando uma view para analisar alunos com baixo desempenho.\n",
    "\n",
    "CREATE OR REPLACE TABLE default.alunos_baixo_desempenho AS\n",
    "SELECT *\n",
    "FROM default.alunos_unificados\n",
    "WHERE Conceito IN ('F');\n"
   ]
  },
  {
   "cell_type": "markdown",
   "metadata": {
    "application/vnd.databricks.v1+cell": {
     "cellMetadata": {
      "byteLimit": 2048000,
      "rowLimit": 10000
     },
     "inputWidgets": {},
     "nuid": "0af0bbba-6fbb-46b6-baf0-b6de49caf5cf",
     "showTitle": false,
     "tableResultSettingsMap": {},
     "title": ""
    }
   },
   "source": [
    "#### 💡 Solução\n",
    "Integrar e analisar os dados de desempenho, hábitos e perfil socioeconômico dos alunos para encontrar padrões que indiquem risco de baixo desempenho, auxiliando na definição de estratégias de suporte mais eficazes."
   ]
  },
  {
   "cell_type": "markdown",
   "metadata": {
    "application/vnd.databricks.v1+cell": {
     "cellMetadata": {
      "byteLimit": 2048000,
      "rowLimit": 10000
     },
     "inputWidgets": {},
     "nuid": "5edf19f6-5abc-4183-8e4d-efaffe3e6252",
     "showTitle": false,
     "tableResultSettingsMap": {},
     "title": ""
    }
   },
   "source": [
    "###### 👣 Passo 1: Classificar os alunos por grupo de desempenho\n",
    "###### 👣 Passo 2: Comparar fatores entre os grupos\n",
    "###### 👣 Passo 3: Responder perguntas chave"
   ]
  },
  {
   "cell_type": "code",
   "execution_count": 0,
   "metadata": {
    "application/vnd.databricks.v1+cell": {
     "cellMetadata": {
      "byteLimit": 2048000,
      "implicitDf": true,
      "rowLimit": 10000
     },
     "collapsed": true,
     "inputWidgets": {},
     "nuid": "b548fa78-3b97-4f8c-9847-c8e8395a9efc",
     "showTitle": false,
     "tableResultSettingsMap": {},
     "title": ""
    }
   },
   "outputs": [
    {
     "output_type": "display_data",
     "data": {
      "text/html": [
       "<style scoped>\n",
       "  .table-result-container {\n",
       "    max-height: 300px;\n",
       "    overflow: auto;\n",
       "  }\n",
       "  table, th, td {\n",
       "    border: 1px solid black;\n",
       "    border-collapse: collapse;\n",
       "  }\n",
       "  th, td {\n",
       "    padding: 5px;\n",
       "  }\n",
       "  th {\n",
       "    text-align: left;\n",
       "  }\n",
       "</style><div class='table-result-container'><table class='table-result'><thead style='background-color: white'><tr></tr></thead><tbody></tbody></table></div>"
      ]
     },
     "metadata": {
      "application/vnd.databricks.v1+output": {
       "addedWidgets": {},
       "aggData": [],
       "aggError": "",
       "aggOverflow": false,
       "aggSchema": [],
       "aggSeriesLimitReached": false,
       "aggType": "",
       "arguments": {},
       "columnCustomDisplayInfos": {},
       "data": [],
       "datasetInfos": [],
       "dbfsResultPath": null,
       "isJsonSchema": true,
       "metadata": {},
       "overflow": false,
       "plotOptions": {
        "customPlotOptions": {},
        "displayType": "table",
        "pivotAggregation": null,
        "pivotColumns": null,
        "xColumns": null,
        "yColumns": null
       },
       "removedWidgets": [],
       "schema": [],
       "type": "table"
      }
     },
     "output_type": "display_data"
    }
   ],
   "source": [
    "%sql -- Coluna Desempenho\n",
    "CREATE OR REPLACE VIEW default.alunos_com_desempenho AS\n",
    "SELECT *,\n",
    "  CASE \n",
    "    WHEN Conceito IN ('A', 'B') THEN 'Alto'\n",
    "    WHEN Conceito IN ('F') THEN 'Baixo'\n",
    "    ELSE 'Medio'\n",
    "  END AS Desempenho\n",
    "FROM default.alunos_unificados;\n"
   ]
  },
  {
   "cell_type": "code",
   "execution_count": 0,
   "metadata": {
    "application/vnd.databricks.v1+cell": {
     "cellMetadata": {
      "byteLimit": 2048000,
      "implicitDf": true,
      "rowLimit": 10000
     },
     "collapsed": true,
     "inputWidgets": {},
     "nuid": "680c6891-9b11-40ae-b3e3-f85efd5f1f10",
     "showTitle": false,
     "tableResultSettingsMap": {},
     "title": ""
    }
   },
   "outputs": [
    {
     "output_type": "display_data",
     "data": {
      "text/html": [
       "<style scoped>\n",
       "  .table-result-container {\n",
       "    max-height: 300px;\n",
       "    overflow: auto;\n",
       "  }\n",
       "  table, th, td {\n",
       "    border: 1px solid black;\n",
       "    border-collapse: collapse;\n",
       "  }\n",
       "  th, td {\n",
       "    padding: 5px;\n",
       "  }\n",
       "  th {\n",
       "    text-align: left;\n",
       "  }\n",
       "</style><div class='table-result-container'><table class='table-result'><thead style='background-color: white'><tr><th>Desempenho</th><th>Media_Horas_Estudo</th><th>Total_Alunos</th></tr></thead><tbody><tr><td>Alto</td><td>17.71</td><td>2473</td></tr><tr><td>Medio</td><td>17.44</td><td>1683</td></tr><tr><td>Baixo</td><td>17.95</td><td>844</td></tr></tbody></table></div>"
      ]
     },
     "metadata": {
      "application/vnd.databricks.v1+output": {
       "addedWidgets": {},
       "aggData": [],
       "aggError": "",
       "aggOverflow": false,
       "aggSchema": [],
       "aggSeriesLimitReached": false,
       "aggType": "",
       "arguments": {},
       "columnCustomDisplayInfos": {},
       "data": [
        [
         "Alto",
         17.71,
         2473
        ],
        [
         "Medio",
         17.44,
         1683
        ],
        [
         "Baixo",
         17.95,
         844
        ]
       ],
       "datasetInfos": [],
       "dbfsResultPath": null,
       "isJsonSchema": true,
       "metadata": {},
       "overflow": false,
       "plotOptions": {
        "customPlotOptions": {},
        "displayType": "table",
        "pivotAggregation": null,
        "pivotColumns": null,
        "xColumns": null,
        "yColumns": null
       },
       "removedWidgets": [],
       "schema": [
        {
         "metadata": "{}",
         "name": "Desempenho",
         "type": "\"string\""
        },
        {
         "metadata": "{}",
         "name": "Media_Horas_Estudo",
         "type": "\"double\""
        },
        {
         "metadata": "{}",
         "name": "Total_Alunos",
         "type": "\"long\""
        }
       ],
       "type": "table"
      }
     },
     "output_type": "display_data"
    }
   ],
   "source": [
    "%sql\n",
    "SELECT \n",
    "  Desempenho,\n",
    "  ROUND(AVG(Study_Hours_per_Week), 2) AS Media_Horas_Estudo,\n",
    "  COUNT(*) AS Total_Alunos\n",
    "FROM default.alunos_com_desempenho\n",
    "GROUP BY Desempenho\n",
    "ORDER BY \n",
    "  CASE Desempenho\n",
    "    WHEN 'Alto' THEN 1\n",
    "    WHEN 'Medio' THEN 2\n",
    "    WHEN 'Baixo' THEN 3\n",
    "    ELSE 4\n",
    "  END;\n"
   ]
  },
  {
   "cell_type": "code",
   "execution_count": 0,
   "metadata": {
    "application/vnd.databricks.v1+cell": {
     "cellMetadata": {
      "byteLimit": 2048000,
      "rowLimit": 10000
     },
     "collapsed": true,
     "inputWidgets": {},
     "nuid": "dd7926a4-f4eb-4bfc-8a72-83b8bd092945",
     "showTitle": false,
     "tableResultSettingsMap": {},
     "title": ""
    }
   },
   "outputs": [
    {
     "output_type": "stream",
     "name": "stdout",
     "output_type": "stream",
     "text": [
      "'dbfs:/FileStore/tables/alunos_unificados.csv'"
     ]
    }
   ],
   "source": [
    "spark.table(\"default.alunos_unificados\") \\\n",
    "     .coalesce(1) \\\n",
    "     .write.mode('overwrite') \\\n",
    "     .option(\"header\", True) \\\n",
    "     .csv(\"dbfs:/FileStore/tables/alunos_unificados\")\n",
    "\n",
    "arquivo_origem = dbutils.fs.ls(\"dbfs:/FileStore/tables/alunos_unificados/\")[2].path\n",
    "arquivo_destino = \"dbfs:/FileStore/tables/alunos_unificados.csv\"\n",
    "\n",
    "dbutils.fs.mv(arquivo_origem, arquivo_destino, True)\n",
    "\n",
    "display(arquivo_destino)"
   ]
  }
 ],
 "metadata": {
  "application/vnd.databricks.v1+notebook": {
   "computePreferences": null,
   "dashboards": [],
   "environmentMetadata": {
    "base_environment": "",
    "environment_version": "1"
   },
   "inputWidgetPreferences": null,
   "language": "python",
   "notebookMetadata": {
    "mostRecentlyExecutedCommandWithImplicitDF": {
     "commandId": 3982590810727196,
     "dataframes": [
      "_sqldf"
     ]
    },
    "pythonIndentUnit": 4
   },
   "notebookName": "MVP",
   "widgets": {}
  }
 },
 "nbformat": 4,
 "nbformat_minor": 0
}