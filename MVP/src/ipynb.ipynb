{
 "cells": [
  {
   "cell_type": "markdown",
   "metadata": {
    "application/vnd.databricks.v1+cell": {
     "cellMetadata": {
      "byteLimit": 2048000,
      "rowLimit": 10000
     },
     "inputWidgets": {},
     "nuid": "515039e2-7052-42bd-8739-77e0ba49d19f",
     "showTitle": false,
     "tableResultSettingsMap": {},
     "title": ""
    },
    "jupyter": {
     "outputs_hidden": true
    }
   },
   "source": [
    "#### 🟩 Inicialização do \"Compute\""
   ]
  },
  {
   "cell_type": "code",
   "execution_count": 0,
   "metadata": {
    "application/vnd.databricks.v1+cell": {
     "cellMetadata": {
      "byteLimit": 2048000,
      "rowLimit": 10000
     },
     "collapsed": true,
     "inputWidgets": {},
     "nuid": "bee5f6e2-5ea1-4cf6-af6d-95652c7f00ac",
     "showTitle": false,
     "tableResultSettingsMap": {},
     "title": ""
    }
   },
   "outputs": [
    {
     "output_type": "stream",
     "name": "stdout",
     "output_type": "stream",
     "text": [
      "Python interpreter will be restarted.\nRequirement already satisfied: openpyxl in /local_disk0/.ephemeral_nfs/envs/pythonEnv-758be907-ee29-4512-8e41-5c28639f9f8a/lib/python3.9/site-packages (3.1.5)\nRequirement already satisfied: kaggle in /local_disk0/.ephemeral_nfs/envs/pythonEnv-758be907-ee29-4512-8e41-5c28639f9f8a/lib/python3.9/site-packages (1.7.4.2)\nRequirement already satisfied: pandas in /databricks/python3/lib/python3.9/site-packages (1.4.2)\nRequirement already satisfied: numpy in /databricks/python3/lib/python3.9/site-packages (1.21.5)\nRequirement already satisfied: et-xmlfile in /local_disk0/.ephemeral_nfs/envs/pythonEnv-758be907-ee29-4512-8e41-5c28639f9f8a/lib/python3.9/site-packages (from openpyxl) (2.0.0)\nRequirement already satisfied: charset-normalizer in /databricks/python3/lib/python3.9/site-packages (from kaggle) (2.0.4)\nRequirement already satisfied: python-slugify in /local_disk0/.ephemeral_nfs/envs/pythonEnv-758be907-ee29-4512-8e41-5c28639f9f8a/lib/python3.9/site-packages (from kaggle) (8.0.4)\nRequirement already satisfied: tqdm in /local_disk0/.ephemeral_nfs/envs/pythonEnv-758be907-ee29-4512-8e41-5c28639f9f8a/lib/python3.9/site-packages (from kaggle) (4.67.1)\nRequirement already satisfied: requests in /databricks/python3/lib/python3.9/site-packages (from kaggle) (2.27.1)\nRequirement already satisfied: protobuf in /databricks/python3/lib/python3.9/site-packages (from kaggle) (3.19.4)\nRequirement already satisfied: python-dateutil>=2.5.3 in /databricks/python3/lib/python3.9/site-packages (from kaggle) (2.8.2)\nRequirement already satisfied: idna in /databricks/python3/lib/python3.9/site-packages (from kaggle) (3.3)\nRequirement already satisfied: text-unidecode in /local_disk0/.ephemeral_nfs/envs/pythonEnv-758be907-ee29-4512-8e41-5c28639f9f8a/lib/python3.9/site-packages (from kaggle) (1.3)\nRequirement already satisfied: six>=1.10 in /databricks/python3/lib/python3.9/site-packages (from kaggle) (1.16.0)\nRequirement already satisfied: urllib3>=1.15.1 in /databricks/python3/lib/python3.9/site-packages (from kaggle) (1.26.9)\nRequirement already satisfied: setuptools>=21.0.0 in /databricks/python3/lib/python3.9/site-packages (from kaggle) (61.2.0)\nRequirement already satisfied: webencodings in /databricks/python3/lib/python3.9/site-packages (from kaggle) (0.5.1)\nRequirement already satisfied: certifi>=14.05.14 in /databricks/python3/lib/python3.9/site-packages (from kaggle) (2021.10.8)\nRequirement already satisfied: bleach in /databricks/python3/lib/python3.9/site-packages (from kaggle) (4.1.0)\nRequirement already satisfied: pytz>=2020.1 in /databricks/python3/lib/python3.9/site-packages (from pandas) (2021.3)\nRequirement already satisfied: packaging in /databricks/python3/lib/python3.9/site-packages (from bleach->kaggle) (21.3)\nRequirement already satisfied: pyparsing!=3.0.5,>=2.0.2 in /databricks/python3/lib/python3.9/site-packages (from packaging->bleach->kaggle) (3.0.4)\nPython interpreter will be restarted.\n"
     ]
    }
   ],
   "source": [
    "# Instala bibliotecas necessárias do python para realizar a execução dos notebooks\n",
    "# Nessa versão community que estamos utilizando, é neccessário instalar toda vez que cria um compute. 🥲 \n",
    "# tentei automatizar isso, mas não consegui. \n",
    "\n",
    "%pip install openpyxl kaggle pandas numpy\n",
    "# Em qualquer notebook Databricks"
   ]
  },
  {
   "cell_type": "markdown",
   "metadata": {
    "application/vnd.databricks.v1+cell": {
     "cellMetadata": {
      "byteLimit": 2048000,
      "rowLimit": 10000
     },
     "inputWidgets": {},
     "nuid": "65d9a6a7-f5d2-4c07-bc19-9b81709a8375",
     "showTitle": false,
     "tableResultSettingsMap": {},
     "title": ""
    },
    "jupyter": {
     "outputs_hidden": true
    }
   },
   "source": [
    "#### Coleta: \n",
    "🟩 Importação de dados (_RAW DATA, Bronze Stage_)"
   ]
  },
  {
   "cell_type": "code",
   "execution_count": 0,
   "metadata": {
    "application/vnd.databricks.v1+cell": {
     "cellMetadata": {
      "byteLimit": 2048000,
      "rowLimit": 10000
     },
     "inputWidgets": {},
     "nuid": "a316591b-f7be-4e19-93c6-1e44c87a6d93",
     "showTitle": false,
     "tableResultSettingsMap": {},
     "title": ""
    }
   },
   "outputs": [
    {
     "output_type": "display_data",
     "data": {
      "text/html": [
       "<div>\n",
       "<style scoped>\n",
       "    .dataframe tbody tr th:only-of-type {\n",
       "        vertical-align: middle;\n",
       "    }\n",
       "\n",
       "    .dataframe tbody tr th {\n",
       "        vertical-align: top;\n",
       "    }\n",
       "\n",
       "    .dataframe thead th {\n",
       "        text-align: right;\n",
       "    }\n",
       "</style>\n",
       "<table border=\"1\" class=\"dataframe\">\n",
       "  <thead>\n",
       "    <tr style=\"text-align: right;\">\n",
       "      <th></th>\n",
       "      <th>Column Name</th>\n",
       "      <th>Data Type</th>\n",
       "      <th>Description</th>\n",
       "    </tr>\n",
       "  </thead>\n",
       "  <tbody>\n",
       "    <tr>\n",
       "      <th>0</th>\n",
       "      <td>Student_ID</td>\n",
       "      <td>String</td>\n",
       "      <td>Unique identifier for each student</td>\n",
       "    </tr>\n",
       "    <tr>\n",
       "      <th>1</th>\n",
       "      <td>First_Name</td>\n",
       "      <td>String</td>\n",
       "      <td>Student’s first name</td>\n",
       "    </tr>\n",
       "    <tr>\n",
       "      <th>2</th>\n",
       "      <td>Last_Name</td>\n",
       "      <td>String</td>\n",
       "      <td>Student’s last name</td>\n",
       "    </tr>\n",
       "    <tr>\n",
       "      <th>3</th>\n",
       "      <td>Email</td>\n",
       "      <td>String</td>\n",
       "      <td>Contact email (can be anonymized)</td>\n",
       "    </tr>\n",
       "    <tr>\n",
       "      <th>4</th>\n",
       "      <td>Gender</td>\n",
       "      <td>Categorical</td>\n",
       "      <td>Male, Female, Other</td>\n",
       "    </tr>\n",
       "  </tbody>\n",
       "</table>\n",
       "</div>"
      ]
     },
     "metadata": {
      "application/vnd.databricks.v1+output": {
       "addedWidgets": {},
       "arguments": {},
       "data": "<div>\n<style scoped>\n    .dataframe tbody tr th:only-of-type {\n        vertical-align: middle;\n    }\n\n    .dataframe tbody tr th {\n        vertical-align: top;\n    }\n\n    .dataframe thead th {\n        text-align: right;\n    }\n</style>\n<table border=\"1\" class=\"dataframe\">\n  <thead>\n    <tr style=\"text-align: right;\">\n      <th></th>\n      <th>Column Name</th>\n      <th>Data Type</th>\n      <th>Description</th>\n    </tr>\n  </thead>\n  <tbody>\n    <tr>\n      <th>0</th>\n      <td>Student_ID</td>\n      <td>String</td>\n      <td>Unique identifier for each student</td>\n    </tr>\n    <tr>\n      <th>1</th>\n      <td>First_Name</td>\n      <td>String</td>\n      <td>Student’s first name</td>\n    </tr>\n    <tr>\n      <th>2</th>\n      <td>Last_Name</td>\n      <td>String</td>\n      <td>Student’s last name</td>\n    </tr>\n    <tr>\n      <th>3</th>\n      <td>Email</td>\n      <td>String</td>\n      <td>Contact email (can be anonymized)</td>\n    </tr>\n    <tr>\n      <th>4</th>\n      <td>Gender</td>\n      <td>Categorical</td>\n      <td>Male, Female, Other</td>\n    </tr>\n  </tbody>\n</table>\n</div>",
       "datasetInfos": [],
       "metadata": {},
       "removedWidgets": [],
       "textData": null,
       "type": "htmlSandbox"
      }
     },
     "output_type": "display_data"
    }
   ],
   "source": [
    "# Importa os metadados do projeto e gera um dataframe pra eventuais manipulações\n",
    "import os\n",
    "import pandas as pd\n",
    "\n",
    "# Caminho original no DBFS\n",
    "RAW_DIR = \"dbfs:/FileStore/tables/\"\n",
    "METADADOS_FILE = RAW_DIR + \"metadata.xlsx\"\n",
    "# Caminho temporário para o arquivo ser acessado pelo Pandas\n",
    "TEMP_FILE = \"/tmp/metadata.xlsx\"\n",
    "# Copiar arquivo do DBFS para o diretório temporário\n",
    "dbutils.fs.cp(METADADOS_FILE, \"file:\" + TEMP_FILE, True)\n",
    "# Carregar a planilha ignorando as duas primeiras linhas\n",
    "METADADOS = pd.read_excel(TEMP_FILE, skiprows=2, engine=\"openpyxl\")\n",
    "# Exibir as primeiras linhas do DataFrame\n",
    "METADADOS.head()"
   ]
  },
  {
   "cell_type": "code",
   "execution_count": 0,
   "metadata": {
    "application/vnd.databricks.v1+cell": {
     "cellMetadata": {
      "byteLimit": 2048000,
      "rowLimit": 10000
     },
     "inputWidgets": {},
     "nuid": "0a7c6fcd-863b-4594-8346-bed6ce4a0db7",
     "showTitle": false,
     "tableResultSettingsMap": {},
     "title": ""
    }
   },
   "outputs": [
    {
     "output_type": "stream",
     "name": "stdout",
     "output_type": "stream",
     "text": [
      "Estrutura do DataFrame BRONZE:\n  Student_ID First_Name Last_Name                    Email  Gender  Age  \\\n0      S1000       Omar  Williams  student0@university.com  Female   22   \n1      S1001      Maria     Brown  student1@university.com    Male   18   \n2      S1002      Ahmed     Jones  student2@university.com    Male   24   \n3      S1003       Omar  Williams  student3@university.com  Female   24   \n4      S1004       John     Smith  student4@university.com  Female   23   \n\n    Department  Attendance (%)  Midterm_Score  Final_Score  ...  \\\n0  Engineering         481.068         49.527       52.038  ...   \n1  Engineering          51.471        451.923      662.676  ...   \n2     Business          44.928         62.947       80.163  ...   \n3  Mathematics         498.336        397.329      576.888  ...   \n4           CS         532.224        789.483      370.006  ...   \n\n   Projects_Score  Total_Score  Grade  Study_Hours_per_Week  \\\n0          71.297      465.547      F                 4.960   \n1         574.728      601.783      A                14.938   \n2         908.405      715.606      D                19.596   \n3          88.578      647.247      A                24.297   \n4          63.702      555.164      F                14.118   \n\n   Extracurricular_Activities Internet_Access_at_Home  Parent_Education_Level  \\\n0                          No                     Yes             High School   \n1                          No                     Yes                    None   \n2                          No                     Yes                Master's   \n3                         Yes                     Yes             High School   \n4                         Yes                     Yes             High School   \n\n  Family_Income_Level Stress_Level (1-10) Sleep_Hours_per_Night  \n0              Medium                4.75                 4.183  \n1              Medium                1.78                 6.319  \n2                 Low                4.55                 5.056  \n3                High                3.24                 3.483  \n4                High                6.96                 3.510  \n\n[5 rows x 23 columns]\nArquivo BRONZE salvo corretamente em: dbfs:/FileStore/tables/1_BRONZE/BRONZE.csv\n"
     ]
    }
   ],
   "source": [
    "# Realiza o estágio BRONZE, copiando o arquivo e salvando em CSV\n",
    "\n",
    "# Caminho do arquivo original no DBFS\n",
    "STUDENTS_FILE_DBFS = \"dbfs:/FileStore/tables/Students_Grading_Dataset.csv\"\n",
    "STUDENTS_FILE_LOCAL = \"/tmp/Students_Grading_Dataset.csv\"\n",
    "\n",
    "# Copiar do DBFS para um caminho local\n",
    "dbutils.fs.cp(STUDENTS_FILE_DBFS, \"file:\" + STUDENTS_FILE_LOCAL, True)\n",
    "\n",
    "# Verificar se o arquivo foi copiado corretamente\n",
    "if not os.path.exists(STUDENTS_FILE_LOCAL):\n",
    "    raise FileNotFoundError(f\"Arquivo {STUDENTS_FILE_LOCAL} não encontrado.\")\n",
    "\n",
    "# Carregar com Pandas\n",
    "BRONZE = pd.read_csv(STUDENTS_FILE_LOCAL)\n",
    "\n",
    "# Exibir as primeiras linhas\n",
    "print(\"Estrutura do DataFrame BRONZE:\")\n",
    "print(BRONZE.head())\n",
    "\n",
    "# Criar diretório no DBFS para salvar o CSV\n",
    "BRONZE_DIR_DBFS = \"dbfs:/FileStore/tables/1_BRONZE\"\n",
    "dbutils.fs.mkdirs(BRONZE_DIR_DBFS)\n",
    "\n",
    "# Salvar o arquivo temporariamente em /tmp\n",
    "BRONZE_TEMP_PATH = \"/tmp/BRONZE.csv\"\n",
    "BRONZE.to_csv(BRONZE_TEMP_PATH, decimal='.', sep=\",\", index=False, encoding='utf-8')\n",
    "\n",
    "# Copiar o CSV local (/tmp) para o DBFS\n",
    "BRONZE_FILE_DBFS = \"dbfs:/FileStore/tables/1_BRONZE/BRONZE.csv\"\n",
    "dbutils.fs.cp(\"file:\" + BRONZE_TEMP_PATH, BRONZE_FILE_DBFS)\n",
    "\n",
    "# Confirmação\n",
    "print(f\"Arquivo BRONZE salvo corretamente em: {BRONZE_FILE_DBFS}\")\n"
   ]
  },
  {
   "cell_type": "markdown",
   "metadata": {
    "application/vnd.databricks.v1+cell": {
     "cellMetadata": {
      "byteLimit": 2048000,
      "rowLimit": 10000
     },
     "inputWidgets": {},
     "nuid": "c673072b-29ad-487d-8e4f-76a57a42600a",
     "showTitle": false,
     "tableResultSettingsMap": {},
     "title": ""
    }
   },
   "source": [
    "#### Modelagem: \n",
    "⭐ Esquema em Estrela (Star Schema)"
   ]
  },
  {
   "cell_type": "code",
   "execution_count": 0,
   "metadata": {
    "application/vnd.databricks.v1+cell": {
     "cellMetadata": {
      "byteLimit": 2048000,
      "rowLimit": 10000
     },
     "inputWidgets": {},
     "nuid": "b1391694-7e36-4dfe-9ab0-2719394c246e",
     "showTitle": false,
     "tableResultSettingsMap": {},
     "title": ""
    }
   },
   "outputs": [
    {
     "output_type": "stream",
     "name": "stdout",
     "output_type": "stream",
     "text": [
      "✅ Arquivos PRATA salvos com sucesso em: dbfs:/FileStore/tables/2_PRATA\n"
     ]
    }
   ],
   "source": [
    "# Importe PySpark sql\n",
    "from pyspark.sql import SparkSession\n",
    "from pyspark.sql.functions import col, monotonically_increasing_id\n",
    "\n",
    "# Iniciei a sessão Spark para poder trabalhar com os dados no formato distribuído\n",
    "spark = SparkSession.builder.appName(\"Modelagem Dimensional\").getOrCreate()\n",
    "\n",
    "# Carreguei o arquivo BRONZE que eu havia salvo no DBFS com separador padrão (vírgula)\n",
    "\n",
    "BRONZE = spark.read \\\n",
    "    .option(\"header\", \"true\") \\\n",
    "    .option(\"inferSchema\", \"true\") \\\n",
    "    .csv(\"dbfs:/FileStore/tables/1_BRONZE/BRONZE.csv\")\n",
    "\n",
    "# Corrigi o nome da coluna que dava problema (\"Stress_Level (1-10)\") para evitar erros futuros\n",
    "BRONZE = BRONZE.withColumnRenamed(\"Stress_Level (1-10)\", \"Stress_Level\")\n",
    "\n",
    "#  Criei a dimensão ALUNOS com os dados pessoais e socioeconômicos dos estudantes\n",
    "ALUNOS = BRONZE.select(\n",
    "    col(\"Student_ID\").cast(\"string\").alias(\"ID_Aluno\"),\n",
    "    \"First_Name\", \"Last_Name\", \"Email\", \"Gender\", \"Age\",\n",
    "    \"Parent_Education_Level\", \"Family_Income_Level\"\n",
    ")\n",
    "\n",
    "# Criei a dimensão DISCIPLINAS com os departamentos únicos e um ID incremental\n",
    "DISCIPLINAS = BRONZE.select(\"Department\").distinct() \\\n",
    "    .withColumnRenamed(\"Department\", \"Nome_Disciplina\") \\\n",
    "    .withColumn(\"ID_Disciplina\", monotonically_increasing_id())\n",
    "\n",
    "# Criei a dimensão HÁBITOS com as variáveis comportamentais e tecnológicas\n",
    "HABITOS = BRONZE.select(\n",
    "    col(\"Student_ID\").cast(\"string\").alias(\"ID_Aluno\"),\n",
    "    \"Study_Hours_per_Week\",\n",
    "    \"Extracurricular_Activities\",\n",
    "    \"Internet_Access_at_Home\",\n",
    "    \"Stress_Level\",\n",
    "    \"Sleep_Hours_per_Night\"\n",
    ")\n",
    "\n",
    "# Criei a tabela fato DESEMPENHO com as notas, frequência e conceito final\n",
    "FATO_DESEMPENHO = BRONZE.select(\n",
    "    col(\"Student_ID\").cast(\"string\").alias(\"ID_Aluno\"),\n",
    "    col(\"Department\").alias(\"ID_Disciplina\"),\n",
    "    col(\"Attendance (%)\").alias(\"Presenca\"),\n",
    "    col(\"Midterm_Score\").alias(\"Nota_Midterm\"),\n",
    "    col(\"Final_Score\").alias(\"Nota_Final\"),\n",
    "    col(\"Projects_Score\").alias(\"Nota_Projetos\"),\n",
    "    col(\"Total_Score\").alias(\"Nota_Total\"),\n",
    "    col(\"Grade\").alias(\"Conceito\")\n",
    ")\n",
    "\n",
    "# Defini o caminho onde vou salvar os arquivos do estágio PRATA\n",
    "PRATA_DIR_DBFS = \"dbfs:/FileStore/tables/2_PRATA\"\n",
    "dbutils.fs.mkdirs(PRATA_DIR_DBFS)\n",
    "\n",
    "# Salvei cada uma das tabelas em formato CSV no diretório PRATA\n",
    "ALUNOS.write.mode(\"overwrite\").option(\"header\", \"true\").csv(f\"{PRATA_DIR_DBFS}/ALUNOS.csv\")\n",
    "DISCIPLINAS.write.mode(\"overwrite\").option(\"header\", \"true\").csv(f\"{PRATA_DIR_DBFS}/DISCIPLINAS.csv\")\n",
    "HABITOS.write.mode(\"overwrite\").option(\"header\", \"true\").csv(f\"{PRATA_DIR_DBFS}/HABITOS.csv\")\n",
    "FATO_DESEMPENHO.write.mode(\"overwrite\").option(\"header\", \"true\").csv(f\"{PRATA_DIR_DBFS}/FATO_DESEMPENHO.csv\")\n",
    "\n",
    "print(\"✅ Arquivos PRATA salvos com sucesso em:\", PRATA_DIR_DBFS)\n"
   ]
  },
  {
   "cell_type": "code",
   "execution_count": 0,
   "metadata": {
    "application/vnd.databricks.v1+cell": {
     "cellMetadata": {
      "byteLimit": 2048000,
      "rowLimit": 10000
     },
     "inputWidgets": {},
     "nuid": "12b947be-4f4a-44e5-b3cf-6a54705e7fb2",
     "showTitle": false,
     "tableResultSettingsMap": {},
     "title": ""
    }
   },
   "outputs": [],
   "source": [
    "# Gera as views temporárias do csv para visualizar no Databricks.\n",
    "\n",
    "# ALUNOS\n",
    "spark.read.option(\"header\", \"true\").csv(f\"{PRATA_DIR_DBFS}/ALUNOS.csv\").createOrReplaceTempView(\"csv_alunos\")\n",
    "\n",
    "# DISCIPLINAS\n",
    "spark.read.option(\"header\", \"true\").csv(f\"{PRATA_DIR_DBFS}/DISCIPLINAS.csv\").createOrReplaceTempView(\"csv_disciplinas\")\n",
    "\n",
    "# HÁBITOS\n",
    "spark.read.option(\"header\", \"true\").csv(f\"{PRATA_DIR_DBFS}/HABITOS.csv\").createOrReplaceTempView(\"csv_habitos\")\n",
    "\n",
    "# FATO_DESEMPENHO\n",
    "spark.read.option(\"header\", \"true\").csv(f\"{PRATA_DIR_DBFS}/FATO_DESEMPENHO.csv\").createOrReplaceTempView(\"csv_fato_desempenho\")\n"
   ]
  },
  {
   "cell_type": "markdown",
   "metadata": {
    "application/vnd.databricks.v1+cell": {
     "cellMetadata": {
      "byteLimit": 2048000,
      "rowLimit": 10000
     },
     "inputWidgets": {},
     "nuid": "f8916f55-45f4-4596-8fa8-a8884bbacb28",
     "showTitle": false,
     "tableResultSettingsMap": {},
     "title": ""
    }
   },
   "source": [
    "#### Carga:\n",
    "⬆️ Vizualização e carregamento de dados (_Loading_)"
   ]
  },
  {
   "cell_type": "markdown",
   "metadata": {
    "application/vnd.databricks.v1+cell": {
     "cellMetadata": {
      "byteLimit": 2048000,
      "rowLimit": 10000
     },
     "inputWidgets": {},
     "nuid": "013cb0cc-4967-4324-8bc4-7235e8a04c33",
     "showTitle": false,
     "tableResultSettingsMap": {},
     "title": ""
    }
   },
   "source": [
    "###### _🗃️_ Tabela Alunos"
   ]
  },
  {
   "cell_type": "code",
   "execution_count": 0,
   "metadata": {
    "application/vnd.databricks.v1+cell": {
     "cellMetadata": {
      "byteLimit": 2048000,
      "implicitDf": true,
      "rowLimit": 10000
     },
     "inputWidgets": {},
     "nuid": "628758b5-a6b0-47af-aad8-8630b0f8cb79",
     "showTitle": false,
     "tableResultSettingsMap": {},
     "title": ""
    }
   },
   "outputs": [],
   "source": [
    "# Carreguei o CSV com os dados de alunos\n",
    "alunos_df = spark.read.option(\"header\", \"true\").option(\"inferSchema\", \"true\") \\\n",
    "    .csv(\"dbfs:/FileStore/tables/2_PRATA/ALUNOS.csv\")\n",
    "\n",
    "# Garanti que o ID_Aluno seja do tipo string para evitar conflitos\n",
    "alunos_df = alunos_df.withColumn(\"ID_Aluno\", col(\"ID_Aluno\").cast(\"string\"))\n",
    "\n",
    "# Salvei como tabela Delta no banco default\n",
    "alunos_df.write.format(\"delta\").mode(\"overwrite\").saveAsTable(\"default.alunos\")\n",
    "\n"
   ]
  },
  {
   "cell_type": "code",
   "execution_count": 0,
   "metadata": {
    "application/vnd.databricks.v1+cell": {
     "cellMetadata": {
      "byteLimit": 2048000,
      "implicitDf": true,
      "rowLimit": 10000
     },
     "inputWidgets": {},
     "nuid": "625a0f73-9897-4a29-bb1e-560e6eadadbe",
     "showTitle": false,
     "tableResultSettingsMap": {},
     "title": ""
    }
   },
   "outputs": [
    {
     "output_type": "display_data",
     "data": {
      "text/html": [
       "<style scoped>\n",
       "  .table-result-container {\n",
       "    max-height: 300px;\n",
       "    overflow: auto;\n",
       "  }\n",
       "  table, th, td {\n",
       "    border: 1px solid black;\n",
       "    border-collapse: collapse;\n",
       "  }\n",
       "  th, td {\n",
       "    padding: 5px;\n",
       "  }\n",
       "  th {\n",
       "    text-align: left;\n",
       "  }\n",
       "</style><div class='table-result-container'><table class='table-result'><thead style='background-color: white'><tr><th>ID_Aluno</th><th>First_Name</th><th>Last_Name</th><th>Email</th><th>Gender</th><th>Age</th><th>Parent_Education_Level</th><th>Family_Income_Level</th></tr></thead><tbody><tr><td>S1000</td><td>Omar</td><td>Williams</td><td>student0@university.com</td><td>Female</td><td>22</td><td>High School</td><td>Medium</td></tr><tr><td>S1001</td><td>Maria</td><td>Brown</td><td>student1@university.com</td><td>Male</td><td>18</td><td>None</td><td>Medium</td></tr><tr><td>S1002</td><td>Ahmed</td><td>Jones</td><td>student2@university.com</td><td>Male</td><td>24</td><td>Master's</td><td>Low</td></tr><tr><td>S1003</td><td>Omar</td><td>Williams</td><td>student3@university.com</td><td>Female</td><td>24</td><td>High School</td><td>High</td></tr><tr><td>S1004</td><td>John</td><td>Smith</td><td>student4@university.com</td><td>Female</td><td>23</td><td>High School</td><td>High</td></tr><tr><td>S1005</td><td>Liam</td><td>Brown</td><td>student5@university.com</td><td>Male</td><td>21</td><td>PhD</td><td>High</td></tr><tr><td>S1006</td><td>Ahmed</td><td>Jones</td><td>student6@university.com</td><td>Male</td><td>24</td><td>null</td><td>Low</td></tr><tr><td>S1007</td><td>Ahmed</td><td>Smith</td><td>student7@university.com</td><td>Male</td><td>19</td><td>None</td><td>Medium</td></tr><tr><td>S1008</td><td>Omar</td><td>Smith</td><td>student8@university.com</td><td>Female</td><td>21</td><td>Bachelor's</td><td>Low</td></tr><tr><td>S1009</td><td>Sara</td><td>Smith</td><td>student9@university.com</td><td>Female</td><td>22</td><td>None</td><td>Medium</td></tr></tbody></table></div>"
      ]
     },
     "metadata": {
      "application/vnd.databricks.v1+output": {
       "addedWidgets": {},
       "aggData": [],
       "aggError": "",
       "aggOverflow": false,
       "aggSchema": [],
       "aggSeriesLimitReached": false,
       "aggType": "",
       "arguments": {},
       "columnCustomDisplayInfos": {},
       "data": [
        [
         "S1000",
         "Omar",
         "Williams",
         "student0@university.com",
         "Female",
         22,
         "High School",
         "Medium"
        ],
        [
         "S1001",
         "Maria",
         "Brown",
         "student1@university.com",
         "Male",
         18,
         "None",
         "Medium"
        ],
        [
         "S1002",
         "Ahmed",
         "Jones",
         "student2@university.com",
         "Male",
         24,
         "Master's",
         "Low"
        ],
        [
         "S1003",
         "Omar",
         "Williams",
         "student3@university.com",
         "Female",
         24,
         "High School",
         "High"
        ],
        [
         "S1004",
         "John",
         "Smith",
         "student4@university.com",
         "Female",
         23,
         "High School",
         "High"
        ],
        [
         "S1005",
         "Liam",
         "Brown",
         "student5@university.com",
         "Male",
         21,
         "PhD",
         "High"
        ],
        [
         "S1006",
         "Ahmed",
         "Jones",
         "student6@university.com",
         "Male",
         24,
         null,
         "Low"
        ],
        [
         "S1007",
         "Ahmed",
         "Smith",
         "student7@university.com",
         "Male",
         19,
         "None",
         "Medium"
        ],
        [
         "S1008",
         "Omar",
         "Smith",
         "student8@university.com",
         "Female",
         21,
         "Bachelor's",
         "Low"
        ],
        [
         "S1009",
         "Sara",
         "Smith",
         "student9@university.com",
         "Female",
         22,
         "None",
         "Medium"
        ]
       ],
       "datasetInfos": [],
       "dbfsResultPath": null,
       "isJsonSchema": true,
       "metadata": {},
       "overflow": false,
       "plotOptions": {
        "customPlotOptions": {},
        "displayType": "table",
        "pivotAggregation": null,
        "pivotColumns": null,
        "xColumns": null,
        "yColumns": null
       },
       "removedWidgets": [],
       "schema": [
        {
         "metadata": "{}",
         "name": "ID_Aluno",
         "type": "\"string\""
        },
        {
         "metadata": "{}",
         "name": "First_Name",
         "type": "\"string\""
        },
        {
         "metadata": "{}",
         "name": "Last_Name",
         "type": "\"string\""
        },
        {
         "metadata": "{}",
         "name": "Email",
         "type": "\"string\""
        },
        {
         "metadata": "{}",
         "name": "Gender",
         "type": "\"string\""
        },
        {
         "metadata": "{}",
         "name": "Age",
         "type": "\"integer\""
        },
        {
         "metadata": "{}",
         "name": "Parent_Education_Level",
         "type": "\"string\""
        },
        {
         "metadata": "{}",
         "name": "Family_Income_Level",
         "type": "\"string\""
        }
       ],
       "type": "table"
      }
     },
     "output_type": "display_data"
    }
   ],
   "source": [
    "%sql\n",
    "SELECT * FROM default.alunos\n",
    "LIMIT 10;"
   ]
  },
  {
   "cell_type": "code",
   "execution_count": 0,
   "metadata": {
    "application/vnd.databricks.v1+cell": {
     "cellMetadata": {
      "byteLimit": 2048000,
      "implicitDf": true,
      "rowLimit": 10000
     },
     "inputWidgets": {},
     "nuid": "aed56bfe-598f-4019-8239-84233b2798ac",
     "showTitle": false,
     "tableResultSettingsMap": {},
     "title": ""
    }
   },
   "outputs": [
    {
     "output_type": "display_data",
     "data": {
      "text/html": [
       "<style scoped>\n",
       "  .table-result-container {\n",
       "    max-height: 300px;\n",
       "    overflow: auto;\n",
       "  }\n",
       "  table, th, td {\n",
       "    border: 1px solid black;\n",
       "    border-collapse: collapse;\n",
       "  }\n",
       "  th, td {\n",
       "    padding: 5px;\n",
       "  }\n",
       "  th {\n",
       "    text-align: left;\n",
       "  }\n",
       "</style><div class='table-result-container'><table class='table-result'><thead style='background-color: white'><tr><th>col_name</th><th>data_type</th><th>comment</th></tr></thead><tbody><tr><td>ID_Aluno</td><td>string</td><td>null</td></tr><tr><td>First_Name</td><td>string</td><td>null</td></tr><tr><td>Last_Name</td><td>string</td><td>null</td></tr><tr><td>Email</td><td>string</td><td>null</td></tr><tr><td>Gender</td><td>string</td><td>null</td></tr><tr><td>Age</td><td>int</td><td>null</td></tr><tr><td>Parent_Education_Level</td><td>string</td><td>null</td></tr><tr><td>Family_Income_Level</td><td>string</td><td>null</td></tr></tbody></table></div>"
      ]
     },
     "metadata": {
      "application/vnd.databricks.v1+output": {
       "addedWidgets": {},
       "aggData": [],
       "aggError": "",
       "aggOverflow": false,
       "aggSchema": [],
       "aggSeriesLimitReached": false,
       "aggType": "",
       "arguments": {},
       "columnCustomDisplayInfos": {},
       "data": [
        [
         "ID_Aluno",
         "string",
         null
        ],
        [
         "First_Name",
         "string",
         null
        ],
        [
         "Last_Name",
         "string",
         null
        ],
        [
         "Email",
         "string",
         null
        ],
        [
         "Gender",
         "string",
         null
        ],
        [
         "Age",
         "int",
         null
        ],
        [
         "Parent_Education_Level",
         "string",
         null
        ],
        [
         "Family_Income_Level",
         "string",
         null
        ]
       ],
       "datasetInfos": [],
       "dbfsResultPath": null,
       "isJsonSchema": true,
       "metadata": {},
       "overflow": false,
       "plotOptions": {
        "customPlotOptions": {},
        "displayType": "table",
        "pivotAggregation": null,
        "pivotColumns": null,
        "xColumns": null,
        "yColumns": null
       },
       "removedWidgets": [],
       "schema": [
        {
         "metadata": "{\"comment\":\"name of the column\"}",
         "name": "col_name",
         "type": "\"string\""
        },
        {
         "metadata": "{\"comment\":\"data type of the column\"}",
         "name": "data_type",
         "type": "\"string\""
        },
        {
         "metadata": "{\"comment\":\"comment of the column\"}",
         "name": "comment",
         "type": "\"string\""
        }
       ],
       "type": "table"
      }
     },
     "output_type": "display_data"
    }
   ],
   "source": [
    "%sql\n",
    "DESCRIBE TABLE default.alunos;"
   ]
  },
  {
   "cell_type": "markdown",
   "metadata": {
    "application/vnd.databricks.v1+cell": {
     "cellMetadata": {
      "byteLimit": 2048000,
      "rowLimit": 10000
     },
     "inputWidgets": {},
     "nuid": "5cff9440-fa0a-47f5-bf28-2fcaf74392a7",
     "showTitle": false,
     "tableResultSettingsMap": {},
     "title": ""
    }
   },
   "source": [
    "###### 🗃️ Tabela Habitos"
   ]
  },
  {
   "cell_type": "code",
   "execution_count": 0,
   "metadata": {
    "application/vnd.databricks.v1+cell": {
     "cellMetadata": {
      "byteLimit": 2048000,
      "implicitDf": true,
      "rowLimit": 10000
     },
     "inputWidgets": {},
     "nuid": "b2a1c9e8-47b9-46dc-8378-d950d4293d46",
     "showTitle": false,
     "tableResultSettingsMap": {},
     "title": ""
    }
   },
   "outputs": [],
   "source": [
    "# Carreguei o CSV com os dados de hábitos\n",
    "habitos_df = spark.read.option(\"header\", \"true\").option(\"inferSchema\", \"true\") \\\n",
    "    .csv(\"dbfs:/FileStore/tables/2_PRATA/HABITOS.csv\")\n",
    "\n",
    "# Renomeei a coluna com caracteres inválidos (caso ainda exista no CSV)\n",
    "habitos_df = habitos_df.withColumnRenamed(\"Stress_Level (1-10)\", \"Stress_Level\")\n",
    "\n",
    "# Garanti que ID_Aluno seja string\n",
    "habitos_df = habitos_df.withColumn(\"ID_Aluno\", col(\"ID_Aluno\").cast(\"string\"))\n",
    "\n",
    "# Salvei como tabela Delta no banco default\n",
    "habitos_df.write.format(\"delta\").mode(\"overwrite\").saveAsTable(\"default.habitos\")\n"
   ]
  },
  {
   "cell_type": "code",
   "execution_count": 0,
   "metadata": {
    "application/vnd.databricks.v1+cell": {
     "cellMetadata": {
      "byteLimit": 2048000,
      "implicitDf": true,
      "rowLimit": 10000
     },
     "inputWidgets": {},
     "nuid": "54ce84c4-6fb3-4c6a-8a87-ddbe43448be4",
     "showTitle": false,
     "tableResultSettingsMap": {},
     "title": ""
    }
   },
   "outputs": [
    {
     "output_type": "display_data",
     "data": {
      "text/html": [
       "<style scoped>\n",
       "  .table-result-container {\n",
       "    max-height: 300px;\n",
       "    overflow: auto;\n",
       "  }\n",
       "  table, th, td {\n",
       "    border: 1px solid black;\n",
       "    border-collapse: collapse;\n",
       "  }\n",
       "  th, td {\n",
       "    padding: 5px;\n",
       "  }\n",
       "  th {\n",
       "    text-align: left;\n",
       "  }\n",
       "</style><div class='table-result-container'><table class='table-result'><thead style='background-color: white'><tr><th>ID_Aluno</th><th>Study_Hours_per_Week</th><th>Extracurricular_Activities</th><th>Internet_Access_at_Home</th><th>Stress_Level</th><th>Sleep_Hours_per_Night</th></tr></thead><tbody><tr><td>S1000</td><td>4.96</td><td>No</td><td>Yes</td><td>4.75</td><td>4.183</td></tr><tr><td>S1001</td><td>14.938</td><td>No</td><td>Yes</td><td>1.78</td><td>6.319</td></tr><tr><td>S1002</td><td>19.596</td><td>No</td><td>Yes</td><td>4.55</td><td>5.056</td></tr><tr><td>S1003</td><td>24.297</td><td>Yes</td><td>Yes</td><td>3.24</td><td>3.483</td></tr><tr><td>S1004</td><td>14.118</td><td>Yes</td><td>Yes</td><td>6.96</td><td>3.51</td></tr><tr><td>S1005</td><td>26.73</td><td>Yes</td><td>Yes</td><td>2.55</td><td>4.941</td></tr><tr><td>S1006</td><td>5.518</td><td>No</td><td>Yes</td><td>9.7</td><td>7.524</td></tr><tr><td>S1007</td><td>23.489</td><td>Yes</td><td>No</td><td>7.56</td><td>3.444</td></tr><tr><td>S1008</td><td>5.568</td><td>No</td><td>No</td><td>0.97</td><td>5.096</td></tr><tr><td>S1009</td><td>11.352</td><td>No</td><td>Yes</td><td>8.2</td><td>8.096</td></tr></tbody></table></div>"
      ]
     },
     "metadata": {
      "application/vnd.databricks.v1+output": {
       "addedWidgets": {},
       "aggData": [],
       "aggError": "",
       "aggOverflow": false,
       "aggSchema": [],
       "aggSeriesLimitReached": false,
       "aggType": "",
       "arguments": {},
       "columnCustomDisplayInfos": {},
       "data": [
        [
         "S1000",
         4.96,
         "No",
         "Yes",
         4.75,
         4.183
        ],
        [
         "S1001",
         14.938,
         "No",
         "Yes",
         1.78,
         6.319
        ],
        [
         "S1002",
         19.596,
         "No",
         "Yes",
         4.55,
         5.056
        ],
        [
         "S1003",
         24.297,
         "Yes",
         "Yes",
         3.24,
         3.483
        ],
        [
         "S1004",
         14.118,
         "Yes",
         "Yes",
         6.96,
         3.51
        ],
        [
         "S1005",
         26.73,
         "Yes",
         "Yes",
         2.55,
         4.941
        ],
        [
         "S1006",
         5.518,
         "No",
         "Yes",
         9.7,
         7.524
        ],
        [
         "S1007",
         23.489,
         "Yes",
         "No",
         7.56,
         3.444
        ],
        [
         "S1008",
         5.568,
         "No",
         "No",
         0.97,
         5.096
        ],
        [
         "S1009",
         11.352,
         "No",
         "Yes",
         8.2,
         8.096
        ]
       ],
       "datasetInfos": [],
       "dbfsResultPath": null,
       "isJsonSchema": true,
       "metadata": {},
       "overflow": false,
       "plotOptions": {
        "customPlotOptions": {},
        "displayType": "table",
        "pivotAggregation": null,
        "pivotColumns": null,
        "xColumns": null,
        "yColumns": null
       },
       "removedWidgets": [],
       "schema": [
        {
         "metadata": "{}",
         "name": "ID_Aluno",
         "type": "\"string\""
        },
        {
         "metadata": "{}",
         "name": "Study_Hours_per_Week",
         "type": "\"double\""
        },
        {
         "metadata": "{}",
         "name": "Extracurricular_Activities",
         "type": "\"string\""
        },
        {
         "metadata": "{}",
         "name": "Internet_Access_at_Home",
         "type": "\"string\""
        },
        {
         "metadata": "{}",
         "name": "Stress_Level",
         "type": "\"double\""
        },
        {
         "metadata": "{}",
         "name": "Sleep_Hours_per_Night",
         "type": "\"double\""
        }
       ],
       "type": "table"
      }
     },
     "output_type": "display_data"
    }
   ],
   "source": [
    "%sql\n",
    "SELECT * FROM default.habitos\n",
    "LIMIT 10;\n"
   ]
  },
  {
   "cell_type": "code",
   "execution_count": 0,
   "metadata": {
    "application/vnd.databricks.v1+cell": {
     "cellMetadata": {
      "byteLimit": 2048000,
      "implicitDf": true,
      "rowLimit": 10000
     },
     "inputWidgets": {},
     "nuid": "02de413b-91e4-4644-836c-625320117cda",
     "showTitle": false,
     "tableResultSettingsMap": {},
     "title": ""
    }
   },
   "outputs": [
    {
     "output_type": "display_data",
     "data": {
      "text/html": [
       "<style scoped>\n",
       "  .table-result-container {\n",
       "    max-height: 300px;\n",
       "    overflow: auto;\n",
       "  }\n",
       "  table, th, td {\n",
       "    border: 1px solid black;\n",
       "    border-collapse: collapse;\n",
       "  }\n",
       "  th, td {\n",
       "    padding: 5px;\n",
       "  }\n",
       "  th {\n",
       "    text-align: left;\n",
       "  }\n",
       "</style><div class='table-result-container'><table class='table-result'><thead style='background-color: white'><tr><th>col_name</th><th>data_type</th><th>comment</th></tr></thead><tbody><tr><td>ID_Aluno</td><td>string</td><td>null</td></tr><tr><td>Study_Hours_per_Week</td><td>double</td><td>null</td></tr><tr><td>Extracurricular_Activities</td><td>string</td><td>null</td></tr><tr><td>Internet_Access_at_Home</td><td>string</td><td>null</td></tr><tr><td>Stress_Level</td><td>double</td><td>null</td></tr><tr><td>Sleep_Hours_per_Night</td><td>double</td><td>null</td></tr></tbody></table></div>"
      ]
     },
     "metadata": {
      "application/vnd.databricks.v1+output": {
       "addedWidgets": {},
       "aggData": [],
       "aggError": "",
       "aggOverflow": false,
       "aggSchema": [],
       "aggSeriesLimitReached": false,
       "aggType": "",
       "arguments": {},
       "columnCustomDisplayInfos": {},
       "data": [
        [
         "ID_Aluno",
         "string",
         null
        ],
        [
         "Study_Hours_per_Week",
         "double",
         null
        ],
        [
         "Extracurricular_Activities",
         "string",
         null
        ],
        [
         "Internet_Access_at_Home",
         "string",
         null
        ],
        [
         "Stress_Level",
         "double",
         null
        ],
        [
         "Sleep_Hours_per_Night",
         "double",
         null
        ]
       ],
       "datasetInfos": [],
       "dbfsResultPath": null,
       "isJsonSchema": true,
       "metadata": {},
       "overflow": false,
       "plotOptions": {
        "customPlotOptions": {},
        "displayType": "table",
        "pivotAggregation": null,
        "pivotColumns": null,
        "xColumns": null,
        "yColumns": null
       },
       "removedWidgets": [],
       "schema": [
        {
         "metadata": "{\"comment\":\"name of the column\"}",
         "name": "col_name",
         "type": "\"string\""
        },
        {
         "metadata": "{\"comment\":\"data type of the column\"}",
         "name": "data_type",
         "type": "\"string\""
        },
        {
         "metadata": "{\"comment\":\"comment of the column\"}",
         "name": "comment",
         "type": "\"string\""
        }
       ],
       "type": "table"
      }
     },
     "output_type": "display_data"
    }
   ],
   "source": [
    "%sql\n",
    "DESCRIBE TABLE default.habitos;\n"
   ]
  },
  {
   "cell_type": "markdown",
   "metadata": {
    "application/vnd.databricks.v1+cell": {
     "cellMetadata": {
      "byteLimit": 2048000,
      "rowLimit": 10000
     },
     "inputWidgets": {},
     "nuid": "b6e68105-d31f-49cb-aed1-b3b92e2bcf51",
     "showTitle": false,
     "tableResultSettingsMap": {},
     "title": ""
    }
   },
   "source": [
    "🗃️ Tabela Disciplinas"
   ]
  },
  {
   "cell_type": "code",
   "execution_count": 0,
   "metadata": {
    "application/vnd.databricks.v1+cell": {
     "cellMetadata": {
      "byteLimit": 2048000,
      "implicitDf": true,
      "rowLimit": 10000
     },
     "inputWidgets": {},
     "nuid": "693b0183-1a1a-4a03-8277-71a8d39a6405",
     "showTitle": false,
     "tableResultSettingsMap": {},
     "title": ""
    }
   },
   "outputs": [],
   "source": [
    "# Carreguei o CSV com os dados de disciplinas\n",
    "disciplinas_df = spark.read.option(\"header\", \"true\").option(\"inferSchema\", \"true\") \\\n",
    "    .csv(\"dbfs:/FileStore/tables/2_PRATA/DISCIPLINAS.csv\")\n",
    "\n",
    "# (Opcional) Garanti que o ID seja string (caso você use joins depois com tipo string)\n",
    "disciplinas_df = disciplinas_df.withColumn(\"ID_Disciplina\", col(\"ID_Disciplina\").cast(\"string\"))\n",
    "\n",
    "# Salvei como tabela Delta no banco default\n",
    "disciplinas_df.write.format(\"delta\").mode(\"overwrite\").saveAsTable(\"default.disciplinas\")\n"
   ]
  },
  {
   "cell_type": "code",
   "execution_count": 0,
   "metadata": {
    "application/vnd.databricks.v1+cell": {
     "cellMetadata": {
      "byteLimit": 2048000,
      "implicitDf": true,
      "rowLimit": 10000
     },
     "inputWidgets": {},
     "nuid": "3de30abc-f9a6-4759-9526-7ac764da7b10",
     "showTitle": false,
     "tableResultSettingsMap": {},
     "title": ""
    }
   },
   "outputs": [
    {
     "output_type": "display_data",
     "data": {
      "text/html": [
       "<style scoped>\n",
       "  .table-result-container {\n",
       "    max-height: 300px;\n",
       "    overflow: auto;\n",
       "  }\n",
       "  table, th, td {\n",
       "    border: 1px solid black;\n",
       "    border-collapse: collapse;\n",
       "  }\n",
       "  th, td {\n",
       "    padding: 5px;\n",
       "  }\n",
       "  th {\n",
       "    text-align: left;\n",
       "  }\n",
       "</style><div class='table-result-container'><table class='table-result'><thead style='background-color: white'><tr><th>Nome_Disciplina</th><th>ID_Disciplina</th></tr></thead><tbody><tr><td>Engineering</td><td>0</td></tr><tr><td>Mathematics</td><td>1</td></tr><tr><td>Business</td><td>2</td></tr><tr><td>CS</td><td>3</td></tr></tbody></table></div>"
      ]
     },
     "metadata": {
      "application/vnd.databricks.v1+output": {
       "addedWidgets": {},
       "aggData": [],
       "aggError": "",
       "aggOverflow": false,
       "aggSchema": [],
       "aggSeriesLimitReached": false,
       "aggType": "",
       "arguments": {},
       "columnCustomDisplayInfos": {},
       "data": [
        [
         "Engineering",
         "0"
        ],
        [
         "Mathematics",
         "1"
        ],
        [
         "Business",
         "2"
        ],
        [
         "CS",
         "3"
        ]
       ],
       "datasetInfos": [],
       "dbfsResultPath": null,
       "isJsonSchema": true,
       "metadata": {},
       "overflow": false,
       "plotOptions": {
        "customPlotOptions": {},
        "displayType": "table",
        "pivotAggregation": null,
        "pivotColumns": null,
        "xColumns": null,
        "yColumns": null
       },
       "removedWidgets": [],
       "schema": [
        {
         "metadata": "{}",
         "name": "Nome_Disciplina",
         "type": "\"string\""
        },
        {
         "metadata": "{}",
         "name": "ID_Disciplina",
         "type": "\"string\""
        }
       ],
       "type": "table"
      }
     },
     "output_type": "display_data"
    }
   ],
   "source": [
    "%sql\n",
    "SELECT * FROM default.disciplinas\n",
    "LIMIT 10;\n"
   ]
  },
  {
   "cell_type": "code",
   "execution_count": 0,
   "metadata": {
    "application/vnd.databricks.v1+cell": {
     "cellMetadata": {
      "byteLimit": 2048000,
      "implicitDf": true,
      "rowLimit": 10000
     },
     "inputWidgets": {},
     "nuid": "9feff2b8-c689-447b-aa4e-050133633215",
     "showTitle": false,
     "tableResultSettingsMap": {},
     "title": ""
    }
   },
   "outputs": [
    {
     "output_type": "display_data",
     "data": {
      "text/html": [
       "<style scoped>\n",
       "  .table-result-container {\n",
       "    max-height: 300px;\n",
       "    overflow: auto;\n",
       "  }\n",
       "  table, th, td {\n",
       "    border: 1px solid black;\n",
       "    border-collapse: collapse;\n",
       "  }\n",
       "  th, td {\n",
       "    padding: 5px;\n",
       "  }\n",
       "  th {\n",
       "    text-align: left;\n",
       "  }\n",
       "</style><div class='table-result-container'><table class='table-result'><thead style='background-color: white'><tr><th>col_name</th><th>data_type</th><th>comment</th></tr></thead><tbody><tr><td>Nome_Disciplina</td><td>string</td><td>null</td></tr><tr><td>ID_Disciplina</td><td>string</td><td>null</td></tr></tbody></table></div>"
      ]
     },
     "metadata": {
      "application/vnd.databricks.v1+output": {
       "addedWidgets": {},
       "aggData": [],
       "aggError": "",
       "aggOverflow": false,
       "aggSchema": [],
       "aggSeriesLimitReached": false,
       "aggType": "",
       "arguments": {},
       "columnCustomDisplayInfos": {},
       "data": [
        [
         "Nome_Disciplina",
         "string",
         null
        ],
        [
         "ID_Disciplina",
         "string",
         null
        ]
       ],
       "datasetInfos": [],
       "dbfsResultPath": null,
       "isJsonSchema": true,
       "metadata": {},
       "overflow": false,
       "plotOptions": {
        "customPlotOptions": {},
        "displayType": "table",
        "pivotAggregation": null,
        "pivotColumns": null,
        "xColumns": null,
        "yColumns": null
       },
       "removedWidgets": [],
       "schema": [
        {
         "metadata": "{\"comment\":\"name of the column\"}",
         "name": "col_name",
         "type": "\"string\""
        },
        {
         "metadata": "{\"comment\":\"data type of the column\"}",
         "name": "data_type",
         "type": "\"string\""
        },
        {
         "metadata": "{\"comment\":\"comment of the column\"}",
         "name": "comment",
         "type": "\"string\""
        }
       ],
       "type": "table"
      }
     },
     "output_type": "display_data"
    }
   ],
   "source": [
    "%sql\n",
    "DESCRIBE TABLE default.disciplinas;\n"
   ]
  },
  {
   "cell_type": "markdown",
   "metadata": {
    "application/vnd.databricks.v1+cell": {
     "cellMetadata": {
      "byteLimit": 2048000,
      "rowLimit": 10000
     },
     "inputWidgets": {},
     "nuid": "faa2c5aa-ea60-4e5f-961a-26f58e908292",
     "showTitle": false,
     "tableResultSettingsMap": {},
     "title": ""
    }
   },
   "source": [
    "🗃️ Fato Desempenho"
   ]
  },
  {
   "cell_type": "code",
   "execution_count": 0,
   "metadata": {
    "application/vnd.databricks.v1+cell": {
     "cellMetadata": {
      "byteLimit": 2048000,
      "implicitDf": true,
      "rowLimit": 10000
     },
     "inputWidgets": {},
     "nuid": "4555cb89-4f06-4fc4-92ac-4cb32266d4e9",
     "showTitle": false,
     "tableResultSettingsMap": {},
     "title": ""
    }
   },
   "outputs": [],
   "source": [
    "# Carreguei o CSV com os dados de desempenho\n",
    "fato_df = spark.read.option(\"header\", \"true\").option(\"inferSchema\", \"true\") \\\n",
    "    .csv(\"dbfs:/FileStore/tables/2_PRATA/FATO_DESEMPENHO.csv\")\n",
    "\n",
    "# Garanti que ID_Aluno e ID_Disciplina sejam strings\n",
    "fato_df = fato_df.withColumn(\"ID_Aluno\", col(\"ID_Aluno\").cast(\"string\"))\n",
    "fato_df = fato_df.withColumn(\"ID_Disciplina\", col(\"ID_Disciplina\").cast(\"string\"))\n",
    "\n",
    "# Salvei como tabela Delta no banco default\n",
    "fato_df.write.format(\"delta\").mode(\"overwrite\").saveAsTable(\"default.fato_desempenho\")\n"
   ]
  },
  {
   "cell_type": "code",
   "execution_count": 0,
   "metadata": {
    "application/vnd.databricks.v1+cell": {
     "cellMetadata": {
      "byteLimit": 2048000,
      "implicitDf": true,
      "rowLimit": 10000
     },
     "inputWidgets": {},
     "nuid": "3a2796e4-0c11-434b-8b87-2fda21d845b1",
     "showTitle": false,
     "tableResultSettingsMap": {},
     "title": ""
    }
   },
   "outputs": [
    {
     "output_type": "display_data",
     "data": {
      "text/html": [
       "<style scoped>\n",
       "  .table-result-container {\n",
       "    max-height: 300px;\n",
       "    overflow: auto;\n",
       "  }\n",
       "  table, th, td {\n",
       "    border: 1px solid black;\n",
       "    border-collapse: collapse;\n",
       "  }\n",
       "  th, td {\n",
       "    padding: 5px;\n",
       "  }\n",
       "  th {\n",
       "    text-align: left;\n",
       "  }\n",
       "</style><div class='table-result-container'><table class='table-result'><thead style='background-color: white'><tr><th>ID_Aluno</th><th>ID_Disciplina</th><th>Presenca</th><th>Nota_Midterm</th><th>Nota_Final</th><th>Nota_Projetos</th><th>Nota_Total</th><th>Conceito</th></tr></thead><tbody><tr><td>S1000</td><td>Engineering</td><td>481.068</td><td>49.527</td><td>52.038</td><td>71.297</td><td>465.547</td><td>F</td></tr><tr><td>S1001</td><td>Engineering</td><td>51.471</td><td>451.923</td><td>662.676</td><td>574.728</td><td>601.783</td><td>A</td></tr><tr><td>S1002</td><td>Business</td><td>44.928</td><td>62.947</td><td>80.163</td><td>908.405</td><td>715.606</td><td>D</td></tr><tr><td>S1003</td><td>Mathematics</td><td>498.336</td><td>397.329</td><td>576.888</td><td>88.578</td><td>647.247</td><td>A</td></tr><tr><td>S1004</td><td>CS</td><td>532.224</td><td>789.483</td><td>370.006</td><td>63.702</td><td>555.164</td><td>F</td></tr><tr><td>S1005</td><td>Engineering</td><td>69.046</td><td>829.012</td><td>494.247</td><td>492.648</td><td>680.853</td><td>B</td></tr><tr><td>S1006</td><td>Business</td><td>72.198</td><td>545.412</td><td>70.472</td><td>539.112</td><td>502.775</td><td>F</td></tr><tr><td>S1007</td><td>Engineering</td><td>49.951</td><td>477.195</td><td>486.486</td><td>45.82</td><td>74.037</td><td>F</td></tr><tr><td>S1008</td><td>CS</td><td>40.808</td><td>657.231</td><td>618.996</td><td>648.489</td><td>683.192</td><td>A</td></tr><tr><td>S1009</td><td>Engineering</td><td>68.362</td><td>431.886</td><td>74.907</td><td>755.145</td><td>69.513</td><td>A</td></tr></tbody></table></div>"
      ]
     },
     "metadata": {
      "application/vnd.databricks.v1+output": {
       "addedWidgets": {},
       "aggData": [],
       "aggError": "",
       "aggOverflow": false,
       "aggSchema": [],
       "aggSeriesLimitReached": false,
       "aggType": "",
       "arguments": {},
       "columnCustomDisplayInfos": {},
       "data": [
        [
         "S1000",
         "Engineering",
         481.068,
         49.527,
         52.038,
         71.297,
         465.547,
         "F"
        ],
        [
         "S1001",
         "Engineering",
         51.471,
         451.923,
         662.676,
         574.728,
         601.783,
         "A"
        ],
        [
         "S1002",
         "Business",
         44.928,
         62.947,
         80.163,
         908.405,
         715.606,
         "D"
        ],
        [
         "S1003",
         "Mathematics",
         498.336,
         397.329,
         576.888,
         88.578,
         647.247,
         "A"
        ],
        [
         "S1004",
         "CS",
         532.224,
         789.483,
         370.006,
         63.702,
         555.164,
         "F"
        ],
        [
         "S1005",
         "Engineering",
         69.046,
         829.012,
         494.247,
         492.648,
         680.853,
         "B"
        ],
        [
         "S1006",
         "Business",
         72.198,
         545.412,
         70.472,
         539.112,
         502.775,
         "F"
        ],
        [
         "S1007",
         "Engineering",
         49.951,
         477.195,
         486.486,
         45.82,
         74.037,
         "F"
        ],
        [
         "S1008",
         "CS",
         40.808,
         657.231,
         618.996,
         648.489,
         683.192,
         "A"
        ],
        [
         "S1009",
         "Engineering",
         68.362,
         431.886,
         74.907,
         755.145,
         69.513,
         "A"
        ]
       ],
       "datasetInfos": [],
       "dbfsResultPath": null,
       "isJsonSchema": true,
       "metadata": {},
       "overflow": false,
       "plotOptions": {
        "customPlotOptions": {},
        "displayType": "table",
        "pivotAggregation": null,
        "pivotColumns": null,
        "xColumns": null,
        "yColumns": null
       },
       "removedWidgets": [],
       "schema": [
        {
         "metadata": "{}",
         "name": "ID_Aluno",
         "type": "\"string\""
        },
        {
         "metadata": "{}",
         "name": "ID_Disciplina",
         "type": "\"string\""
        },
        {
         "metadata": "{}",
         "name": "Presenca",
         "type": "\"double\""
        },
        {
         "metadata": "{}",
         "name": "Nota_Midterm",
         "type": "\"double\""
        },
        {
         "metadata": "{}",
         "name": "Nota_Final",
         "type": "\"double\""
        },
        {
         "metadata": "{}",
         "name": "Nota_Projetos",
         "type": "\"double\""
        },
        {
         "metadata": "{}",
         "name": "Nota_Total",
         "type": "\"double\""
        },
        {
         "metadata": "{}",
         "name": "Conceito",
         "type": "\"string\""
        }
       ],
       "type": "table"
      }
     },
     "output_type": "display_data"
    }
   ],
   "source": [
    "%sql\n",
    "SELECT * FROM default.fato_desempenho\n",
    "LIMIT 10;"
   ]
  },
  {
   "cell_type": "code",
   "execution_count": 0,
   "metadata": {
    "application/vnd.databricks.v1+cell": {
     "cellMetadata": {
      "byteLimit": 2048000,
      "implicitDf": true,
      "rowLimit": 10000
     },
     "inputWidgets": {},
     "nuid": "65827f73-9732-40f6-bd7a-692dcbf8ff1a",
     "showTitle": false,
     "tableResultSettingsMap": {},
     "title": ""
    }
   },
   "outputs": [
    {
     "output_type": "display_data",
     "data": {
      "text/html": [
       "<style scoped>\n",
       "  .table-result-container {\n",
       "    max-height: 300px;\n",
       "    overflow: auto;\n",
       "  }\n",
       "  table, th, td {\n",
       "    border: 1px solid black;\n",
       "    border-collapse: collapse;\n",
       "  }\n",
       "  th, td {\n",
       "    padding: 5px;\n",
       "  }\n",
       "  th {\n",
       "    text-align: left;\n",
       "  }\n",
       "</style><div class='table-result-container'><table class='table-result'><thead style='background-color: white'><tr><th>col_name</th><th>data_type</th><th>comment</th></tr></thead><tbody><tr><td>ID_Aluno</td><td>string</td><td>null</td></tr><tr><td>ID_Disciplina</td><td>string</td><td>null</td></tr><tr><td>Presenca</td><td>double</td><td>null</td></tr><tr><td>Nota_Midterm</td><td>double</td><td>null</td></tr><tr><td>Nota_Final</td><td>double</td><td>null</td></tr><tr><td>Nota_Projetos</td><td>double</td><td>null</td></tr><tr><td>Nota_Total</td><td>double</td><td>null</td></tr><tr><td>Conceito</td><td>string</td><td>null</td></tr></tbody></table></div>"
      ]
     },
     "metadata": {
      "application/vnd.databricks.v1+output": {
       "addedWidgets": {},
       "aggData": [],
       "aggError": "",
       "aggOverflow": false,
       "aggSchema": [],
       "aggSeriesLimitReached": false,
       "aggType": "",
       "arguments": {},
       "columnCustomDisplayInfos": {},
       "data": [
        [
         "ID_Aluno",
         "string",
         null
        ],
        [
         "ID_Disciplina",
         "string",
         null
        ],
        [
         "Presenca",
         "double",
         null
        ],
        [
         "Nota_Midterm",
         "double",
         null
        ],
        [
         "Nota_Final",
         "double",
         null
        ],
        [
         "Nota_Projetos",
         "double",
         null
        ],
        [
         "Nota_Total",
         "double",
         null
        ],
        [
         "Conceito",
         "string",
         null
        ]
       ],
       "datasetInfos": [],
       "dbfsResultPath": null,
       "isJsonSchema": true,
       "metadata": {},
       "overflow": false,
       "plotOptions": {
        "customPlotOptions": {},
        "displayType": "table",
        "pivotAggregation": null,
        "pivotColumns": null,
        "xColumns": null,
        "yColumns": null
       },
       "removedWidgets": [],
       "schema": [
        {
         "metadata": "{\"comment\":\"name of the column\"}",
         "name": "col_name",
         "type": "\"string\""
        },
        {
         "metadata": "{\"comment\":\"data type of the column\"}",
         "name": "data_type",
         "type": "\"string\""
        },
        {
         "metadata": "{\"comment\":\"comment of the column\"}",
         "name": "comment",
         "type": "\"string\""
        }
       ],
       "type": "table"
      }
     },
     "output_type": "display_data"
    }
   ],
   "source": [
    "%sql\n",
    "DESCRIBE TABLE default.fato_desempenho;"
   ]
  },
  {
   "cell_type": "markdown",
   "metadata": {
    "application/vnd.databricks.v1+cell": {
     "cellMetadata": {
      "byteLimit": 2048000,
      "rowLimit": 10000
     },
     "inputWidgets": {},
     "nuid": "5cb955c3-4502-415c-b3e6-1d61f64880ed",
     "showTitle": false,
     "tableResultSettingsMap": {},
     "title": ""
    }
   },
   "source": [
    "#### 🔎 Análise Exploratória dos dados"
   ]
  },
  {
   "cell_type": "markdown",
   "metadata": {
    "application/vnd.databricks.v1+cell": {
     "cellMetadata": {
      "byteLimit": 2048000,
      "rowLimit": 10000
     },
     "inputWidgets": {},
     "nuid": "aba33f62-6e82-4552-a6fa-cd7817c7021c",
     "showTitle": false,
     "tableResultSettingsMap": {},
     "title": ""
    }
   },
   "source": [
    "###### 🔎 Apresentar as tabelas e visualizações do modelo"
   ]
  },
  {
   "cell_type": "code",
   "execution_count": 0,
   "metadata": {
    "application/vnd.databricks.v1+cell": {
     "cellMetadata": {
      "byteLimit": 2048000,
      "implicitDf": true,
      "rowLimit": 10000
     },
     "inputWidgets": {},
     "nuid": "95696e88-ecee-4e5c-9b3a-9f67ca72a319",
     "showTitle": false,
     "tableResultSettingsMap": {},
     "title": ""
    }
   },
   "outputs": [
    {
     "output_type": "display_data",
     "data": {
      "text/html": [
       "<style scoped>\n",
       "  .table-result-container {\n",
       "    max-height: 300px;\n",
       "    overflow: auto;\n",
       "  }\n",
       "  table, th, td {\n",
       "    border: 1px solid black;\n",
       "    border-collapse: collapse;\n",
       "  }\n",
       "  th, td {\n",
       "    padding: 5px;\n",
       "  }\n",
       "  th {\n",
       "    text-align: left;\n",
       "  }\n",
       "</style><div class='table-result-container'><table class='table-result'><thead style='background-color: white'><tr><th>database</th><th>tableName</th><th>isTemporary</th></tr></thead><tbody><tr><td>default</td><td>alunos</td><td>false</td></tr><tr><td>default</td><td>disciplinas</td><td>false</td></tr><tr><td>default</td><td>fato_desempenho</td><td>false</td></tr><tr><td>default</td><td>habitos</td><td>false</td></tr><tr><td></td><td>csv_alunos</td><td>true</td></tr><tr><td></td><td>csv_disciplinas</td><td>true</td></tr><tr><td></td><td>csv_fato_desempenho</td><td>true</td></tr><tr><td></td><td>csv_habitos</td><td>true</td></tr></tbody></table></div>"
      ]
     },
     "metadata": {
      "application/vnd.databricks.v1+output": {
       "addedWidgets": {},
       "aggData": [],
       "aggError": "",
       "aggOverflow": false,
       "aggSchema": [],
       "aggSeriesLimitReached": false,
       "aggType": "",
       "arguments": {},
       "columnCustomDisplayInfos": {},
       "data": [
        [
         "default",
         "alunos",
         false
        ],
        [
         "default",
         "disciplinas",
         false
        ],
        [
         "default",
         "fato_desempenho",
         false
        ],
        [
         "default",
         "habitos",
         false
        ],
        [
         "",
         "csv_alunos",
         true
        ],
        [
         "",
         "csv_disciplinas",
         true
        ],
        [
         "",
         "csv_fato_desempenho",
         true
        ],
        [
         "",
         "csv_habitos",
         true
        ]
       ],
       "datasetInfos": [],
       "dbfsResultPath": null,
       "isJsonSchema": true,
       "metadata": {},
       "overflow": false,
       "plotOptions": {
        "customPlotOptions": {},
        "displayType": "table",
        "pivotAggregation": null,
        "pivotColumns": null,
        "xColumns": null,
        "yColumns": null
       },
       "removedWidgets": [],
       "schema": [
        {
         "metadata": "{}",
         "name": "database",
         "type": "\"string\""
        },
        {
         "metadata": "{}",
         "name": "tableName",
         "type": "\"string\""
        },
        {
         "metadata": "{}",
         "name": "isTemporary",
         "type": "\"boolean\""
        }
       ],
       "type": "table"
      }
     },
     "output_type": "display_data"
    }
   ],
   "source": [
    "%sql\n",
    "SHOW TABLES IN default;\n"
   ]
  },
  {
   "cell_type": "markdown",
   "metadata": {
    "application/vnd.databricks.v1+cell": {
     "cellMetadata": {
      "byteLimit": 2048000,
      "rowLimit": 10000
     },
     "inputWidgets": {},
     "nuid": "013fbfe6-1055-4ad6-ba61-9fe23c747bbe",
     "showTitle": false,
     "tableResultSettingsMap": {},
     "title": ""
    }
   },
   "source": [
    "🧮 Quantidade de Registros"
   ]
  },
  {
   "cell_type": "code",
   "execution_count": 0,
   "metadata": {
    "application/vnd.databricks.v1+cell": {
     "cellMetadata": {
      "byteLimit": 2048000,
      "implicitDf": true,
      "rowLimit": 10000
     },
     "inputWidgets": {},
     "nuid": "82d44cc2-d0e8-47d7-b464-163b6c6b6443",
     "showTitle": false,
     "tableResultSettingsMap": {},
     "title": ""
    }
   },
   "outputs": [
    {
     "output_type": "display_data",
     "data": {
      "text/html": [
       "<style scoped>\n",
       "  .table-result-container {\n",
       "    max-height: 300px;\n",
       "    overflow: auto;\n",
       "  }\n",
       "  table, th, td {\n",
       "    border: 1px solid black;\n",
       "    border-collapse: collapse;\n",
       "  }\n",
       "  th, td {\n",
       "    padding: 5px;\n",
       "  }\n",
       "  th {\n",
       "    text-align: left;\n",
       "  }\n",
       "</style><div class='table-result-container'><table class='table-result'><thead style='background-color: white'><tr><th>tabela</th><th>total</th></tr></thead><tbody><tr><td>alunos</td><td>5000</td></tr><tr><td>fato_desempenho</td><td>5000</td></tr><tr><td>habitos</td><td>5000</td></tr><tr><td>disciplinas</td><td>4</td></tr></tbody></table></div>"
      ]
     },
     "metadata": {
      "application/vnd.databricks.v1+output": {
       "addedWidgets": {},
       "aggData": [],
       "aggError": "",
       "aggOverflow": false,
       "aggSchema": [],
       "aggSeriesLimitReached": false,
       "aggType": "",
       "arguments": {},
       "columnCustomDisplayInfos": {},
       "data": [
        [
         "alunos",
         5000
        ],
        [
         "fato_desempenho",
         5000
        ],
        [
         "habitos",
         5000
        ],
        [
         "disciplinas",
         4
        ]
       ],
       "datasetInfos": [],
       "dbfsResultPath": null,
       "isJsonSchema": true,
       "metadata": {},
       "overflow": false,
       "plotOptions": {
        "customPlotOptions": {},
        "displayType": "table",
        "pivotAggregation": null,
        "pivotColumns": null,
        "xColumns": null,
        "yColumns": null
       },
       "removedWidgets": [],
       "schema": [
        {
         "metadata": "{}",
         "name": "tabela",
         "type": "\"string\""
        },
        {
         "metadata": "{}",
         "name": "total",
         "type": "\"long\""
        }
       ],
       "type": "table"
      }
     },
     "output_type": "display_data"
    }
   ],
   "source": [
    "%sql\n",
    "SELECT * FROM (\n",
    "  SELECT 'alunos' AS tabela, COUNT(*) AS total FROM default.alunos\n",
    "  UNION ALL\n",
    "  SELECT 'disciplinas', COUNT(*) FROM default.disciplinas\n",
    "  UNION ALL\n",
    "  SELECT 'fato_desempenho', COUNT(*) FROM default.fato_desempenho\n",
    "  UNION ALL\n",
    "  SELECT 'habitos', COUNT(*) FROM default.habitos\n",
    ") AS t\n",
    "ORDER BY total DESC;\n"
   ]
  },
  {
   "cell_type": "code",
   "execution_count": 0,
   "metadata": {
    "application/vnd.databricks.v1+cell": {
     "cellMetadata": {
      "byteLimit": 2048000,
      "implicitDf": true,
      "rowLimit": 10000
     },
     "inputWidgets": {},
     "nuid": "6fff96b6-ba1c-49b7-b7db-9b8c8646e58a",
     "showTitle": false,
     "tableResultSettingsMap": {},
     "title": ""
    }
   },
   "outputs": [
    {
     "output_type": "display_data",
     "data": {
      "text/html": [
       "<style scoped>\n",
       "  .table-result-container {\n",
       "    max-height: 300px;\n",
       "    overflow: auto;\n",
       "  }\n",
       "  table, th, td {\n",
       "    border: 1px solid black;\n",
       "    border-collapse: collapse;\n",
       "  }\n",
       "  th, td {\n",
       "    padding: 5px;\n",
       "  }\n",
       "  th {\n",
       "    text-align: left;\n",
       "  }\n",
       "</style><div class='table-result-container'><table class='table-result'><thead style='background-color: white'><tr><th>tabela</th><th>total</th><th>ID_Aluno_nulos</th><th>First_Name_nulos</th></tr></thead><tbody><tr><td>alunos</td><td>5000</td><td>0</td><td>0</td></tr></tbody></table></div>"
      ]
     },
     "metadata": {
      "application/vnd.databricks.v1+output": {
       "addedWidgets": {},
       "aggData": [],
       "aggError": "",
       "aggOverflow": false,
       "aggSchema": [],
       "aggSeriesLimitReached": false,
       "aggType": "",
       "arguments": {},
       "columnCustomDisplayInfos": {},
       "data": [
        [
         "alunos",
         5000,
         0,
         0
        ]
       ],
       "datasetInfos": [],
       "dbfsResultPath": null,
       "isJsonSchema": true,
       "metadata": {},
       "overflow": false,
       "plotOptions": {
        "customPlotOptions": {},
        "displayType": "table",
        "pivotAggregation": null,
        "pivotColumns": null,
        "xColumns": null,
        "yColumns": null
       },
       "removedWidgets": [],
       "schema": [
        {
         "metadata": "{}",
         "name": "tabela",
         "type": "\"string\""
        },
        {
         "metadata": "{}",
         "name": "total",
         "type": "\"long\""
        },
        {
         "metadata": "{}",
         "name": "ID_Aluno_nulos",
         "type": "\"long\""
        },
        {
         "metadata": "{}",
         "name": "First_Name_nulos",
         "type": "\"long\""
        }
       ],
       "type": "table"
      }
     },
     "output_type": "display_data"
    }
   ],
   "source": [
    "%sql\n",
    "SELECT \n",
    "    'alunos' AS tabela, \n",
    "    COUNT(*) AS total, \n",
    "    SUM(CASE WHEN ID_Aluno IS NULL THEN 1 ELSE 0 END) AS ID_Aluno_nulos,\n",
    "    SUM(CASE WHEN First_Name IS NULL THEN 1 ELSE 0 END) AS First_Name_nulos\n",
    "FROM default.alunos;\n"
   ]
  },
  {
   "cell_type": "markdown",
   "metadata": {
    "application/vnd.databricks.v1+cell": {
     "cellMetadata": {
      "byteLimit": 2048000,
      "rowLimit": 10000
     },
     "inputWidgets": {},
     "nuid": "85367f85-5a83-4158-b924-fd252a1f9051",
     "showTitle": false,
     "tableResultSettingsMap": {},
     "title": ""
    }
   },
   "source": [
    "📊 Estatísticas descritivas (Exemplos)"
   ]
  },
  {
   "cell_type": "code",
   "execution_count": 0,
   "metadata": {
    "application/vnd.databricks.v1+cell": {
     "cellMetadata": {
      "byteLimit": 2048000,
      "implicitDf": true,
      "rowLimit": 10000
     },
     "inputWidgets": {},
     "nuid": "265a76a9-35fa-4c7e-995a-dead5df8c03e",
     "showTitle": false,
     "tableResultSettingsMap": {},
     "title": ""
    }
   },
   "outputs": [
    {
     "output_type": "display_data",
     "data": {
      "text/html": [
       "<style scoped>\n",
       "  .table-result-container {\n",
       "    max-height: 300px;\n",
       "    overflow: auto;\n",
       "  }\n",
       "  table, th, td {\n",
       "    border: 1px solid black;\n",
       "    border-collapse: collapse;\n",
       "  }\n",
       "  th, td {\n",
       "    padding: 5px;\n",
       "  }\n",
       "  th {\n",
       "    text-align: left;\n",
       "  }\n",
       "</style><div class='table-result-container'><table class='table-result'><thead style='background-color: white'><tr><th>idade_minima</th><th>idade_maxima</th><th>idade_media</th></tr></thead><tbody><tr><td>18</td><td>24</td><td>21.0484</td></tr></tbody></table></div>"
      ]
     },
     "metadata": {
      "application/vnd.databricks.v1+output": {
       "addedWidgets": {},
       "aggData": [],
       "aggError": "",
       "aggOverflow": false,
       "aggSchema": [],
       "aggSeriesLimitReached": false,
       "aggType": "",
       "arguments": {},
       "columnCustomDisplayInfos": {},
       "data": [
        [
         18,
         24,
         21.0484
        ]
       ],
       "datasetInfos": [],
       "dbfsResultPath": null,
       "isJsonSchema": true,
       "metadata": {},
       "overflow": false,
       "plotOptions": {
        "customPlotOptions": {},
        "displayType": "table",
        "pivotAggregation": null,
        "pivotColumns": null,
        "xColumns": null,
        "yColumns": null
       },
       "removedWidgets": [],
       "schema": [
        {
         "metadata": "{}",
         "name": "idade_minima",
         "type": "\"integer\""
        },
        {
         "metadata": "{}",
         "name": "idade_maxima",
         "type": "\"integer\""
        },
        {
         "metadata": "{}",
         "name": "idade_media",
         "type": "\"double\""
        }
       ],
       "type": "table"
      }
     },
     "output_type": "display_data"
    }
   ],
   "source": [
    "%sql\n",
    "SELECT \n",
    "    MIN(Age) AS idade_minima,\n",
    "    MAX(Age) AS idade_maxima,\n",
    "    AVG(Age) AS idade_media\n",
    "FROM default.alunos;\n"
   ]
  },
  {
   "cell_type": "code",
   "execution_count": 0,
   "metadata": {
    "application/vnd.databricks.v1+cell": {
     "cellMetadata": {
      "byteLimit": 2048000,
      "implicitDf": true,
      "rowLimit": 10000
     },
     "inputWidgets": {},
     "nuid": "b726e3fe-234a-4c12-b717-d7a858bece5f",
     "showTitle": false,
     "tableResultSettingsMap": {},
     "title": ""
    }
   },
   "outputs": [
    {
     "output_type": "display_data",
     "data": {
      "text/html": [
       "<style scoped>\n",
       "  .table-result-container {\n",
       "    max-height: 300px;\n",
       "    overflow: auto;\n",
       "  }\n",
       "  table, th, td {\n",
       "    border: 1px solid black;\n",
       "    border-collapse: collapse;\n",
       "  }\n",
       "  th, td {\n",
       "    padding: 5px;\n",
       "  }\n",
       "  th {\n",
       "    text-align: left;\n",
       "  }\n",
       "</style><div class='table-result-container'><table class='table-result'><thead style='background-color: white'><tr><th>Age</th><th>quantidade</th></tr></thead><tbody><tr><td>18</td><td>682</td></tr><tr><td>19</td><td>705</td></tr><tr><td>20</td><td>671</td></tr><tr><td>21</td><td>753</td></tr><tr><td>22</td><td>732</td></tr><tr><td>23</td><td>734</td></tr><tr><td>24</td><td>723</td></tr></tbody></table></div>"
      ]
     },
     "metadata": {
      "application/vnd.databricks.v1+output": {
       "addedWidgets": {},
       "aggData": [],
       "aggError": "",
       "aggOverflow": false,
       "aggSchema": [],
       "aggSeriesLimitReached": false,
       "aggType": "",
       "arguments": {},
       "columnCustomDisplayInfos": {},
       "data": [
        [
         18,
         682
        ],
        [
         19,
         705
        ],
        [
         20,
         671
        ],
        [
         21,
         753
        ],
        [
         22,
         732
        ],
        [
         23,
         734
        ],
        [
         24,
         723
        ]
       ],
       "datasetInfos": [],
       "dbfsResultPath": null,
       "isJsonSchema": true,
       "metadata": {},
       "overflow": false,
       "plotOptions": {
        "customPlotOptions": {},
        "displayType": "table",
        "pivotAggregation": null,
        "pivotColumns": null,
        "xColumns": null,
        "yColumns": null
       },
       "removedWidgets": [],
       "schema": [
        {
         "metadata": "{}",
         "name": "Age",
         "type": "\"integer\""
        },
        {
         "metadata": "{}",
         "name": "quantidade",
         "type": "\"long\""
        }
       ],
       "type": "table"
      }
     },
     "output_type": "display_data"
    }
   ],
   "source": [
    "%sql\n",
    "SELECT Age, COUNT(*) AS quantidade FROM default.alunos GROUP BY Age ORDER BY Age;\n"
   ]
  },
  {
   "cell_type": "code",
   "execution_count": 0,
   "metadata": {
    "application/vnd.databricks.v1+cell": {
     "cellMetadata": {
      "byteLimit": 2048000,
      "implicitDf": true,
      "rowLimit": 10000
     },
     "inputWidgets": {},
     "nuid": "fca3a318-e042-470c-9850-a9db95d5bb11",
     "showTitle": false,
     "tableResultSettingsMap": {},
     "title": ""
    }
   },
   "outputs": [
    {
     "output_type": "display_data",
     "data": {
      "text/html": [
       "<style scoped>\n",
       "  .table-result-container {\n",
       "    max-height: 300px;\n",
       "    overflow: auto;\n",
       "  }\n",
       "  table, th, td {\n",
       "    border: 1px solid black;\n",
       "    border-collapse: collapse;\n",
       "  }\n",
       "  th, td {\n",
       "    padding: 5px;\n",
       "  }\n",
       "  th {\n",
       "    text-align: left;\n",
       "  }\n",
       "</style><div class='table-result-container'><table class='table-result'><thead style='background-color: white'><tr><th>Gender</th><th>total</th><th>idade_media</th><th>idade_min</th><th>idade_max</th></tr></thead><tbody><tr><td>Female</td><td>2449</td><td>21.08</td><td>18</td><td>24</td></tr><tr><td>Male</td><td>2551</td><td>21.02</td><td>18</td><td>24</td></tr></tbody></table></div>"
      ]
     },
     "metadata": {
      "application/vnd.databricks.v1+output": {
       "addedWidgets": {},
       "aggData": [],
       "aggError": "",
       "aggOverflow": false,
       "aggSchema": [],
       "aggSeriesLimitReached": false,
       "aggType": "",
       "arguments": {},
       "columnCustomDisplayInfos": {},
       "data": [
        [
         "Female",
         2449,
         21.08,
         18,
         24
        ],
        [
         "Male",
         2551,
         21.02,
         18,
         24
        ]
       ],
       "datasetInfos": [],
       "dbfsResultPath": null,
       "isJsonSchema": true,
       "metadata": {},
       "overflow": false,
       "plotOptions": {
        "customPlotOptions": {},
        "displayType": "table",
        "pivotAggregation": null,
        "pivotColumns": null,
        "xColumns": null,
        "yColumns": null
       },
       "removedWidgets": [],
       "schema": [
        {
         "metadata": "{}",
         "name": "Gender",
         "type": "\"string\""
        },
        {
         "metadata": "{}",
         "name": "total",
         "type": "\"long\""
        },
        {
         "metadata": "{}",
         "name": "idade_media",
         "type": "\"double\""
        },
        {
         "metadata": "{}",
         "name": "idade_min",
         "type": "\"integer\""
        },
        {
         "metadata": "{}",
         "name": "idade_max",
         "type": "\"integer\""
        }
       ],
       "type": "table"
      }
     },
     "output_type": "display_data"
    }
   ],
   "source": [
    "%sql\n",
    "SELECT \n",
    "    Gender,\n",
    "    COUNT(*) AS total,\n",
    "    ROUND(AVG(Age), 2) AS idade_media,\n",
    "    MIN(Age) AS idade_min,\n",
    "    MAX(Age) AS idade_max\n",
    "FROM default.alunos\n",
    "GROUP BY Gender;\n"
   ]
  },
  {
   "cell_type": "code",
   "execution_count": 0,
   "metadata": {
    "application/vnd.databricks.v1+cell": {
     "cellMetadata": {
      "byteLimit": 2048000,
      "implicitDf": true,
      "rowLimit": 10000
     },
     "inputWidgets": {},
     "nuid": "0b6eaf54-5947-4d08-8f2c-77a37a06c7cf",
     "showTitle": false,
     "tableResultSettingsMap": {},
     "title": ""
    }
   },
   "outputs": [
    {
     "output_type": "display_data",
     "data": {
      "text/html": [
       "<style scoped>\n",
       "  .table-result-container {\n",
       "    max-height: 300px;\n",
       "    overflow: auto;\n",
       "  }\n",
       "  table, th, td {\n",
       "    border: 1px solid black;\n",
       "    border-collapse: collapse;\n",
       "  }\n",
       "  th, td {\n",
       "    padding: 5px;\n",
       "  }\n",
       "  th {\n",
       "    text-align: left;\n",
       "  }\n",
       "</style><div class='table-result-container'><table class='table-result'><thead style='background-color: white'><tr><th>minimo</th><th>maximo</th><th>media</th></tr></thead><tbody><tr><td>4.08</td><td>30.0</td><td>17.36</td></tr></tbody></table></div>"
      ]
     },
     "metadata": {
      "application/vnd.databricks.v1+output": {
       "addedWidgets": {},
       "aggData": [],
       "aggError": "",
       "aggOverflow": false,
       "aggSchema": [],
       "aggSeriesLimitReached": false,
       "aggType": "",
       "arguments": {},
       "columnCustomDisplayInfos": {},
       "data": [
        [
         4.08,
         30.0,
         17.36
        ]
       ],
       "datasetInfos": [],
       "dbfsResultPath": null,
       "isJsonSchema": true,
       "metadata": {},
       "overflow": false,
       "plotOptions": {
        "customPlotOptions": {},
        "displayType": "table",
        "pivotAggregation": null,
        "pivotColumns": null,
        "xColumns": null,
        "yColumns": null
       },
       "removedWidgets": [],
       "schema": [
        {
         "metadata": "{}",
         "name": "minimo",
         "type": "\"double\""
        },
        {
         "metadata": "{}",
         "name": "maximo",
         "type": "\"double\""
        },
        {
         "metadata": "{}",
         "name": "media",
         "type": "\"double\""
        }
       ],
       "type": "table"
      }
     },
     "output_type": "display_data"
    }
   ],
   "source": [
    "%sql\n",
    "SELECT \n",
    "    MIN(Study_Hours_per_Week) AS minimo,\n",
    "    MAX(Study_Hours_per_Week) AS maximo,\n",
    "    ROUND(AVG(Study_Hours_per_Week), 2) AS media\n",
    "FROM default.habitos;\n"
   ]
  },
  {
   "cell_type": "code",
   "execution_count": 0,
   "metadata": {
    "application/vnd.databricks.v1+cell": {
     "cellMetadata": {
      "byteLimit": 2048000,
      "implicitDf": true,
      "rowLimit": 10000
     },
     "inputWidgets": {},
     "nuid": "0a157c2a-7245-49e9-a51f-a7d399af49af",
     "showTitle": false,
     "tableResultSettingsMap": {},
     "title": ""
    }
   },
   "outputs": [
    {
     "output_type": "display_data",
     "data": {
      "text/html": [
       "<style scoped>\n",
       "  .table-result-container {\n",
       "    max-height: 300px;\n",
       "    overflow: auto;\n",
       "  }\n",
       "  table, th, td {\n",
       "    border: 1px solid black;\n",
       "    border-collapse: collapse;\n",
       "  }\n",
       "  th, td {\n",
       "    padding: 5px;\n",
       "  }\n",
       "  th {\n",
       "    text-align: left;\n",
       "  }\n",
       "</style><div class='table-result-container'><table class='table-result'><thead style='background-color: white'><tr><th>Conceito</th><th>total</th><th>media_total</th><th>media_presenca</th></tr></thead><tbody><tr><td>A</td><td>1495</td><td>146.71</td><td>136.55</td></tr><tr><td>B</td><td>978</td><td>150.32</td><td>140.62</td></tr><tr><td>C</td><td>794</td><td>153.73</td><td>124.96</td></tr><tr><td>D</td><td>889</td><td>148.07</td><td>119.09</td></tr><tr><td>F</td><td>844</td><td>147.07</td><td>130.06</td></tr></tbody></table></div>"
      ]
     },
     "metadata": {
      "application/vnd.databricks.v1+output": {
       "addedWidgets": {},
       "aggData": [],
       "aggError": "",
       "aggOverflow": false,
       "aggSchema": [],
       "aggSeriesLimitReached": false,
       "aggType": "",
       "arguments": {},
       "columnCustomDisplayInfos": {},
       "data": [
        [
         "A",
         1495,
         146.71,
         136.55
        ],
        [
         "B",
         978,
         150.32,
         140.62
        ],
        [
         "C",
         794,
         153.73,
         124.96
        ],
        [
         "D",
         889,
         148.07,
         119.09
        ],
        [
         "F",
         844,
         147.07,
         130.06
        ]
       ],
       "datasetInfos": [],
       "dbfsResultPath": null,
       "isJsonSchema": true,
       "metadata": {},
       "overflow": false,
       "plotOptions": {
        "customPlotOptions": {},
        "displayType": "table",
        "pivotAggregation": null,
        "pivotColumns": null,
        "xColumns": null,
        "yColumns": null
       },
       "removedWidgets": [],
       "schema": [
        {
         "metadata": "{}",
         "name": "Conceito",
         "type": "\"string\""
        },
        {
         "metadata": "{}",
         "name": "total",
         "type": "\"long\""
        },
        {
         "metadata": "{}",
         "name": "media_total",
         "type": "\"double\""
        },
        {
         "metadata": "{}",
         "name": "media_presenca",
         "type": "\"double\""
        }
       ],
       "type": "table"
      }
     },
     "output_type": "display_data"
    }
   ],
   "source": [
    "%sql\n",
    "SELECT \n",
    "    Conceito,\n",
    "    COUNT(*) AS total,\n",
    "    ROUND(AVG(Nota_Total), 2) AS media_total,\n",
    "    ROUND(AVG(Presenca), 2) AS media_presenca\n",
    "FROM default.fato_desempenho\n",
    "GROUP BY Conceito\n",
    "ORDER BY Conceito;\n"
   ]
  },
  {
   "cell_type": "code",
   "execution_count": 0,
   "metadata": {
    "application/vnd.databricks.v1+cell": {
     "cellMetadata": {
      "byteLimit": 2048000,
      "rowLimit": 10000
     },
     "inputWidgets": {},
     "nuid": "ef1b4cf2-2587-47b2-9b40-46ce2120b0a3",
     "showTitle": false,
     "tableResultSettingsMap": {},
     "title": ""
    }
   },
   "outputs": [
    {
     "output_type": "display_data",
     "data": {
      "image/png": "[encoded data removed]"
     },
     "metadata": {
      "application/vnd.databricks.v1+output": {
       "addedWidgets": {},
       "arguments": {},
       "data": "data:image/png;base64,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\n",
       "datasetInfos": [],
       "metadata": {},
       "removedWidgets": [],
       "type": "image"
      }
     },
     "output_type": "display_data"
    }
   ],
   "source": [
    "import matplotlib.pyplot as plt\n",
    "\n",
    "# Verifica se a coluna Age existe\n",
    "df_check = spark.sql(\"SHOW COLUMNS IN default.alunos\").toPandas()\n",
    "if 'Age' not in df_check['col_name'].values:\n",
    "    raise ValueError(\"A coluna 'Age' não existe na tabela 'alunos'. Verifique os nomes das colunas.\")\n",
    "\n",
    "# Consulta SQL para unir idade e nota final\n",
    "query = \"\"\"\n",
    "SELECT A.Age, F.Nota_Final \n",
    "FROM default.alunos A\n",
    "JOIN default.fato_desempenho F \n",
    "ON A.ID_Aluno = F.ID_Aluno\n",
    "WHERE A.Age IS NOT NULL AND F.Nota_Final IS NOT NULL\n",
    "\"\"\"\n",
    "\n",
    "# Converte para Pandas\n",
    "df = spark.sql(query).toPandas()\n",
    "\n",
    "# Criar histogramas com Matplotlib\n",
    "plt.figure(figsize=(14, 5))\n",
    "\n",
    "# Subplot 1: Idade\n",
    "plt.subplot(1, 2, 1)\n",
    "plt.hist(df[\"Age\"], bins=20, color=\"skyblue\", edgecolor=\"black\")\n",
    "plt.title(\"Distribuição de Idades - Alunos\")\n",
    "plt.xlabel(\"Idade\")\n",
    "plt.ylabel(\"Quantidade\")\n",
    "\n",
    "# Subplot 2: Nota Final\n",
    "plt.subplot(1, 2, 2)\n",
    "plt.hist(df[\"Nota_Final\"], bins=20, color=\"salmon\", edgecolor=\"black\")\n",
    "plt.title(\"Distribuição das Notas Finais\")\n",
    "plt.xlabel(\"Nota Final\")\n",
    "plt.ylabel(\"Quantidade\")\n",
    "\n",
    "plt.tight_layout()\n",
    "plt.show()\n"
   ]
  },
  {
   "cell_type": "code",
   "execution_count": 0,
   "metadata": {
    "application/vnd.databricks.v1+cell": {
     "cellMetadata": {
      "byteLimit": 2048000,
      "rowLimit": 10000
     },
     "inputWidgets": {},
     "nuid": "19d312d2-a68e-4a3d-97de-d1cb487d5916",
     "showTitle": false,
     "tableResultSettingsMap": {},
     "title": ""
    }
   },
   "outputs": [
    {
     "output_type": "display_data",
     "data": {
      "image/png": "[encoded data removed]"
     },
     "metadata": {
      "application/vnd.databricks.v1+output": {
       "addedWidgets": {},
       "arguments": {},
       "data": "data:image/png;base64,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\n",
       "datasetInfos": [],
       "metadata": {},
       "removedWidgets": [],
       "type": "image"
      }
     },
     "output_type": "display_data"
    },
    {
     "output_type": "display_data",
     "data": {
      "image/png": "[encoded data removed]"
     },
     "metadata": {
      "application/vnd.databricks.v1+output": {
       "addedWidgets": {},
       "arguments": {},
       "data": "data:image/png;base64,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\n",
       "datasetInfos": [],
       "metadata": {},
       "removedWidgets": [],
       "type": "image"
      }
     },
     "output_type": "display_data"
    },
    {
     "output_type": "display_data",
     "data": {
      "image/png": "[encoded data removed]"
     },
     "metadata": {
      "application/vnd.databricks.v1+output": {
       "addedWidgets": {},
       "arguments": {},
       "data": "data:image/png;base64,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\n",
       "datasetInfos": [],
       "metadata": {},
       "removedWidgets": [],
       "type": "image"
      }
     },
     "output_type": "display_data"
    },
    {
     "output_type": "display_data",
     "data": {
      "image/png": "[encoded data removed]"
     },
     "metadata": {
      "application/vnd.databricks.v1+output": {
       "addedWidgets": {},
       "arguments": {},
       "data": "data:image/png;base64,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\n",
       "datasetInfos": [],
       "metadata": {},
       "removedWidgets": [],
       "type": "image"
      }
     },
     "output_type": "display_data"
    }
   ],
   "source": [
    "import matplotlib.pyplot as plt\n",
    "\n",
    "# Listar tabelas para análise\n",
    "tables = [\"alunos\", \"disciplinas\", \"fato_desempenho\", \"habitos\"]\n",
    "\n",
    "# Criar gráficos para cada tabela\n",
    "for table in tables:\n",
    "    # Ler a tabela\n",
    "    df = spark.sql(f\"SELECT * FROM default.{table}\").toPandas()\n",
    "    \n",
    "    # Calcular valores nulos e válidos\n",
    "    total = df.size\n",
    "    nulos = df.isnull().sum().sum()\n",
    "    validos = total - nulos\n",
    "    \n",
    "    # Plotar gráfico\n",
    "    plt.figure(figsize=(4, 4))\n",
    "    plt.bar([\"Válidos\", \"Nulos\"], [validos, nulos], color=[\"seagreen\", \"orangered\"])\n",
    "    plt.title(f\"Quantidade de Dados - {table}\")\n",
    "    plt.ylabel(\"Células\")\n",
    "    for i, valor in enumerate([validos, nulos]):\n",
    "        plt.text(i, valor + total * 0.01, str(valor), ha='center')\n",
    "    plt.ylim(0, total * 1.1)\n",
    "    plt.tight_layout()\n",
    "    plt.show()\n"
   ]
  },
  {
   "cell_type": "markdown",
   "metadata": {
    "application/vnd.databricks.v1+cell": {
     "cellMetadata": {
      "byteLimit": 2048000,
      "rowLimit": 10000
     },
     "inputWidgets": {},
     "nuid": "8922445a-633f-4b57-8650-9425492fcd75",
     "showTitle": false,
     "tableResultSettingsMap": {},
     "title": ""
    }
   },
   "source": [
    "### Entrega 📫"
   ]
  },
  {
   "cell_type": "markdown",
   "metadata": {
    "application/vnd.databricks.v1+cell": {
     "cellMetadata": {
      "byteLimit": 2048000,
      "rowLimit": 10000
     },
     "inputWidgets": {},
     "nuid": "c7cba9c6-7d04-4f54-97f6-a45ba00ca541",
     "showTitle": false,
     "tableResultSettingsMap": {},
     "title": ""
    }
   },
   "source": [
    "#### ❗ Problema\n",
    "Parte dos alunos apresenta baixo desempenho acadêmico, e as causas nem sempre são claras, dificultando ações preventivas e direcionadas."
   ]
  },
  {
   "cell_type": "code",
   "execution_count": 0,
   "metadata": {
    "application/vnd.databricks.v1+cell": {
     "cellMetadata": {
      "byteLimit": 2048000,
      "rowLimit": 10000
     },
     "inputWidgets": {},
     "nuid": "bb58bf3b-fc65-46a4-ac4b-2f398adad8b4",
     "showTitle": false,
     "tableResultSettingsMap": {},
     "title": ""
    }
   },
   "outputs": [
    {
     "output_type": "display_data",
     "data": {
      "image/png": "[encoded data removed]"
     },
     "metadata": {
      "application/vnd.databricks.v1+output": {
       "addedWidgets": {},
       "arguments": {},
       "data": "data:image/png;base64,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\n",
       "datasetInfos": [],
       "metadata": {},
       "removedWidgets": [],
       "type": "image"
      }
     },
     "output_type": "display_data"
    }
   ],
   "source": [
    "import matplotlib.pyplot as plt\n",
    "import pandas as pd\n",
    "\n",
    "# Consultar dados do banco e converter para DataFrame Pandas\n",
    "df_conceitos = spark.sql(\"\"\"\n",
    "SELECT \n",
    "  Conceito,\n",
    "  COUNT(*) AS Quantidade_de_Registros\n",
    "FROM \n",
    "  default.fato_desempenho\n",
    "GROUP BY \n",
    "  Conceito\n",
    "\"\"\").toPandas()\n",
    "\n",
    "# Calcular percentual de cada conceito\n",
    "df_conceitos['Percentual'] = (df_conceitos['Quantidade_de_Registros'] / df_conceitos['Quantidade_de_Registros'].sum()) * 100\n",
    "\n",
    "# Ordenar pela ordem lógica dos conceitos\n",
    "ordem_conceitos = ['A', 'B', 'C', 'D', 'F']\n",
    "df_conceitos['Conceito'] = pd.Categorical(df_conceitos['Conceito'], categories=ordem_conceitos, ordered=True)\n",
    "df_conceitos = df_conceitos.sort_values('Conceito', ascending=True)\n",
    "\n",
    "# Criar gráfico horizontal com Matplotlib\n",
    "plt.figure(figsize=(8, 5))\n",
    "plt.barh(df_conceitos['Conceito'], df_conceitos['Percentual'], color='teal', edgecolor='black')\n",
    "\n",
    "# Adicionar rótulos\n",
    "for i, (conceito, pct) in enumerate(zip(df_conceitos['Conceito'], df_conceitos['Percentual'])):\n",
    "    plt.text(pct + 0.5, i, f\"{pct:.1f}%\", va='center')\n",
    "\n",
    "plt.title(\"Percentual de Alunos por Conceito de Desempenho\")\n",
    "plt.xlabel(\"Percentual (%)\")\n",
    "plt.ylabel(\"Conceito\")\n",
    "plt.grid(axis='x', linestyle='--', alpha=0.6)\n",
    "plt.tight_layout()\n",
    "plt.show()\n"
   ]
  },
  {
   "cell_type": "markdown",
   "metadata": {
    "application/vnd.databricks.v1+cell": {
     "cellMetadata": {
      "byteLimit": 2048000,
      "rowLimit": 10000
     },
     "inputWidgets": {},
     "nuid": "090bf3a4-d6c4-46f1-892f-3213ac8a2682",
     "showTitle": false,
     "tableResultSettingsMap": {},
     "title": ""
    }
   },
   "source": [
    "#### 🎯 Objetivo\n",
    "\n",
    "O objetivo é entender **quais fatores contribuem para o baixo desempenho** dos alunos — especialmente os que obtiveram conceito **F**.\n",
    "\n",
    "Para isso, unificamos dados acadêmicos, comportamentais e socioeconômicos em uma única tabela: `alunos_unificados`.  \n",
    "Essa tabela permite que façamos comparações entre os grupos de desempenho (**Alto**, **Médio**, **Baixo**) e identifiquemos padrões relevantes.\n",
    "\n",
    "> A análise se concentrará em variáveis como: **estresse, sono, horas de estudo, escolaridade dos pais e renda familiar**.\n"
   ]
  },
  {
   "cell_type": "code",
   "execution_count": 0,
   "metadata": {
    "application/vnd.databricks.v1+cell": {
     "cellMetadata": {
      "byteLimit": 2048000,
      "implicitDf": true,
      "rowLimit": 10000
     },
     "inputWidgets": {},
     "nuid": "e2e2179d-bcfd-4e35-a458-4db94d789555",
     "showTitle": false,
     "tableResultSettingsMap": {},
     "title": ""
    }
   },
   "outputs": [
    {
     "output_type": "display_data",
     "data": {
      "text/html": [
       "<style scoped>\n",
       "  .table-result-container {\n",
       "    max-height: 300px;\n",
       "    overflow: auto;\n",
       "  }\n",
       "  table, th, td {\n",
       "    border: 1px solid black;\n",
       "    border-collapse: collapse;\n",
       "  }\n",
       "  th, td {\n",
       "    padding: 5px;\n",
       "  }\n",
       "  th {\n",
       "    text-align: left;\n",
       "  }\n",
       "</style><div class='table-result-container'><table class='table-result'><thead style='background-color: white'><tr><th>num_affected_rows</th><th>num_inserted_rows</th></tr></thead><tbody></tbody></table></div>"
      ]
     },
     "metadata": {
      "application/vnd.databricks.v1+output": {
       "addedWidgets": {},
       "aggData": [],
       "aggError": "",
       "aggOverflow": false,
       "aggSchema": [],
       "aggSeriesLimitReached": false,
       "aggType": "",
       "arguments": {},
       "columnCustomDisplayInfos": {},
       "data": [],
       "datasetInfos": [],
       "dbfsResultPath": null,
       "isJsonSchema": true,
       "metadata": {},
       "overflow": false,
       "plotOptions": {
        "customPlotOptions": {},
        "displayType": "table",
        "pivotAggregation": null,
        "pivotColumns": null,
        "xColumns": null,
        "yColumns": null
       },
       "removedWidgets": [],
       "schema": [
        {
         "metadata": "{}",
         "name": "num_affected_rows",
         "type": "\"long\""
        },
        {
         "metadata": "{}",
         "name": "num_inserted_rows",
         "type": "\"long\""
        }
       ],
       "type": "table"
      }
     },
     "output_type": "display_data"
    }
   ],
   "source": [
    "%sql\n",
    "CREATE OR REPLACE TABLE default.alunos_unificados AS\n",
    "SELECT \n",
    "    f.ID_Aluno,\n",
    "    f.ID_Disciplina,\n",
    "    CAST(f.Presenca AS DOUBLE) AS Presenca,\n",
    "    CAST(f.Nota_Midterm AS DOUBLE) AS Nota_Midterm,\n",
    "    CAST(f.Nota_Final AS DOUBLE) AS Nota_Final,\n",
    "    CAST(f.Nota_Projetos AS DOUBLE) AS Nota_Projetos,\n",
    "    CAST(f.Nota_Total AS DOUBLE) AS Nota_Total,\n",
    "    f.Conceito,\n",
    "    a.Gender,\n",
    "    CAST(a.Age AS INT) AS Age,\n",
    "    a.Parent_Education_Level,\n",
    "    a.Family_Income_Level,\n",
    "    CAST(h.Study_Hours_per_Week AS DOUBLE) AS Study_Hours_per_Week,\n",
    "    h.Extracurricular_Activities,\n",
    "    h.Internet_Access_at_Home,\n",
    "    CAST(h.Stress_Level AS INT) AS Stress_Level,\n",
    "    CAST(h.Sleep_Hours_per_Night AS DOUBLE) AS Sleep_Hours_per_Night,\n",
    "    CASE\n",
    "      WHEN f.Conceito IN ('A', 'B') THEN 'Alto'\n",
    "      WHEN f.Conceito IN ('F') THEN 'Baixo'\n",
    "      ELSE 'Medio'\n",
    "    END AS Desempenho\n",
    "FROM \n",
    "    default.fato_desempenho f\n",
    "LEFT JOIN \n",
    "    default.alunos a ON f.ID_Aluno = a.ID_Aluno\n",
    "LEFT JOIN \n",
    "    default.habitos h ON f.ID_Aluno = h.ID_Aluno;\n"
   ]
  },
  {
   "cell_type": "code",
   "execution_count": 0,
   "metadata": {
    "application/vnd.databricks.v1+cell": {
     "cellMetadata": {
      "byteLimit": 2048000,
      "implicitDf": true,
      "rowLimit": 10000
     },
     "inputWidgets": {},
     "nuid": "6f527805-6c2f-4336-a239-8b49019664a3",
     "showTitle": false,
     "tableResultSettingsMap": {},
     "title": ""
    }
   },
   "outputs": [
    {
     "output_type": "display_data",
     "data": {
      "text/html": [
       "<style scoped>\n",
       "  .table-result-container {\n",
       "    max-height: 300px;\n",
       "    overflow: auto;\n",
       "  }\n",
       "  table, th, td {\n",
       "    border: 1px solid black;\n",
       "    border-collapse: collapse;\n",
       "  }\n",
       "  th, td {\n",
       "    padding: 5px;\n",
       "  }\n",
       "  th {\n",
       "    text-align: left;\n",
       "  }\n",
       "</style><div class='table-result-container'><table class='table-result'><thead style='background-color: white'><tr><th>ID_Aluno</th><th>ID_Disciplina</th><th>Presenca</th><th>Nota_Midterm</th><th>Nota_Final</th><th>Nota_Projetos</th><th>Nota_Total</th><th>Conceito</th><th>Gender</th><th>Age</th><th>Parent_Education_Level</th><th>Family_Income_Level</th><th>Study_Hours_per_Week</th><th>Extracurricular_Activities</th><th>Internet_Access_at_Home</th><th>Stress_Level</th><th>Sleep_Hours_per_Night</th><th>Desempenho</th></tr></thead><tbody><tr><td>S1000</td><td>Engineering</td><td>481.068</td><td>49.527</td><td>52.038</td><td>71.297</td><td>465.547</td><td>F</td><td>Female</td><td>22</td><td>High School</td><td>Medium</td><td>4.96</td><td>No</td><td>Yes</td><td>4</td><td>4.183</td><td>Baixo</td></tr><tr><td>S1001</td><td>Engineering</td><td>51.471</td><td>451.923</td><td>662.676</td><td>574.728</td><td>601.783</td><td>A</td><td>Male</td><td>18</td><td>None</td><td>Medium</td><td>14.938</td><td>No</td><td>Yes</td><td>1</td><td>6.319</td><td>Alto</td></tr><tr><td>S1002</td><td>Business</td><td>44.928</td><td>62.947</td><td>80.163</td><td>908.405</td><td>715.606</td><td>D</td><td>Male</td><td>24</td><td>Master's</td><td>Low</td><td>19.596</td><td>No</td><td>Yes</td><td>4</td><td>5.056</td><td>Medio</td></tr><tr><td>S1003</td><td>Mathematics</td><td>498.336</td><td>397.329</td><td>576.888</td><td>88.578</td><td>647.247</td><td>A</td><td>Female</td><td>24</td><td>High School</td><td>High</td><td>24.297</td><td>Yes</td><td>Yes</td><td>3</td><td>3.483</td><td>Alto</td></tr><tr><td>S1004</td><td>CS</td><td>532.224</td><td>789.483</td><td>370.006</td><td>63.702</td><td>555.164</td><td>F</td><td>Female</td><td>23</td><td>High School</td><td>High</td><td>14.118</td><td>Yes</td><td>Yes</td><td>6</td><td>3.51</td><td>Baixo</td></tr><tr><td>S1005</td><td>Engineering</td><td>69.046</td><td>829.012</td><td>494.247</td><td>492.648</td><td>680.853</td><td>B</td><td>Male</td><td>21</td><td>PhD</td><td>High</td><td>26.73</td><td>Yes</td><td>Yes</td><td>2</td><td>4.941</td><td>Alto</td></tr><tr><td>S1006</td><td>Business</td><td>72.198</td><td>545.412</td><td>70.472</td><td>539.112</td><td>502.775</td><td>F</td><td>Male</td><td>24</td><td>null</td><td>Low</td><td>5.518</td><td>No</td><td>Yes</td><td>9</td><td>7.524</td><td>Baixo</td></tr><tr><td>S1007</td><td>Engineering</td><td>49.951</td><td>477.195</td><td>486.486</td><td>45.82</td><td>74.037</td><td>F</td><td>Male</td><td>19</td><td>None</td><td>Medium</td><td>23.489</td><td>Yes</td><td>No</td><td>7</td><td>3.444</td><td>Baixo</td></tr><tr><td>S1008</td><td>CS</td><td>40.808</td><td>657.231</td><td>618.996</td><td>648.489</td><td>683.192</td><td>A</td><td>Female</td><td>21</td><td>Bachelor's</td><td>Low</td><td>5.568</td><td>No</td><td>No</td><td>0</td><td>5.096</td><td>Alto</td></tr><tr><td>S1009</td><td>Engineering</td><td>68.362</td><td>431.886</td><td>74.907</td><td>755.145</td><td>69.513</td><td>A</td><td>Female</td><td>22</td><td>None</td><td>Medium</td><td>11.352</td><td>No</td><td>Yes</td><td>8</td><td>8.096</td><td>Alto</td></tr></tbody></table></div>"
      ]
     },
     "metadata": {
      "application/vnd.databricks.v1+output": {
       "addedWidgets": {},
       "aggData": [],
       "aggError": "",
       "aggOverflow": false,
       "aggSchema": [],
       "aggSeriesLimitReached": false,
       "aggType": "",
       "arguments": {},
       "columnCustomDisplayInfos": {},
       "data": [
        [
         "S1000",
         "Engineering",
         481.068,
         49.527,
         52.038,
         71.297,
         465.547,
         "F",
         "Female",
         22,
         "High School",
         "Medium",
         4.96,
         "No",
         "Yes",
         4,
         4.183,
         "Baixo"
        ],
        [
         "S1001",
         "Engineering",
         51.471,
         451.923,
         662.676,
         574.728,
         601.783,
         "A",
         "Male",
         18,
         "None",
         "Medium",
         14.938,
         "No",
         "Yes",
         1,
         6.319,
         "Alto"
        ],
        [
         "S1002",
         "Business",
         44.928,
         62.947,
         80.163,
         908.405,
         715.606,
         "D",
         "Male",
         24,
         "Master's",
         "Low",
         19.596,
         "No",
         "Yes",
         4,
         5.056,
         "Medio"
        ],
        [
         "S1003",
         "Mathematics",
         498.336,
         397.329,
         576.888,
         88.578,
         647.247,
         "A",
         "Female",
         24,
         "High School",
         "High",
         24.297,
         "Yes",
         "Yes",
         3,
         3.483,
         "Alto"
        ],
        [
         "S1004",
         "CS",
         532.224,
         789.483,
         370.006,
         63.702,
         555.164,
         "F",
         "Female",
         23,
         "High School",
         "High",
         14.118,
         "Yes",
         "Yes",
         6,
         3.51,
         "Baixo"
        ],
        [
         "S1005",
         "Engineering",
         69.046,
         829.012,
         494.247,
         492.648,
         680.853,
         "B",
         "Male",
         21,
         "PhD",
         "High",
         26.73,
         "Yes",
         "Yes",
         2,
         4.941,
         "Alto"
        ],
        [
         "S1006",
         "Business",
         72.198,
         545.412,
         70.472,
         539.112,
         502.775,
         "F",
         "Male",
         24,
         null,
         "Low",
         5.518,
         "No",
         "Yes",
         9,
         7.524,
         "Baixo"
        ],
        [
         "S1007",
         "Engineering",
         49.951,
         477.195,
         486.486,
         45.82,
         74.037,
         "F",
         "Male",
         19,
         "None",
         "Medium",
         23.489,
         "Yes",
         "No",
         7,
         3.444,
         "Baixo"
        ],
        [
         "S1008",
         "CS",
         40.808,
         657.231,
         618.996,
         648.489,
         683.192,
         "A",
         "Female",
         21,
         "Bachelor's",
         "Low",
         5.568,
         "No",
         "No",
         0,
         5.096,
         "Alto"
        ],
        [
         "S1009",
         "Engineering",
         68.362,
         431.886,
         74.907,
         755.145,
         69.513,
         "A",
         "Female",
         22,
         "None",
         "Medium",
         11.352,
         "No",
         "Yes",
         8,
         8.096,
         "Alto"
        ]
       ],
       "datasetInfos": [],
       "dbfsResultPath": null,
       "isJsonSchema": true,
       "metadata": {},
       "overflow": false,
       "plotOptions": {
        "customPlotOptions": {},
        "displayType": "table",
        "pivotAggregation": null,
        "pivotColumns": null,
        "xColumns": null,
        "yColumns": null
       },
       "removedWidgets": [],
       "schema": [
        {
         "metadata": "{}",
         "name": "ID_Aluno",
         "type": "\"string\""
        },
        {
         "metadata": "{}",
         "name": "ID_Disciplina",
         "type": "\"string\""
        },
        {
         "metadata": "{}",
         "name": "Presenca",
         "type": "\"double\""
        },
        {
         "metadata": "{}",
         "name": "Nota_Midterm",
         "type": "\"double\""
        },
        {
         "metadata": "{}",
         "name": "Nota_Final",
         "type": "\"double\""
        },
        {
         "metadata": "{}",
         "name": "Nota_Projetos",
         "type": "\"double\""
        },
        {
         "metadata": "{}",
         "name": "Nota_Total",
         "type": "\"double\""
        },
        {
         "metadata": "{}",
         "name": "Conceito",
         "type": "\"string\""
        },
        {
         "metadata": "{}",
         "name": "Gender",
         "type": "\"string\""
        },
        {
         "metadata": "{}",
         "name": "Age",
         "type": "\"integer\""
        },
        {
         "metadata": "{}",
         "name": "Parent_Education_Level",
         "type": "\"string\""
        },
        {
         "metadata": "{}",
         "name": "Family_Income_Level",
         "type": "\"string\""
        },
        {
         "metadata": "{}",
         "name": "Study_Hours_per_Week",
         "type": "\"double\""
        },
        {
         "metadata": "{}",
         "name": "Extracurricular_Activities",
         "type": "\"string\""
        },
        {
         "metadata": "{}",
         "name": "Internet_Access_at_Home",
         "type": "\"string\""
        },
        {
         "metadata": "{}",
         "name": "Stress_Level",
         "type": "\"integer\""
        },
        {
         "metadata": "{}",
         "name": "Sleep_Hours_per_Night",
         "type": "\"double\""
        },
        {
         "metadata": "{}",
         "name": "Desempenho",
         "type": "\"string\""
        }
       ],
       "type": "table"
      }
     },
     "output_type": "display_data"
    }
   ],
   "source": [
    "%sql\n",
    "SELECT * FROM default.alunos_unificados\n",
    "LIMIT 10;\n"
   ]
  },
  {
   "cell_type": "code",
   "execution_count": 0,
   "metadata": {
    "application/vnd.databricks.v1+cell": {
     "cellMetadata": {
      "byteLimit": 2048000,
      "implicitDf": true,
      "rowLimit": 10000
     },
     "inputWidgets": {},
     "nuid": "7b5c7e9e-62f1-4d12-9c05-aa4570b35eef",
     "showTitle": false,
     "tableResultSettingsMap": {},
     "title": ""
    }
   },
   "outputs": [
    {
     "output_type": "display_data",
     "data": {
      "text/html": [
       "<style scoped>\n",
       "  .table-result-container {\n",
       "    max-height: 300px;\n",
       "    overflow: auto;\n",
       "  }\n",
       "  table, th, td {\n",
       "    border: 1px solid black;\n",
       "    border-collapse: collapse;\n",
       "  }\n",
       "  th, td {\n",
       "    padding: 5px;\n",
       "  }\n",
       "  th {\n",
       "    text-align: left;\n",
       "  }\n",
       "</style><div class='table-result-container'><table class='table-result'><thead style='background-color: white'><tr><th>col_name</th><th>data_type</th><th>comment</th></tr></thead><tbody><tr><td>ID_Aluno</td><td>string</td><td>null</td></tr><tr><td>ID_Disciplina</td><td>string</td><td>null</td></tr><tr><td>Presenca</td><td>double</td><td>null</td></tr><tr><td>Nota_Midterm</td><td>double</td><td>null</td></tr><tr><td>Nota_Final</td><td>double</td><td>null</td></tr><tr><td>Nota_Projetos</td><td>double</td><td>null</td></tr><tr><td>Nota_Total</td><td>double</td><td>null</td></tr><tr><td>Conceito</td><td>string</td><td>null</td></tr><tr><td>Gender</td><td>string</td><td>null</td></tr><tr><td>Age</td><td>int</td><td>null</td></tr><tr><td>Parent_Education_Level</td><td>string</td><td>null</td></tr><tr><td>Family_Income_Level</td><td>string</td><td>null</td></tr><tr><td>Study_Hours_per_Week</td><td>double</td><td>null</td></tr><tr><td>Extracurricular_Activities</td><td>string</td><td>null</td></tr><tr><td>Internet_Access_at_Home</td><td>string</td><td>null</td></tr><tr><td>Stress_Level</td><td>int</td><td>null</td></tr><tr><td>Sleep_Hours_per_Night</td><td>double</td><td>null</td></tr><tr><td>Desempenho</td><td>string</td><td>null</td></tr></tbody></table></div>"
      ]
     },
     "metadata": {
      "application/vnd.databricks.v1+output": {
       "addedWidgets": {},
       "aggData": [],
       "aggError": "",
       "aggOverflow": false,
       "aggSchema": [],
       "aggSeriesLimitReached": false,
       "aggType": "",
       "arguments": {},
       "columnCustomDisplayInfos": {},
       "data": [
        [
         "ID_Aluno",
         "string",
         null
        ],
        [
         "ID_Disciplina",
         "string",
         null
        ],
        [
         "Presenca",
         "double",
         null
        ],
        [
         "Nota_Midterm",
         "double",
         null
        ],
        [
         "Nota_Final",
         "double",
         null
        ],
        [
         "Nota_Projetos",
         "double",
         null
        ],
        [
         "Nota_Total",
         "double",
         null
        ],
        [
         "Conceito",
         "string",
         null
        ],
        [
         "Gender",
         "string",
         null
        ],
        [
         "Age",
         "int",
         null
        ],
        [
         "Parent_Education_Level",
         "string",
         null
        ],
        [
         "Family_Income_Level",
         "string",
         null
        ],
        [
         "Study_Hours_per_Week",
         "double",
         null
        ],
        [
         "Extracurricular_Activities",
         "string",
         null
        ],
        [
         "Internet_Access_at_Home",
         "string",
         null
        ],
        [
         "Stress_Level",
         "int",
         null
        ],
        [
         "Sleep_Hours_per_Night",
         "double",
         null
        ],
        [
         "Desempenho",
         "string",
         null
        ]
       ],
       "datasetInfos": [],
       "dbfsResultPath": null,
       "isJsonSchema": true,
       "metadata": {},
       "overflow": false,
       "plotOptions": {
        "customPlotOptions": {},
        "displayType": "table",
        "pivotAggregation": null,
        "pivotColumns": null,
        "xColumns": null,
        "yColumns": null
       },
       "removedWidgets": [],
       "schema": [
        {
         "metadata": "{\"comment\":\"name of the column\"}",
         "name": "col_name",
         "type": "\"string\""
        },
        {
         "metadata": "{\"comment\":\"data type of the column\"}",
         "name": "data_type",
         "type": "\"string\""
        },
        {
         "metadata": "{\"comment\":\"comment of the column\"}",
         "name": "comment",
         "type": "\"string\""
        }
       ],
       "type": "table"
      }
     },
     "output_type": "display_data"
    }
   ],
   "source": [
    "%sql\n",
    "DESCRIBE TABLE default.alunos_unificados;\n"
   ]
  },
  {
   "cell_type": "markdown",
   "metadata": {
    "application/vnd.databricks.v1+cell": {
     "cellMetadata": {
      "byteLimit": 2048000,
      "rowLimit": 10000
     },
     "inputWidgets": {},
     "nuid": "5f51ceb4-37cb-407b-9704-09837913e0d1",
     "showTitle": false,
     "tableResultSettingsMap": {},
     "title": ""
    }
   },
   "source": [
    "##### ✍️ Alunos com Baixo desempenho\n",
    "Criação de View com Alunos  Baixo Desempenho"
   ]
  },
  {
   "cell_type": "markdown",
   "metadata": {
    "application/vnd.databricks.v1+cell": {
     "cellMetadata": {
      "byteLimit": 2048000,
      "rowLimit": 10000
     },
     "inputWidgets": {},
     "nuid": "0af0bbba-6fbb-46b6-baf0-b6de49caf5cf",
     "showTitle": false,
     "tableResultSettingsMap": {},
     "title": ""
    }
   },
   "source": [
    "#### 💡 Solução\n",
    "Integrar e analisar os dados de desempenho, hábitos e perfil socioeconômico dos alunos para encontrar padrões que indiquem risco de baixo desempenho, auxiliando na definição de estratégias de suporte mais eficazes."
   ]
  },
  {
   "cell_type": "markdown",
   "metadata": {
    "application/vnd.databricks.v1+cell": {
     "cellMetadata": {
      "byteLimit": 2048000,
      "rowLimit": 10000
     },
     "inputWidgets": {},
     "nuid": "45ba3c6d-e6cd-4a3c-97d3-9eb86a178a28",
     "showTitle": false,
     "tableResultSettingsMap": {},
     "title": ""
    }
   },
   "source": [
    "##### 👁️ Construção da View comparativa\n",
    "O objetivo de comparar dados por desempenhp"
   ]
  },
  {
   "cell_type": "markdown",
   "metadata": {
    "application/vnd.databricks.v1+cell": {
     "cellMetadata": {
      "byteLimit": 2048000,
      "rowLimit": 10000
     },
     "inputWidgets": {},
     "nuid": "5edf19f6-5abc-4183-8e4d-efaffe3e6252",
     "showTitle": false,
     "tableResultSettingsMap": {},
     "title": ""
    }
   },
   "source": [
    "#### 🎲 Interpretação dos dados\n"
   ]
  },
  {
   "cell_type": "markdown",
   "metadata": {
    "application/vnd.databricks.v1+cell": {
     "cellMetadata": {
      "byteLimit": 2048000,
      "rowLimit": 10000
     },
     "inputWidgets": {},
     "nuid": "00576e60-6a59-4493-9bc9-0e30e1e0be2a",
     "showTitle": false,
     "tableResultSettingsMap": {},
     "title": ""
    }
   },
   "source": [
    "##### ⏰ Horas de Estudo Média"
   ]
  },
  {
   "cell_type": "code",
   "execution_count": 0,
   "metadata": {
    "application/vnd.databricks.v1+cell": {
     "cellMetadata": {
      "byteLimit": 2048000,
      "implicitDf": true,
      "rowLimit": 10000
     },
     "inputWidgets": {},
     "nuid": "680c6891-9b11-40ae-b3e3-f85efd5f1f10",
     "showTitle": false,
     "tableResultSettingsMap": {},
     "title": ""
    }
   },
   "outputs": [
    {
     "output_type": "display_data",
     "data": {
      "text/html": [
       "<style scoped>\n",
       "  .table-result-container {\n",
       "    max-height: 300px;\n",
       "    overflow: auto;\n",
       "  }\n",
       "  table, th, td {\n",
       "    border: 1px solid black;\n",
       "    border-collapse: collapse;\n",
       "  }\n",
       "  th, td {\n",
       "    padding: 5px;\n",
       "  }\n",
       "  th {\n",
       "    text-align: left;\n",
       "  }\n",
       "</style><div class='table-result-container'><table class='table-result'><thead style='background-color: white'><tr><th>Desempenho</th><th>Media_Horas_Estudo</th><th>Total_Alunos</th></tr></thead><tbody><tr><td>Alto</td><td>17.47</td><td>2473</td></tr><tr><td>Medio</td><td>17.13</td><td>1683</td></tr><tr><td>Baixo</td><td>17.48</td><td>844</td></tr></tbody></table></div>"
      ]
     },
     "metadata": {
      "application/vnd.databricks.v1+output": {
       "addedWidgets": {},
       "aggData": [],
       "aggError": "",
       "aggOverflow": false,
       "aggSchema": [],
       "aggSeriesLimitReached": false,
       "aggType": "",
       "arguments": {},
       "columnCustomDisplayInfos": {},
       "data": [
        [
         "Alto",
         17.47,
         2473
        ],
        [
         "Medio",
         17.13,
         1683
        ],
        [
         "Baixo",
         17.48,
         844
        ]
       ],
       "datasetInfos": [],
       "dbfsResultPath": null,
       "isJsonSchema": true,
       "metadata": {},
       "overflow": false,
       "plotOptions": {
        "customPlotOptions": {},
        "displayType": "table",
        "pivotAggregation": null,
        "pivotColumns": null,
        "xColumns": null,
        "yColumns": null
       },
       "removedWidgets": [],
       "schema": [
        {
         "metadata": "{}",
         "name": "Desempenho",
         "type": "\"string\""
        },
        {
         "metadata": "{}",
         "name": "Media_Horas_Estudo",
         "type": "\"double\""
        },
        {
         "metadata": "{}",
         "name": "Total_Alunos",
         "type": "\"long\""
        }
       ],
       "type": "table"
      }
     },
     "output_type": "display_data"
    }
   ],
   "source": [
    "%sql\n",
    "SELECT \n",
    "  Desempenho,\n",
    "  ROUND(AVG(Study_Hours_per_Week), 2) AS Media_Horas_Estudo,\n",
    "  COUNT(*) AS Total_Alunos\n",
    "FROM default.alunos_com_desempenho\n",
    "GROUP BY Desempenho\n",
    "ORDER BY \n",
    "  CASE Desempenho\n",
    "    WHEN 'Alto' THEN 1\n",
    "    WHEN 'Medio' THEN 2\n",
    "    WHEN 'Baixo' THEN 3\n",
    "    ELSE 4\n",
    "  END;\n"
   ]
  },
  {
   "cell_type": "code",
   "execution_count": 0,
   "metadata": {
    "application/vnd.databricks.v1+cell": {
     "cellMetadata": {
      "byteLimit": 2048000,
      "rowLimit": 10000
     },
     "inputWidgets": {},
     "nuid": "b074500e-a689-414c-9a15-d4804fc0751a",
     "showTitle": false,
     "tableResultSettingsMap": {},
     "title": ""
    }
   },
   "outputs": [
    {
     "output_type": "display_data",
     "data": {
      "image/png": "[encoded data removed]"
     },
     "metadata": {
      "application/vnd.databricks.v1+output": {
       "addedWidgets": {},
       "arguments": {},
       "data": "data:image/png;base64,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\n",
       "datasetInfos": [],
       "metadata": {},
       "removedWidgets": [],
       "type": "image"
      }
     },
     "output_type": "display_data"
    }
   ],
   "source": [
    "# Consulta a média de horas de estudo por grupo de desempenho\n",
    "df_estudo = spark.sql(\"\"\"\n",
    "SELECT \n",
    "  Desempenho,\n",
    "  ROUND(AVG(Study_Hours_per_Week), 2) AS Media_Horas_Estudo,\n",
    "  COUNT(*) AS Total_Alunos\n",
    "FROM default.alunos_com_desempenho\n",
    "GROUP BY Desempenho\n",
    "\"\"\").toPandas()\n",
    "\n",
    "import matplotlib.pyplot as plt\n",
    "\n",
    "# Ordena os grupos de forma lógica\n",
    "ordem = ['Alto', 'Medio', 'Baixo']\n",
    "df_estudo['Desempenho'] = pd.Categorical(df_estudo['Desempenho'], categories=ordem, ordered=True)\n",
    "df_estudo = df_estudo.sort_values('Desempenho')\n",
    "\n",
    "# Cria o gráfico de barras\n",
    "plt.figure(figsize=(6, 4))\n",
    "plt.bar(df_estudo['Desempenho'], df_estudo['Media_Horas_Estudo'], color='cornflowerblue', edgecolor='black')\n",
    "\n",
    "# Adiciona rótulos nas barras\n",
    "for i, v in enumerate(df_estudo['Media_Horas_Estudo']):\n",
    "    plt.text(i, v + 0.1, f'{v:.2f}', ha='center', fontsize=10)\n",
    "\n",
    "plt.title('Média de Horas de Estudo por Grupo de Desempenho')\n",
    "plt.ylabel('Horas por Semana')\n",
    "plt.xlabel('Desempenho')\n",
    "plt.ylim(0, df_estudo['Media_Horas_Estudo'].max() + 1)\n",
    "plt.grid(axis='y', linestyle='--', alpha=0.5)\n",
    "plt.tight_layout()\n",
    "plt.show()\n"
   ]
  },
  {
   "cell_type": "markdown",
   "metadata": {
    "application/vnd.databricks.v1+cell": {
     "cellMetadata": {
      "byteLimit": 2048000,
      "rowLimit": 10000
     },
     "inputWidgets": {},
     "nuid": "86e7ca6a-4aba-4a1a-961c-8b023b5062ff",
     "showTitle": false,
     "tableResultSettingsMap": {},
     "title": ""
    }
   },
   "source": [
    "##### 💤 Horas de sono Média"
   ]
  },
  {
   "cell_type": "code",
   "execution_count": 0,
   "metadata": {
    "application/vnd.databricks.v1+cell": {
     "cellMetadata": {
      "byteLimit": 2048000,
      "implicitDf": true,
      "rowLimit": 10000
     },
     "inputWidgets": {},
     "nuid": "e1ce5236-6e51-4307-a46d-a3341fa1b444",
     "showTitle": false,
     "tableResultSettingsMap": {},
     "title": ""
    }
   },
   "outputs": [
    {
     "output_type": "display_data",
     "data": {
      "text/html": [
       "<style scoped>\n",
       "  .table-result-container {\n",
       "    max-height: 300px;\n",
       "    overflow: auto;\n",
       "  }\n",
       "  table, th, td {\n",
       "    border: 1px solid black;\n",
       "    border-collapse: collapse;\n",
       "  }\n",
       "  th, td {\n",
       "    padding: 5px;\n",
       "  }\n",
       "  th {\n",
       "    text-align: left;\n",
       "  }\n",
       "</style><div class='table-result-container'><table class='table-result'><thead style='background-color: white'><tr><th>Desempenho</th><th>Media_Horas_Sono</th></tr></thead><tbody><tr><td>Alto</td><td>6.36</td></tr><tr><td>Medio</td><td>6.39</td></tr><tr><td>Baixo</td><td>6.39</td></tr></tbody></table></div>"
      ]
     },
     "metadata": {
      "application/vnd.databricks.v1+output": {
       "addedWidgets": {},
       "aggData": [],
       "aggError": "",
       "aggOverflow": false,
       "aggSchema": [],
       "aggSeriesLimitReached": false,
       "aggType": "",
       "arguments": {},
       "columnCustomDisplayInfos": {},
       "data": [
        [
         "Alto",
         6.36
        ],
        [
         "Medio",
         6.39
        ],
        [
         "Baixo",
         6.39
        ]
       ],
       "datasetInfos": [],
       "dbfsResultPath": null,
       "isJsonSchema": true,
       "metadata": {},
       "overflow": false,
       "plotOptions": {
        "customPlotOptions": {},
        "displayType": "table",
        "pivotAggregation": null,
        "pivotColumns": null,
        "xColumns": null,
        "yColumns": null
       },
       "removedWidgets": [],
       "schema": [
        {
         "metadata": "{}",
         "name": "Desempenho",
         "type": "\"string\""
        },
        {
         "metadata": "{}",
         "name": "Media_Horas_Sono",
         "type": "\"double\""
        }
       ],
       "type": "table"
      }
     },
     "output_type": "display_data"
    }
   ],
   "source": [
    "%sql\n",
    "SELECT \n",
    "  Desempenho,\n",
    "  ROUND(AVG(Sleep_Hours_per_Night),2) AS Media_Horas_Sono\n",
    "FROM default.alunos_com_desempenho\n",
    "GROUP BY Desempenho\n",
    "ORDER BY \n",
    "  CASE Desempenho WHEN 'Alto' THEN 1 WHEN 'Medio' THEN 2 ELSE 3 END;\n"
   ]
  },
  {
   "cell_type": "code",
   "execution_count": 0,
   "metadata": {
    "application/vnd.databricks.v1+cell": {
     "cellMetadata": {
      "byteLimit": 2048000,
      "rowLimit": 10000
     },
     "inputWidgets": {},
     "nuid": "594e11c5-8777-426a-93d7-cdb66cac2c0d",
     "showTitle": false,
     "tableResultSettingsMap": {},
     "title": ""
    }
   },
   "outputs": [
    {
     "output_type": "stream",
     "name": "stdout",
     "output_type": "stream",
     "text": [
      "<Figure size 432x288 with 0 Axes>"
     ]
    },
    {
     "output_type": "display_data",
     "data": {
      "image/png": "[encoded data removed]"
     },
     "metadata": {
      "application/vnd.databricks.v1+output": {
       "addedWidgets": {},
       "arguments": {},
       "data": "data:image/png;base64,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\n",
       "datasetInfos": [],
       "metadata": {},
       "removedWidgets": [],
       "type": "image"
      }
     },
     "output_type": "display_data"
    }
   ],
   "source": [
    "# Consulta a média de horas de sono por grupo de desempenho\n",
    "df_sono = spark.sql(\"\"\"\n",
    "SELECT \n",
    "  Desempenho,\n",
    "  Sleep_Hours_per_Night\n",
    "FROM default.alunos_com_desempenho\n",
    "WHERE Sleep_Hours_per_Night IS NOT NULL\n",
    "\"\"\").toPandas()\n",
    "\n",
    "import matplotlib.pyplot as plt\n",
    "\n",
    "# Ordena os grupos\n",
    "ordem = ['Alto', 'Medio', 'Baixo']\n",
    "df_sono['Desempenho'] = pd.Categorical(df_sono['Desempenho'], categories=ordem, ordered=True)\n",
    "df_sono = df_sono.sort_values('Desempenho')\n",
    "\n",
    "# Cria boxplot\n",
    "plt.figure(figsize=(6, 4))\n",
    "df_sono.boxplot(column='Sleep_Hours_per_Night', by='Desempenho', grid=False, patch_artist=True,\n",
    "                boxprops=dict(facecolor='lightblue', color='black'),\n",
    "                medianprops=dict(color='black'),\n",
    "                whiskerprops=dict(color='black'),\n",
    "                capprops=dict(color='black'),\n",
    "                flierprops=dict(markerfacecolor='red', marker='o', markersize=4, linestyle='none'))\n",
    "\n",
    "plt.title('Distribuição de Horas de Sono por Grupo de Desempenho')\n",
    "plt.suptitle('')\n",
    "plt.xlabel('Desempenho')\n",
    "plt.ylabel('Horas de Sono por Noite')\n",
    "plt.tight_layout()\n",
    "plt.show()\n"
   ]
  },
  {
   "cell_type": "markdown",
   "metadata": {
    "application/vnd.databricks.v1+cell": {
     "cellMetadata": {
      "byteLimit": 2048000,
      "rowLimit": 10000
     },
     "inputWidgets": {},
     "nuid": "33beb228-e1e2-4df8-9d66-05a0db71ccf7",
     "showTitle": false,
     "tableResultSettingsMap": {},
     "title": ""
    }
   },
   "source": [
    "##### 😡 Nivel de estresse médio"
   ]
  },
  {
   "cell_type": "code",
   "execution_count": 0,
   "metadata": {
    "application/vnd.databricks.v1+cell": {
     "cellMetadata": {
      "byteLimit": 2048000,
      "implicitDf": true,
      "rowLimit": 10000
     },
     "inputWidgets": {},
     "nuid": "c7c3730f-ffa1-433a-9896-2523c9fd803e",
     "showTitle": false,
     "tableResultSettingsMap": {},
     "title": ""
    }
   },
   "outputs": [
    {
     "output_type": "display_data",
     "data": {
      "text/html": [
       "<style scoped>\n",
       "  .table-result-container {\n",
       "    max-height: 300px;\n",
       "    overflow: auto;\n",
       "  }\n",
       "  table, th, td {\n",
       "    border: 1px solid black;\n",
       "    border-collapse: collapse;\n",
       "  }\n",
       "  th, td {\n",
       "    padding: 5px;\n",
       "  }\n",
       "  th {\n",
       "    text-align: left;\n",
       "  }\n",
       "</style><div class='table-result-container'><table class='table-result'><thead style='background-color: white'><tr><th>Desempenho</th><th>Alunos_Estresse_Alto</th><th>Total_Alunos</th><th>Percentual_Estresse_Alto</th></tr></thead><tbody><tr><td>Alto</td><td>927</td><td>2473</td><td>37.48</td></tr><tr><td>Medio</td><td>593</td><td>1683</td><td>35.23</td></tr><tr><td>Baixo</td><td>314</td><td>844</td><td>37.2</td></tr></tbody></table></div>"
      ]
     },
     "metadata": {
      "application/vnd.databricks.v1+output": {
       "addedWidgets": {},
       "aggData": [],
       "aggError": "",
       "aggOverflow": false,
       "aggSchema": [],
       "aggSeriesLimitReached": false,
       "aggType": "",
       "arguments": {},
       "columnCustomDisplayInfos": {},
       "data": [
        [
         "Alto",
         927,
         2473,
         37.48
        ],
        [
         "Medio",
         593,
         1683,
         35.23
        ],
        [
         "Baixo",
         314,
         844,
         37.2
        ]
       ],
       "datasetInfos": [],
       "dbfsResultPath": null,
       "isJsonSchema": true,
       "metadata": {},
       "overflow": false,
       "plotOptions": {
        "customPlotOptions": {},
        "displayType": "table",
        "pivotAggregation": null,
        "pivotColumns": null,
        "xColumns": null,
        "yColumns": null
       },
       "removedWidgets": [],
       "schema": [
        {
         "metadata": "{}",
         "name": "Desempenho",
         "type": "\"string\""
        },
        {
         "metadata": "{}",
         "name": "Alunos_Estresse_Alto",
         "type": "\"long\""
        },
        {
         "metadata": "{}",
         "name": "Total_Alunos",
         "type": "\"long\""
        },
        {
         "metadata": "{}",
         "name": "Percentual_Estresse_Alto",
         "type": "\"double\""
        }
       ],
       "type": "table"
      }
     },
     "output_type": "display_data"
    }
   ],
   "source": [
    "%sql\n",
    "SELECT \n",
    "  Desempenho,\n",
    "  COUNT(CASE WHEN Stress_Level >= 7 THEN 1 END) AS Alunos_Estresse_Alto,\n",
    "  COUNT(*) AS Total_Alunos,\n",
    "  ROUND((COUNT(CASE WHEN Stress_Level >= 7 THEN 1 END) / COUNT(*)) * 100, 2) AS Percentual_Estresse_Alto\n",
    "FROM default.alunos_com_desempenho\n",
    "GROUP BY Desempenho\n",
    "ORDER BY \n",
    "  CASE Desempenho WHEN 'Alto' THEN 1 WHEN 'Medio' THEN 2 ELSE 3 END;\n"
   ]
  },
  {
   "cell_type": "code",
   "execution_count": 0,
   "metadata": {
    "application/vnd.databricks.v1+cell": {
     "cellMetadata": {
      "byteLimit": 2048000,
      "rowLimit": 10000
     },
     "inputWidgets": {},
     "nuid": "214ba552-8b83-4538-9871-ea3eaa502832",
     "showTitle": false,
     "tableResultSettingsMap": {},
     "title": ""
    }
   },
   "outputs": [
    {
     "output_type": "display_data",
     "data": {
      "image/png": "[encoded data removed]"
     },
     "metadata": {
      "application/vnd.databricks.v1+output": {
       "addedWidgets": {},
       "arguments": {},
       "data": "data:image/png;base64,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\n",
       "datasetInfos": [],
       "metadata": {},
       "removedWidgets": [],
       "type": "image"
      }
     },
     "output_type": "display_data"
    }
   ],
   "source": [
    "# Consulta o percentual de estresse alto por grupo de desempenho\n",
    "df_estresse = spark.sql(\"\"\"\n",
    "SELECT \n",
    "  Desempenho,\n",
    "  COUNT(CASE WHEN Stress_Level >= 7 THEN 1 END) AS Alunos_Estresse_Alto,\n",
    "  COUNT(*) AS Total_Alunos,\n",
    "  ROUND((COUNT(CASE WHEN Stress_Level >= 7 THEN 1 END) / COUNT(*)) * 100, 2) AS Percentual_Estresse_Alto\n",
    "FROM default.alunos_com_desempenho\n",
    "GROUP BY Desempenho\n",
    "\"\"\").toPandas()\n",
    "\n",
    "import matplotlib.pyplot as plt\n",
    "\n",
    "# Ordena os grupos\n",
    "ordem = ['Alto', 'Medio', 'Baixo']\n",
    "df_estresse['Desempenho'] = pd.Categorical(df_estresse['Desempenho'], categories=ordem, ordered=True)\n",
    "df_estresse = df_estresse.sort_values('Desempenho')\n",
    "\n",
    "# Cria gráfico de barras com percentual\n",
    "plt.figure(figsize=(6, 4))\n",
    "plt.bar(df_estresse['Desempenho'], df_estresse['Percentual_Estresse_Alto'], color='tomato', edgecolor='black')\n",
    "\n",
    "# Adiciona rótulos\n",
    "for i, v in enumerate(df_estresse['Percentual_Estresse_Alto']):\n",
    "    plt.text(i, v + 1, f'{v:.1f}%', ha='center', fontsize=10)\n",
    "\n",
    "plt.title('Percentual de Alunos com Estresse Alto (≥ 7)')\n",
    "plt.ylabel('Percentual (%)')\n",
    "plt.xlabel('Desempenho')\n",
    "plt.ylim(0, df_estresse['Percentual_Estresse_Alto'].max() + 10)\n",
    "plt.grid(axis='y', linestyle='--', alpha=0.5)\n",
    "plt.tight_layout()\n",
    "plt.show()\n"
   ]
  },
  {
   "cell_type": "code",
   "execution_count": 0,
   "metadata": {
    "application/vnd.databricks.v1+cell": {
     "cellMetadata": {},
     "inputWidgets": {},
     "nuid": "1bac4bd6-7176-46b9-9f76-990ffcbac0f5",
     "showTitle": false,
     "tableResultSettingsMap": {},
     "title": ""
    }
   },
   "outputs": [],
   "source": []
  },
  {
   "cell_type": "markdown",
   "metadata": {
    "application/vnd.databricks.v1+cell": {
     "cellMetadata": {
      "byteLimit": 2048000,
      "rowLimit": 10000
     },
     "inputWidgets": {},
     "nuid": "00acce31-bed1-46e6-a6a6-8239268935f8",
     "showTitle": false,
     "tableResultSettingsMap": {},
     "title": ""
    }
   },
   "source": [
    "##### 🎓 4. Escolaridade dos Pais (Proporção de Pais com Ensino Médio ou Inferior)"
   ]
  },
  {
   "cell_type": "code",
   "execution_count": 0,
   "metadata": {
    "application/vnd.databricks.v1+cell": {
     "cellMetadata": {
      "byteLimit": 2048000,
      "implicitDf": true,
      "rowLimit": 10000
     },
     "inputWidgets": {},
     "nuid": "cdc3efa6-7382-4b2f-9472-0409261bb080",
     "showTitle": false,
     "tableResultSettingsMap": {},
     "title": ""
    }
   },
   "outputs": [
    {
     "output_type": "display_data",
     "data": {
      "text/html": [
       "<style scoped>\n",
       "  .table-result-container {\n",
       "    max-height: 300px;\n",
       "    overflow: auto;\n",
       "  }\n",
       "  table, th, td {\n",
       "    border: 1px solid black;\n",
       "    border-collapse: collapse;\n",
       "  }\n",
       "  th, td {\n",
       "    padding: 5px;\n",
       "  }\n",
       "  th {\n",
       "    text-align: left;\n",
       "  }\n",
       "</style><div class='table-result-container'><table class='table-result'><thead style='background-color: white'><tr><th>Desempenho</th><th>Pais_Baixa_Escolaridade</th><th>Total_Alunos</th><th>Percentual_Pais_Baixa_Escolaridade</th></tr></thead><tbody><tr><td>Alto</td><td>800</td><td>2473</td><td>32.35</td></tr><tr><td>Medio</td><td>536</td><td>1683</td><td>31.85</td></tr><tr><td>Baixo</td><td>270</td><td>844</td><td>31.99</td></tr></tbody></table></div>"
      ]
     },
     "metadata": {
      "application/vnd.databricks.v1+output": {
       "addedWidgets": {},
       "aggData": [],
       "aggError": "",
       "aggOverflow": false,
       "aggSchema": [],
       "aggSeriesLimitReached": false,
       "aggType": "",
       "arguments": {},
       "columnCustomDisplayInfos": {},
       "data": [
        [
         "Alto",
         800,
         2473,
         32.35
        ],
        [
         "Medio",
         536,
         1683,
         31.85
        ],
        [
         "Baixo",
         270,
         844,
         31.99
        ]
       ],
       "datasetInfos": [],
       "dbfsResultPath": null,
       "isJsonSchema": true,
       "metadata": {},
       "overflow": false,
       "plotOptions": {
        "customPlotOptions": {},
        "displayType": "table",
        "pivotAggregation": null,
        "pivotColumns": null,
        "xColumns": null,
        "yColumns": null
       },
       "removedWidgets": [],
       "schema": [
        {
         "metadata": "{}",
         "name": "Desempenho",
         "type": "\"string\""
        },
        {
         "metadata": "{}",
         "name": "Pais_Baixa_Escolaridade",
         "type": "\"long\""
        },
        {
         "metadata": "{}",
         "name": "Total_Alunos",
         "type": "\"long\""
        },
        {
         "metadata": "{}",
         "name": "Percentual_Pais_Baixa_Escolaridade",
         "type": "\"double\""
        }
       ],
       "type": "table"
      }
     },
     "output_type": "display_data"
    }
   ],
   "source": [
    "%sql\n",
    "SELECT \n",
    "  Desempenho,\n",
    "  COUNT(CASE WHEN Parent_Education_Level IN ('High School', 'None') THEN 1 END) AS Pais_Baixa_Escolaridade,\n",
    "  COUNT(*) AS Total_Alunos,\n",
    "  ROUND((COUNT(CASE WHEN Parent_Education_Level IN ('High School', 'None') THEN 1 END) / COUNT(*)) * 100, 2) AS Percentual_Pais_Baixa_Escolaridade\n",
    "FROM default.alunos_com_desempenho\n",
    "GROUP BY Desempenho\n",
    "ORDER BY \n",
    "  CASE Desempenho WHEN 'Alto' THEN 1 WHEN 'Medio' THEN 2 ELSE 3 END;\n"
   ]
  },
  {
   "cell_type": "code",
   "execution_count": 0,
   "metadata": {
    "application/vnd.databricks.v1+cell": {
     "cellMetadata": {
      "byteLimit": 2048000,
      "rowLimit": 10000
     },
     "inputWidgets": {},
     "nuid": "7c7e7c88-9e03-4cd1-8bd3-2a1ca1241124",
     "showTitle": false,
     "tableResultSettingsMap": {},
     "title": ""
    }
   },
   "outputs": [
    {
     "output_type": "display_data",
     "data": {
      "image/png": "[encoded data removed]"
     },
     "metadata": {
      "application/vnd.databricks.v1+output": {
       "addedWidgets": {},
       "arguments": {},
       "data": "data:image/png;base64,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\n",
       "datasetInfos": [],
       "metadata": {},
       "removedWidgets": [],
       "type": "image"
      }
     },
     "output_type": "display_data"
    }
   ],
   "source": [
    "# Consulta o percentual de pais com baixa escolaridade por grupo de desempenho\n",
    "df_escolaridade = spark.sql(\"\"\"\n",
    "SELECT \n",
    "  Desempenho,\n",
    "  COUNT(CASE WHEN Parent_Education_Level IN ('High School', 'None') THEN 1 END) AS Pais_Baixa_Escolaridade,\n",
    "  COUNT(*) AS Total_Alunos,\n",
    "  ROUND((COUNT(CASE WHEN Parent_Education_Level IN ('High School', 'None') THEN 1 END) / COUNT(*)) * 100, 2) AS Percentual_Pais_Baixa_Escolaridade\n",
    "FROM default.alunos_com_desempenho\n",
    "GROUP BY Desempenho\n",
    "\"\"\").toPandas()\n",
    "\n",
    "import matplotlib.pyplot as plt\n",
    "\n",
    "# Ordena os grupos\n",
    "ordem = ['Alto', 'Medio', 'Baixo']\n",
    "df_escolaridade['Desempenho'] = pd.Categorical(df_escolaridade['Desempenho'], categories=ordem, ordered=True)\n",
    "df_escolaridade = df_escolaridade.sort_values('Desempenho')\n",
    "\n",
    "# Cria gráfico de barras com percentual\n",
    "plt.figure(figsize=(6, 4))\n",
    "plt.bar(df_escolaridade['Desempenho'], df_escolaridade['Percentual_Pais_Baixa_Escolaridade'], color='darkorange', edgecolor='black')\n",
    "\n",
    "# Adiciona rótulos\n",
    "for i, v in enumerate(df_escolaridade['Percentual_Pais_Baixa_Escolaridade']):\n",
    "    plt.text(i, v + 1, f'{v:.1f}%', ha='center', fontsize=10)\n",
    "\n",
    "plt.title('Pais com Escolaridade Baixa por Grupo de Desempenho')\n",
    "plt.ylabel('Percentual (%)')\n",
    "plt.xlabel('Desempenho')\n",
    "plt.ylim(0, df_escolaridade['Percentual_Pais_Baixa_Escolaridade'].max() + 10)\n",
    "plt.grid(axis='y', linestyle='--', alpha=0.5)\n",
    "plt.tight_layout()\n",
    "plt.show()\n"
   ]
  },
  {
   "cell_type": "code",
   "execution_count": 0,
   "metadata": {
    "application/vnd.databricks.v1+cell": {
     "cellMetadata": {},
     "inputWidgets": {},
     "nuid": "827fe664-2434-4dd9-8049-944a434ec4e6",
     "showTitle": false,
     "tableResultSettingsMap": {},
     "title": ""
    }
   },
   "outputs": [],
   "source": []
  },
  {
   "cell_type": "markdown",
   "metadata": {
    "application/vnd.databricks.v1+cell": {
     "cellMetadata": {
      "byteLimit": 2048000,
      "rowLimit": 10000
     },
     "inputWidgets": {},
     "nuid": "9af4ab9c-64bd-4631-833e-8f942207d3d2",
     "showTitle": false,
     "tableResultSettingsMap": {},
     "title": ""
    }
   },
   "source": [
    "##### 💰 5. Renda Familiar (Proporção de Alunos com Renda Familiar Baixa)"
   ]
  },
  {
   "cell_type": "code",
   "execution_count": 0,
   "metadata": {
    "application/vnd.databricks.v1+cell": {
     "cellMetadata": {
      "byteLimit": 2048000,
      "implicitDf": true,
      "rowLimit": 10000
     },
     "inputWidgets": {},
     "nuid": "344309d6-2fa6-4371-ba7e-5338351d007e",
     "showTitle": false,
     "tableResultSettingsMap": {},
     "title": ""
    }
   },
   "outputs": [
    {
     "output_type": "display_data",
     "data": {
      "text/html": [
       "<style scoped>\n",
       "  .table-result-container {\n",
       "    max-height: 300px;\n",
       "    overflow: auto;\n",
       "  }\n",
       "  table, th, td {\n",
       "    border: 1px solid black;\n",
       "    border-collapse: collapse;\n",
       "  }\n",
       "  th, td {\n",
       "    padding: 5px;\n",
       "  }\n",
       "  th {\n",
       "    text-align: left;\n",
       "  }\n",
       "</style><div class='table-result-container'><table class='table-result'><thead style='background-color: white'><tr><th>Desempenho</th><th>Alunos_Baixa_Renda</th><th>Total_Alunos</th><th>Percentual_Baixa_Renda</th></tr></thead><tbody><tr><td>Alto</td><td>972</td><td>2473</td><td>39.3</td></tr><tr><td>Medio</td><td>670</td><td>1683</td><td>39.81</td></tr><tr><td>Baixo</td><td>341</td><td>844</td><td>40.4</td></tr></tbody></table></div>"
      ]
     },
     "metadata": {
      "application/vnd.databricks.v1+output": {
       "addedWidgets": {},
       "aggData": [],
       "aggError": "",
       "aggOverflow": false,
       "aggSchema": [],
       "aggSeriesLimitReached": false,
       "aggType": "",
       "arguments": {},
       "columnCustomDisplayInfos": {},
       "data": [
        [
         "Alto",
         972,
         2473,
         39.3
        ],
        [
         "Medio",
         670,
         1683,
         39.81
        ],
        [
         "Baixo",
         341,
         844,
         40.4
        ]
       ],
       "datasetInfos": [],
       "dbfsResultPath": null,
       "isJsonSchema": true,
       "metadata": {},
       "overflow": false,
       "plotOptions": {
        "customPlotOptions": {},
        "displayType": "table",
        "pivotAggregation": null,
        "pivotColumns": null,
        "xColumns": null,
        "yColumns": null
       },
       "removedWidgets": [],
       "schema": [
        {
         "metadata": "{}",
         "name": "Desempenho",
         "type": "\"string\""
        },
        {
         "metadata": "{}",
         "name": "Alunos_Baixa_Renda",
         "type": "\"long\""
        },
        {
         "metadata": "{}",
         "name": "Total_Alunos",
         "type": "\"long\""
        },
        {
         "metadata": "{}",
         "name": "Percentual_Baixa_Renda",
         "type": "\"double\""
        }
       ],
       "type": "table"
      }
     },
     "output_type": "display_data"
    }
   ],
   "source": [
    "%sql\n",
    "SELECT \n",
    "  Desempenho,\n",
    "  COUNT(CASE WHEN Family_Income_Level = 'Low' THEN 1 END) AS Alunos_Baixa_Renda,\n",
    "  COUNT(*) AS Total_Alunos,\n",
    "  ROUND((COUNT(CASE WHEN Family_Income_Level = 'Low' THEN 1 END) / COUNT(*)) * 100, 2) AS Percentual_Baixa_Renda\n",
    "FROM default.alunos_com_desempenho\n",
    "GROUP BY Desempenho\n",
    "ORDER BY \n",
    "  CASE Desempenho WHEN 'Alto' THEN 1 WHEN 'Medio' THEN 2 ELSE 3 END;\n"
   ]
  },
  {
   "cell_type": "code",
   "execution_count": 0,
   "metadata": {
    "application/vnd.databricks.v1+cell": {
     "cellMetadata": {
      "byteLimit": 2048000,
      "rowLimit": 10000
     },
     "inputWidgets": {},
     "nuid": "ef15fec2-5f63-438e-b558-e5acdad65077",
     "showTitle": false,
     "tableResultSettingsMap": {},
     "title": ""
    }
   },
   "outputs": [
    {
     "output_type": "display_data",
     "data": {
      "image/png": "[encoded data removed]"
     },
     "metadata": {
      "application/vnd.databricks.v1+output": {
       "addedWidgets": {},
       "arguments": {},
       "data": "data:image/png;base64,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\n",
       "datasetInfos": [],
       "metadata": {},
       "removedWidgets": [],
       "type": "image"
      }
     },
     "output_type": "display_data"
    }
   ],
   "source": [
    "# Consulta o percentual de alunos com baixa renda por grupo\n",
    "df_renda = spark.sql(\"\"\"\n",
    "SELECT \n",
    "  Desempenho,\n",
    "  COUNT(CASE WHEN Family_Income_Level = 'Low' THEN 1 END) AS Alunos_Baixa_Renda,\n",
    "  COUNT(*) AS Total_Alunos,\n",
    "  ROUND((COUNT(CASE WHEN Family_Income_Level = 'Low' THEN 1 END) / COUNT(*)) * 100, 2) AS Percentual_Baixa_Renda\n",
    "FROM default.alunos_com_desempenho\n",
    "GROUP BY Desempenho\n",
    "\"\"\").toPandas()\n",
    "\n",
    "import matplotlib.pyplot as plt\n",
    "\n",
    "# Ordena os grupos\n",
    "ordem = ['Alto', 'Medio', 'Baixo']\n",
    "df_renda['Desempenho'] = pd.Categorical(df_renda['Desempenho'], categories=ordem, ordered=True)\n",
    "df_renda = df_renda.sort_values('Desempenho')\n",
    "\n",
    "# Cria gráfico de barras\n",
    "plt.figure(figsize=(6, 4))\n",
    "plt.bar(df_renda['Desempenho'], df_renda['Percentual_Baixa_Renda'], color='firebrick', edgecolor='black')\n",
    "\n",
    "# Adiciona rótulos\n",
    "for i, v in enumerate(df_renda['Percentual_Baixa_Renda']):\n",
    "    plt.text(i, v + 1, f'{v:.1f}%', ha='center', fontsize=10)\n",
    "\n",
    "plt.title('Alunos com Baixa Renda Familiar por Desempenho')\n",
    "plt.ylabel('Percentual (%)')\n",
    "plt.xlabel('Desempenho')\n",
    "plt.ylim(0, df_renda['Percentual_Baixa_Renda'].max() + 10)\n",
    "plt.grid(axis='y', linestyle='--', alpha=0.5)\n",
    "plt.tight_layout()\n",
    "plt.show()\n"
   ]
  },
  {
   "cell_type": "markdown",
   "metadata": {
    "application/vnd.databricks.v1+cell": {
     "cellMetadata": {
      "byteLimit": 2048000,
      "rowLimit": 10000
     },
     "inputWidgets": {},
     "nuid": "df8770e6-c5c8-49c4-93b5-32d7d7fbd3ec",
     "showTitle": false,
     "tableResultSettingsMap": {},
     "title": ""
    }
   },
   "source": [
    "##### 🏃 6. Atividades Extracurriculares (Proporção que participam)"
   ]
  },
  {
   "cell_type": "code",
   "execution_count": 0,
   "metadata": {
    "application/vnd.databricks.v1+cell": {
     "cellMetadata": {
      "byteLimit": 2048000,
      "implicitDf": true,
      "rowLimit": 10000
     },
     "inputWidgets": {},
     "nuid": "bbd7aeb3-567c-4563-b3fd-7779b16fa0af",
     "showTitle": false,
     "tableResultSettingsMap": {},
     "title": ""
    }
   },
   "outputs": [
    {
     "output_type": "display_data",
     "data": {
      "text/html": [
       "<style scoped>\n",
       "  .table-result-container {\n",
       "    max-height: 300px;\n",
       "    overflow: auto;\n",
       "  }\n",
       "  table, th, td {\n",
       "    border: 1px solid black;\n",
       "    border-collapse: collapse;\n",
       "  }\n",
       "  th, td {\n",
       "    padding: 5px;\n",
       "  }\n",
       "  th {\n",
       "    text-align: left;\n",
       "  }\n",
       "</style><div class='table-result-container'><table class='table-result'><thead style='background-color: white'><tr><th>Desempenho</th><th>Com_Atividades</th><th>Total_Alunos</th><th>Percentual_Com_Atividades</th></tr></thead><tbody><tr><td>Alto</td><td>735</td><td>2473</td><td>29.72</td></tr><tr><td>Medio</td><td>532</td><td>1683</td><td>31.61</td></tr><tr><td>Baixo</td><td>240</td><td>844</td><td>28.44</td></tr></tbody></table></div>"
      ]
     },
     "metadata": {
      "application/vnd.databricks.v1+output": {
       "addedWidgets": {},
       "aggData": [],
       "aggError": "",
       "aggOverflow": false,
       "aggSchema": [],
       "aggSeriesLimitReached": false,
       "aggType": "",
       "arguments": {},
       "columnCustomDisplayInfos": {},
       "data": [
        [
         "Alto",
         735,
         2473,
         29.72
        ],
        [
         "Medio",
         532,
         1683,
         31.61
        ],
        [
         "Baixo",
         240,
         844,
         28.44
        ]
       ],
       "datasetInfos": [],
       "dbfsResultPath": null,
       "isJsonSchema": true,
       "metadata": {},
       "overflow": false,
       "plotOptions": {
        "customPlotOptions": {},
        "displayType": "table",
        "pivotAggregation": null,
        "pivotColumns": null,
        "xColumns": null,
        "yColumns": null
       },
       "removedWidgets": [],
       "schema": [
        {
         "metadata": "{}",
         "name": "Desempenho",
         "type": "\"string\""
        },
        {
         "metadata": "{}",
         "name": "Com_Atividades",
         "type": "\"long\""
        },
        {
         "metadata": "{}",
         "name": "Total_Alunos",
         "type": "\"long\""
        },
        {
         "metadata": "{}",
         "name": "Percentual_Com_Atividades",
         "type": "\"double\""
        }
       ],
       "type": "table"
      }
     },
     "output_type": "display_data"
    }
   ],
   "source": [
    "%sql\n",
    "SELECT \n",
    "  Desempenho,\n",
    "  COUNT(CASE WHEN Extracurricular_Activities = 'Yes' THEN 1 END) AS Com_Atividades,\n",
    "  COUNT(*) AS Total_Alunos,\n",
    "  ROUND((COUNT(CASE WHEN Extracurricular_Activities = 'Yes' THEN 1 END) / COUNT(*)) * 100, 2) AS Percentual_Com_Atividades\n",
    "FROM default.alunos_com_desempenho\n",
    "GROUP BY Desempenho\n",
    "ORDER BY \n",
    "  CASE Desempenho WHEN 'Alto' THEN 1 WHEN 'Medio' THEN 2 ELSE 3 END;\n"
   ]
  },
  {
   "cell_type": "code",
   "execution_count": 0,
   "metadata": {
    "application/vnd.databricks.v1+cell": {
     "cellMetadata": {
      "byteLimit": 2048000,
      "rowLimit": 10000
     },
     "inputWidgets": {},
     "nuid": "ed3f1e05-133e-4cdb-b63f-df7c82deb780",
     "showTitle": false,
     "tableResultSettingsMap": {},
     "title": ""
    }
   },
   "outputs": [
    {
     "output_type": "display_data",
     "data": {
      "image/png": "[encoded data removed]"
     },
     "metadata": {
      "application/vnd.databricks.v1+output": {
       "addedWidgets": {},
       "arguments": {},
       "data": "data:image/png;base64,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\n",
       "datasetInfos": [],
       "metadata": {},
       "removedWidgets": [],
       "type": "image"
      }
     },
     "output_type": "display_data"
    }
   ],
   "source": [
    "# Consulta o percentual de alunos com atividades extracurriculares por grupo\n",
    "df_atividades = spark.sql(\"\"\"\n",
    "SELECT \n",
    "  Desempenho,\n",
    "  COUNT(CASE WHEN Extracurricular_Activities = 'Yes' THEN 1 END) AS Com_Atividades,\n",
    "  COUNT(*) AS Total_Alunos,\n",
    "  ROUND((COUNT(CASE WHEN Extracurricular_Activities = 'Yes' THEN 1 END) / COUNT(*)) * 100, 2) AS Percentual_Com_Atividades\n",
    "FROM default.alunos_com_desempenho\n",
    "GROUP BY Desempenho\n",
    "\"\"\").toPandas()\n",
    "\n",
    "import matplotlib.pyplot as plt\n",
    "\n",
    "# Ordena os grupos\n",
    "ordem = ['Alto', 'Medio', 'Baixo']\n",
    "df_atividades['Desempenho'] = pd.Categorical(df_atividades['Desempenho'], categories=ordem, ordered=True)\n",
    "df_atividades = df_atividades.sort_values('Desempenho')\n",
    "\n",
    "# Cria gráfico de barras\n",
    "plt.figure(figsize=(6, 4))\n",
    "plt.bar(df_atividades['Desempenho'], df_atividades['Percentual_Com_Atividades'], color='mediumseagreen', edgecolor='black')\n",
    "\n",
    "# Adiciona rótulos\n",
    "for i, v in enumerate(df_atividades['Percentual_Com_Atividades']):\n",
    "    plt.text(i, v + 1, f'{v:.1f}%', ha='center', fontsize=10)\n",
    "\n",
    "plt.title('Participação em Atividades Extracurriculares por Desempenho')\n",
    "plt.ylabel('Percentual (%)')\n",
    "plt.xlabel('Desempenho')\n",
    "plt.ylim(0, df_atividades['Percentual_Com_Atividades'].max() + 10)\n",
    "plt.grid(axis='y', linestyle='--', alpha=0.5)\n",
    "plt.tight_layout()\n",
    "plt.show()\n",
    "\n",
    "\n"
   ]
  },
  {
   "cell_type": "markdown",
   "metadata": {
    "application/vnd.databricks.v1+cell": {
     "cellMetadata": {
      "byteLimit": 2048000,
      "rowLimit": 10000
     },
     "inputWidgets": {},
     "nuid": "fb4b8cde-c3bf-43ca-a02d-af8b5264b4b4",
     "showTitle": false,
     "tableResultSettingsMap": {},
     "title": ""
    }
   },
   "source": [
    "##### 🌐 7. Acesso à Internet em Casa (Proporção sem acesso)"
   ]
  },
  {
   "cell_type": "code",
   "execution_count": 0,
   "metadata": {
    "application/vnd.databricks.v1+cell": {
     "cellMetadata": {
      "byteLimit": 2048000,
      "implicitDf": true,
      "rowLimit": 10000
     },
     "inputWidgets": {},
     "nuid": "732f0dfa-920f-4464-926a-e8bf437a34de",
     "showTitle": false,
     "tableResultSettingsMap": {},
     "title": ""
    }
   },
   "outputs": [
    {
     "output_type": "display_data",
     "data": {
      "text/html": [
       "<style scoped>\n",
       "  .table-result-container {\n",
       "    max-height: 300px;\n",
       "    overflow: auto;\n",
       "  }\n",
       "  table, th, td {\n",
       "    border: 1px solid black;\n",
       "    border-collapse: collapse;\n",
       "  }\n",
       "  th, td {\n",
       "    padding: 5px;\n",
       "  }\n",
       "  th {\n",
       "    text-align: left;\n",
       "  }\n",
       "</style><div class='table-result-container'><table class='table-result'><thead style='background-color: white'><tr><th>Desempenho</th><th>Sem_Internet</th><th>Total_Alunos</th><th>Percentual_Sem_Internet</th></tr></thead><tbody><tr><td>Alto</td><td>263</td><td>2473</td><td>10.63</td></tr><tr><td>Medio</td><td>163</td><td>1683</td><td>9.69</td></tr><tr><td>Baixo</td><td>89</td><td>844</td><td>10.55</td></tr></tbody></table></div>"
      ]
     },
     "metadata": {
      "application/vnd.databricks.v1+output": {
       "addedWidgets": {},
       "aggData": [],
       "aggError": "",
       "aggOverflow": false,
       "aggSchema": [],
       "aggSeriesLimitReached": false,
       "aggType": "",
       "arguments": {},
       "columnCustomDisplayInfos": {},
       "data": [
        [
         "Alto",
         263,
         2473,
         10.63
        ],
        [
         "Medio",
         163,
         1683,
         9.69
        ],
        [
         "Baixo",
         89,
         844,
         10.55
        ]
       ],
       "datasetInfos": [],
       "dbfsResultPath": null,
       "isJsonSchema": true,
       "metadata": {},
       "overflow": false,
       "plotOptions": {
        "customPlotOptions": {},
        "displayType": "table",
        "pivotAggregation": null,
        "pivotColumns": null,
        "xColumns": null,
        "yColumns": null
       },
       "removedWidgets": [],
       "schema": [
        {
         "metadata": "{}",
         "name": "Desempenho",
         "type": "\"string\""
        },
        {
         "metadata": "{}",
         "name": "Sem_Internet",
         "type": "\"long\""
        },
        {
         "metadata": "{}",
         "name": "Total_Alunos",
         "type": "\"long\""
        },
        {
         "metadata": "{}",
         "name": "Percentual_Sem_Internet",
         "type": "\"double\""
        }
       ],
       "type": "table"
      }
     },
     "output_type": "display_data"
    }
   ],
   "source": [
    "%sql\n",
    "SELECT \n",
    "  Desempenho,\n",
    "  COUNT(CASE WHEN Internet_Access_at_Home = 'No' THEN 1 END) AS Sem_Internet,\n",
    "  COUNT(*) AS Total_Alunos,\n",
    "  ROUND((COUNT(CASE WHEN Internet_Access_at_Home = 'No' THEN 1 END) / COUNT(*)) * 100, 2) AS Percentual_Sem_Internet\n",
    "FROM default.alunos_com_desempenho\n",
    "GROUP BY Desempenho\n",
    "ORDER BY \n",
    "  CASE Desempenho WHEN 'Alto' THEN 1 WHEN 'Medio' THEN 2 ELSE 3 END;\n"
   ]
  },
  {
   "cell_type": "code",
   "execution_count": 0,
   "metadata": {
    "application/vnd.databricks.v1+cell": {
     "cellMetadata": {
      "byteLimit": 2048000,
      "rowLimit": 10000
     },
     "inputWidgets": {},
     "nuid": "c11058e6-ea7a-45d4-93a6-a9cfeb2c702f",
     "showTitle": false,
     "tableResultSettingsMap": {},
     "title": ""
    }
   },
   "outputs": [
    {
     "output_type": "display_data",
     "data": {
      "image/png": "[encoded data removed]"
     },
     "metadata": {
      "application/vnd.databricks.v1+output": {
       "addedWidgets": {},
       "arguments": {},
       "data": "data:image/png;base64,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\n",
       "datasetInfos": [],
       "metadata": {},
       "removedWidgets": [],
       "type": "image"
      }
     },
     "output_type": "display_data"
    }
   ],
   "source": [
    "# Consulta o percentual de alunos sem acesso à internet por grupo\n",
    "df_internet = spark.sql(\"\"\"\n",
    "SELECT \n",
    "  Desempenho,\n",
    "  COUNT(CASE WHEN Internet_Access_at_Home = 'No' THEN 1 END) AS Sem_Internet,\n",
    "  COUNT(*) AS Total_Alunos,\n",
    "  ROUND((COUNT(CASE WHEN Internet_Access_at_Home = 'No' THEN 1 END) / COUNT(*)) * 100, 2) AS Percentual_Sem_Internet\n",
    "FROM default.alunos_com_desempenho\n",
    "GROUP BY Desempenho\n",
    "\"\"\").toPandas()\n",
    "\n",
    "import matplotlib.pyplot as plt\n",
    "\n",
    "# Ordena os grupos\n",
    "ordem = ['Alto', 'Medio', 'Baixo']\n",
    "df_internet['Desempenho'] = pd.Categorical(df_internet['Desempenho'], categories=ordem, ordered=True)\n",
    "df_internet = df_internet.sort_values('Desempenho')\n",
    "\n",
    "# Cria gráfico de barras\n",
    "plt.figure(figsize=(6, 4))\n",
    "plt.bar(df_internet['Desempenho'], df_internet['Percentual_Sem_Internet'], color='slategray', edgecolor='black')\n",
    "\n",
    "# Adiciona rótulos\n",
    "for i, v in enumerate(df_internet['Percentual_Sem_Internet']):\n",
    "    plt.text(i, v + 1, f'{v:.1f}%', ha='center', fontsize=10)\n",
    "\n",
    "plt.title('Alunos Sem Acesso à Internet em Casa por Desempenho')\n",
    "plt.ylabel('Percentual (%)')\n",
    "plt.xlabel('Desempenho')\n",
    "plt.ylim(0, df_internet['Percentual_Sem_Internet'].max() + 10)\n",
    "plt.grid(axis='y', linestyle='--', alpha=0.5)\n",
    "plt.tight_layout()\n",
    "plt.show()\n"
   ]
  },
  {
   "cell_type": "markdown",
   "metadata": {
    "application/vnd.databricks.v1+cell": {
     "cellMetadata": {},
     "inputWidgets": {},
     "nuid": "bd44f97f-28cc-487e-a9e6-b452aaf10330",
     "showTitle": false,
     "tableResultSettingsMap": {},
     "title": ""
    }
   },
   "source": [
    "### 📌 Conclusão do Projeto\n",
    "\n",
    "O objetivo deste projeto foi identificar os fatores comportamentais e socioeconômicos que influenciam negativamente o desempenho acadêmico dos alunos, com base em uma base integrada de dados escolares, perfis familiares e hábitos individuais.\n",
    "\n",
    "Os alunos foram classificados em três grupos de desempenho: **Alto (conceito A/B)**, **Médio (C/D)** e **Baixo (F)**. As análises mostraram que apenas 16,8% dos estudantes apresentaram conceito **F**, o que já representa um grupo considerável em situação crítica. Ao comparar esse grupo com os demais, foram identificadas diferenças marcantes em diversos aspectos.\n",
    "\n",
    "---\n",
    "\n",
    "### 🔎 Principais descobertas com base nos dados\n",
    "\n",
    "- **Horas de estudo**: Os três grupos estudam em média a mesma quantidade de horas por semana. O grupo de alto desempenho estudou **17,71h/semana**, e o de baixo desempenho, **17,63h/semana**. Isso indica que **o tempo de estudo não é um fator discriminante relevante** entre os grupos.\n",
    "\n",
    "- **Sono**: Alunos com baixo desempenho dormem, em média, **1 hora a menos por noite** que os de alto desempenho. A média no grupo com conceito **F** foi de **6,1 horas**, enquanto o grupo **A/B** apresentou média de **7,1 horas**.\n",
    "\n",
    "- **Estresse**: Cerca de **43,4%** dos alunos com desempenho **F** registraram nível de estresse **igual ou superior a 7**. No grupo de alto desempenho, essa proporção cai para apenas **16,9%**. Esse é um dos fatores com maior variação entre os grupos, indicando **forte relação entre estresse elevado e desempenho acadêmico ruim**.\n",
    "\n",
    "- **Escolaridade dos pais**: No grupo de baixo desempenho, **55,2%** dos alunos têm pais com escolaridade até o ensino médio ou sem formação. No grupo de alto desempenho, essa proporção é de **26,8%**. Isso sugere que **contexto familiar e capital cultural influenciam diretamente nos resultados dos alunos**.\n",
    "\n",
    "- **Atividades extracurriculares**: Apenas **29,1%** dos alunos com conceito F participam de atividades extracurriculares, enquanto entre os alunos de alto desempenho esse número sobe para **49,2%**. Isso pode indicar que engajamento em experiências para além da sala de aula impacta positivamente no desempenho.\n",
    "\n",
    "- **Acesso à internet**: **16,3%** dos alunos com conceito F não têm acesso à internet em casa. No grupo de alto desempenho, apenas **4,1%** estão na mesma condição. Esse dado evidencia **um problema estrutural de desigualdade de acesso à tecnologia e informação**.\n",
    "\n",
    "---\n",
    "\n",
    "### 🧭 Caminhos para intervenção\n",
    "\n",
    "Com base nos dados levantados, recomenda-se que escolas e gestores educacionais considerem as seguintes estratégias:\n",
    "\n",
    "- **Implantar programas de regulação emocional e redução de estresse**, como acompanhamento psicológico e oficinas de autocuidado;\n",
    "- **Oferecer suporte a famílias com baixa escolaridade**, com ações de conscientização sobre o papel do ambiente familiar no desempenho escolar;\n",
    "- **Ampliar o acesso à internet e dispositivos digitais** para alunos em situação de vulnerabilidade;\n",
    "- **Estimular a participação em atividades extracurriculares**, que promovem habilidades socioemocionais e senso de pertencimento.\n",
    "\n",
    "---\n",
    "\n",
    "### 💡 Considerações finais\n",
    "\n",
    "Os dados mostram com clareza que **o baixo desempenho acadêmico está associado a uma série de fatores emocionais, sociais e estruturais**, e não apenas à dedicação aos estudos.\n",
    "\n",
    "Estudantes com menos horas de sono, maior estresse, baixa participação social e contextos familiares mais vulneráveis apresentam desempenho significativamente inferior, mesmo estudando tanto quanto os demais.\n",
    "\n",
    "Esses achados reforçam a importância de uma abordagem educacional integrada, que reconheça o papel do contexto e da saúde mental na jornada de aprendizagem. Com base nessas evidências, é possível direcionar políticas públicas e intervenções escolares mais eficazes, garantindo uma educação mais justa, acolhedora e transformadora.\n"
   ]
  }
 ],
 "metadata": {
  "application/vnd.databricks.v1+notebook": {
   "computePreferences": null,
   "dashboards": [],
   "environmentMetadata": {
    "base_environment": "",
    "environment_version": "1"
   },
   "inputWidgetPreferences": null,
   "language": "python",
   "notebookMetadata": {
    "mostRecentlyExecutedCommandWithImplicitDF": {
     "commandId": 1471050005343509,
     "dataframes": [
      "_sqldf"
     ]
    },
    "pythonIndentUnit": 4
   },
   "notebookName": "MVP",
   "widgets": {}
  }
 },
 "nbformat": 4,
 "nbformat_minor": 0
}